{
 "cells": [
  {
   "cell_type": "code",
   "execution_count": 57,
   "id": "784e90d2",
   "metadata": {},
   "outputs": [],
   "source": [
    "import pandas as pd\n",
    "import numpy as np\n",
    "import json\n",
    "import warnings\n",
    "warnings.filterwarnings(\"ignore\")"
   ]
  },
  {
   "cell_type": "code",
   "execution_count": 58,
   "id": "7e8994c5",
   "metadata": {},
   "outputs": [],
   "source": [
    "# Step 2: Open and Read the JSON File\n",
    "with open('D:/shuvo/bangla_news_classification/dataset/jug-part-2.json', 'r') as json_file:\n",
    "    json_data = json_file.read()\n",
    "\n",
    "# Step 3: Parse the JSON Data\n",
    "parsed_data = json.loads(json_data)"
   ]
  },
  {
   "cell_type": "code",
   "execution_count": 59,
   "id": "23f66c12",
   "metadata": {},
   "outputs": [
    {
     "name": "stdout",
     "output_type": "stream",
     "text": [
      "[{'url': 'https://www.jugantor.com/sports/247745/%E0%A6%B6%E0%A7%81%E0%A6%B0%E0%A7%81%E0%A6%A4%E0%A7%87%E0%A6%87-%E0%A6%AB%E0%A6%BF%E0%A6%B0%E0%A6%B2%E0%A7%87%E0%A6%A8-%E0%A6%8F%E0%A6%AC%E0%A6%BE%E0%A6%A6%E0%A6%A4', 'category': 'খেলা', 'headline': 'শুরুতেই ফিরলেন এবাদত', 'reporter': '\\xa0স্পোর্টস ডেস্ক\\xa0', 'time': ' ২৪ নভেম্বর ২০১৯, ০১:৪৮ পিএম \\xa0|\\xa0 অনলাইন সংস্করণ', 'body': \"\\nজয় বা ড্র নয়, ইনিংস হার এড়ানোটাই বড় চ্যালেঞ্জ বাংলাদেশের সামনে। সেই লক্ষ্যে এবাদত হোসেনকে নিয়ে মাঠে নেমেছিলেন মুশফিকুর রহিম। তবে সেই যাত্রায় সতীর্থের কাছ থেকে সমর্থন পেলেন না মিস্টার ডিপেন্ডেবল। শুরুতেই উমেশ যাদবের শিকার হয়ে ফিরলেন এবাদত। রানের খাতায় খুলতে পারেননি তিনি।\\n\\n\\n\\n\\nশেষ খবর পর্যন্ত ৭ উইকেটে ১৬৩ রান করেছে বাংলাদেশ। মুশফিক ৬২ ও আল-আমিন ৪ রান নিয়ে ব্যাট করছেন। দ্বিতীয় দিনের ৬ উইকেটে ১৫২ রান নিয়ে তৃতীয় দিন শুরু করেন টাইগাররা। মুশফিক ৫৯ ও এবাদত ০ রান নিয়ে নতুন দিনের খেলা শুরু করেন।\\xa0\\n\\n\\n\\nনিজেদের দ্বিতীয় ইনিংসে ব্যাট করতে নেমেও একই দৃশ্যে আবির্ভুত হয় বাংলাদেশ। ভারতীয় পেসারদের গতির তাণ্ডবে ১৩ রানে ৪ উইকেট হারিয়ে চরম বিপদে পড়ে\\xa0 বাংলাদেশ। সূচনালগ্নেই ইশান্তর শিকার হয়ে ফেরেন ওপেনার সাদমান ও অধিনায়ক মুমিনুল। কোনো রানের দেখাই পাননি তারা।\\xa0\\nসেই রেশ না কাটতেই উমেশের বলে শামির হাতে ক্যাচ তুলে দেন মিঠুন। এরপর ইশান্তর বলির পাঁঠা হন ইমরুল। খাদের কিনারে পড়ে যাওয়া দলকে সেই অবস্থা থেকে টেনে তুলেন মুশফিক ও মাহমুদউল্লাহ। দারুণ খেলেন তারা।\\nতাতে বিপর্যয়ও কাটিয়ে ওঠে বাংলাদেশ। কিন্তু ভাগ্যের নির্মম পরিহাস! দলকে খেলায় ফিরিয়ে রিটায়ার্ড হার্ট হয়ে সাজঘরে ফেরেন মাহমুদউল্লাহ। পঞ্চম উইকেটে মুশির সঙ্গে ৬৯ রানের অবিচ্ছিন্ন জুটি গড়েন তিনি।\\nদলীয় ৮১ রানে উমেশের বলে সিঙ্গেল নেয়ার সময় মাহমুদউল্লাহর ডান পায়ের পেশিতে টান লাগে। চোট নিয়েই ড্রেসিংরুমে ফেরেন তিনি। এর আগে ৭ চারে ৩৯ রান করেন মিস্টার কুল। তার পর দ্রুত ফেরেন মিরাজ। স্পিন অলরাউন্ডারও শিকার হন ইশান্তর।\\nসতীর্থদের যাওয়া-আসার মিছিলের মধ্যে ইনিংসের শুরু থেকে দুর্দান্ত ব্যাটিং করে যান মুশফিক। পথিমধ্যে ধ্বংস্তূপে দাঁড়িয়ে ক্যারিয়ারে ২১তম ফিফটি তুলে নেন তিনি। দিনের শেষ মুহূর্তে উমেশে শিকার হন তাইজুল।\\nবাংলাদেশের প্রথম ইনিংসের জবাবে ৯ উইকেটে ৩৪৭ রানে ইনিংস ঘোষণা করে ভারত। এতে ২৪১ রানের লিড নেয় তারা। এর নেপথ্য কারিগর কোহলি। টেস্ট ক্যারিয়ারে ২৭তম সেঞ্চুরি তুলে ১৩৬ রানে থামেন তিনি।\\nতাকে যোগ্য সমর্থন জোগান পূজারা ও রাহানে। দুজনই তুলে নেন ফিফটি। যথাক্রমে করেন ৫৫ ও ৫১ রান। বাংলাদেশের হয়ে আল-আমিন ও এবাদত নেন ৩টি করে উইকেট। এছাড়া আবু জায়েদ শিকার করেন ২ উইকেট।\\xa0\\nঐতিহ্যবাহী ইডেনে গোলাপি বলে দিবারাত্রির ঐতিহাসিক টেস্টের প্রথম ইনিংসে মাত্র ১০৬ রানে অলআউট হয় বাংলাদেশ। দলের ৮ ব্যাটসম্যানই ২ অংকের ঘর স্পর্শ করতে পারেননি। ০ মারেন তিন 'ম' মুশফিক-মুমিনুল-মিঠুন।\\nসর্বোচ্চ ২৯ করেন ওপেনার সাদামান। আর রিটায়ার্ড হার্ট হয়ে ফেরা লিটন করেন ২৪ রান। ভারতের হয়ে ইশান্ত শার্মা নেন সর্বাধিক ৫ উইকেট। উমেশ যাদব শিকার করেন ৩ উইকেট। আর মোহাম্মদ শামি ঝুলিতে ভরেন ২ উইকেট।\\n\"}, {'url': 'https://www.jugantor.com/country-news/371611/%E0%A6%9C%E0%A6%AE%E0%A6%BF-%E0%A6%A8%E0%A6%BE-%E0%A6%A6%E0%A7%87%E0%A7%9F%E0%A6%BE%E0%A7%9F-%E0%A6%AE%E0%A6%BE%E0%A6%95%E0%A7%87-%E0%A6%AE%E0%A6%BE%E0%A6%B0%E0%A6%A7%E0%A6%B0-%E0%A7%AD-%E0%A6%B8%E0%A6%A8%E0%A7%8D%E0%A6%A4%E0%A6%BE%E0%A6%A8%E0%A7%87%E0%A6%B0-%E0%A6%AC%E0%A6%BF%E0%A6%B0%E0%A7%81%E0%A6%A6%E0%A7%8D%E0%A6%A7%E0%A7%87-%E0%A6%AE%E0%A6%BE%E0%A6%AE%E0%A6%B2%E0%A6%BE', 'category': 'সারাদেশ', 'headline': 'জমি না দেয়ায় মাকে মারধর, ৭ সন্তানের বিরুদ্ধে মামলা', 'reporter': '\\xa0নেত্রকোনা প্রতিনিধি\\xa0', 'time': ' ০৬ ডিসেম্বর ২০২০, ০৬:২০ পিএম \\xa0|\\xa0 অনলাইন সংস্করণ', 'body': '\\nনেত্রকোনায় জমি লিখে না দেয়ায় বৃদ্ধ মাকে মারপিটের অভিযোগে তিন সন্তানসহ সাতজনের বিরুদ্ধে বোরবার দুপুরে নেত্রকোনা মডেল থানায় মামলা করা হয়েছে। \\n\\n\\n\\n\\nলিখিত অভিযোগে জানা যায়, নেত্রকোনা পৌরসভার ছোটগাড়া এলাকার মৃত হাজী মুনসুর আলীর স্ত্রী মোছা. নূরবানুকে (৭০) দীর্ঘদিন ধরে জমি লিখে দিতে চাপ দিচ্ছিলেন তার সন্তানরা। এজন্য প্রায়ই তারা মাকে মারধর করত। গত ৪ ডিসেম্বর রাত সাড়ে ১১টার দিকে ওই বৃদ্ধার ছেলে ওয়াজেদ মিয়া (৩৫), ছোবান মিয়া ( ৫০), জজ মিয়া (৪৫) ও নাতি নূরুল বাশার ওয়াসিম নূরবানুর ওপর হামলা চালায়। এ সময় নূরবানুর আর্তচিৎকারে স্থানীয়রা এসে উদ্ধার করে নেত্রকোনা আধুনিক সদর হাসপাতালে ভর্তি করেন।\\n\\n\\n\\nএ ঘটনায় ভুক্তভোগী নূরবানু বাদী হয়ে ছেলেসহ ৭ জনের বিরুদ্ধে নেত্রকোনা মডেল থানায় একটি মামলা দায়ের করেছেন।\\n\\xa0\\nমাকে মারধরের বিষয়ে জানতে চাইলে ওই বৃদ্ধার ছেলে ওয়াজেদ মিয়া বলেন, আমাদের বাড়ির জমি নিয়ে নিজেদের মধ্যে বিরোধ আছে। এ নিয়ে গ্রামে কয়েকবার সালিশ হয়েছে কিন্তু ভাইদের মধ্যে কেউ কেউ তা মানেনি। এ বিষয়টি নিয়ে কথাকাটাকাটি হয়েছে। মাকে মারধর করার ঘটনাটি ঠিক না। \\n\\xa0\\nএ বিষয়ে জানতে চাইলে নেত্রকোনা মডেল থানার ওসি তাজুল ইসলাম বলেন, তাদের মধ্যে জমিজমা সংক্রান্ত বিরোধ চলছিল। এ ঘটনায় একটি মামলা দায়ের হয়েছে। আসামিদের গ্রেফতারে চেষ্টা চলছে।\\n'}]\n"
     ]
    }
   ],
   "source": [
    "# Step 4: Print the Content\n",
    "print(parsed_data[:2])"
   ]
  },
  {
   "cell_type": "code",
   "execution_count": 60,
   "id": "473f1d78",
   "metadata": {},
   "outputs": [
    {
     "data": {
      "text/html": [
       "<div>\n",
       "<style scoped>\n",
       "    .dataframe tbody tr th:only-of-type {\n",
       "        vertical-align: middle;\n",
       "    }\n",
       "\n",
       "    .dataframe tbody tr th {\n",
       "        vertical-align: top;\n",
       "    }\n",
       "\n",
       "    .dataframe thead th {\n",
       "        text-align: right;\n",
       "    }\n",
       "</style>\n",
       "<table border=\"1\" class=\"dataframe\">\n",
       "  <thead>\n",
       "    <tr style=\"text-align: right;\">\n",
       "      <th></th>\n",
       "      <th>url</th>\n",
       "      <th>category</th>\n",
       "      <th>headline</th>\n",
       "      <th>reporter</th>\n",
       "      <th>time</th>\n",
       "      <th>body</th>\n",
       "    </tr>\n",
       "  </thead>\n",
       "  <tbody>\n",
       "    <tr>\n",
       "      <th>0</th>\n",
       "      <td>https://www.jugantor.com/sports/247745/%E0%A6%...</td>\n",
       "      <td>খেলা</td>\n",
       "      <td>শুরুতেই ফিরলেন এবাদত</td>\n",
       "      <td>স্পোর্টস ডেস্ক</td>\n",
       "      <td>২৪ নভেম্বর ২০১৯, ০১:৪৮ পিএম  |  অনলাইন সংস্করণ</td>\n",
       "      <td>\\nজয় বা ড্র নয়, ইনিংস হার এড়ানোটাই বড় চ্যালেঞ্...</td>\n",
       "    </tr>\n",
       "    <tr>\n",
       "      <th>1</th>\n",
       "      <td>https://www.jugantor.com/country-news/371611/%...</td>\n",
       "      <td>সারাদেশ</td>\n",
       "      <td>জমি না দেয়ায় মাকে মারধর, ৭ সন্তানের বিরুদ্ধে ম...</td>\n",
       "      <td>নেত্রকোনা প্রতিনিধি</td>\n",
       "      <td>০৬ ডিসেম্বর ২০২০, ০৬:২০ পিএম  |  অনলাইন সংস্করণ</td>\n",
       "      <td>\\nনেত্রকোনায় জমি লিখে না দেয়ায় বৃদ্ধ মাকে মারপ...</td>\n",
       "    </tr>\n",
       "    <tr>\n",
       "      <th>2</th>\n",
       "      <td>https://www.jugantor.com/national/22716/%E0%A6...</td>\n",
       "      <td>জাতীয়</td>\n",
       "      <td>সবার অংশগ্রহণে অহিংস নির্বাচন চায় যুক্তরাষ্ট্র</td>\n",
       "      <td>কূটনৈতিক রিপোর্টার</td>\n",
       "      <td>২৮ ফেব্রুয়ারি ২০১৮, ০৯:৩৯ পিএম  |  অনলাইন সংস...</td>\n",
       "      <td>\\nমার্কিন রাষ্ট্রদূত মার্শা বার্নিকাট বলেছেন, ...</td>\n",
       "    </tr>\n",
       "    <tr>\n",
       "      <th>3</th>\n",
       "      <td>https://www.jugantor.com/politics/233666/%E0%A...</td>\n",
       "      <td>রাজনীতি</td>\n",
       "      <td>ঐক্যের ডাক গ্রাম-পাড়া-মহল্লায় নিয়ে যেতে হবে: ড...</td>\n",
       "      <td>যুগান্তর রিপোর্ট</td>\n",
       "      <td>১৮ অক্টোবর ২০১৯, ০৪:২৮ পিএম  |  অনলাইন সংস্করণ</td>\n",
       "      <td>\\nজাতীয় ঐক্যফ্রন্টের আহ্বায়ক ও গণফোরাম সভাপতি ...</td>\n",
       "    </tr>\n",
       "    <tr>\n",
       "      <th>4</th>\n",
       "      <td>https://www.jugantor.com/entertainment/258008/...</td>\n",
       "      <td>বিনোদন</td>\n",
       "      <td>শ্বশুরবাড়িতে গরুর মাংস খাওয়ায় সৃজিতের ওপর ক্ষু...</td>\n",
       "      <td>অনলাইন ডেস্ক</td>\n",
       "      <td>২১ ডিসেম্বর ২০১৯, ০২:৪৩ পিএম  |  অনলাইন সংস্করণ</td>\n",
       "      <td>\\nবিয়ের পর শ্বশুরবাড়িতে এসে গরুর মাংস দিয়ে ভুর...</td>\n",
       "    </tr>\n",
       "    <tr>\n",
       "      <th>...</th>\n",
       "      <td>...</td>\n",
       "      <td>...</td>\n",
       "      <td>...</td>\n",
       "      <td>...</td>\n",
       "      <td>...</td>\n",
       "      <td>...</td>\n",
       "    </tr>\n",
       "    <tr>\n",
       "      <th>124661</th>\n",
       "      <td>https://www.jugantor.com/sports/227796/%E0%A6%...</td>\n",
       "      <td>খেলা</td>\n",
       "      <td>ফের নিউজিল্যান্ডকে হেসেখেলে হারালেন টাইগার যুবারা</td>\n",
       "      <td>স্পোর্টস ডেস্ক</td>\n",
       "      <td>০৩ অক্টোবর ২০১৯, ০৪:১৩ পিএম  |  অনলাইন সংস্করণ</td>\n",
       "      <td>\\nনিউজিল্যান্ড সফরটা দারুণ যাচ্ছে বাংলাদেশ অনূ...</td>\n",
       "    </tr>\n",
       "    <tr>\n",
       "      <th>124662</th>\n",
       "      <td>https://www.jugantor.com/everyday/244890/%E0%A...</td>\n",
       "      <td>একদিন প্রতিদিন</td>\n",
       "      <td>১৭ নভেম্বর: টিভিতে আজকের খেলা সূচি</td>\n",
       "      <td>যুগান্তর ডেস্ক</td>\n",
       "      <td>১৭ নভেম্বর ২০১৯, ০৯:৪৭ এএম  |  অনলাইন সংস্করণ</td>\n",
       "      <td>\\nএকনজরে জেনে নিই টিভি পর্দায় আজ রয়েছে যেসব খে...</td>\n",
       "    </tr>\n",
       "    <tr>\n",
       "      <th>124663</th>\n",
       "      <td>https://www.jugantor.com/international/195641/...</td>\n",
       "      <td>আন্তর্জাতিক</td>\n",
       "      <td>যুক্তরাষ্ট্র ইরানের সামরিক ক্ষমতাকে ভয় পায়: ইরান</td>\n",
       "      <td>অনলাইন ডেস্ক</td>\n",
       "      <td>০৫ জুলাই ২০১৯, ১০:৪২ এএম  |  অনলাইন সংস্করণ</td>\n",
       "      <td>\\nযুক্তরাষ্ট্র ইরানের সামরিক ক্ষমতাকে ভয় পায় ব...</td>\n",
       "    </tr>\n",
       "    <tr>\n",
       "      <th>124664</th>\n",
       "      <td>https://www.jugantor.com/international/328462/...</td>\n",
       "      <td>আন্তর্জাতিক</td>\n",
       "      <td>স্বাস্থ্যবিধি মেনে কুয়েতের ১৫৫ মসজিদে জুমার না...</td>\n",
       "      <td>সাদেক রিপন, কুয়েত থেকে</td>\n",
       "      <td>২২ জুলাই ২০২০, ০৯:২৩ পিএম  |  অনলাইন সংস্করণ</td>\n",
       "      <td>\\nকরোনাভাইরাসের সংক্রমণ রোধে কুয়েতে দীর্ঘদিন ব...</td>\n",
       "    </tr>\n",
       "    <tr>\n",
       "      <th>124665</th>\n",
       "      <td>https://www.jugantor.com/country-news/63088/%E...</td>\n",
       "      <td>সারাদেশ</td>\n",
       "      <td>ঝিনাইদহে ফ্ল্যাটে তরুণ ১৪ দিন স্বেচ্ছা বন্দি, ...</td>\n",
       "      <td>ঝিনাইদহ প্রতিনিধি</td>\n",
       "      <td>২৫ জুন ২০১৮, ১০:০৩ পিএম  |  অনলাইন সংস্করণ</td>\n",
       "      <td>\\n ঝিনাইদহ জেলা শহরের একটি বাড়িতে এক যুবক নিজ ...</td>\n",
       "    </tr>\n",
       "  </tbody>\n",
       "</table>\n",
       "<p>124666 rows × 6 columns</p>\n",
       "</div>"
      ],
      "text/plain": [
       "                                                      url        category  \\\n",
       "0       https://www.jugantor.com/sports/247745/%E0%A6%...            খেলা   \n",
       "1       https://www.jugantor.com/country-news/371611/%...         সারাদেশ   \n",
       "2       https://www.jugantor.com/national/22716/%E0%A6...           জাতীয়   \n",
       "3       https://www.jugantor.com/politics/233666/%E0%A...         রাজনীতি   \n",
       "4       https://www.jugantor.com/entertainment/258008/...         বিনোদন   \n",
       "...                                                   ...             ...   \n",
       "124661  https://www.jugantor.com/sports/227796/%E0%A6%...            খেলা   \n",
       "124662  https://www.jugantor.com/everyday/244890/%E0%A...  একদিন প্রতিদিন   \n",
       "124663  https://www.jugantor.com/international/195641/...     আন্তর্জাতিক   \n",
       "124664  https://www.jugantor.com/international/328462/...     আন্তর্জাতিক   \n",
       "124665  https://www.jugantor.com/country-news/63088/%E...         সারাদেশ   \n",
       "\n",
       "                                                 headline  \\\n",
       "0                                    শুরুতেই ফিরলেন এবাদত   \n",
       "1       জমি না দেয়ায় মাকে মারধর, ৭ সন্তানের বিরুদ্ধে ম...   \n",
       "2          সবার অংশগ্রহণে অহিংস নির্বাচন চায় যুক্তরাষ্ট্র   \n",
       "3       ঐক্যের ডাক গ্রাম-পাড়া-মহল্লায় নিয়ে যেতে হবে: ড...   \n",
       "4       শ্বশুরবাড়িতে গরুর মাংস খাওয়ায় সৃজিতের ওপর ক্ষু...   \n",
       "...                                                   ...   \n",
       "124661  ফের নিউজিল্যান্ডকে হেসেখেলে হারালেন টাইগার যুবারা   \n",
       "124662                 ১৭ নভেম্বর: টিভিতে আজকের খেলা সূচি   \n",
       "124663   যুক্তরাষ্ট্র ইরানের সামরিক ক্ষমতাকে ভয় পায়: ইরান   \n",
       "124664  স্বাস্থ্যবিধি মেনে কুয়েতের ১৫৫ মসজিদে জুমার না...   \n",
       "124665  ঝিনাইদহে ফ্ল্যাটে তরুণ ১৪ দিন স্বেচ্ছা বন্দি, ...   \n",
       "\n",
       "                        reporter  \\\n",
       "0                স্পোর্টস ডেস্ক    \n",
       "1           নেত্রকোনা প্রতিনিধি    \n",
       "2            কূটনৈতিক রিপোর্টার    \n",
       "3              যুগান্তর রিপোর্ট    \n",
       "4                  অনলাইন ডেস্ক    \n",
       "...                          ...   \n",
       "124661           স্পোর্টস ডেস্ক    \n",
       "124662           যুগান্তর ডেস্ক    \n",
       "124663             অনলাইন ডেস্ক    \n",
       "124664   সাদেক রিপন, কুয়েত থেকে    \n",
       "124665        ঝিনাইদহ প্রতিনিধি    \n",
       "\n",
       "                                                     time  \\\n",
       "0          ২৪ নভেম্বর ২০১৯, ০১:৪৮ পিএম  |  অনলাইন সংস্করণ   \n",
       "1         ০৬ ডিসেম্বর ২০২০, ০৬:২০ পিএম  |  অনলাইন সংস্করণ   \n",
       "2        ২৮ ফেব্রুয়ারি ২০১৮, ০৯:৩৯ পিএম  |  অনলাইন সংস...   \n",
       "3          ১৮ অক্টোবর ২০১৯, ০৪:২৮ পিএম  |  অনলাইন সংস্করণ   \n",
       "4         ২১ ডিসেম্বর ২০১৯, ০২:৪৩ পিএম  |  অনলাইন সংস্করণ   \n",
       "...                                                   ...   \n",
       "124661     ০৩ অক্টোবর ২০১৯, ০৪:১৩ পিএম  |  অনলাইন সংস্করণ   \n",
       "124662      ১৭ নভেম্বর ২০১৯, ০৯:৪৭ এএম  |  অনলাইন সংস্করণ   \n",
       "124663        ০৫ জুলাই ২০১৯, ১০:৪২ এএম  |  অনলাইন সংস্করণ   \n",
       "124664       ২২ জুলাই ২০২০, ০৯:২৩ পিএম  |  অনলাইন সংস্করণ   \n",
       "124665         ২৫ জুন ২০১৮, ১০:০৩ পিএম  |  অনলাইন সংস্করণ   \n",
       "\n",
       "                                                     body  \n",
       "0       \\nজয় বা ড্র নয়, ইনিংস হার এড়ানোটাই বড় চ্যালেঞ্...  \n",
       "1       \\nনেত্রকোনায় জমি লিখে না দেয়ায় বৃদ্ধ মাকে মারপ...  \n",
       "2       \\nমার্কিন রাষ্ট্রদূত মার্শা বার্নিকাট বলেছেন, ...  \n",
       "3       \\nজাতীয় ঐক্যফ্রন্টের আহ্বায়ক ও গণফোরাম সভাপতি ...  \n",
       "4       \\nবিয়ের পর শ্বশুরবাড়িতে এসে গরুর মাংস দিয়ে ভুর...  \n",
       "...                                                   ...  \n",
       "124661  \\nনিউজিল্যান্ড সফরটা দারুণ যাচ্ছে বাংলাদেশ অনূ...  \n",
       "124662  \\nএকনজরে জেনে নিই টিভি পর্দায় আজ রয়েছে যেসব খে...  \n",
       "124663  \\nযুক্তরাষ্ট্র ইরানের সামরিক ক্ষমতাকে ভয় পায় ব...  \n",
       "124664  \\nকরোনাভাইরাসের সংক্রমণ রোধে কুয়েতে দীর্ঘদিন ব...  \n",
       "124665  \\n ঝিনাইদহ জেলা শহরের একটি বাড়িতে এক যুবক নিজ ...  \n",
       "\n",
       "[124666 rows x 6 columns]"
      ]
     },
     "execution_count": 60,
     "metadata": {},
     "output_type": "execute_result"
    }
   ],
   "source": [
    "# Step 2: Create a DataFrame from JSON Data\n",
    "df = pd.DataFrame(parsed_data)\n",
    "df"
   ]
  },
  {
   "cell_type": "code",
   "execution_count": 61,
   "id": "3977bd57",
   "metadata": {},
   "outputs": [
    {
     "data": {
      "text/plain": [
       "((124666, 6),\n",
       " Index(['url', 'category', 'headline', 'reporter', 'time', 'body'], dtype='object'))"
      ]
     },
     "execution_count": 61,
     "metadata": {},
     "output_type": "execute_result"
    }
   ],
   "source": [
    "df.shape, df.columns"
   ]
  },
  {
   "cell_type": "code",
   "execution_count": 62,
   "id": "ade066de",
   "metadata": {
    "scrolled": true
   },
   "outputs": [
    {
     "data": {
      "text/plain": [
       "(36,\n",
       " 124562,\n",
       "   category                                               body\n",
       " 0     খেলা  \\nজয় বা ড্র নয়, ইনিংস হার এড়ানোটাই বড় চ্যালেঞ্...\n",
       " 1  সারাদেশ  \\nনেত্রকোনায় জমি লিখে না দেয়ায় বৃদ্ধ মাকে মারপ...\n",
       " 2    জাতীয়  \\nমার্কিন রাষ্ট্রদূত মার্শা বার্নিকাট বলেছেন, ...\n",
       " 3  রাজনীতি  \\nজাতীয় ঐক্যফ্রন্টের আহ্বায়ক ও গণফোরাম সভাপতি ...\n",
       " 4  বিনোদন  \\nবিয়ের পর শ্বশুরবাড়িতে এসে গরুর মাংস দিয়ে ভুর...)"
      ]
     },
     "execution_count": 62,
     "metadata": {},
     "output_type": "execute_result"
    }
   ],
   "source": [
    "df = df[['category', 'body']]\n",
    "len(df['category'].unique()),len(df['body'].unique()),df.head()"
   ]
  },
  {
   "cell_type": "code",
   "execution_count": 63,
   "id": "05329400",
   "metadata": {
    "scrolled": true
   },
   "outputs": [
    {
     "data": {
      "text/plain": [
       "(  category                                               body\n",
       " 0     খেলা  \\nজয় বা ড্র নয়, ইনিংস হার এড়ানোটাই বড় চ্যালেঞ্...\n",
       " 1  সারাদেশ  \\nনেত্রকোনায় জমি লিখে না দেয়ায় বৃদ্ধ মাকে মারপ...\n",
       " 2    জাতীয়  \\nমার্কিন রাষ্ট্রদূত মার্শা বার্নিকাট বলেছেন, ...\n",
       " 3  রাজনীতি  \\nজাতীয় ঐক্যফ্রন্টের আহ্বায়ক ও গণফোরাম সভাপতি ...\n",
       " 4  বিনোদন  \\nবিয়ের পর শ্বশুরবাড়িতে এসে গরুর মাংস দিয়ে ভুর...,\n",
       " (124562, 2))"
      ]
     },
     "execution_count": 63,
     "metadata": {},
     "output_type": "execute_result"
    }
   ],
   "source": [
    "df.dropna(inplace=True)\n",
    "# Remove duplicates in 'body' column, keeping the first occurrence\n",
    "df.drop_duplicates(subset='body', keep='first',inplace=True)\n",
    "df.reset_index(inplace=True, drop=True)\n",
    "df.head(), df.shape"
   ]
  },
  {
   "cell_type": "code",
   "execution_count": 64,
   "id": "4b3aff87",
   "metadata": {},
   "outputs": [
    {
     "data": {
      "text/plain": [
       "(124562, 36)"
      ]
     },
     "execution_count": 64,
     "metadata": {},
     "output_type": "execute_result"
    }
   ],
   "source": [
    "n = len(df['body'].unique())\n",
    "unique_label = len(df['category'].unique())\n",
    "n,unique_label"
   ]
  },
  {
   "cell_type": "code",
   "execution_count": 65,
   "id": "22cc4654",
   "metadata": {
    "scrolled": true
   },
   "outputs": [
    {
     "data": {
      "text/plain": [
       "array(['খেলা', 'সারাদেশ', 'জাতীয়', 'রাজনীতি', 'বিনোদন', 'বিপিএল',\n",
       "       'কোভিড-১৯', 'আন্তর্জাতিক', 'পরবাস', 'শিক্ষাঙ্গন', 'রাজধানী',\n",
       "       'লাইফ স্টাইল', 'ইসলাম ও জীবন', 'আইটি বিশ্ব', 'একদিন প্রতিদিন',\n",
       "       'দৃষ্টিপাত', 'একাদশ জাতীয় সংসদ নির্বাচন', 'চিত্র বিচিত্র',\n",
       "       'সোশ্যাল মিডিয়া', 'ডাক্তার আছেন', 'বিচ্ছু', 'অর্থনীতি', 'সাহিত্য',\n",
       "       'কর্পোরেট নিউজ', 'মহান মে দিবস', 'তাজা খবর', 'মার্কিন নির্বাচন',\n",
       "       'বাতায়ন', 'যুগান্তর বর্ষপূর্তি-১৮', 'দরকারি', 'প্রতিমঞ্চ',\n",
       "       'স্বজন সমাবেশ', 'সাক্ষাৎকার', 'চট্টগ্রাম',\n",
       "       'গাজীপুর সিটি কর্পোরেশন নির্বাচন', 'সম্পাদকীয়'], dtype=object)"
      ]
     },
     "execution_count": 65,
     "metadata": {},
     "output_type": "execute_result"
    }
   ],
   "source": [
    "df['category'].unique()"
   ]
  },
  {
   "cell_type": "code",
   "execution_count": 66,
   "id": "2b31051c",
   "metadata": {},
   "outputs": [],
   "source": [
    "# df = df.sample(m, replace=False)\n",
    "# df.reset_index(inplace=True)\n",
    "# # df.drop(['level_0', 'index'], inplace = True)\n",
    "# df"
   ]
  },
  {
   "cell_type": "code",
   "execution_count": 67,
   "id": "7f8bfb89",
   "metadata": {},
   "outputs": [
    {
     "name": "stdout",
     "output_type": "stream",
     "text": [
      "\n",
      "জয় বা ড্র নয়, ইনিংস হার এড়ানোটাই বড় চ্যালেঞ্জ বাংলাদেশের সামনে। সেই লক্ষ্যে এবাদত হোসেনকে নিয়ে মাঠে নেমেছিলেন মুশফিকুর রহিম। তবে সেই যাত্রায় সতীর্থের কাছ থেকে সমর্থন পেলেন না মিস্টার ডিপেন্ডেবল। শুরুতেই উমেশ যাদবের শিকার হয়ে ফিরলেন এবাদত। রানের খাতায় খুলতে পারেননি তিনি।\n",
      "\n",
      "\n",
      "\n",
      "\n",
      "শেষ খবর পর্যন্ত ৭ উইকেটে ১৬৩ রান করেছে বাংলাদেশ। মুশফিক ৬২ ও আল-আমিন ৪ রান নিয়ে ব্যাট করছেন। দ্বিতীয় দিনের ৬ উইকেটে ১৫২ রান নিয়ে তৃতীয় দিন শুরু করেন টাইগাররা। মুশফিক ৫৯ ও এবাদত ০ রান নিয়ে নতুন দিনের খেলা শুরু করেন। \n",
      "\n",
      "\n",
      "\n",
      "নিজেদের দ্বিতীয় ইনিংসে ব্যাট করতে নেমেও একই দৃশ্যে আবির্ভুত হয় বাংলাদেশ। ভারতীয় পেসারদের গতির তাণ্ডবে ১৩ রানে ৪ উইকেট হারিয়ে চরম বিপদে পড়ে  বাংলাদেশ। সূচনালগ্নেই ইশান্তর শিকার হয়ে ফেরেন ওপেনার সাদমান ও অধিনায়ক মুমিনুল। কোনো রানের দেখাই পাননি তারা। \n",
      "সেই রেশ না কাটতেই উমেশের বলে শামির হাতে ক্যাচ তুলে দেন মিঠুন। এরপর ইশান্তর বলির পাঁঠা হন ইমরুল। খাদের কিনারে পড়ে যাওয়া দলকে সেই অবস্থা থেকে টেনে তুলেন মুশফিক ও মাহমুদউল্লাহ। দারুণ খেলেন তারা।\n",
      "তাতে বিপর্যয়ও কাটিয়ে ওঠে বাংলাদেশ। কিন্তু ভাগ্যের নির্মম পরিহাস! দলকে খেলায় ফিরিয়ে রিটায়ার্ড হার্ট হয়ে সাজঘরে ফেরেন মাহমুদউল্লাহ। পঞ্চম উইকেটে মুশির সঙ্গে ৬৯ রানের অবিচ্ছিন্ন জুটি গড়েন তিনি।\n",
      "দলীয় ৮১ রানে উমেশের বলে সিঙ্গেল নেয়ার সময় মাহমুদউল্লাহর ডান পায়ের পেশিতে টান লাগে। চোট নিয়েই ড্রেসিংরুমে ফেরেন তিনি। এর আগে ৭ চারে ৩৯ রান করেন মিস্টার কুল। তার পর দ্রুত ফেরেন মিরাজ। স্পিন অলরাউন্ডারও শিকার হন ইশান্তর।\n",
      "সতীর্থদের যাওয়া-আসার মিছিলের মধ্যে ইনিংসের শুরু থেকে দুর্দান্ত ব্যাটিং করে যান মুশফিক। পথিমধ্যে ধ্বংস্তূপে দাঁড়িয়ে ক্যারিয়ারে ২১তম ফিফটি তুলে নেন তিনি। দিনের শেষ মুহূর্তে উমেশে শিকার হন তাইজুল।\n",
      "বাংলাদেশের প্রথম ইনিংসের জবাবে ৯ উইকেটে ৩৪৭ রানে ইনিংস ঘোষণা করে ভারত। এতে ২৪১ রানের লিড নেয় তারা। এর নেপথ্য কারিগর কোহলি। টেস্ট ক্যারিয়ারে ২৭তম সেঞ্চুরি তুলে ১৩৬ রানে থামেন তিনি।\n",
      "তাকে যোগ্য সমর্থন জোগান পূজারা ও রাহানে। দুজনই তুলে নেন ফিফটি। যথাক্রমে করেন ৫৫ ও ৫১ রান। বাংলাদেশের হয়ে আল-আমিন ও এবাদত নেন ৩টি করে উইকেট। এছাড়া আবু জায়েদ শিকার করেন ২ উইকেট। \n",
      "ঐতিহ্যবাহী ইডেনে গোলাপি বলে দিবারাত্রির ঐতিহাসিক টেস্টের প্রথম ইনিংসে মাত্র ১০৬ রানে অলআউট হয় বাংলাদেশ। দলের ৮ ব্যাটসম্যানই ২ অংকের ঘর স্পর্শ করতে পারেননি। ০ মারেন তিন 'ম' মুশফিক-মুমিনুল-মিঠুন।\n",
      "সর্বোচ্চ ২৯ করেন ওপেনার সাদামান। আর রিটায়ার্ড হার্ট হয়ে ফেরা লিটন করেন ২৪ রান। ভারতের হয়ে ইশান্ত শার্মা নেন সর্বাধিক ৫ উইকেট। উমেশ যাদব শিকার করেন ৩ উইকেট। আর মোহাম্মদ শামি ঝুলিতে ভরেন ২ উইকেট।\n",
      "\n"
     ]
    }
   ],
   "source": [
    "# Print the content of the first 'body' entry\n",
    "first_body_content = df.loc[0, 'body']\n",
    "print(first_body_content)"
   ]
  },
  {
   "cell_type": "code",
   "execution_count": 68,
   "id": "b724eea7",
   "metadata": {
    "scrolled": false
   },
   "outputs": [
    {
     "data": {
      "text/plain": [
       "সারাদেশ                            32613\n",
       "আন্তর্জাতিক                        19040\n",
       "জাতীয়                              14533\n",
       "খেলা                               14490\n",
       "রাজনীতি                             9828\n",
       "কোভিড-১৯                            6735\n",
       "লাইফ স্টাইল                         4143\n",
       "একদিন প্রতিদিন                      3636\n",
       "বিনোদন                             3624\n",
       "পরবাস                               3444\n",
       "রাজধানী                             3225\n",
       "শিক্ষাঙ্গন                          2775\n",
       "আইটি বিশ্ব                          1575\n",
       "একাদশ জাতীয় সংসদ নির্বাচন           1219\n",
       "অর্থনীতি                             812\n",
       "ইসলাম ও জীবন                         470\n",
       "বিপিএল                               419\n",
       "সোশ্যাল মিডিয়া                      327\n",
       "ডাক্তার আছেন                         312\n",
       "দৃষ্টিপাত                            311\n",
       "সাহিত্য                              291\n",
       "কর্পোরেট নিউজ                        285\n",
       "মার্কিন নির্বাচন                     102\n",
       "বিচ্ছু                                81\n",
       "চিত্র বিচিত্র                         68\n",
       "বাতায়ন                                56\n",
       "তাজা খবর                              52\n",
       "যুগান্তর বর্ষপূর্তি-১৮                22\n",
       "গাজীপুর সিটি কর্পোরেশন নির্বাচন       19\n",
       "মহান মে দিবস                          18\n",
       "স্বজন সমাবেশ                          15\n",
       "দরকারি                                10\n",
       "চট্টগ্রাম                              6\n",
       "সাক্ষাৎকার                             3\n",
       "সম্পাদকীয়                             2\n",
       "প্রতিমঞ্চ                              1\n",
       "Name: category, dtype: int64"
      ]
     },
     "execution_count": 68,
     "metadata": {},
     "output_type": "execute_result"
    }
   ],
   "source": [
    "gen_type_counts = df['category'].value_counts()\n",
    "gen_type_counts"
   ]
  },
  {
   "cell_type": "code",
   "execution_count": 69,
   "id": "cee3d341",
   "metadata": {},
   "outputs": [
    {
     "name": "stdout",
     "output_type": "stream",
     "text": [
      "4\n",
      "Randomly selected gen_type values:\n",
      "['লাইফ স্টাইল' 'আইটি বিশ্ব' 'একাদশ জাতীয় সংসদ নির্বাচন' 'পরবাস']\n"
     ]
    }
   ],
   "source": [
    "import random\n",
    "# Filter gen_type values based on count criteria\n",
    "filtered_gen_types = gen_type_counts[(gen_type_counts > 500) & (gen_type_counts < 5000)]\n",
    "\n",
    "random_classes_number = random.randint(3, 6)\n",
    "print(random_classes_number)\n",
    "# Ensure we have at least 5 gen_type values that meet the criteria\n",
    "if len(filtered_gen_types) >= random_classes_number:\n",
    "    # Randomly select 5 gen_type values from the filtered list\n",
    "    random_gen_types = np.random.choice(filtered_gen_types.index, random_classes_number, replace=False)\n",
    "    print(\"Randomly selected gen_type values:\")\n",
    "    print(random_gen_types)\n",
    "else:\n",
    "    print(\"Not enough gen_type values meeting the criteria.\")"
   ]
  },
  {
   "cell_type": "code",
   "execution_count": 70,
   "id": "776a6376",
   "metadata": {},
   "outputs": [
    {
     "data": {
      "text/html": [
       "<div>\n",
       "<style scoped>\n",
       "    .dataframe tbody tr th:only-of-type {\n",
       "        vertical-align: middle;\n",
       "    }\n",
       "\n",
       "    .dataframe tbody tr th {\n",
       "        vertical-align: top;\n",
       "    }\n",
       "\n",
       "    .dataframe thead th {\n",
       "        text-align: right;\n",
       "    }\n",
       "</style>\n",
       "<table border=\"1\" class=\"dataframe\">\n",
       "  <thead>\n",
       "    <tr style=\"text-align: right;\">\n",
       "      <th></th>\n",
       "      <th>category</th>\n",
       "      <th>body</th>\n",
       "    </tr>\n",
       "  </thead>\n",
       "  <tbody>\n",
       "    <tr>\n",
       "      <th>0</th>\n",
       "      <td>পরবাস</td>\n",
       "      <td>\\nমরদেহ, অসুস্থ যাত্রী পরিহন ও ব্যাগেজ জটিলতা ...</td>\n",
       "    </tr>\n",
       "    <tr>\n",
       "      <th>1</th>\n",
       "      <td>লাইফ স্টাইল</td>\n",
       "      <td>\\nসারা দিন রোজা রাখার পর শরীরে পানির ঘাটতি দেখ...</td>\n",
       "    </tr>\n",
       "    <tr>\n",
       "      <th>2</th>\n",
       "      <td>আইটি বিশ্ব</td>\n",
       "      <td>\\nমোবাইল ফোন অপারেটর গ্রামীণফোনের পর এবার বাংল...</td>\n",
       "    </tr>\n",
       "    <tr>\n",
       "      <th>3</th>\n",
       "      <td>একাদশ জাতীয় সংসদ নির্বাচন</td>\n",
       "      <td>\\nনেত্রকোনার দুর্গাপুরে কাকৈরগড়া ইউনিয়নের ঝাঞ্...</td>\n",
       "    </tr>\n",
       "    <tr>\n",
       "      <th>4</th>\n",
       "      <td>একাদশ জাতীয় সংসদ নির্বাচন</td>\n",
       "      <td>\\nসুনামগঞ্জে আগামী জাতীয় সংসদ নির্বাচন সুষ্ঠু ...</td>\n",
       "    </tr>\n",
       "    <tr>\n",
       "      <th>...</th>\n",
       "      <td>...</td>\n",
       "      <td>...</td>\n",
       "    </tr>\n",
       "    <tr>\n",
       "      <th>10376</th>\n",
       "      <td>একাদশ জাতীয় সংসদ নির্বাচন</td>\n",
       "      <td>\\nআওয়ামী লীগ প্রেসিডিয়াম সদস্য ও স্বাস্থ্যমন...</td>\n",
       "    </tr>\n",
       "    <tr>\n",
       "      <th>10377</th>\n",
       "      <td>লাইফ স্টাইল</td>\n",
       "      <td>\\nরাজধানীসহ সারা দেশে ডেঙ্গু মহামারি রুপ নিয়েছ...</td>\n",
       "    </tr>\n",
       "    <tr>\n",
       "      <th>10378</th>\n",
       "      <td>লাইফ স্টাইল</td>\n",
       "      <td>\\nচৈত্রের গরমে তৃষ্ণায় কাতর থাকে দেহ-মন। এই সম...</td>\n",
       "    </tr>\n",
       "    <tr>\n",
       "      <th>10379</th>\n",
       "      <td>পরবাস</td>\n",
       "      <td>\\nস্পেনে বসবাসরত বৃহত্তর ঢাকাবাসীর আয়োজনে সাধা...</td>\n",
       "    </tr>\n",
       "    <tr>\n",
       "      <th>10380</th>\n",
       "      <td>একাদশ জাতীয় সংসদ নির্বাচন</td>\n",
       "      <td>\\nআমরণ অনশনে থাকা টাঙ্গাইল-৪ (কালিহাতী) আসনের ...</td>\n",
       "    </tr>\n",
       "  </tbody>\n",
       "</table>\n",
       "<p>10381 rows × 2 columns</p>\n",
       "</div>"
      ],
      "text/plain": [
       "                        category  \\\n",
       "0                          পরবাস   \n",
       "1                    লাইফ স্টাইল   \n",
       "2                     আইটি বিশ্ব   \n",
       "3      একাদশ জাতীয় সংসদ নির্বাচন   \n",
       "4      একাদশ জাতীয় সংসদ নির্বাচন   \n",
       "...                          ...   \n",
       "10376  একাদশ জাতীয় সংসদ নির্বাচন   \n",
       "10377                লাইফ স্টাইল   \n",
       "10378                লাইফ স্টাইল   \n",
       "10379                      পরবাস   \n",
       "10380  একাদশ জাতীয় সংসদ নির্বাচন   \n",
       "\n",
       "                                                    body  \n",
       "0      \\nমরদেহ, অসুস্থ যাত্রী পরিহন ও ব্যাগেজ জটিলতা ...  \n",
       "1      \\nসারা দিন রোজা রাখার পর শরীরে পানির ঘাটতি দেখ...  \n",
       "2      \\nমোবাইল ফোন অপারেটর গ্রামীণফোনের পর এবার বাংল...  \n",
       "3      \\nনেত্রকোনার দুর্গাপুরে কাকৈরগড়া ইউনিয়নের ঝাঞ্...  \n",
       "4      \\nসুনামগঞ্জে আগামী জাতীয় সংসদ নির্বাচন সুষ্ঠু ...  \n",
       "...                                                  ...  \n",
       "10376  \\nআওয়ামী লীগ প্রেসিডিয়াম সদস্য ও স্বাস্থ্যমন...  \n",
       "10377  \\nরাজধানীসহ সারা দেশে ডেঙ্গু মহামারি রুপ নিয়েছ...  \n",
       "10378  \\nচৈত্রের গরমে তৃষ্ণায় কাতর থাকে দেহ-মন। এই সম...  \n",
       "10379  \\nস্পেনে বসবাসরত বৃহত্তর ঢাকাবাসীর আয়োজনে সাধা...  \n",
       "10380  \\nআমরণ অনশনে থাকা টাঙ্গাইল-৪ (কালিহাতী) আসনের ...  \n",
       "\n",
       "[10381 rows x 2 columns]"
      ]
     },
     "execution_count": 70,
     "metadata": {},
     "output_type": "execute_result"
    }
   ],
   "source": [
    "# Create a list of specific categories\n",
    "categories = random_gen_types\n",
    "\n",
    "# Use boolean indexing to filter rows based on the 'Section' column\n",
    "df = df[df['category'].isin(categories)]\n",
    "df.reset_index(inplace=True, drop=True)\n",
    "# Print the new DataFrame\n",
    "df"
   ]
  },
  {
   "cell_type": "code",
   "execution_count": 71,
   "id": "a5b6f13c",
   "metadata": {},
   "outputs": [
    {
     "data": {
      "text/plain": [
       "লাইফ স্টাইল                  4143\n",
       "পরবাস                        3444\n",
       "আইটি বিশ্ব                   1575\n",
       "একাদশ জাতীয় সংসদ নির্বাচন    1219\n",
       "Name: category, dtype: int64"
      ]
     },
     "execution_count": 71,
     "metadata": {},
     "output_type": "execute_result"
    }
   ],
   "source": [
    "df['category'].value_counts()"
   ]
  },
  {
   "cell_type": "code",
   "execution_count": 72,
   "id": "b595265a",
   "metadata": {},
   "outputs": [
    {
     "data": {
      "text/html": [
       "<div>\n",
       "<style scoped>\n",
       "    .dataframe tbody tr th:only-of-type {\n",
       "        vertical-align: middle;\n",
       "    }\n",
       "\n",
       "    .dataframe tbody tr th {\n",
       "        vertical-align: top;\n",
       "    }\n",
       "\n",
       "    .dataframe thead th {\n",
       "        text-align: right;\n",
       "    }\n",
       "</style>\n",
       "<table border=\"1\" class=\"dataframe\">\n",
       "  <thead>\n",
       "    <tr style=\"text-align: right;\">\n",
       "      <th></th>\n",
       "      <th>category</th>\n",
       "      <th>body</th>\n",
       "    </tr>\n",
       "  </thead>\n",
       "  <tbody>\n",
       "    <tr>\n",
       "      <th>0</th>\n",
       "      <td>Foreign</td>\n",
       "      <td>\\nমরদেহ, অসুস্থ যাত্রী পরিহন ও ব্যাগেজ জটিলতা ...</td>\n",
       "    </tr>\n",
       "    <tr>\n",
       "      <th>1</th>\n",
       "      <td>Life Style</td>\n",
       "      <td>\\nসারা দিন রোজা রাখার পর শরীরে পানির ঘাটতি দেখ...</td>\n",
       "    </tr>\n",
       "    <tr>\n",
       "      <th>2</th>\n",
       "      <td>IT world</td>\n",
       "      <td>\\nমোবাইল ফোন অপারেটর গ্রামীণফোনের পর এবার বাংল...</td>\n",
       "    </tr>\n",
       "    <tr>\n",
       "      <th>3</th>\n",
       "      <td>11th National Assembly Election</td>\n",
       "      <td>\\nনেত্রকোনার দুর্গাপুরে কাকৈরগড়া ইউনিয়নের ঝাঞ্...</td>\n",
       "    </tr>\n",
       "    <tr>\n",
       "      <th>4</th>\n",
       "      <td>11th National Assembly Election</td>\n",
       "      <td>\\nসুনামগঞ্জে আগামী জাতীয় সংসদ নির্বাচন সুষ্ঠু ...</td>\n",
       "    </tr>\n",
       "    <tr>\n",
       "      <th>...</th>\n",
       "      <td>...</td>\n",
       "      <td>...</td>\n",
       "    </tr>\n",
       "    <tr>\n",
       "      <th>10376</th>\n",
       "      <td>11th National Assembly Election</td>\n",
       "      <td>\\nআওয়ামী লীগ প্রেসিডিয়াম সদস্য ও স্বাস্থ্যমন...</td>\n",
       "    </tr>\n",
       "    <tr>\n",
       "      <th>10377</th>\n",
       "      <td>Life Style</td>\n",
       "      <td>\\nরাজধানীসহ সারা দেশে ডেঙ্গু মহামারি রুপ নিয়েছ...</td>\n",
       "    </tr>\n",
       "    <tr>\n",
       "      <th>10378</th>\n",
       "      <td>Life Style</td>\n",
       "      <td>\\nচৈত্রের গরমে তৃষ্ণায় কাতর থাকে দেহ-মন। এই সম...</td>\n",
       "    </tr>\n",
       "    <tr>\n",
       "      <th>10379</th>\n",
       "      <td>Foreign</td>\n",
       "      <td>\\nস্পেনে বসবাসরত বৃহত্তর ঢাকাবাসীর আয়োজনে সাধা...</td>\n",
       "    </tr>\n",
       "    <tr>\n",
       "      <th>10380</th>\n",
       "      <td>11th National Assembly Election</td>\n",
       "      <td>\\nআমরণ অনশনে থাকা টাঙ্গাইল-৪ (কালিহাতী) আসনের ...</td>\n",
       "    </tr>\n",
       "  </tbody>\n",
       "</table>\n",
       "<p>10381 rows × 2 columns</p>\n",
       "</div>"
      ],
      "text/plain": [
       "                              category  \\\n",
       "0                              Foreign   \n",
       "1                           Life Style   \n",
       "2                             IT world   \n",
       "3      11th National Assembly Election   \n",
       "4      11th National Assembly Election   \n",
       "...                                ...   \n",
       "10376  11th National Assembly Election   \n",
       "10377                       Life Style   \n",
       "10378                       Life Style   \n",
       "10379                          Foreign   \n",
       "10380  11th National Assembly Election   \n",
       "\n",
       "                                                    body  \n",
       "0      \\nমরদেহ, অসুস্থ যাত্রী পরিহন ও ব্যাগেজ জটিলতা ...  \n",
       "1      \\nসারা দিন রোজা রাখার পর শরীরে পানির ঘাটতি দেখ...  \n",
       "2      \\nমোবাইল ফোন অপারেটর গ্রামীণফোনের পর এবার বাংল...  \n",
       "3      \\nনেত্রকোনার দুর্গাপুরে কাকৈরগড়া ইউনিয়নের ঝাঞ্...  \n",
       "4      \\nসুনামগঞ্জে আগামী জাতীয় সংসদ নির্বাচন সুষ্ঠু ...  \n",
       "...                                                  ...  \n",
       "10376  \\nআওয়ামী লীগ প্রেসিডিয়াম সদস্য ও স্বাস্থ্যমন...  \n",
       "10377  \\nরাজধানীসহ সারা দেশে ডেঙ্গু মহামারি রুপ নিয়েছ...  \n",
       "10378  \\nচৈত্রের গরমে তৃষ্ণায় কাতর থাকে দেহ-মন। এই সম...  \n",
       "10379  \\nস্পেনে বসবাসরত বৃহত্তর ঢাকাবাসীর আয়োজনে সাধা...  \n",
       "10380  \\nআমরণ অনশনে থাকা টাঙ্গাইল-৪ (কালিহাতী) আসনের ...  \n",
       "\n",
       "[10381 rows x 2 columns]"
      ]
     },
     "execution_count": 72,
     "metadata": {},
     "output_type": "execute_result"
    }
   ],
   "source": [
    "# Mapping of old names to new names\n",
    "name_mapping = {\n",
    "    'পরবাস' :  'Foreign',   \n",
    "    \"আইটি বিশ্ব\"  :  'IT world',\n",
    "    'একাদশ জাতীয় সংসদ নির্বাচন' : '11th National Assembly Election',\n",
    "    'লাইফ স্টাইল': 'Life Style'\n",
    "}\n",
    "\n",
    "# Replace values in the 'gen_type' column\n",
    "df['category'] = df['category'].replace(name_mapping)\n",
    "df"
   ]
  },
  {
   "cell_type": "code",
   "execution_count": 73,
   "id": "84e69534",
   "metadata": {
    "scrolled": true
   },
   "outputs": [
    {
     "data": {
      "text/plain": [
       "10381"
      ]
     },
     "execution_count": 73,
     "metadata": {},
     "output_type": "execute_result"
    }
   ],
   "source": [
    "each_class= df['category'].value_counts()\n",
    "each_class.sum()"
   ]
  },
  {
   "cell_type": "code",
   "execution_count": 74,
   "id": "32b8826c",
   "metadata": {},
   "outputs": [
    {
     "data": {
      "text/plain": [
       "<Axes: >"
      ]
     },
     "execution_count": 74,
     "metadata": {},
     "output_type": "execute_result"
    },
    {
     "data": {
      "image/png": "[encoded data removed]",
      "text/plain": [
       "<Figure size 640x480 with 1 Axes>"
      ]
     },
     "metadata": {},
     "output_type": "display_data"
    }
   ],
   "source": [
    "each_class.plot.bar()"
   ]
  },
  {
   "cell_type": "code",
   "execution_count": 75,
   "id": "5d0dcefd",
   "metadata": {},
   "outputs": [
    {
     "data": {
      "text/plain": [
       "(0        \\nমরদেহ, অসুস্থ যাত্রী পরিহন ও ব্যাগেজ জটিলতা ...\n",
       " 1        \\nসারা দিন রোজা রাখার পর শরীরে পানির ঘাটতি দেখ...\n",
       " 2        \\nমোবাইল ফোন অপারেটর গ্রামীণফোনের পর এবার বাংল...\n",
       " 3        \\nনেত্রকোনার দুর্গাপুরে কাকৈরগড়া ইউনিয়নের ঝাঞ্...\n",
       " 4        \\nসুনামগঞ্জে আগামী জাতীয় সংসদ নির্বাচন সুষ্ঠু ...\n",
       "                                ...                        \n",
       " 10376    \\nআওয়ামী লীগ প্রেসিডিয়াম সদস্য ও স্বাস্থ্যমন...\n",
       " 10377    \\nরাজধানীসহ সারা দেশে ডেঙ্গু মহামারি রুপ নিয়েছ...\n",
       " 10378    \\nচৈত্রের গরমে তৃষ্ণায় কাতর থাকে দেহ-মন। এই সম...\n",
       " 10379    \\nস্পেনে বসবাসরত বৃহত্তর ঢাকাবাসীর আয়োজনে সাধা...\n",
       " 10380    \\nআমরণ অনশনে থাকা টাঙ্গাইল-৪ (কালিহাতী) আসনের ...\n",
       " Name: body, Length: 10381, dtype: object,\n",
       " 0                                Foreign\n",
       " 1                             Life Style\n",
       " 2                               IT world\n",
       " 3        11th National Assembly Election\n",
       " 4        11th National Assembly Election\n",
       "                       ...               \n",
       " 10376    11th National Assembly Election\n",
       " 10377                         Life Style\n",
       " 10378                         Life Style\n",
       " 10379                            Foreign\n",
       " 10380    11th National Assembly Election\n",
       " Name: category, Length: 10381, dtype: object)"
      ]
     },
     "execution_count": 75,
     "metadata": {},
     "output_type": "execute_result"
    }
   ],
   "source": [
    "X = df['body']\n",
    "y=df['category']\n",
    "X,y"
   ]
  },
  {
   "cell_type": "code",
   "execution_count": 76,
   "id": "8d15beb3",
   "metadata": {},
   "outputs": [
    {
     "data": {
      "text/plain": [
       "(['Foreign', 'Life Style', 'IT world', '11th National Assembly Election'],\n",
       " category        4\n",
       " body        10381\n",
       " dtype: int64)"
      ]
     },
     "execution_count": 76,
     "metadata": {},
     "output_type": "execute_result"
    }
   ],
   "source": [
    "## Get the Dependent features\n",
    "classes = list(y.unique())\n",
    "classes, df.nunique()"
   ]
  },
  {
   "cell_type": "code",
   "execution_count": 77,
   "id": "dc506bc3",
   "metadata": {},
   "outputs": [
    {
     "data": {
      "text/plain": [
       "(array([1, 3, 2, ..., 3, 1, 0]), 10381)"
      ]
     },
     "execution_count": 77,
     "metadata": {},
     "output_type": "execute_result"
    }
   ],
   "source": [
    "from sklearn.preprocessing import LabelEncoder\n",
    "y = LabelEncoder().fit_transform(y)\n",
    "y, len(y)"
   ]
  },
  {
   "cell_type": "code",
   "execution_count": 78,
   "id": "27515526",
   "metadata": {},
   "outputs": [
    {
     "name": "stdout",
     "output_type": "stream",
     "text": [
      "[0 1 2 3] [1219 3444 1575 4143]\n"
     ]
    }
   ],
   "source": [
    "import numpy as np\n",
    "unique_values, counts = np.unique(y, return_counts=True)\n",
    "print(unique_values, counts)"
   ]
  },
  {
   "cell_type": "code",
   "execution_count": 79,
   "id": "cef16d60",
   "metadata": {},
   "outputs": [
    {
     "data": {
      "text/plain": [
       "732"
      ]
     },
     "execution_count": 79,
     "metadata": {},
     "output_type": "execute_result"
    }
   ],
   "source": [
    "import re\n",
    "from temp_stemmer.bangla_stemmer.stemmer.stemmer import BanglaStemmer  # for stemming \n",
    "st_words = ('অই', 'অগত্যা', 'অত: পর', 'অতএব', 'অথচ', 'অথবা', 'অধিক', 'অধীনে', 'অধ্যায়', 'অনুগ্রহ', 'অনুভূত', 'অনুযায়ী', 'অনুরূপ', 'অনুসন্ধান', 'অনুসরণ', 'অনুসারে', 'অনুসৃত', 'অনেক', 'অনেকে', 'অনেকেই', 'অন্তত', 'অন্য', 'অন্যত্র', 'অন্যভাবে', 'অন্যান্য', 'অপেক্ষাকৃতভাবে', 'অবধি', 'অবশ্য', 'অবশ্যই', 'অবস্থা', 'অবিলম্বে', 'অভ্যন্তরস্থ', 'অর্জিত', 'অর্থাত', 'অসদৃশ', 'অসম্ভাব্য', 'আইন', 'আউট', 'আক্রান্ত', 'আগামী', 'আগে', 'আগেই', 'আগ্রহী', 'আছে', 'আজ', 'আট', 'আদেশ', 'আদ্যভাগে', 'আন্দাজ', 'আপনার', 'আপনি', 'আবার', 'আমরা', 'আমাকে', 'আমাদিগের', 'আমাদের', 'আমার', 'আমি', 'আর', 'আরও', 'আশি', 'আশু', 'আসা', 'আসে', 'ই', 'ইচ্ছা', 'ইচ্ছাপূর্বক', 'ইতিমধ্যে', 'ইতোমধ্যে', 'ইত্যাদি', 'ইশারা', 'ইহা', 'ইহাতে', 'উক্তি', 'উচিত', 'উচ্চ', 'উঠা', 'উত্তম', 'উত্তর', 'উনি', 'উপর', 'উপরে', 'উপলব্ধ', 'উপায়', 'উভয়', 'উল্লেখ', 'উল্লেখযোগ্যভাবে', 'উহার', 'ঊর্ধ্বতন', 'এ', 'এপর্যন্ত', 'এঁদের', 'এঁরা', 'এই', 'এইগুলো', 'এইভাবে', 'এক', 'একই', 'একটি', 'একদা', 'একবার', 'একভাবে', 'একরকম', 'একসঙ্গে', 'একা', 'একে', 'এক্', 'এখন', 'এখনও', 'এখনো', 'এখানে', 'এখানেই', 'এছাড়াও', 'এটা', 'এটাই', 'এটি', 'এত', 'এতটাই', 'এতদ্বারা', 'এতে', 'এদিকে', 'এদের', 'এপর্যন্ত', 'এবং', 'এবার', 'এমন', 'এমনকি', 'এমনকী', 'এমনি', 'এর', 'এরকম', 'এরা', 'এল', 'এলাকায়', 'এলাকার', 'এস', 'এসে', 'ঐ', 'ও', 'ওঁদের', 'ওঁর', 'ওঁরা', 'ওই', 'ওকে', 'ওখানে', 'ওদের', 'ওর', 'ওরা', 'ওহে', 'কক্ষ', 'কখন', 'কখনও', 'কত', 'কবে', 'কম', 'কমনে', 'কয়েক', 'কয়েকটি', 'করছে', 'করছেন', 'করতে', 'করবে', 'করবেন', 'করলে', 'করলেন', 'করলো', 'করা', 'করাই', 'করাত', 'করার', 'করায়', 'করি', 'করিতে', 'করিয়া', 'করিয়ে', 'করে', 'করেই', 'করেছিল', 'করেছিলেন', 'করেছে', 'করেছেন', 'করেন', 'কর্তব্য', 'কাউকে', 'কাছ', 'কাছাকাছি', 'কাছে', 'কাজ', 'কাজে', 'কারও', 'কারণ', 'কারণসমূহ', 'কারো', 'কি', 'কিংবা', 'কিছু', 'কিছুই', 'কিছুটা', 'কিছুনা', 'কিনা', 'কিন্তু', 'কিভাবে', 'কী', 'কূপ', 'কে', 'কেউ', 'কেউই', 'কেউনা', 'কেখা', 'কেন', 'কেবল', 'কেবা', 'কেস', 'কেহ', 'কোটি', 'কোথা', 'কোথাও', 'কোথায়', 'কোন', 'কোনও', 'কোনো', 'ক্রম', 'ক্ষেত্রে', 'কয়েক', 'কয়েকটি', 'খুঁজছেন', 'খুব', 'খোলা', 'খোলে', 'গড়', 'গত', 'গিয়ে', 'গিয়েছিলাম', 'গিয়েছে', 'গিয়ে', 'গিয়েছে', 'গুরুত্ব', 'গুলি', 'গেছে', 'গেল', 'গেলে', 'গোটা', 'গোষ্ঠীবদ্ধ', 'গ্রহণ', 'গ্রুপ', 'ঘর', 'ঘোষণা', 'চলে', 'চান', 'চায়', 'চার', 'চালা', 'চালান', 'চালু', 'চায়', 'চেয়ে', 'চেয়েছিলেন', 'চেষ্টা', 'চেয়ে', 'ছয়', 'ছাড়া', 'ছাড়াছাড়ি', 'ছাড়া', 'ছাড়াও', 'ছিল', 'ছিলেন', 'ছোট', 'জন', 'জনকে', 'জনাব', 'জনাবা', 'জনের', 'জন্য', 'জানতাম', 'জানতে', 'জানা', 'জানানো', 'জানায়', 'জানিয়ে', 'জানিয়েছে', 'জানে', 'জায়গা', 'জিজ্ঞাসা', 'জিজ্ঞেস', 'জিনিস', 'জে', 'জ্নজন', 'টা', 'টি', 'ঠিক', 'ঠিকআছে', 'ডগা', 'তখন', 'তত', 'তত্কারণে', 'তত্প্রতি', 'তথা', 'তদনুসারে', 'তদ্ব্যতীত', 'তন্নতন্ন', 'তবু', 'তবে', 'তরুণ', 'তা', 'তাঁকে', 'তাঁদের', 'তাঁর', 'তাঁরা', 'তাঁহারা', 'তাই', 'তাও', 'তাকে', 'তাতে', 'তাদের', 'তার', 'তারপর', 'তারপরেও', 'তারা', 'তারিখ', 'তারৈ', 'তাহলে', 'তাহা', 'তাহাতে', 'তাহাদিগকে', 'তাহাদেরই', 'তাহার', 'তিন', 'তিনি', 'তিনিও', 'তীক্ষ্ন', 'তুমি', 'তুলে', 'তেমন', 'তৈরীর', 'তো', 'তোমার', 'তোলে', 'থাকবে', 'থাকবেন', 'থাকা', 'থাকায়', 'থাকায়', 'থাকে', 'থাকেন', 'থেকে', 'থেকেই', 'থেকেও', 'দরকারী', 'দলবদ্ধ', 'দান', 'দিকে', 'দিতে', 'দিন', 'দিয়ে', 'দিয়েছে', 'দিয়েছেন', 'দিলেন', 'দিয়ে', 'দিয়েছে', 'দিয়েছেন', 'দু', 'দুই', 'দুটি', 'দুটো', 'দূরে', 'দেওয়ার', 'দেওয়া', 'দেওয়ার', 'দেখতে', 'দেখা', 'দেখাচ্ছে', 'দেখিয়েছেন', 'দেখে', 'দেখেন', 'দেন', 'দেয়', 'দেয়', 'দ্বারা', 'দ্বিগুণ', 'দ্বিতীয়', 'দ্য', 'ধরা', 'ধরে', 'ধামার', 'নতুন', 'নব্বই', 'নয়', 'নাই', 'নাকি', 'নাগাদ', 'নানা', 'নাম', 'নিচে', 'নিছক', 'নিজে', 'নিজেই', 'নিজেকে', 'নিজেদের', 'নিজেদেরকে', 'নিজের', 'নিতে', 'নিদিষ্ট', 'নিম্নাভিমুখে', 'নিয়ে', 'নির্দিষ্ট', 'নির্বিশেষে', 'নিশ্চিত', 'নিয়ে', 'নেই', 'নেওয়ার', 'নেওয়া', 'নেয়ার', 'নয়', 'পক্ষই', 'পক্ষে', 'পঞ্চম', 'পড়া', 'পণ্য', 'পথ', 'পয়েন্ট', 'পর', 'পরন্তু', 'পরবর্তী', 'পরিণত', 'পরিবর্তে', 'পরে', 'পরেই', 'পরেও', 'পর্যন্ত', 'পর্যাপ্ত', 'পাঁচ', 'পাওয়া', 'পাচ', 'পায়', 'পারা', 'পারি', 'পারিনি', 'পারে', 'পারেন', 'পালা', 'পাশ', 'পাশে', 'পিছনে', 'পিঠের', 'পুরোনো', 'পুরোপুরি', 'পূর্বে', 'পৃষ্ঠা', 'পৃষ্ঠাগুলি', 'পেছনে', 'পেয়েছেন', 'পেয়ে', 'পেয়্র্', 'প্রকৃতপক্ষে', 'প্রণীত', 'প্রতি', 'প্রথম', 'প্রদত্ত', 'প্রদর্শনী', 'প্রদর্শিত', 'প্রধানত', 'প্রবলভাবে', 'প্রভৃতি', 'প্রমাণীকরণ', 'প্রযন্ত', 'প্রয়োজন', 'প্রয়োজনীয়', 'প্রসূত', 'প্রাক্তন', 'প্রাথমিক', 'প্রাথমিকভাবে', 'প্রান্ত', 'প্রাপ্ত', 'প্রায়', 'প্রায়ই', 'প্রায়', 'ফলাফল', 'ফলে', 'ফিক্স', 'ফিরে', 'ফের', 'বক্তব্য', 'বছর', 'বড়', 'বদলে', 'বন', 'বন্ধ', 'বরং', 'বরাবর', 'বর্ণন', 'বর্তমান', 'বলতে', 'বলল', 'বললেন', 'বলা', 'বলে', 'বলেছেন', 'বলেন', 'বসে', 'বহু', 'বা', 'বাঁক', 'বাইরে', 'বাকি', 'বাড়ি', 'বাতিক', 'বাদ', 'বাদে', 'বার', 'বাহিরে', 'বিনা', 'বিন্দু', 'বিভিন্ন', 'বিশেষ', 'বিশেষণ', 'বিশেষত', 'বিশেষভাবে', 'বিশ্ব', 'বিষয়টি', 'বুঝিয়ে', 'বৃহত্তর', 'বের', 'বেশ', 'বেশি', 'বেশী', 'ব্যতীত', 'ব্যবহার', 'ব্যবহারসমূহ', 'ব্যবহৃত', 'ব্যাক', 'ব্যাপকভাবে', 'ব্যাপারে', 'ভবিষ্যতে', 'ভান', 'ভাবে', 'ভাবেই', 'ভাল', 'ভিতরে', 'ভিন্ন', 'ভিন্নভাবে', 'মত', 'মতো', 'মতোই', 'মধ্যভাগে', 'মধ্যে', 'মধ্যেই', 'মধ্যেও', 'মনে', 'মনে হয়', 'মস্ত', 'মহান', 'মাত্র', 'মাধ্যম', 'মাধ্যমে', 'মান', 'মানানসই', 'মানুষ', 'মানে', 'মামলা', 'মিলিয়ন', 'মুখ', 'মূলত', 'মোট', 'মোটেই', 'যখন', 'যখনই', 'যত', 'যতটা', 'যথা', 'যথাক্রমে', 'যথেষ্ট', 'যদি', 'যদিও', 'যন্ত্রাংশ', 'যা', 'যাঁর', 'যাঁরা', 'যাই', 'যাওয়া', 'যাওয়ার', 'যাওয়া', 'যাওয়ার', 'যাকে', 'যাচ্ছে', 'যাতে', 'যাদের', 'যান', 'যাবে', 'যায়', 'যার', 'যারা', 'যাহার', 'যাহোক', 'যিনি', 'যে', 'যেখানে', 'যেখানেই', 'যেটি', 'যেতে', 'যেন', 'যেমন', 'যেহেতু', 'যোগ', 'রকম', 'রয়েছে', 'রাখা', 'রাখে', 'রাজী', 'রাজ্যের', 'রেখে', 'রয়েছে', 'লক্ষ', 'লাইন', 'লাল', 'শত', 'শব্দ', 'শীঘ্র', 'শীঘ্রই', 'শুধু', 'শুরু', 'শুরুতে', 'শূন্য', 'শেষ', 'সংক্রান্ত', 'সংক্ষিপ্ত', 'সংক্ষেপে', 'সংখ্যা', 'সংখ্যার', 'সংশ্লিষ্ট', 'সক্ষম', 'সঙ্গে', 'সঙ্গেও', 'সত্য', 'সত্যিই', 'সদয়', 'সদস্য', 'সদস্যদের', 'সফলভাবে', 'সব', 'সবচেয়ে', 'সবাই', 'সবার', 'সময়', 'সমস্ত', 'সমান', 'সম্পন্ন', 'সম্প্রতি', 'সম্ভব', 'সম্ভবত', 'সম্ভাব্য', 'সরাইয়া', 'সর্বত্র', 'সর্বদা', 'সর্বস্বান্ত', 'সহ', 'সহিত', 'সাত', 'সাধারণ', 'সাধারণত', 'সাব', 'সাবেক', 'সামগ্রিক', 'সামনে', 'সামান্য', 'সাম্প্রতিক', 'সুতরাং', 'সুত্র', 'সূচক', 'সে', 'সে হবে', 'সেই', 'সেকেন্ড', 'সেখান', 'সেখানে', 'সেগুলো', 'সেটা', 'সেটাই', 'সেটাও', 'সেটি', 'সেরা', 'স্টপ', 'স্থাপিত', 'স্পষ্ট', 'স্পষ্টত', 'স্পষ্টতই', 'স্ব', 'স্বয়ং', 'স্বাগত', 'স্বাভাবিকভাবে', 'স্বার্থ', 'স্বয়ং', 'হইতে', 'হইবে', 'হইয়া', 'হওয়া', 'হওয়ায়', 'হওয়ার', 'হচ্ছে', 'হত', 'হতে', 'হতেই', 'হন', 'হবে', 'হবেন', 'হয়', 'হয়তো', 'হয়নি', 'হয়ে', 'হয়েই', 'হয়েছিল', 'হয়েছে', 'হয়েছেন', 'হল', 'হলে', 'হলেই', 'হলেও', 'হলো', 'হাজার', 'হায়', 'হারানো', 'হিসাবে', 'হৈলে', 'হোক', 'হয়', 'হয়তো', 'হয়নি', 'হয়ে', 'হয়েই', 'হয়েছিল', 'হয়েছে', 'হয়েছেন', 'অংশ')\n",
    "len(st_words)"
   ]
  },
  {
   "cell_type": "code",
   "execution_count": 80,
   "id": "f95e3157",
   "metadata": {},
   "outputs": [],
   "source": [
    "# para = df['body'][387]\n",
    "# sentences = re.sub(r'\\n{2,}|\\n|।|,', \"\", para)\n",
    "# sentences"
   ]
  },
  {
   "cell_type": "code",
   "execution_count": 81,
   "id": "73517b16",
   "metadata": {},
   "outputs": [],
   "source": [
    "corpus = []\n",
    "no_of_words = 0\n",
    "for i in range(df.shape[0]):\n",
    "    para = df['body'][i]\n",
    "    sentences = re.sub(r'\\n{2,}|\\n|।|,|!|@|<|>|#|\\$|%|\\^|&|\\*|\\(|\\)|\\\\|/', \"\", para)\n",
    "    words = sentences.split()\n",
    "    \n",
    "\n",
    "    words = [word for word in words if word not in st_words]\n",
    "#     words = [word for word in words if not word in stopwords.words('english')]\n",
    "    words = [BanglaStemmer().stem(word) for word in words]\n",
    "    no_of_words += len(words) \n",
    "    line = ' '.join(words)\n",
    "    corpus.append(line)"
   ]
  },
  {
   "cell_type": "code",
   "execution_count": 82,
   "id": "11b893c4",
   "metadata": {},
   "outputs": [
    {
     "data": {
      "text/plain": [
       "182.24236586070705"
      ]
     },
     "execution_count": 82,
     "metadata": {},
     "output_type": "execute_result"
    }
   ],
   "source": [
    "# avg word/news \n",
    "no_of_words/df.shape[0]"
   ]
  },
  {
   "cell_type": "code",
   "execution_count": 83,
   "id": "4806206d",
   "metadata": {},
   "outputs": [
    {
     "data": {
      "text/plain": [
       "'মরদেহ অসুস্থ যাত্রী পরিহন ব্যাগেজ জটিলতা নিরসনে ওমান মাস্কাট রুটে বাংলাদেশ বিমান বড় উড়োজাহাজ সংযোজন ঘোষনা বাংলাদেশ সরকার বেসামরিক বিমান পরিবহন পর্যটন মন্ত্রণালয় দায়িত্বে নিয়োজিত প্রতিমন্ত্রী মাহবুব আলীসোমব সচিবালয় আন্তর্জাতিক সংগঠন এনআরবি-সিআইপি অ্যাসোসিয়েশন চট্টগ্রাম সমিতি ওমান বৈঠ বিষয় অবহিত তিনিএনআরবি- সিআইপি অ্যাসোসিয়েশন প্রেসিডেন্ট মাহতাবুর রহমান নাছির সিনিয়র সহসভাপতি তাতাইয়ামা কবির এম শাহজাহান মিয়া সম্পাদক কাজী সারোয়ার হাবীব সাংগঠনিক সম্পাদক চট্টগ্রাম সমিতি ওমান সভাপতি মোহাম্মদ ইয়াছিন চৌধুরী অর্থ সম্পাদক ওমান প্রবাসী আশরাফুর রহমান সহসাংগঠনিক সম্পাদক ওমান প্রবাসী হাফেজ ইদ্র কার্যনির্বাহী মোসাদ্দেক চৌধুরী নেতা সিনিয়র সাংবাদিক এজাজ মাহমুদ উপস্থিত ছিলেনবৈঠ চট্টগ্রাম সমিতি ওমান ৬ মাস মাস্কাট রুটে বিমান বড় উড়োজাহাজ সীমাহীন দুর্ভোগে ওমান প্রবাসী ৮ লাখ বাংলাদেশি হিমঘরে মরদেহের দীর্ঘ সারি হাসপাতাল বিছানায় অপেক্ষায় অসুস্থ প্রবাসী আর্তনা টনক নড়ছেনা বিমান বাংলাদেশ এয়ারলাইন্স সর্বোচ্চ কর্তৃপক্ষেররাষ্ট্রীয় সংস্থা চরম উদাসীনতা মানবেতর পরিস্থিতি মোকাবেলা ওমান রেমিট্যান্স যোদ্ধা এছাড়া মাদক পাচারসহ বিমানবন্দর কেন্দ্রীক সমস্যা প্রতিমন্ত্রীর নজরে আনা প্রতিমন্ত্রী মনোযোগ সহকারে সবকিছু শুন বাংলাদেশ বিমান বিমানবন্দর কেন্দ্রীক প্রবাসী সকল সমস্যা নিরসনে দ্রুত ব্যবস্থা নেব জানান বৈঠক শাষ প্রতিমন্ত্রী চট্টগ্রাম সমিতি ওমান ওমানী স্মারক প্রদান'"
      ]
     },
     "execution_count": 83,
     "metadata": {},
     "output_type": "execute_result"
    }
   ],
   "source": [
    "corpus[0]"
   ]
  },
  {
   "cell_type": "code",
   "execution_count": 84,
   "id": "579f99cc",
   "metadata": {},
   "outputs": [],
   "source": [
    "from sklearn.feature_extraction.text import TfidfVectorizer\n",
    "tv = TfidfVectorizer(max_features=1000,ngram_range=(1,3))\n",
    "X = tv.fit_transform(corpus).toarray()"
   ]
  },
  {
   "cell_type": "code",
   "execution_count": 85,
   "id": "98bbdfda",
   "metadata": {},
   "outputs": [
    {
     "data": {
      "text/plain": [
       "(10381, 1000)"
      ]
     },
     "execution_count": 85,
     "metadata": {},
     "output_type": "execute_result"
    }
   ],
   "source": [
    "X.shape"
   ]
  },
  {
   "cell_type": "code",
   "execution_count": 86,
   "id": "4b3b76f4",
   "metadata": {},
   "outputs": [
    {
     "data": {
      "text/plain": [
       "array([1, 3, 2, ..., 3, 1, 0])"
      ]
     },
     "execution_count": 86,
     "metadata": {},
     "output_type": "execute_result"
    }
   ],
   "source": [
    "y"
   ]
  },
  {
   "cell_type": "code",
   "execution_count": 87,
   "id": "9feff0de",
   "metadata": {},
   "outputs": [
    {
     "data": {
      "text/plain": [
       "array(['bd', 'com', 'email', 'email protected', 'email protected রক',\n",
       "       'protected', 'protected রক', 'protected রক হব', 'www', 'অক',\n",
       "       'অক বর', 'অগ', 'অঙ', 'অজ', 'অঞ', 'অঞ চল', 'অট', 'অত', 'অত উপস',\n",
       "       'অত যন'], dtype=object)"
      ]
     },
     "execution_count": 87,
     "metadata": {},
     "output_type": "execute_result"
    }
   ],
   "source": [
    "tv.get_feature_names_out()[:20]"
   ]
  },
  {
   "cell_type": "code",
   "execution_count": 88,
   "id": "0603a6e3",
   "metadata": {},
   "outputs": [
    {
     "data": {
      "text/html": [
       "<div>\n",
       "<style scoped>\n",
       "    .dataframe tbody tr th:only-of-type {\n",
       "        vertical-align: middle;\n",
       "    }\n",
       "\n",
       "    .dataframe tbody tr th {\n",
       "        vertical-align: top;\n",
       "    }\n",
       "\n",
       "    .dataframe thead th {\n",
       "        text-align: right;\n",
       "    }\n",
       "</style>\n",
       "<table border=\"1\" class=\"dataframe\">\n",
       "  <thead>\n",
       "    <tr style=\"text-align: right;\">\n",
       "      <th></th>\n",
       "      <th>bd</th>\n",
       "      <th>com</th>\n",
       "      <th>email</th>\n",
       "      <th>email protected</th>\n",
       "      <th>email protected রক</th>\n",
       "      <th>protected</th>\n",
       "      <th>protected রক</th>\n",
       "      <th>protected রক হব</th>\n",
       "      <th>www</th>\n",
       "      <th>অক</th>\n",
       "      <th>...</th>\n",
       "      <th>৪৫</th>\n",
       "      <th>৫ট</th>\n",
       "      <th>৫০</th>\n",
       "      <th>৫০০</th>\n",
       "      <th>৬ট</th>\n",
       "      <th>৬০</th>\n",
       "      <th>৭০</th>\n",
       "      <th>৮ট</th>\n",
       "      <th>৮০</th>\n",
       "      <th>target</th>\n",
       "    </tr>\n",
       "  </thead>\n",
       "  <tbody>\n",
       "    <tr>\n",
       "      <th>0</th>\n",
       "      <td>0.0</td>\n",
       "      <td>0.0</td>\n",
       "      <td>0.000000</td>\n",
       "      <td>0.000000</td>\n",
       "      <td>0.00000</td>\n",
       "      <td>0.000000</td>\n",
       "      <td>0.00000</td>\n",
       "      <td>0.000000</td>\n",
       "      <td>0.0</td>\n",
       "      <td>0.000000</td>\n",
       "      <td>...</td>\n",
       "      <td>0.0</td>\n",
       "      <td>0.0</td>\n",
       "      <td>0.0</td>\n",
       "      <td>0.0</td>\n",
       "      <td>0.0</td>\n",
       "      <td>0.000000</td>\n",
       "      <td>0.0</td>\n",
       "      <td>0.0</td>\n",
       "      <td>0.0</td>\n",
       "      <td>1</td>\n",
       "    </tr>\n",
       "    <tr>\n",
       "      <th>1</th>\n",
       "      <td>0.0</td>\n",
       "      <td>0.0</td>\n",
       "      <td>0.058277</td>\n",
       "      <td>0.058345</td>\n",
       "      <td>0.06273</td>\n",
       "      <td>0.058345</td>\n",
       "      <td>0.06273</td>\n",
       "      <td>0.062879</td>\n",
       "      <td>0.0</td>\n",
       "      <td>0.000000</td>\n",
       "      <td>...</td>\n",
       "      <td>0.0</td>\n",
       "      <td>0.0</td>\n",
       "      <td>0.0</td>\n",
       "      <td>0.0</td>\n",
       "      <td>0.0</td>\n",
       "      <td>0.000000</td>\n",
       "      <td>0.0</td>\n",
       "      <td>0.0</td>\n",
       "      <td>0.0</td>\n",
       "      <td>3</td>\n",
       "    </tr>\n",
       "    <tr>\n",
       "      <th>2</th>\n",
       "      <td>0.0</td>\n",
       "      <td>0.0</td>\n",
       "      <td>0.000000</td>\n",
       "      <td>0.000000</td>\n",
       "      <td>0.00000</td>\n",
       "      <td>0.000000</td>\n",
       "      <td>0.00000</td>\n",
       "      <td>0.000000</td>\n",
       "      <td>0.0</td>\n",
       "      <td>0.020318</td>\n",
       "      <td>...</td>\n",
       "      <td>0.0</td>\n",
       "      <td>0.0</td>\n",
       "      <td>0.0</td>\n",
       "      <td>0.0</td>\n",
       "      <td>0.0</td>\n",
       "      <td>0.000000</td>\n",
       "      <td>0.0</td>\n",
       "      <td>0.0</td>\n",
       "      <td>0.0</td>\n",
       "      <td>2</td>\n",
       "    </tr>\n",
       "    <tr>\n",
       "      <th>3</th>\n",
       "      <td>0.0</td>\n",
       "      <td>0.0</td>\n",
       "      <td>0.000000</td>\n",
       "      <td>0.000000</td>\n",
       "      <td>0.00000</td>\n",
       "      <td>0.000000</td>\n",
       "      <td>0.00000</td>\n",
       "      <td>0.000000</td>\n",
       "      <td>0.0</td>\n",
       "      <td>0.000000</td>\n",
       "      <td>...</td>\n",
       "      <td>0.0</td>\n",
       "      <td>0.0</td>\n",
       "      <td>0.0</td>\n",
       "      <td>0.0</td>\n",
       "      <td>0.0</td>\n",
       "      <td>0.000000</td>\n",
       "      <td>0.0</td>\n",
       "      <td>0.0</td>\n",
       "      <td>0.0</td>\n",
       "      <td>0</td>\n",
       "    </tr>\n",
       "    <tr>\n",
       "      <th>4</th>\n",
       "      <td>0.0</td>\n",
       "      <td>0.0</td>\n",
       "      <td>0.000000</td>\n",
       "      <td>0.000000</td>\n",
       "      <td>0.00000</td>\n",
       "      <td>0.000000</td>\n",
       "      <td>0.00000</td>\n",
       "      <td>0.000000</td>\n",
       "      <td>0.0</td>\n",
       "      <td>0.000000</td>\n",
       "      <td>...</td>\n",
       "      <td>0.0</td>\n",
       "      <td>0.0</td>\n",
       "      <td>0.0</td>\n",
       "      <td>0.0</td>\n",
       "      <td>0.0</td>\n",
       "      <td>0.000000</td>\n",
       "      <td>0.0</td>\n",
       "      <td>0.0</td>\n",
       "      <td>0.0</td>\n",
       "      <td>0</td>\n",
       "    </tr>\n",
       "    <tr>\n",
       "      <th>...</th>\n",
       "      <td>...</td>\n",
       "      <td>...</td>\n",
       "      <td>...</td>\n",
       "      <td>...</td>\n",
       "      <td>...</td>\n",
       "      <td>...</td>\n",
       "      <td>...</td>\n",
       "      <td>...</td>\n",
       "      <td>...</td>\n",
       "      <td>...</td>\n",
       "      <td>...</td>\n",
       "      <td>...</td>\n",
       "      <td>...</td>\n",
       "      <td>...</td>\n",
       "      <td>...</td>\n",
       "      <td>...</td>\n",
       "      <td>...</td>\n",
       "      <td>...</td>\n",
       "      <td>...</td>\n",
       "      <td>...</td>\n",
       "      <td>...</td>\n",
       "    </tr>\n",
       "    <tr>\n",
       "      <th>10376</th>\n",
       "      <td>0.0</td>\n",
       "      <td>0.0</td>\n",
       "      <td>0.000000</td>\n",
       "      <td>0.000000</td>\n",
       "      <td>0.00000</td>\n",
       "      <td>0.000000</td>\n",
       "      <td>0.00000</td>\n",
       "      <td>0.000000</td>\n",
       "      <td>0.0</td>\n",
       "      <td>0.000000</td>\n",
       "      <td>...</td>\n",
       "      <td>0.0</td>\n",
       "      <td>0.0</td>\n",
       "      <td>0.0</td>\n",
       "      <td>0.0</td>\n",
       "      <td>0.0</td>\n",
       "      <td>0.000000</td>\n",
       "      <td>0.0</td>\n",
       "      <td>0.0</td>\n",
       "      <td>0.0</td>\n",
       "      <td>0</td>\n",
       "    </tr>\n",
       "    <tr>\n",
       "      <th>10377</th>\n",
       "      <td>0.0</td>\n",
       "      <td>0.0</td>\n",
       "      <td>0.000000</td>\n",
       "      <td>0.000000</td>\n",
       "      <td>0.00000</td>\n",
       "      <td>0.000000</td>\n",
       "      <td>0.00000</td>\n",
       "      <td>0.000000</td>\n",
       "      <td>0.0</td>\n",
       "      <td>0.000000</td>\n",
       "      <td>...</td>\n",
       "      <td>0.0</td>\n",
       "      <td>0.0</td>\n",
       "      <td>0.0</td>\n",
       "      <td>0.0</td>\n",
       "      <td>0.0</td>\n",
       "      <td>0.000000</td>\n",
       "      <td>0.0</td>\n",
       "      <td>0.0</td>\n",
       "      <td>0.0</td>\n",
       "      <td>3</td>\n",
       "    </tr>\n",
       "    <tr>\n",
       "      <th>10378</th>\n",
       "      <td>0.0</td>\n",
       "      <td>0.0</td>\n",
       "      <td>0.000000</td>\n",
       "      <td>0.000000</td>\n",
       "      <td>0.00000</td>\n",
       "      <td>0.000000</td>\n",
       "      <td>0.00000</td>\n",
       "      <td>0.000000</td>\n",
       "      <td>0.0</td>\n",
       "      <td>0.000000</td>\n",
       "      <td>...</td>\n",
       "      <td>0.0</td>\n",
       "      <td>0.0</td>\n",
       "      <td>0.0</td>\n",
       "      <td>0.0</td>\n",
       "      <td>0.0</td>\n",
       "      <td>0.000000</td>\n",
       "      <td>0.0</td>\n",
       "      <td>0.0</td>\n",
       "      <td>0.0</td>\n",
       "      <td>3</td>\n",
       "    </tr>\n",
       "    <tr>\n",
       "      <th>10379</th>\n",
       "      <td>0.0</td>\n",
       "      <td>0.0</td>\n",
       "      <td>0.000000</td>\n",
       "      <td>0.000000</td>\n",
       "      <td>0.00000</td>\n",
       "      <td>0.000000</td>\n",
       "      <td>0.00000</td>\n",
       "      <td>0.000000</td>\n",
       "      <td>0.0</td>\n",
       "      <td>0.000000</td>\n",
       "      <td>...</td>\n",
       "      <td>0.0</td>\n",
       "      <td>0.0</td>\n",
       "      <td>0.0</td>\n",
       "      <td>0.0</td>\n",
       "      <td>0.0</td>\n",
       "      <td>0.085235</td>\n",
       "      <td>0.0</td>\n",
       "      <td>0.0</td>\n",
       "      <td>0.0</td>\n",
       "      <td>1</td>\n",
       "    </tr>\n",
       "    <tr>\n",
       "      <th>10380</th>\n",
       "      <td>0.0</td>\n",
       "      <td>0.0</td>\n",
       "      <td>0.000000</td>\n",
       "      <td>0.000000</td>\n",
       "      <td>0.00000</td>\n",
       "      <td>0.000000</td>\n",
       "      <td>0.00000</td>\n",
       "      <td>0.000000</td>\n",
       "      <td>0.0</td>\n",
       "      <td>0.000000</td>\n",
       "      <td>...</td>\n",
       "      <td>0.0</td>\n",
       "      <td>0.0</td>\n",
       "      <td>0.0</td>\n",
       "      <td>0.0</td>\n",
       "      <td>0.0</td>\n",
       "      <td>0.000000</td>\n",
       "      <td>0.0</td>\n",
       "      <td>0.0</td>\n",
       "      <td>0.0</td>\n",
       "      <td>0</td>\n",
       "    </tr>\n",
       "  </tbody>\n",
       "</table>\n",
       "<p>10381 rows × 1001 columns</p>\n",
       "</div>"
      ],
      "text/plain": [
       "        bd  com     email  email protected  email protected রক  protected  \\\n",
       "0      0.0  0.0  0.000000         0.000000             0.00000   0.000000   \n",
       "1      0.0  0.0  0.058277         0.058345             0.06273   0.058345   \n",
       "2      0.0  0.0  0.000000         0.000000             0.00000   0.000000   \n",
       "3      0.0  0.0  0.000000         0.000000             0.00000   0.000000   \n",
       "4      0.0  0.0  0.000000         0.000000             0.00000   0.000000   \n",
       "...    ...  ...       ...              ...                 ...        ...   \n",
       "10376  0.0  0.0  0.000000         0.000000             0.00000   0.000000   \n",
       "10377  0.0  0.0  0.000000         0.000000             0.00000   0.000000   \n",
       "10378  0.0  0.0  0.000000         0.000000             0.00000   0.000000   \n",
       "10379  0.0  0.0  0.000000         0.000000             0.00000   0.000000   \n",
       "10380  0.0  0.0  0.000000         0.000000             0.00000   0.000000   \n",
       "\n",
       "       protected রক  protected রক হব  www        অক  ...   ৪৫   ৫ট   ৫০  ৫০০  \\\n",
       "0           0.00000         0.000000  0.0  0.000000  ...  0.0  0.0  0.0  0.0   \n",
       "1           0.06273         0.062879  0.0  0.000000  ...  0.0  0.0  0.0  0.0   \n",
       "2           0.00000         0.000000  0.0  0.020318  ...  0.0  0.0  0.0  0.0   \n",
       "3           0.00000         0.000000  0.0  0.000000  ...  0.0  0.0  0.0  0.0   \n",
       "4           0.00000         0.000000  0.0  0.000000  ...  0.0  0.0  0.0  0.0   \n",
       "...             ...              ...  ...       ...  ...  ...  ...  ...  ...   \n",
       "10376       0.00000         0.000000  0.0  0.000000  ...  0.0  0.0  0.0  0.0   \n",
       "10377       0.00000         0.000000  0.0  0.000000  ...  0.0  0.0  0.0  0.0   \n",
       "10378       0.00000         0.000000  0.0  0.000000  ...  0.0  0.0  0.0  0.0   \n",
       "10379       0.00000         0.000000  0.0  0.000000  ...  0.0  0.0  0.0  0.0   \n",
       "10380       0.00000         0.000000  0.0  0.000000  ...  0.0  0.0  0.0  0.0   \n",
       "\n",
       "        ৬ট        ৬০   ৭০   ৮ট   ৮০  target  \n",
       "0      0.0  0.000000  0.0  0.0  0.0       1  \n",
       "1      0.0  0.000000  0.0  0.0  0.0       3  \n",
       "2      0.0  0.000000  0.0  0.0  0.0       2  \n",
       "3      0.0  0.000000  0.0  0.0  0.0       0  \n",
       "4      0.0  0.000000  0.0  0.0  0.0       0  \n",
       "...    ...       ...  ...  ...  ...     ...  \n",
       "10376  0.0  0.000000  0.0  0.0  0.0       0  \n",
       "10377  0.0  0.000000  0.0  0.0  0.0       3  \n",
       "10378  0.0  0.000000  0.0  0.0  0.0       3  \n",
       "10379  0.0  0.085235  0.0  0.0  0.0       1  \n",
       "10380  0.0  0.000000  0.0  0.0  0.0       0  \n",
       "\n",
       "[10381 rows x 1001 columns]"
      ]
     },
     "execution_count": 88,
     "metadata": {},
     "output_type": "execute_result"
    }
   ],
   "source": [
    "count_df = pd.DataFrame(X,columns=tv.get_feature_names_out()).assign(target=y)\n",
    "count_df"
   ]
  },
  {
   "cell_type": "code",
   "execution_count": 89,
   "id": "e8e0fb75",
   "metadata": {},
   "outputs": [
    {
     "data": {
      "text/plain": [
       "(10381, 1001)"
      ]
     },
     "execution_count": 89,
     "metadata": {},
     "output_type": "execute_result"
    }
   ],
   "source": [
    "count_df.shape"
   ]
  },
  {
   "cell_type": "code",
   "execution_count": 90,
   "id": "c928e987",
   "metadata": {},
   "outputs": [],
   "source": [
    "count_df.to_excel(\"jug-part-2.xlsx\", index = False, header = False)"
   ]
  },
  {
   "cell_type": "code",
   "execution_count": null,
   "id": "3543d31f",
   "metadata": {},
   "outputs": [],
   "source": []
  }
 ],
 "metadata": {
  "kernelspec": {
   "display_name": "NlP",
   "language": "python",
   "name": "nlp"
  },
  "language_info": {
   "codemirror_mode": {
    "name": "ipython",
    "version": 3
   },
   "file_extension": ".py",
   "mimetype": "text/x-python",
   "name": "python",
   "nbconvert_exporter": "python",
   "pygments_lexer": "ipython3",
   "version": "3.11.4"
  }
 },
 "nbformat": 4,
 "nbformat_minor": 5
}
