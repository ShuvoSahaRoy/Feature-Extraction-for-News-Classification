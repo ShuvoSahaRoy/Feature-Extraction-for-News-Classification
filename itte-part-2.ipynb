{
 "cells": [
  {
   "cell_type": "code",
   "execution_count": 1,
   "id": "784e90d2",
   "metadata": {},
   "outputs": [],
   "source": [
    "import pandas as pd\n",
    "import numpy as np\n",
    "import json"
   ]
  },
  {
   "cell_type": "code",
   "execution_count": 2,
   "id": "7e8994c5",
   "metadata": {},
   "outputs": [],
   "source": [
    "# Step 2: Open and Read the JSON File\n",
    "with open('D:/shuvo/bangla_news_classification/dataset/itte-part-2.json', 'r') as json_file:\n",
    "    json_data = json_file.read()\n",
    "\n",
    "# Step 3: Parse the JSON Data\n",
    "parsed_data = json.loads(json_data)"
   ]
  },
  {
   "cell_type": "code",
   "execution_count": 3,
   "id": "23f66c12",
   "metadata": {},
   "outputs": [
    {
     "name": "stdout",
     "output_type": "stream",
     "text": [
      "[{'gen_type': 'প্রবাস', 'headline': 'সংযুক্ত আরব আমিরাতে ‘বাংলা টিভির’ প্রতিষ্ঠাবার্ষিকী উদযাপন', 'additional_info': {'publisher': 'অনলাইন ডেস্ক', 'release': 'প্রকাশ : ২০ মে ২০১৯, ১৭:০৫', 'update': 'আপডেট : ২০ মে ২০১৯, ১৭:১২'}, 'body': '\\nদেশ ও বিদেশের জনপ্রিয় বাংলা স্যাটেলাইট চ্যানেল ‘বাংলা টিভি’ প্রতিষ্ঠাবার্ষিকী উদযাপন করা হয়েছে। এ উপলক্ষে রবিবার শারজাহ বিজনেস ফোরাম ও চট্টগ্রাম দক্ষিণ জেলা আওয়ামী লীগের দুবাই ও উত্তর আমিরাতের প্রবাসী শাখার সভাপতি লায়ন নজরুল ইসলাম তালুকদারের শারজাহ বাসভবনে ইফতার মাহফিলেন আয়োজন করা হয়ে। পরে সেখানে কেক কাটেন অতিথিরা।\\nলায়ন নজরুল ইসলাম তালুকদারের সভাপতিত্বে অনুষ্ঠানটি পরিচালনা করেন শেখ ফয়সাল সিদ্দিকী ববি।\\nএতে বক্তব্য দেন দুবাইয়ের বঙ্গবন্ধু পরিষদের সহ-সভাপতি ও শারজাহ বিজনেস ফোরামের সাধারণ সম্পাদক সামস আহাম্মদ, শারজাহ্\\xa0 মিউজিক ভিশনের সভাপতি ও জাতীয় কবিতা মঞ্চের মহিলা সম্পাদিকা শবনম আক্তার, শিবলী সাদিক, সিরাজুল হক. মহিউল করিম আশিক, কমিউনিটির নেতা আজিজুল ইসলাম কিরন, এস রহমান সোহেল, সানজিদা ইসলাম, ওসমান চৌধুরী, মোহাম্মদ নাঈম সাইফসহ অনেকেই।\\nআরও পড়ুন:\\xa0কাজের গতি বাড়াতেই মন্ত্রিসভায় পরিবর্তন আনা হয়েছে: কাদের\\nএছাড়া অনুষ্ঠানে সংযুক্ত আরব আমিরাতে বসবাসরত প্রবাসী পরিবারের ভাবীরাসহ বিভিন্ন কমিউনিটির ব্যক্তি, সাংস্কৃতিক ব্যক্তিসহ প্রবাসীরা উপস্থিত ছিলেন।\\nপ্রসঙ্গত. বাংলা টিভি ১৯৯৮ সালে প্রথম সম্প্রচার শুরু করে ইংল্যান্ডের লন্ডন থেকে। প্রথম থেকে শুরু করলে বাংলা টিভির ২১ বছর পূর্ণ হতে চলেছে। নিজ ভূমি বাংলাদেশ আসে ১৯মে ২০১৭ সালে।\\nইত্তেফাক/বিএএফ\\n', 'tags': [], 'url': 'https://www.ittefaq.com.bd/55706'}, {'gen_type': 'জাতীয়', 'headline': 'বাংলাদেশে সবাই স্বাধীনভাবে ধর্ম পালন করবে: প্রধানমন্ত্রী', 'additional_info': {'publisher': 'অনলাইন ডেস্ক', 'release': 'প্রকাশ : ২০ মে ২০১৯, ১৭:০০', 'update': 'আপডেট : ২০ মে ২০১৯, ১৬:৫৮'}, 'body': \"\\nপ্রধানমন্ত্রী শেখ হাসিনা বলেছেন, 'এ দেশে বসবাসকারী সবাই সম্মানের সঙ্গে স্বাধীনভাবে নিজ নিজ ধর্ম পালন করবে, এটাই তার সরকারের চাওয়া।' সোমবার গণভবনে বৌদ্ধপূর্ণিমা উপলক্ষে বৌদ্ধ ধর্মালম্বীদের সঙ্গে শুভেচ্ছা বিনিময় অনুষ্ঠানে তিনি এ কথা বলেন। এ সময় দেশে সব ধর্মের মানুষ যেন শান্তিপূর্ণভাবে, সম্মানের সঙ্গে এবং স্বাধীনভাবে ধর্ম পালন করতে পারে তা নিশ্চিত করতে সরকারের নেওয়া বিভিন্ন পদক্ষেপ ও সফলতার কথা তুলে ধরেন।\\nতিনি বলেন, 'সব ধর্মই শান্তির কথা বলে। এটাই বিশ্বাস করি যে, ধর্ম যার যার, উৎসব সবার এবং এভাবেই বাংলাদেশে উৎসবগুলো পালন করা হয়। যে ধর্মের উৎসবই হোক, সবাই মিলেই কিন্তু সেটা উদযাপন করে। ধর্ম নিয়ে বাড়াবাড়ি কখনোই গ্রহণযোগ্য নয়। বাংলাদেশ সাম্প্রদায়িক সম্প্রীতিতে বিশ্বে দৃষ্টান্ত স্থাপন। সহনশীলতা ও এই ভাতৃত্ববোধ সবার মধ্যে থাকুক। যেকোনো সম্প্রদায় যেন নিজেদের অবহেলিত মনে না করে।'\\nসন্ত্রাসী ও জঙ্গি কর্মকাণ্ডের নিন্দা জানিয়ে তিনি বলেন, 'সন্ত্রাস-জঙ্গিবাদ এগুলো এখন সারা বিশ্বে সমস্যা হিসেবে দেখা দিয়েছে। আসলে জঙ্গি জঙ্গিই, তাদের কোনো ধর্ম নাই, দেশ নাই, সমাজ নাই। তারা জঙ্গিই এটাই হল বাস্তবতা। সেই জায়গা থেকে বাংলাদেশকে মুক্ত রেখে আমরা অর্থনৈতিক অগ্রগতি তরান্বিত করতে চাই। দেশের মানুষের ভাগ্য পরিবর্তন করা, ধর্ম-বর্ণ, দল-মত নির্বিশেষে সকল মানুষেরই জীবনমান উন্নত হোক সেটাই আমরা চাই।'\\nআরও পড়ুন:\\xa0 দেশে আইএস’র কোন হুমকি নেই: র\\u200c্যাব ডিজি\\nএ সময় উন্নত-সমৃদ্ধ দেশ গড়ার প্রত্যয় ব্যক্ত বঙ্গবন্ধু কন্যা শেখ হাসিনা। একই সঙ্গে দেশকে সম্পূর্ণরূপে দারিদ্র্যমুক্ত করতে তার সরকার কাজ করে যাচ্ছে বলেও উল্লেখ করেন তিনি।\\nইত্তেফাক/জেডএইচডি\\n\", 'tags': [], 'url': 'https://www.ittefaq.com.bd/55705'}]\n"
     ]
    }
   ],
   "source": [
    "# Step 4: Print the Content\n",
    "print(parsed_data[:2])"
   ]
  },
  {
   "cell_type": "code",
   "execution_count": 4,
   "id": "473f1d78",
   "metadata": {},
   "outputs": [
    {
     "data": {
      "text/html": [
       "<div>\n",
       "<style scoped>\n",
       "    .dataframe tbody tr th:only-of-type {\n",
       "        vertical-align: middle;\n",
       "    }\n",
       "\n",
       "    .dataframe tbody tr th {\n",
       "        vertical-align: top;\n",
       "    }\n",
       "\n",
       "    .dataframe thead th {\n",
       "        text-align: right;\n",
       "    }\n",
       "</style>\n",
       "<table border=\"1\" class=\"dataframe\">\n",
       "  <thead>\n",
       "    <tr style=\"text-align: right;\">\n",
       "      <th></th>\n",
       "      <th>gen_type</th>\n",
       "      <th>headline</th>\n",
       "      <th>additional_info</th>\n",
       "      <th>body</th>\n",
       "      <th>tags</th>\n",
       "      <th>url</th>\n",
       "    </tr>\n",
       "  </thead>\n",
       "  <tbody>\n",
       "    <tr>\n",
       "      <th>0</th>\n",
       "      <td>প্রবাস</td>\n",
       "      <td>সংযুক্ত আরব আমিরাতে ‘বাংলা টিভির’ প্রতিষ্ঠাবার...</td>\n",
       "      <td>{'publisher': 'অনলাইন ডেস্ক', 'release': 'প্রক...</td>\n",
       "      <td>\\nদেশ ও বিদেশের জনপ্রিয় বাংলা স্যাটেলাইট চ্যা...</td>\n",
       "      <td>[]</td>\n",
       "      <td>https://www.ittefaq.com.bd/55706</td>\n",
       "    </tr>\n",
       "    <tr>\n",
       "      <th>1</th>\n",
       "      <td>জাতীয়</td>\n",
       "      <td>বাংলাদেশে সবাই স্বাধীনভাবে ধর্ম পালন করবে: প্র...</td>\n",
       "      <td>{'publisher': 'অনলাইন ডেস্ক', 'release': 'প্রক...</td>\n",
       "      <td>\\nপ্রধানমন্ত্রী শেখ হাসিনা বলেছেন, 'এ দেশে বসব...</td>\n",
       "      <td>[]</td>\n",
       "      <td>https://www.ittefaq.com.bd/55705</td>\n",
       "    </tr>\n",
       "    <tr>\n",
       "      <th>2</th>\n",
       "      <td>সারাদেশ</td>\n",
       "      <td>জয়পুরহাটে চেয়ারম্যান আজাদ হত্যা মামলার ১ আসামি...</td>\n",
       "      <td>{'publisher': 'জয়পুরহাট প্রতিনিধি', 'release':...</td>\n",
       "      <td>\\nসদরের ভাদশা ইউনিয়নের চেয়ারম্যান আজাদ হত্যা ম...</td>\n",
       "      <td>[]</td>\n",
       "      <td>https://www.ittefaq.com.bd/55704</td>\n",
       "    </tr>\n",
       "    <tr>\n",
       "      <th>3</th>\n",
       "      <td>সারাদেশ</td>\n",
       "      <td>এলোপাথাড়ী ছুরিকাঘাতে স্ত্রী খুন</td>\n",
       "      <td>{'publisher': None, 'release': 'প্রকাশ : ২০ মে...</td>\n",
       "      <td>\\nকুমিল্লায় পারিবারিক কলহের জেরে স্বামীর এলোপা...</td>\n",
       "      <td>[]</td>\n",
       "      <td>https://www.ittefaq.com.bd/55703</td>\n",
       "    </tr>\n",
       "    <tr>\n",
       "      <th>4</th>\n",
       "      <td>সারাদেশ</td>\n",
       "      <td>আড়াইহাজারে দেওয়াল চাপা পড়ে নির্মাণ শ্রমিকের মৃ...</td>\n",
       "      <td>{'publisher': 'আড়াইহাজার (নারায়ণগঞ্জ) সংবাদদাত...</td>\n",
       "      <td>\\nআড়াইহাজারে দেয়ালের নিচে চাপা পড়ে রিফাত ( ৩৫)...</td>\n",
       "      <td>[]</td>\n",
       "      <td>https://www.ittefaq.com.bd/55702</td>\n",
       "    </tr>\n",
       "    <tr>\n",
       "      <th>...</th>\n",
       "      <td>...</td>\n",
       "      <td>...</td>\n",
       "      <td>...</td>\n",
       "      <td>...</td>\n",
       "      <td>...</td>\n",
       "      <td>...</td>\n",
       "    </tr>\n",
       "    <tr>\n",
       "      <th>91749</th>\n",
       "      <td>সারাদেশ</td>\n",
       "      <td>অরক্ষিত রেলক্রসিং: কুমিল্লায় ট্রেনের ধাক্কায় ম...</td>\n",
       "      <td>{'publisher': 'কুমিল্লা প্রতিনিধি', 'release':...</td>\n",
       "      <td>\\n   কুমিল্লায় অরক্ষিত রেলক্রসিংয়ের ওপর মাইক্র...</td>\n",
       "      <td>[]</td>\n",
       "      <td>https://www.ittefaq.com.bd/442682</td>\n",
       "    </tr>\n",
       "    <tr>\n",
       "      <th>91750</th>\n",
       "      <td>অন্যান্য</td>\n",
       "      <td>লালনের তিরোধান দিবসে আখড়াবাড়ি রূপ নিয়েছে মিলনম...</td>\n",
       "      <td>{'publisher': 'অনলাইন ডেস্ক ', 'release': 'প্র...</td>\n",
       "      <td>\\n কুষ্টিয়া জেলার কুমারখালীর ছেউড়িয়ায় আধ্যাত্ম...</td>\n",
       "      <td>[]</td>\n",
       "      <td>https://www.ittefaq.com.bd/442681</td>\n",
       "    </tr>\n",
       "    <tr>\n",
       "      <th>91751</th>\n",
       "      <td>বিশ্ব সংবাদ</td>\n",
       "      <td>দক্ষিণ কোরিয়া সফরে যাচ্ছেন ট্রাম্প</td>\n",
       "      <td>{'publisher': 'অনলাইন ডেস্ক', 'release': 'প্রক...</td>\n",
       "      <td>\\n   মার্কিন প্রেসিডেন্ট ডোনাল্ড ট্রাম্প দুই দ...</td>\n",
       "      <td>[]</td>\n",
       "      <td>https://www.ittefaq.com.bd/442680</td>\n",
       "    </tr>\n",
       "    <tr>\n",
       "      <th>91752</th>\n",
       "      <td>অন্যান্য</td>\n",
       "      <td>‘নজরুলকে নিয়ে একাধিক তথ্যচিত্র হওয়া প্রয়োজন’</td>\n",
       "      <td>{'publisher': 'অনলাইন ডেস্ক ', 'release': 'প্র...</td>\n",
       "      <td>\\n   সংস্কৃতি বিষয়ক মন্ত্রী আসাদুজ্জামান নূর ব...</td>\n",
       "      <td>[]</td>\n",
       "      <td>https://www.ittefaq.com.bd/442679</td>\n",
       "    </tr>\n",
       "    <tr>\n",
       "      <th>91753</th>\n",
       "      <td>বিনোদন</td>\n",
       "      <td>আগামি সপ্তাহেই শেষ হচ্ছে কেবিসির নবম আসর</td>\n",
       "      <td>{'publisher': 'অনলাইন ডেস্ক', 'release': 'প্রক...</td>\n",
       "      <td>\\n ২৮ অগস্ট শুরু হয়েছিল কৌন বনেগা ক্রোড়পতির ন...</td>\n",
       "      <td>[]</td>\n",
       "      <td>https://www.ittefaq.com.bd/442678</td>\n",
       "    </tr>\n",
       "  </tbody>\n",
       "</table>\n",
       "<p>91754 rows × 6 columns</p>\n",
       "</div>"
      ],
      "text/plain": [
       "          gen_type                                           headline  \\\n",
       "0           প্রবাস  সংযুক্ত আরব আমিরাতে ‘বাংলা টিভির’ প্রতিষ্ঠাবার...   \n",
       "1            জাতীয়  বাংলাদেশে সবাই স্বাধীনভাবে ধর্ম পালন করবে: প্র...   \n",
       "2          সারাদেশ  জয়পুরহাটে চেয়ারম্যান আজাদ হত্যা মামলার ১ আসামি...   \n",
       "3          সারাদেশ                    এলোপাথাড়ী ছুরিকাঘাতে স্ত্রী খুন   \n",
       "4          সারাদেশ  আড়াইহাজারে দেওয়াল চাপা পড়ে নির্মাণ শ্রমিকের মৃ...   \n",
       "...            ...                                                ...   \n",
       "91749      সারাদেশ  অরক্ষিত রেলক্রসিং: কুমিল্লায় ট্রেনের ধাক্কায় ম...   \n",
       "91750     অন্যান্য  লালনের তিরোধান দিবসে আখড়াবাড়ি রূপ নিয়েছে মিলনম...   \n",
       "91751  বিশ্ব সংবাদ                 দক্ষিণ কোরিয়া সফরে যাচ্ছেন ট্রাম্প   \n",
       "91752     অন্যান্য    ‘নজরুলকে নিয়ে একাধিক তথ্যচিত্র হওয়া প্রয়োজন’   \n",
       "91753       বিনোদন           আগামি সপ্তাহেই শেষ হচ্ছে কেবিসির নবম আসর   \n",
       "\n",
       "                                         additional_info  \\\n",
       "0      {'publisher': 'অনলাইন ডেস্ক', 'release': 'প্রক...   \n",
       "1      {'publisher': 'অনলাইন ডেস্ক', 'release': 'প্রক...   \n",
       "2      {'publisher': 'জয়পুরহাট প্রতিনিধি', 'release':...   \n",
       "3      {'publisher': None, 'release': 'প্রকাশ : ২০ মে...   \n",
       "4      {'publisher': 'আড়াইহাজার (নারায়ণগঞ্জ) সংবাদদাত...   \n",
       "...                                                  ...   \n",
       "91749  {'publisher': 'কুমিল্লা প্রতিনিধি', 'release':...   \n",
       "91750  {'publisher': 'অনলাইন ডেস্ক ', 'release': 'প্র...   \n",
       "91751  {'publisher': 'অনলাইন ডেস্ক', 'release': 'প্রক...   \n",
       "91752  {'publisher': 'অনলাইন ডেস্ক ', 'release': 'প্র...   \n",
       "91753  {'publisher': 'অনলাইন ডেস্ক', 'release': 'প্রক...   \n",
       "\n",
       "                                                    body tags  \\\n",
       "0      \\nদেশ ও বিদেশের জনপ্রিয় বাংলা স্যাটেলাইট চ্যা...   []   \n",
       "1      \\nপ্রধানমন্ত্রী শেখ হাসিনা বলেছেন, 'এ দেশে বসব...   []   \n",
       "2      \\nসদরের ভাদশা ইউনিয়নের চেয়ারম্যান আজাদ হত্যা ম...   []   \n",
       "3      \\nকুমিল্লায় পারিবারিক কলহের জেরে স্বামীর এলোপা...   []   \n",
       "4      \\nআড়াইহাজারে দেয়ালের নিচে চাপা পড়ে রিফাত ( ৩৫)...   []   \n",
       "...                                                  ...  ...   \n",
       "91749  \\n   কুমিল্লায় অরক্ষিত রেলক্রসিংয়ের ওপর মাইক্র...   []   \n",
       "91750  \\n কুষ্টিয়া জেলার কুমারখালীর ছেউড়িয়ায় আধ্যাত্ম...   []   \n",
       "91751  \\n   মার্কিন প্রেসিডেন্ট ডোনাল্ড ট্রাম্প দুই দ...   []   \n",
       "91752  \\n   সংস্কৃতি বিষয়ক মন্ত্রী আসাদুজ্জামান নূর ব...   []   \n",
       "91753  \\n ২৮ অগস্ট শুরু হয়েছিল কৌন বনেগা ক্রোড়পতির ন...   []   \n",
       "\n",
       "                                     url  \n",
       "0       https://www.ittefaq.com.bd/55706  \n",
       "1       https://www.ittefaq.com.bd/55705  \n",
       "2       https://www.ittefaq.com.bd/55704  \n",
       "3       https://www.ittefaq.com.bd/55703  \n",
       "4       https://www.ittefaq.com.bd/55702  \n",
       "...                                  ...  \n",
       "91749  https://www.ittefaq.com.bd/442682  \n",
       "91750  https://www.ittefaq.com.bd/442681  \n",
       "91751  https://www.ittefaq.com.bd/442680  \n",
       "91752  https://www.ittefaq.com.bd/442679  \n",
       "91753  https://www.ittefaq.com.bd/442678  \n",
       "\n",
       "[91754 rows x 6 columns]"
      ]
     },
     "execution_count": 4,
     "metadata": {},
     "output_type": "execute_result"
    }
   ],
   "source": [
    "# Step 2: Create a DataFrame from JSON Data\n",
    "df = pd.DataFrame(parsed_data)\n",
    "df"
   ]
  },
  {
   "cell_type": "code",
   "execution_count": 5,
   "id": "3977bd57",
   "metadata": {},
   "outputs": [
    {
     "data": {
      "text/plain": [
       "((91754, 6),\n",
       " Index(['gen_type', 'headline', 'additional_info', 'body', 'tags', 'url'], dtype='object'))"
      ]
     },
     "execution_count": 5,
     "metadata": {},
     "output_type": "execute_result"
    }
   ],
   "source": [
    "df.shape, df.columns"
   ]
  },
  {
   "cell_type": "code",
   "execution_count": 6,
   "id": "ade066de",
   "metadata": {
    "scrolled": true
   },
   "outputs": [
    {
     "data": {
      "text/plain": [
       "(17,\n",
       " 91258,\n",
       "   gen_type                                               body\n",
       " 0   প্রবাস  \\nদেশ ও বিদেশের জনপ্রিয় বাংলা স্যাটেলাইট চ্যা...\n",
       " 1    জাতীয়  \\nপ্রধানমন্ত্রী শেখ হাসিনা বলেছেন, 'এ দেশে বসব...\n",
       " 2  সারাদেশ  \\nসদরের ভাদশা ইউনিয়নের চেয়ারম্যান আজাদ হত্যা ম...\n",
       " 3  সারাদেশ  \\nকুমিল্লায় পারিবারিক কলহের জেরে স্বামীর এলোপা...\n",
       " 4  সারাদেশ  \\nআড়াইহাজারে দেয়ালের নিচে চাপা পড়ে রিফাত ( ৩৫)...)"
      ]
     },
     "execution_count": 6,
     "metadata": {},
     "output_type": "execute_result"
    }
   ],
   "source": [
    "df = df[['gen_type', 'body']]\n",
    "len(df['gen_type'].unique()),len(df['body'].unique()),df.head()"
   ]
  },
  {
   "cell_type": "code",
   "execution_count": 7,
   "id": "05329400",
   "metadata": {
    "scrolled": true
   },
   "outputs": [
    {
     "name": "stderr",
     "output_type": "stream",
     "text": [
      "C:\\Users\\SSROY\\AppData\\Local\\Temp\\ipykernel_4180\\3287021994.py:1: SettingWithCopyWarning: \n",
      "A value is trying to be set on a copy of a slice from a DataFrame\n",
      "\n",
      "See the caveats in the documentation: https://pandas.pydata.org/pandas-docs/stable/user_guide/indexing.html#returning-a-view-versus-a-copy\n",
      "  df.dropna(inplace=True)\n",
      "C:\\Users\\SSROY\\AppData\\Local\\Temp\\ipykernel_4180\\3287021994.py:3: SettingWithCopyWarning: \n",
      "A value is trying to be set on a copy of a slice from a DataFrame\n",
      "\n",
      "See the caveats in the documentation: https://pandas.pydata.org/pandas-docs/stable/user_guide/indexing.html#returning-a-view-versus-a-copy\n",
      "  df.drop_duplicates(subset='body', keep='first',inplace=True)\n"
     ]
    },
    {
     "data": {
      "text/plain": [
       "(  gen_type                                               body\n",
       " 0   প্রবাস  \\nদেশ ও বিদেশের জনপ্রিয় বাংলা স্যাটেলাইট চ্যা...\n",
       " 1    জাতীয়  \\nপ্রধানমন্ত্রী শেখ হাসিনা বলেছেন, 'এ দেশে বসব...\n",
       " 2  সারাদেশ  \\nসদরের ভাদশা ইউনিয়নের চেয়ারম্যান আজাদ হত্যা ম...\n",
       " 3  সারাদেশ  \\nকুমিল্লায় পারিবারিক কলহের জেরে স্বামীর এলোপা...\n",
       " 4  সারাদেশ  \\nআড়াইহাজারে দেয়ালের নিচে চাপা পড়ে রিফাত ( ৩৫)...,\n",
       " (91258, 2))"
      ]
     },
     "execution_count": 7,
     "metadata": {},
     "output_type": "execute_result"
    }
   ],
   "source": [
    "df.dropna(inplace=True)\n",
    "# Remove duplicates in 'body' column, keeping the first occurrence\n",
    "df.drop_duplicates(subset='body', keep='first',inplace=True)\n",
    "df.reset_index(inplace=True, drop=True)\n",
    "df.head(), df.shape"
   ]
  },
  {
   "cell_type": "code",
   "execution_count": 8,
   "id": "4b3aff87",
   "metadata": {},
   "outputs": [
    {
     "data": {
      "text/plain": [
       "(91258, 9125, 17)"
      ]
     },
     "execution_count": 8,
     "metadata": {},
     "output_type": "execute_result"
    }
   ],
   "source": [
    "n = len(df['body'].unique())\n",
    "unique_label = len(df['gen_type'].unique())\n",
    "m = int(n* 0.1)\n",
    "n,m,unique_label"
   ]
  },
  {
   "cell_type": "code",
   "execution_count": 9,
   "id": "22cc4654",
   "metadata": {
    "scrolled": true
   },
   "outputs": [
    {
     "data": {
      "text/plain": [
       "array(['প্রবাস', 'জাতীয়', 'সারাদেশ', 'রাজনীতি', 'খেলা', 'বিশ্ব সংবাদ',\n",
       "       'টেক', 'বিনোদন', 'রাজধানী', 'শিক্ষা', 'ফিচার', 'অন্যান্য',\n",
       "       'বাণিজ্য', 'ধর্ম', 'লাইফস্টাইল', 'মতামত', 'আমেরিকা'], dtype=object)"
      ]
     },
     "execution_count": 9,
     "metadata": {},
     "output_type": "execute_result"
    }
   ],
   "source": [
    "df['gen_type'].unique()"
   ]
  },
  {
   "cell_type": "code",
   "execution_count": 10,
   "id": "2b31051c",
   "metadata": {},
   "outputs": [],
   "source": [
    "# df = df.sample(m, replace=False)\n",
    "# df.reset_index(inplace=True)\n",
    "# # df.drop(['level_0', 'index'], inplace = True)\n",
    "# df"
   ]
  },
  {
   "cell_type": "code",
   "execution_count": 11,
   "id": "7f8bfb89",
   "metadata": {},
   "outputs": [
    {
     "name": "stdout",
     "output_type": "stream",
     "text": [
      "\n",
      "দেশ ও বিদেশের জনপ্রিয় বাংলা স্যাটেলাইট চ্যানেল ‘বাংলা টিভি’ প্রতিষ্ঠাবার্ষিকী উদযাপন করা হয়েছে। এ উপলক্ষে রবিবার শারজাহ বিজনেস ফোরাম ও চট্টগ্রাম দক্ষিণ জেলা আওয়ামী লীগের দুবাই ও উত্তর আমিরাতের প্রবাসী শাখার সভাপতি লায়ন নজরুল ইসলাম তালুকদারের শারজাহ বাসভবনে ইফতার মাহফিলেন আয়োজন করা হয়ে। পরে সেখানে কেক কাটেন অতিথিরা।\n",
      "লায়ন নজরুল ইসলাম তালুকদারের সভাপতিত্বে অনুষ্ঠানটি পরিচালনা করেন শেখ ফয়সাল সিদ্দিকী ববি।\n",
      "এতে বক্তব্য দেন দুবাইয়ের বঙ্গবন্ধু পরিষদের সহ-সভাপতি ও শারজাহ বিজনেস ফোরামের সাধারণ সম্পাদক সামস আহাম্মদ, শারজাহ্  মিউজিক ভিশনের সভাপতি ও জাতীয় কবিতা মঞ্চের মহিলা সম্পাদিকা শবনম আক্তার, শিবলী সাদিক, সিরাজুল হক. মহিউল করিম আশিক, কমিউনিটির নেতা আজিজুল ইসলাম কিরন, এস রহমান সোহেল, সানজিদা ইসলাম, ওসমান চৌধুরী, মোহাম্মদ নাঈম সাইফসহ অনেকেই।\n",
      "আরও পড়ুন: কাজের গতি বাড়াতেই মন্ত্রিসভায় পরিবর্তন আনা হয়েছে: কাদের\n",
      "এছাড়া অনুষ্ঠানে সংযুক্ত আরব আমিরাতে বসবাসরত প্রবাসী পরিবারের ভাবীরাসহ বিভিন্ন কমিউনিটির ব্যক্তি, সাংস্কৃতিক ব্যক্তিসহ প্রবাসীরা উপস্থিত ছিলেন।\n",
      "প্রসঙ্গত. বাংলা টিভি ১৯৯৮ সালে প্রথম সম্প্রচার শুরু করে ইংল্যান্ডের লন্ডন থেকে। প্রথম থেকে শুরু করলে বাংলা টিভির ২১ বছর পূর্ণ হতে চলেছে। নিজ ভূমি বাংলাদেশ আসে ১৯মে ২০১৭ সালে।\n",
      "ইত্তেফাক/বিএএফ\n",
      "\n"
     ]
    }
   ],
   "source": [
    "# Print the content of the first 'body' entry\n",
    "first_body_content = df.loc[0, 'body']\n",
    "print(first_body_content)"
   ]
  },
  {
   "cell_type": "code",
   "execution_count": 12,
   "id": "b724eea7",
   "metadata": {
    "scrolled": false
   },
   "outputs": [
    {
     "data": {
      "text/plain": [
       "অন্যান্য       27877\n",
       "সারাদেশ        21576\n",
       "বিশ্ব সংবাদ     9905\n",
       "জাতীয়           8068\n",
       "খেলা            5732\n",
       "রাজনীতি         3992\n",
       "রাজধানী         3151\n",
       "বিনোদন          2951\n",
       "ফিচার           2585\n",
       "শিক্ষা          1792\n",
       "প্রবাস          1062\n",
       "টেক              964\n",
       "বাণিজ্য          911\n",
       "লাইফস্টাইল       680\n",
       "ধর্ম              10\n",
       "মতামত              1\n",
       "আমেরিকা            1\n",
       "Name: gen_type, dtype: int64"
      ]
     },
     "execution_count": 12,
     "metadata": {},
     "output_type": "execute_result"
    }
   ],
   "source": [
    "gen_type_counts = df['gen_type'].value_counts()\n",
    "gen_type_counts"
   ]
  },
  {
   "cell_type": "code",
   "execution_count": 13,
   "id": "cee3d341",
   "metadata": {},
   "outputs": [
    {
     "name": "stdout",
     "output_type": "stream",
     "text": [
      "4\n",
      "Randomly selected gen_type values:\n",
      "['বিনোদন' 'টেক' 'বাণিজ্য' 'শিক্ষা']\n"
     ]
    }
   ],
   "source": [
    "import random\n",
    "# Filter gen_type values based on count criteria\n",
    "filtered_gen_types = gen_type_counts[(gen_type_counts > 500) & (gen_type_counts < 3000)]\n",
    "\n",
    "random_classes_number = random.randint(3, 6)\n",
    "print(random_classes_number)\n",
    "# Ensure we have at least 5 gen_type values that meet the criteria\n",
    "if len(filtered_gen_types) >= random_classes_number:\n",
    "    # Randomly select 5 gen_type values from the filtered list\n",
    "    random_gen_types = np.random.choice(filtered_gen_types.index, random_classes_number, replace=False)\n",
    "    print(\"Randomly selected gen_type values:\")\n",
    "    print(random_gen_types)\n",
    "else:\n",
    "    print(\"Not enough gen_type values meeting the criteria.\")"
   ]
  },
  {
   "cell_type": "code",
   "execution_count": 14,
   "id": "776a6376",
   "metadata": {},
   "outputs": [
    {
     "data": {
      "text/html": [
       "<div>\n",
       "<style scoped>\n",
       "    .dataframe tbody tr th:only-of-type {\n",
       "        vertical-align: middle;\n",
       "    }\n",
       "\n",
       "    .dataframe tbody tr th {\n",
       "        vertical-align: top;\n",
       "    }\n",
       "\n",
       "    .dataframe thead th {\n",
       "        text-align: right;\n",
       "    }\n",
       "</style>\n",
       "<table border=\"1\" class=\"dataframe\">\n",
       "  <thead>\n",
       "    <tr style=\"text-align: right;\">\n",
       "      <th></th>\n",
       "      <th>gen_type</th>\n",
       "      <th>body</th>\n",
       "    </tr>\n",
       "  </thead>\n",
       "  <tbody>\n",
       "    <tr>\n",
       "      <th>0</th>\n",
       "      <td>টেক</td>\n",
       "      <td>\\nএবার চীনা টেলিকমিউনিকেশন জায়ান্ট হুয়াওয়ের ওপ...</td>\n",
       "    </tr>\n",
       "    <tr>\n",
       "      <th>1</th>\n",
       "      <td>বিনোদন</td>\n",
       "      <td>\\nঈদ উপলক্ষে ১৩ মে থেকে শুটিং শুরু হয়েছে এস এ ...</td>\n",
       "    </tr>\n",
       "    <tr>\n",
       "      <th>2</th>\n",
       "      <td>শিক্ষা</td>\n",
       "      <td>\\nছাত্রলীগের পদবঞ্চিত নেতাকর্মীরা তাদের আন্দোল...</td>\n",
       "    </tr>\n",
       "    <tr>\n",
       "      <th>3</th>\n",
       "      <td>টেক</td>\n",
       "      <td>\\nআবারো সামাজিক যোগাযোগ মাধ্যম ফেসবুকের নিউজ ফ...</td>\n",
       "    </tr>\n",
       "    <tr>\n",
       "      <th>4</th>\n",
       "      <td>বিনোদন</td>\n",
       "      <td>\\nসারাবিশ্বের তারকাদের মিলনমেলা এখন ‘কান চলচ্চ...</td>\n",
       "    </tr>\n",
       "    <tr>\n",
       "      <th>...</th>\n",
       "      <td>...</td>\n",
       "      <td>...</td>\n",
       "    </tr>\n",
       "    <tr>\n",
       "      <th>6613</th>\n",
       "      <td>বিনোদন</td>\n",
       "      <td>\\n ঘটনাটা গত ১৫ অক্টোবরের। ঢাকার উত্তরার ‘স্ক্...</td>\n",
       "    </tr>\n",
       "    <tr>\n",
       "      <th>6614</th>\n",
       "      <td>বিনোদন</td>\n",
       "      <td>\\n অসংখ্য অভিনেত্রীকে যৌন নিপীড়নের অভিযোগে নি...</td>\n",
       "    </tr>\n",
       "    <tr>\n",
       "      <th>6615</th>\n",
       "      <td>বাণিজ্য</td>\n",
       "      <td>\\n মিয়ানমার থেকে আগত রোহিঙ্গাদের সহায়তায় প্রধা...</td>\n",
       "    </tr>\n",
       "    <tr>\n",
       "      <th>6616</th>\n",
       "      <td>টেক</td>\n",
       "      <td>\\n এখন থেকে অ্যাকাউন্ট ওপেনের জন্য বা অ্যাকাউন...</td>\n",
       "    </tr>\n",
       "    <tr>\n",
       "      <th>6617</th>\n",
       "      <td>বিনোদন</td>\n",
       "      <td>\\n ২৮ অগস্ট শুরু হয়েছিল কৌন বনেগা ক্রোড়পতির ন...</td>\n",
       "    </tr>\n",
       "  </tbody>\n",
       "</table>\n",
       "<p>6618 rows × 2 columns</p>\n",
       "</div>"
      ],
      "text/plain": [
       "     gen_type                                               body\n",
       "0         টেক  \\nএবার চীনা টেলিকমিউনিকেশন জায়ান্ট হুয়াওয়ের ওপ...\n",
       "1      বিনোদন  \\nঈদ উপলক্ষে ১৩ মে থেকে শুটিং শুরু হয়েছে এস এ ...\n",
       "2      শিক্ষা  \\nছাত্রলীগের পদবঞ্চিত নেতাকর্মীরা তাদের আন্দোল...\n",
       "3         টেক  \\nআবারো সামাজিক যোগাযোগ মাধ্যম ফেসবুকের নিউজ ফ...\n",
       "4      বিনোদন  \\nসারাবিশ্বের তারকাদের মিলনমেলা এখন ‘কান চলচ্চ...\n",
       "...       ...                                                ...\n",
       "6613   বিনোদন  \\n ঘটনাটা গত ১৫ অক্টোবরের। ঢাকার উত্তরার ‘স্ক্...\n",
       "6614   বিনোদন  \\n অসংখ্য অভিনেত্রীকে যৌন নিপীড়নের অভিযোগে নি...\n",
       "6615  বাণিজ্য  \\n মিয়ানমার থেকে আগত রোহিঙ্গাদের সহায়তায় প্রধা...\n",
       "6616      টেক  \\n এখন থেকে অ্যাকাউন্ট ওপেনের জন্য বা অ্যাকাউন...\n",
       "6617   বিনোদন  \\n ২৮ অগস্ট শুরু হয়েছিল কৌন বনেগা ক্রোড়পতির ন...\n",
       "\n",
       "[6618 rows x 2 columns]"
      ]
     },
     "execution_count": 14,
     "metadata": {},
     "output_type": "execute_result"
    }
   ],
   "source": [
    "# Create a list of specific categories\n",
    "categories = random_gen_types\n",
    "\n",
    "# Use boolean indexing to filter rows based on the 'Section' column\n",
    "df = df[df['gen_type'].isin(categories)]\n",
    "df.reset_index(inplace=True, drop=True)\n",
    "# Print the new DataFrame\n",
    "df"
   ]
  },
  {
   "cell_type": "code",
   "execution_count": 15,
   "id": "a5b6f13c",
   "metadata": {},
   "outputs": [
    {
     "data": {
      "text/plain": [
       "বিনোদন     2951\n",
       "শিক্ষা     1792\n",
       "টেক         964\n",
       "বাণিজ্য     911\n",
       "Name: gen_type, dtype: int64"
      ]
     },
     "execution_count": 15,
     "metadata": {},
     "output_type": "execute_result"
    }
   ],
   "source": [
    "df['gen_type'].value_counts()"
   ]
  },
  {
   "cell_type": "code",
   "execution_count": 16,
   "id": "b595265a",
   "metadata": {},
   "outputs": [
    {
     "data": {
      "text/html": [
       "<div>\n",
       "<style scoped>\n",
       "    .dataframe tbody tr th:only-of-type {\n",
       "        vertical-align: middle;\n",
       "    }\n",
       "\n",
       "    .dataframe tbody tr th {\n",
       "        vertical-align: top;\n",
       "    }\n",
       "\n",
       "    .dataframe thead th {\n",
       "        text-align: right;\n",
       "    }\n",
       "</style>\n",
       "<table border=\"1\" class=\"dataframe\">\n",
       "  <thead>\n",
       "    <tr style=\"text-align: right;\">\n",
       "      <th></th>\n",
       "      <th>gen_type</th>\n",
       "      <th>body</th>\n",
       "    </tr>\n",
       "  </thead>\n",
       "  <tbody>\n",
       "    <tr>\n",
       "      <th>0</th>\n",
       "      <td>Technology</td>\n",
       "      <td>\\nএবার চীনা টেলিকমিউনিকেশন জায়ান্ট হুয়াওয়ের ওপ...</td>\n",
       "    </tr>\n",
       "    <tr>\n",
       "      <th>1</th>\n",
       "      <td>Entertainment</td>\n",
       "      <td>\\nঈদ উপলক্ষে ১৩ মে থেকে শুটিং শুরু হয়েছে এস এ ...</td>\n",
       "    </tr>\n",
       "    <tr>\n",
       "      <th>2</th>\n",
       "      <td>Education</td>\n",
       "      <td>\\nছাত্রলীগের পদবঞ্চিত নেতাকর্মীরা তাদের আন্দোল...</td>\n",
       "    </tr>\n",
       "    <tr>\n",
       "      <th>3</th>\n",
       "      <td>Technology</td>\n",
       "      <td>\\nআবারো সামাজিক যোগাযোগ মাধ্যম ফেসবুকের নিউজ ফ...</td>\n",
       "    </tr>\n",
       "    <tr>\n",
       "      <th>4</th>\n",
       "      <td>Entertainment</td>\n",
       "      <td>\\nসারাবিশ্বের তারকাদের মিলনমেলা এখন ‘কান চলচ্চ...</td>\n",
       "    </tr>\n",
       "    <tr>\n",
       "      <th>...</th>\n",
       "      <td>...</td>\n",
       "      <td>...</td>\n",
       "    </tr>\n",
       "    <tr>\n",
       "      <th>6613</th>\n",
       "      <td>Entertainment</td>\n",
       "      <td>\\n ঘটনাটা গত ১৫ অক্টোবরের। ঢাকার উত্তরার ‘স্ক্...</td>\n",
       "    </tr>\n",
       "    <tr>\n",
       "      <th>6614</th>\n",
       "      <td>Entertainment</td>\n",
       "      <td>\\n অসংখ্য অভিনেত্রীকে যৌন নিপীড়নের অভিযোগে নি...</td>\n",
       "    </tr>\n",
       "    <tr>\n",
       "      <th>6615</th>\n",
       "      <td>Trade</td>\n",
       "      <td>\\n মিয়ানমার থেকে আগত রোহিঙ্গাদের সহায়তায় প্রধা...</td>\n",
       "    </tr>\n",
       "    <tr>\n",
       "      <th>6616</th>\n",
       "      <td>Technology</td>\n",
       "      <td>\\n এখন থেকে অ্যাকাউন্ট ওপেনের জন্য বা অ্যাকাউন...</td>\n",
       "    </tr>\n",
       "    <tr>\n",
       "      <th>6617</th>\n",
       "      <td>Entertainment</td>\n",
       "      <td>\\n ২৮ অগস্ট শুরু হয়েছিল কৌন বনেগা ক্রোড়পতির ন...</td>\n",
       "    </tr>\n",
       "  </tbody>\n",
       "</table>\n",
       "<p>6618 rows × 2 columns</p>\n",
       "</div>"
      ],
      "text/plain": [
       "           gen_type                                               body\n",
       "0        Technology  \\nএবার চীনা টেলিকমিউনিকেশন জায়ান্ট হুয়াওয়ের ওপ...\n",
       "1     Entertainment  \\nঈদ উপলক্ষে ১৩ মে থেকে শুটিং শুরু হয়েছে এস এ ...\n",
       "2         Education  \\nছাত্রলীগের পদবঞ্চিত নেতাকর্মীরা তাদের আন্দোল...\n",
       "3        Technology  \\nআবারো সামাজিক যোগাযোগ মাধ্যম ফেসবুকের নিউজ ফ...\n",
       "4     Entertainment  \\nসারাবিশ্বের তারকাদের মিলনমেলা এখন ‘কান চলচ্চ...\n",
       "...             ...                                                ...\n",
       "6613  Entertainment  \\n ঘটনাটা গত ১৫ অক্টোবরের। ঢাকার উত্তরার ‘স্ক্...\n",
       "6614  Entertainment  \\n অসংখ্য অভিনেত্রীকে যৌন নিপীড়নের অভিযোগে নি...\n",
       "6615          Trade  \\n মিয়ানমার থেকে আগত রোহিঙ্গাদের সহায়তায় প্রধা...\n",
       "6616     Technology  \\n এখন থেকে অ্যাকাউন্ট ওপেনের জন্য বা অ্যাকাউন...\n",
       "6617  Entertainment  \\n ২৮ অগস্ট শুরু হয়েছিল কৌন বনেগা ক্রোড়পতির ন...\n",
       "\n",
       "[6618 rows x 2 columns]"
      ]
     },
     "execution_count": 16,
     "metadata": {},
     "output_type": "execute_result"
    }
   ],
   "source": [
    "# Mapping of old names to new names\n",
    "name_mapping = {\n",
    "    'বিনোদন': 'Entertainment',\n",
    "    'শিক্ষা': 'Education',\n",
    "    'টেক': 'Technology',\n",
    "    'বাণিজ্য': 'Trade',\n",
    "}\n",
    "\n",
    "# Replace values in the 'gen_type' column\n",
    "df['gen_type'] = df['gen_type'].replace(name_mapping)\n",
    "df"
   ]
  },
  {
   "cell_type": "code",
   "execution_count": 17,
   "id": "84e69534",
   "metadata": {
    "scrolled": true
   },
   "outputs": [
    {
     "data": {
      "text/plain": [
       "6618"
      ]
     },
     "execution_count": 17,
     "metadata": {},
     "output_type": "execute_result"
    }
   ],
   "source": [
    "each_class= df['gen_type'].value_counts()\n",
    "each_class.sum()"
   ]
  },
  {
   "cell_type": "code",
   "execution_count": 18,
   "id": "32b8826c",
   "metadata": {},
   "outputs": [
    {
     "data": {
      "text/plain": [
       "<Axes: >"
      ]
     },
     "execution_count": 18,
     "metadata": {},
     "output_type": "execute_result"
    },
    {
     "data": {
      "image/png": "[encoded data removed]",
      "text/plain": [
       "<Figure size 640x480 with 1 Axes>"
      ]
     },
     "metadata": {},
     "output_type": "display_data"
    }
   ],
   "source": [
    "each_class.plot.bar()"
   ]
  },
  {
   "cell_type": "code",
   "execution_count": 19,
   "id": "5d0dcefd",
   "metadata": {},
   "outputs": [
    {
     "data": {
      "text/plain": [
       "(0       \\nএবার চীনা টেলিকমিউনিকেশন জায়ান্ট হুয়াওয়ের ওপ...\n",
       " 1       \\nঈদ উপলক্ষে ১৩ মে থেকে শুটিং শুরু হয়েছে এস এ ...\n",
       " 2       \\nছাত্রলীগের পদবঞ্চিত নেতাকর্মীরা তাদের আন্দোল...\n",
       " 3       \\nআবারো সামাজিক যোগাযোগ মাধ্যম ফেসবুকের নিউজ ফ...\n",
       " 4       \\nসারাবিশ্বের তারকাদের মিলনমেলা এখন ‘কান চলচ্চ...\n",
       "                               ...                        \n",
       " 6613    \\n ঘটনাটা গত ১৫ অক্টোবরের। ঢাকার উত্তরার ‘স্ক্...\n",
       " 6614    \\n অসংখ্য অভিনেত্রীকে যৌন নিপীড়নের অভিযোগে নি...\n",
       " 6615    \\n মিয়ানমার থেকে আগত রোহিঙ্গাদের সহায়তায় প্রধা...\n",
       " 6616    \\n এখন থেকে অ্যাকাউন্ট ওপেনের জন্য বা অ্যাকাউন...\n",
       " 6617    \\n ২৮ অগস্ট শুরু হয়েছিল কৌন বনেগা ক্রোড়পতির ন...\n",
       " Name: body, Length: 6618, dtype: object,\n",
       " 0          Technology\n",
       " 1       Entertainment\n",
       " 2           Education\n",
       " 3          Technology\n",
       " 4       Entertainment\n",
       "             ...      \n",
       " 6613    Entertainment\n",
       " 6614    Entertainment\n",
       " 6615            Trade\n",
       " 6616       Technology\n",
       " 6617    Entertainment\n",
       " Name: gen_type, Length: 6618, dtype: object)"
      ]
     },
     "execution_count": 19,
     "metadata": {},
     "output_type": "execute_result"
    }
   ],
   "source": [
    "X = df['body']\n",
    "y=df['gen_type']\n",
    "X,y"
   ]
  },
  {
   "cell_type": "code",
   "execution_count": 20,
   "id": "8d15beb3",
   "metadata": {},
   "outputs": [
    {
     "data": {
      "text/plain": [
       "(['Technology', 'Entertainment', 'Education', 'Trade'],\n",
       " gen_type       4\n",
       " body        6618\n",
       " dtype: int64)"
      ]
     },
     "execution_count": 20,
     "metadata": {},
     "output_type": "execute_result"
    }
   ],
   "source": [
    "## Get the Dependent features\n",
    "classes = list(y.unique())\n",
    "classes, df.nunique()"
   ]
  },
  {
   "cell_type": "code",
   "execution_count": 21,
   "id": "dc506bc3",
   "metadata": {},
   "outputs": [
    {
     "data": {
      "text/plain": [
       "(array([2, 1, 0, ..., 3, 2, 1]), 6618)"
      ]
     },
     "execution_count": 21,
     "metadata": {},
     "output_type": "execute_result"
    }
   ],
   "source": [
    "from sklearn.preprocessing import LabelEncoder\n",
    "y = LabelEncoder().fit_transform(y)\n",
    "y, len(y)"
   ]
  },
  {
   "cell_type": "code",
   "execution_count": 22,
   "id": "27515526",
   "metadata": {},
   "outputs": [
    {
     "name": "stdout",
     "output_type": "stream",
     "text": [
      "[0 1 2 3] [1792 2951  964  911]\n"
     ]
    }
   ],
   "source": [
    "import numpy as np\n",
    "unique_values, counts = np.unique(y, return_counts=True)\n",
    "print(unique_values, counts)"
   ]
  },
  {
   "cell_type": "code",
   "execution_count": 23,
   "id": "cef16d60",
   "metadata": {},
   "outputs": [
    {
     "data": {
      "text/plain": [
       "732"
      ]
     },
     "execution_count": 23,
     "metadata": {},
     "output_type": "execute_result"
    }
   ],
   "source": [
    "import re\n",
    "from temp_stemmer.bangla_stemmer.stemmer.stemmer import BanglaStemmer  # for stemming \n",
    "st_words = ('অই', 'অগত্যা', 'অত: পর', 'অতএব', 'অথচ', 'অথবা', 'অধিক', 'অধীনে', 'অধ্যায়', 'অনুগ্রহ', 'অনুভূত', 'অনুযায়ী', 'অনুরূপ', 'অনুসন্ধান', 'অনুসরণ', 'অনুসারে', 'অনুসৃত', 'অনেক', 'অনেকে', 'অনেকেই', 'অন্তত', 'অন্য', 'অন্যত্র', 'অন্যভাবে', 'অন্যান্য', 'অপেক্ষাকৃতভাবে', 'অবধি', 'অবশ্য', 'অবশ্যই', 'অবস্থা', 'অবিলম্বে', 'অভ্যন্তরস্থ', 'অর্জিত', 'অর্থাত', 'অসদৃশ', 'অসম্ভাব্য', 'আইন', 'আউট', 'আক্রান্ত', 'আগামী', 'আগে', 'আগেই', 'আগ্রহী', 'আছে', 'আজ', 'আট', 'আদেশ', 'আদ্যভাগে', 'আন্দাজ', 'আপনার', 'আপনি', 'আবার', 'আমরা', 'আমাকে', 'আমাদিগের', 'আমাদের', 'আমার', 'আমি', 'আর', 'আরও', 'আশি', 'আশু', 'আসা', 'আসে', 'ই', 'ইচ্ছা', 'ইচ্ছাপূর্বক', 'ইতিমধ্যে', 'ইতোমধ্যে', 'ইত্যাদি', 'ইশারা', 'ইহা', 'ইহাতে', 'উক্তি', 'উচিত', 'উচ্চ', 'উঠা', 'উত্তম', 'উত্তর', 'উনি', 'উপর', 'উপরে', 'উপলব্ধ', 'উপায়', 'উভয়', 'উল্লেখ', 'উল্লেখযোগ্যভাবে', 'উহার', 'ঊর্ধ্বতন', 'এ', 'এপর্যন্ত', 'এঁদের', 'এঁরা', 'এই', 'এইগুলো', 'এইভাবে', 'এক', 'একই', 'একটি', 'একদা', 'একবার', 'একভাবে', 'একরকম', 'একসঙ্গে', 'একা', 'একে', 'এক্', 'এখন', 'এখনও', 'এখনো', 'এখানে', 'এখানেই', 'এছাড়াও', 'এটা', 'এটাই', 'এটি', 'এত', 'এতটাই', 'এতদ্বারা', 'এতে', 'এদিকে', 'এদের', 'এপর্যন্ত', 'এবং', 'এবার', 'এমন', 'এমনকি', 'এমনকী', 'এমনি', 'এর', 'এরকম', 'এরা', 'এল', 'এলাকায়', 'এলাকার', 'এস', 'এসে', 'ঐ', 'ও', 'ওঁদের', 'ওঁর', 'ওঁরা', 'ওই', 'ওকে', 'ওখানে', 'ওদের', 'ওর', 'ওরা', 'ওহে', 'কক্ষ', 'কখন', 'কখনও', 'কত', 'কবে', 'কম', 'কমনে', 'কয়েক', 'কয়েকটি', 'করছে', 'করছেন', 'করতে', 'করবে', 'করবেন', 'করলে', 'করলেন', 'করলো', 'করা', 'করাই', 'করাত', 'করার', 'করায়', 'করি', 'করিতে', 'করিয়া', 'করিয়ে', 'করে', 'করেই', 'করেছিল', 'করেছিলেন', 'করেছে', 'করেছেন', 'করেন', 'কর্তব্য', 'কাউকে', 'কাছ', 'কাছাকাছি', 'কাছে', 'কাজ', 'কাজে', 'কারও', 'কারণ', 'কারণসমূহ', 'কারো', 'কি', 'কিংবা', 'কিছু', 'কিছুই', 'কিছুটা', 'কিছুনা', 'কিনা', 'কিন্তু', 'কিভাবে', 'কী', 'কূপ', 'কে', 'কেউ', 'কেউই', 'কেউনা', 'কেখা', 'কেন', 'কেবল', 'কেবা', 'কেস', 'কেহ', 'কোটি', 'কোথা', 'কোথাও', 'কোথায়', 'কোন', 'কোনও', 'কোনো', 'ক্রম', 'ক্ষেত্রে', 'কয়েক', 'কয়েকটি', 'খুঁজছেন', 'খুব', 'খোলা', 'খোলে', 'গড়', 'গত', 'গিয়ে', 'গিয়েছিলাম', 'গিয়েছে', 'গিয়ে', 'গিয়েছে', 'গুরুত্ব', 'গুলি', 'গেছে', 'গেল', 'গেলে', 'গোটা', 'গোষ্ঠীবদ্ধ', 'গ্রহণ', 'গ্রুপ', 'ঘর', 'ঘোষণা', 'চলে', 'চান', 'চায়', 'চার', 'চালা', 'চালান', 'চালু', 'চায়', 'চেয়ে', 'চেয়েছিলেন', 'চেষ্টা', 'চেয়ে', 'ছয়', 'ছাড়া', 'ছাড়াছাড়ি', 'ছাড়া', 'ছাড়াও', 'ছিল', 'ছিলেন', 'ছোট', 'জন', 'জনকে', 'জনাব', 'জনাবা', 'জনের', 'জন্য', 'জানতাম', 'জানতে', 'জানা', 'জানানো', 'জানায়', 'জানিয়ে', 'জানিয়েছে', 'জানে', 'জায়গা', 'জিজ্ঞাসা', 'জিজ্ঞেস', 'জিনিস', 'জে', 'জ্নজন', 'টা', 'টি', 'ঠিক', 'ঠিকআছে', 'ডগা', 'তখন', 'তত', 'তত্কারণে', 'তত্প্রতি', 'তথা', 'তদনুসারে', 'তদ্ব্যতীত', 'তন্নতন্ন', 'তবু', 'তবে', 'তরুণ', 'তা', 'তাঁকে', 'তাঁদের', 'তাঁর', 'তাঁরা', 'তাঁহারা', 'তাই', 'তাও', 'তাকে', 'তাতে', 'তাদের', 'তার', 'তারপর', 'তারপরেও', 'তারা', 'তারিখ', 'তারৈ', 'তাহলে', 'তাহা', 'তাহাতে', 'তাহাদিগকে', 'তাহাদেরই', 'তাহার', 'তিন', 'তিনি', 'তিনিও', 'তীক্ষ্ন', 'তুমি', 'তুলে', 'তেমন', 'তৈরীর', 'তো', 'তোমার', 'তোলে', 'থাকবে', 'থাকবেন', 'থাকা', 'থাকায়', 'থাকায়', 'থাকে', 'থাকেন', 'থেকে', 'থেকেই', 'থেকেও', 'দরকারী', 'দলবদ্ধ', 'দান', 'দিকে', 'দিতে', 'দিন', 'দিয়ে', 'দিয়েছে', 'দিয়েছেন', 'দিলেন', 'দিয়ে', 'দিয়েছে', 'দিয়েছেন', 'দু', 'দুই', 'দুটি', 'দুটো', 'দূরে', 'দেওয়ার', 'দেওয়া', 'দেওয়ার', 'দেখতে', 'দেখা', 'দেখাচ্ছে', 'দেখিয়েছেন', 'দেখে', 'দেখেন', 'দেন', 'দেয়', 'দেয়', 'দ্বারা', 'দ্বিগুণ', 'দ্বিতীয়', 'দ্য', 'ধরা', 'ধরে', 'ধামার', 'নতুন', 'নব্বই', 'নয়', 'নাই', 'নাকি', 'নাগাদ', 'নানা', 'নাম', 'নিচে', 'নিছক', 'নিজে', 'নিজেই', 'নিজেকে', 'নিজেদের', 'নিজেদেরকে', 'নিজের', 'নিতে', 'নিদিষ্ট', 'নিম্নাভিমুখে', 'নিয়ে', 'নির্দিষ্ট', 'নির্বিশেষে', 'নিশ্চিত', 'নিয়ে', 'নেই', 'নেওয়ার', 'নেওয়া', 'নেয়ার', 'নয়', 'পক্ষই', 'পক্ষে', 'পঞ্চম', 'পড়া', 'পণ্য', 'পথ', 'পয়েন্ট', 'পর', 'পরন্তু', 'পরবর্তী', 'পরিণত', 'পরিবর্তে', 'পরে', 'পরেই', 'পরেও', 'পর্যন্ত', 'পর্যাপ্ত', 'পাঁচ', 'পাওয়া', 'পাচ', 'পায়', 'পারা', 'পারি', 'পারিনি', 'পারে', 'পারেন', 'পালা', 'পাশ', 'পাশে', 'পিছনে', 'পিঠের', 'পুরোনো', 'পুরোপুরি', 'পূর্বে', 'পৃষ্ঠা', 'পৃষ্ঠাগুলি', 'পেছনে', 'পেয়েছেন', 'পেয়ে', 'পেয়্র্', 'প্রকৃতপক্ষে', 'প্রণীত', 'প্রতি', 'প্রথম', 'প্রদত্ত', 'প্রদর্শনী', 'প্রদর্শিত', 'প্রধানত', 'প্রবলভাবে', 'প্রভৃতি', 'প্রমাণীকরণ', 'প্রযন্ত', 'প্রয়োজন', 'প্রয়োজনীয়', 'প্রসূত', 'প্রাক্তন', 'প্রাথমিক', 'প্রাথমিকভাবে', 'প্রান্ত', 'প্রাপ্ত', 'প্রায়', 'প্রায়ই', 'প্রায়', 'ফলাফল', 'ফলে', 'ফিক্স', 'ফিরে', 'ফের', 'বক্তব্য', 'বছর', 'বড়', 'বদলে', 'বন', 'বন্ধ', 'বরং', 'বরাবর', 'বর্ণন', 'বর্তমান', 'বলতে', 'বলল', 'বললেন', 'বলা', 'বলে', 'বলেছেন', 'বলেন', 'বসে', 'বহু', 'বা', 'বাঁক', 'বাইরে', 'বাকি', 'বাড়ি', 'বাতিক', 'বাদ', 'বাদে', 'বার', 'বাহিরে', 'বিনা', 'বিন্দু', 'বিভিন্ন', 'বিশেষ', 'বিশেষণ', 'বিশেষত', 'বিশেষভাবে', 'বিশ্ব', 'বিষয়টি', 'বুঝিয়ে', 'বৃহত্তর', 'বের', 'বেশ', 'বেশি', 'বেশী', 'ব্যতীত', 'ব্যবহার', 'ব্যবহারসমূহ', 'ব্যবহৃত', 'ব্যাক', 'ব্যাপকভাবে', 'ব্যাপারে', 'ভবিষ্যতে', 'ভান', 'ভাবে', 'ভাবেই', 'ভাল', 'ভিতরে', 'ভিন্ন', 'ভিন্নভাবে', 'মত', 'মতো', 'মতোই', 'মধ্যভাগে', 'মধ্যে', 'মধ্যেই', 'মধ্যেও', 'মনে', 'মনে হয়', 'মস্ত', 'মহান', 'মাত্র', 'মাধ্যম', 'মাধ্যমে', 'মান', 'মানানসই', 'মানুষ', 'মানে', 'মামলা', 'মিলিয়ন', 'মুখ', 'মূলত', 'মোট', 'মোটেই', 'যখন', 'যখনই', 'যত', 'যতটা', 'যথা', 'যথাক্রমে', 'যথেষ্ট', 'যদি', 'যদিও', 'যন্ত্রাংশ', 'যা', 'যাঁর', 'যাঁরা', 'যাই', 'যাওয়া', 'যাওয়ার', 'যাওয়া', 'যাওয়ার', 'যাকে', 'যাচ্ছে', 'যাতে', 'যাদের', 'যান', 'যাবে', 'যায়', 'যার', 'যারা', 'যাহার', 'যাহোক', 'যিনি', 'যে', 'যেখানে', 'যেখানেই', 'যেটি', 'যেতে', 'যেন', 'যেমন', 'যেহেতু', 'যোগ', 'রকম', 'রয়েছে', 'রাখা', 'রাখে', 'রাজী', 'রাজ্যের', 'রেখে', 'রয়েছে', 'লক্ষ', 'লাইন', 'লাল', 'শত', 'শব্দ', 'শীঘ্র', 'শীঘ্রই', 'শুধু', 'শুরু', 'শুরুতে', 'শূন্য', 'শেষ', 'সংক্রান্ত', 'সংক্ষিপ্ত', 'সংক্ষেপে', 'সংখ্যা', 'সংখ্যার', 'সংশ্লিষ্ট', 'সক্ষম', 'সঙ্গে', 'সঙ্গেও', 'সত্য', 'সত্যিই', 'সদয়', 'সদস্য', 'সদস্যদের', 'সফলভাবে', 'সব', 'সবচেয়ে', 'সবাই', 'সবার', 'সময়', 'সমস্ত', 'সমান', 'সম্পন্ন', 'সম্প্রতি', 'সম্ভব', 'সম্ভবত', 'সম্ভাব্য', 'সরাইয়া', 'সর্বত্র', 'সর্বদা', 'সর্বস্বান্ত', 'সহ', 'সহিত', 'সাত', 'সাধারণ', 'সাধারণত', 'সাব', 'সাবেক', 'সামগ্রিক', 'সামনে', 'সামান্য', 'সাম্প্রতিক', 'সুতরাং', 'সুত্র', 'সূচক', 'সে', 'সে হবে', 'সেই', 'সেকেন্ড', 'সেখান', 'সেখানে', 'সেগুলো', 'সেটা', 'সেটাই', 'সেটাও', 'সেটি', 'সেরা', 'স্টপ', 'স্থাপিত', 'স্পষ্ট', 'স্পষ্টত', 'স্পষ্টতই', 'স্ব', 'স্বয়ং', 'স্বাগত', 'স্বাভাবিকভাবে', 'স্বার্থ', 'স্বয়ং', 'হইতে', 'হইবে', 'হইয়া', 'হওয়া', 'হওয়ায়', 'হওয়ার', 'হচ্ছে', 'হত', 'হতে', 'হতেই', 'হন', 'হবে', 'হবেন', 'হয়', 'হয়তো', 'হয়নি', 'হয়ে', 'হয়েই', 'হয়েছিল', 'হয়েছে', 'হয়েছেন', 'হল', 'হলে', 'হলেই', 'হলেও', 'হলো', 'হাজার', 'হায়', 'হারানো', 'হিসাবে', 'হৈলে', 'হোক', 'হয়', 'হয়তো', 'হয়নি', 'হয়ে', 'হয়েই', 'হয়েছিল', 'হয়েছে', 'হয়েছেন', 'অংশ')\n",
    "len(st_words)"
   ]
  },
  {
   "cell_type": "code",
   "execution_count": 24,
   "id": "f95e3157",
   "metadata": {},
   "outputs": [],
   "source": [
    "# para = df['body'][387]\n",
    "# sentences = re.sub(r'\\n{2,}|\\n|।|,', \"\", para)\n",
    "# sentences"
   ]
  },
  {
   "cell_type": "code",
   "execution_count": 25,
   "id": "73517b16",
   "metadata": {},
   "outputs": [],
   "source": [
    "corpus = []\n",
    "no_of_words = 0\n",
    "for i in range(df.shape[0]):\n",
    "    para = df['body'][i]\n",
    "    sentences = re.sub(r'\\n{2,}|\\n|।|,|!|@|<|>|#|\\$|%|\\^|&|\\*|\\(|\\)|\\\\|/', \"\", para)\n",
    "    words = sentences.split()\n",
    "    \n",
    "\n",
    "    words = [word for word in words if word not in st_words]\n",
    "#     words = [word for word in words if not word in stopwords.words('english')]\n",
    "    words = [BanglaStemmer().stem(word) for word in words]\n",
    "    no_of_words += len(words) \n",
    "    line = ' '.join(words)\n",
    "    corpus.append(line)"
   ]
  },
  {
   "cell_type": "code",
   "execution_count": 26,
   "id": "11b893c4",
   "metadata": {},
   "outputs": [
    {
     "data": {
      "text/plain": [
       "148.5223632517377"
      ]
     },
     "execution_count": 26,
     "metadata": {},
     "output_type": "execute_result"
    }
   ],
   "source": [
    "# avg word/news \n",
    "no_of_words/df.shape[0]"
   ]
  },
  {
   "cell_type": "code",
   "execution_count": 27,
   "id": "4806206d",
   "metadata": {},
   "outputs": [
    {
     "data": {
      "text/plain": [
       "'চীনা টেলিকমিউনিকেশন জায়ান্ট হুয়াওয় ওপর ধরন ‘নিষেধাজ্ঞা’ জারি গুগল গুগল হুয়াওয় অ্যান্ড্রয়েড অপারেট সিস্টেম সেব আপডেট ভার্সন দাব না খবর বিবিসির প্রতিবেদনে নিষেধাজ্ঞ হুয়াওয় স্মার্টফোনে গুগল ইউটিউব গুগল ম্যাপস অ্যাপ না ট্রাম্প প্রশাসন হুয়াওয়েক কোম্পানি তালিকাভুক্ত বাণিজ্য মার্কিন কোম্পানি লাইসেন্স এরপর গুগল পক্ষ সিদ্ধান্ত কথা বিবৃতি গুগল মান প্রভাব পর্যালোচনা প্রতিবেদনে হুয়াওয় অ্যান্ড্রয়েড ব্যবহারকারী ওপ সোর্স লাইসেন্স সুযোগ সুবিধা পেত পার সেইসঙ্গে অ্যান্ড্রয়েড ভার্সন চালা পার হুয়াওয় ব্যবহারকারী গুগল ম্যাপস ইউটিউব এসব জনপ্রিয় এ্যাপস আপডেট ভার্সন পার না এব্যাপারে হুয়াওয় পক্ষ মন্তব্য পাওয়া যায়নি আরো পড়ুন: ব্রাজিলে পানশালায় বন্দুকধারীর অতর্কিত হামলা নিহত ১১গত বুধব ট্রাম্প প্রশাসন আনুষ্ঠানিকভাবে হুয়াওয়েক যুক্তরাষ্ট্রে ‘কালো তালিকা’ ভুক্ত করেইত্তেফাকএসআর'"
      ]
     },
     "execution_count": 27,
     "metadata": {},
     "output_type": "execute_result"
    }
   ],
   "source": [
    "corpus[0]"
   ]
  },
  {
   "cell_type": "code",
   "execution_count": 28,
   "id": "579f99cc",
   "metadata": {},
   "outputs": [],
   "source": [
    "from sklearn.feature_extraction.text import TfidfVectorizer\n",
    "tv = TfidfVectorizer(max_features=1000,ngram_range=(1,3))\n",
    "X = tv.fit_transform(corpus).toarray()"
   ]
  },
  {
   "cell_type": "code",
   "execution_count": 29,
   "id": "98bbdfda",
   "metadata": {},
   "outputs": [
    {
     "data": {
      "text/plain": [
       "(6618, 1000)"
      ]
     },
     "execution_count": 29,
     "metadata": {},
     "output_type": "execute_result"
    }
   ],
   "source": [
    "X.shape"
   ]
  },
  {
   "cell_type": "code",
   "execution_count": 30,
   "id": "4b3b76f4",
   "metadata": {},
   "outputs": [
    {
     "data": {
      "text/plain": [
       "array([2, 1, 0, ..., 3, 2, 1])"
      ]
     },
     "execution_count": 30,
     "metadata": {},
     "output_type": "execute_result"
    }
   ],
   "source": [
    "y"
   ]
  },
  {
   "cell_type": "code",
   "execution_count": 31,
   "id": "9feff0de",
   "metadata": {},
   "outputs": [
    {
     "data": {
      "text/plain": [
       "array(['bd', 'img0', 'img1', 'www', 'অক', 'অক বর', 'অগ', 'অঙ', 'অজ', 'অঞ',\n",
       "       'অঞ চল', 'অট', 'অড', 'অত', 'অত উপস', 'অত বক', 'অত যন', 'অধ',\n",
       "       'অধ দপ', 'অধ দপ তর'], dtype=object)"
      ]
     },
     "execution_count": 31,
     "metadata": {},
     "output_type": "execute_result"
    }
   ],
   "source": [
    "tv.get_feature_names_out()[:20]"
   ]
  },
  {
   "cell_type": "code",
   "execution_count": 32,
   "id": "0603a6e3",
   "metadata": {},
   "outputs": [
    {
     "data": {
      "text/html": [
       "<div>\n",
       "<style scoped>\n",
       "    .dataframe tbody tr th:only-of-type {\n",
       "        vertical-align: middle;\n",
       "    }\n",
       "\n",
       "    .dataframe tbody tr th {\n",
       "        vertical-align: top;\n",
       "    }\n",
       "\n",
       "    .dataframe thead th {\n",
       "        text-align: right;\n",
       "    }\n",
       "</style>\n",
       "<table border=\"1\" class=\"dataframe\">\n",
       "  <thead>\n",
       "    <tr style=\"text-align: right;\">\n",
       "      <th></th>\n",
       "      <th>bd</th>\n",
       "      <th>img0</th>\n",
       "      <th>img1</th>\n",
       "      <th>www</th>\n",
       "      <th>অক</th>\n",
       "      <th>অক বর</th>\n",
       "      <th>অগ</th>\n",
       "      <th>অঙ</th>\n",
       "      <th>অজ</th>\n",
       "      <th>অঞ</th>\n",
       "      <th>...</th>\n",
       "      <th>৫ট</th>\n",
       "      <th>৫০</th>\n",
       "      <th>৬ট</th>\n",
       "      <th>৬০</th>\n",
       "      <th>৭০</th>\n",
       "      <th>৮ট</th>\n",
       "      <th>৮০</th>\n",
       "      <th>৯ট</th>\n",
       "      <th>৯০</th>\n",
       "      <th>target</th>\n",
       "    </tr>\n",
       "  </thead>\n",
       "  <tbody>\n",
       "    <tr>\n",
       "      <th>0</th>\n",
       "      <td>0.0</td>\n",
       "      <td>0.000000</td>\n",
       "      <td>0.0</td>\n",
       "      <td>0.0</td>\n",
       "      <td>0.000000</td>\n",
       "      <td>0.000000</td>\n",
       "      <td>0.000000</td>\n",
       "      <td>0.0</td>\n",
       "      <td>0.0</td>\n",
       "      <td>0.0</td>\n",
       "      <td>...</td>\n",
       "      <td>0.0</td>\n",
       "      <td>0.0</td>\n",
       "      <td>0.0</td>\n",
       "      <td>0.0</td>\n",
       "      <td>0.0</td>\n",
       "      <td>0.0</td>\n",
       "      <td>0.0</td>\n",
       "      <td>0.0</td>\n",
       "      <td>0.0</td>\n",
       "      <td>2</td>\n",
       "    </tr>\n",
       "    <tr>\n",
       "      <th>1</th>\n",
       "      <td>0.0</td>\n",
       "      <td>0.000000</td>\n",
       "      <td>0.0</td>\n",
       "      <td>0.0</td>\n",
       "      <td>0.080130</td>\n",
       "      <td>0.000000</td>\n",
       "      <td>0.000000</td>\n",
       "      <td>0.0</td>\n",
       "      <td>0.0</td>\n",
       "      <td>0.0</td>\n",
       "      <td>...</td>\n",
       "      <td>0.0</td>\n",
       "      <td>0.0</td>\n",
       "      <td>0.0</td>\n",
       "      <td>0.0</td>\n",
       "      <td>0.0</td>\n",
       "      <td>0.0</td>\n",
       "      <td>0.0</td>\n",
       "      <td>0.0</td>\n",
       "      <td>0.0</td>\n",
       "      <td>1</td>\n",
       "    </tr>\n",
       "    <tr>\n",
       "      <th>2</th>\n",
       "      <td>0.0</td>\n",
       "      <td>0.000000</td>\n",
       "      <td>0.0</td>\n",
       "      <td>0.0</td>\n",
       "      <td>0.000000</td>\n",
       "      <td>0.000000</td>\n",
       "      <td>0.000000</td>\n",
       "      <td>0.0</td>\n",
       "      <td>0.0</td>\n",
       "      <td>0.0</td>\n",
       "      <td>...</td>\n",
       "      <td>0.0</td>\n",
       "      <td>0.0</td>\n",
       "      <td>0.0</td>\n",
       "      <td>0.0</td>\n",
       "      <td>0.0</td>\n",
       "      <td>0.0</td>\n",
       "      <td>0.0</td>\n",
       "      <td>0.0</td>\n",
       "      <td>0.0</td>\n",
       "      <td>0</td>\n",
       "    </tr>\n",
       "    <tr>\n",
       "      <th>3</th>\n",
       "      <td>0.0</td>\n",
       "      <td>0.000000</td>\n",
       "      <td>0.0</td>\n",
       "      <td>0.0</td>\n",
       "      <td>0.000000</td>\n",
       "      <td>0.000000</td>\n",
       "      <td>0.051015</td>\n",
       "      <td>0.0</td>\n",
       "      <td>0.0</td>\n",
       "      <td>0.0</td>\n",
       "      <td>...</td>\n",
       "      <td>0.0</td>\n",
       "      <td>0.0</td>\n",
       "      <td>0.0</td>\n",
       "      <td>0.0</td>\n",
       "      <td>0.0</td>\n",
       "      <td>0.0</td>\n",
       "      <td>0.0</td>\n",
       "      <td>0.0</td>\n",
       "      <td>0.0</td>\n",
       "      <td>2</td>\n",
       "    </tr>\n",
       "    <tr>\n",
       "      <th>4</th>\n",
       "      <td>0.0</td>\n",
       "      <td>0.000000</td>\n",
       "      <td>0.0</td>\n",
       "      <td>0.0</td>\n",
       "      <td>0.000000</td>\n",
       "      <td>0.000000</td>\n",
       "      <td>0.000000</td>\n",
       "      <td>0.0</td>\n",
       "      <td>0.0</td>\n",
       "      <td>0.0</td>\n",
       "      <td>...</td>\n",
       "      <td>0.0</td>\n",
       "      <td>0.0</td>\n",
       "      <td>0.0</td>\n",
       "      <td>0.0</td>\n",
       "      <td>0.0</td>\n",
       "      <td>0.0</td>\n",
       "      <td>0.0</td>\n",
       "      <td>0.0</td>\n",
       "      <td>0.0</td>\n",
       "      <td>1</td>\n",
       "    </tr>\n",
       "    <tr>\n",
       "      <th>...</th>\n",
       "      <td>...</td>\n",
       "      <td>...</td>\n",
       "      <td>...</td>\n",
       "      <td>...</td>\n",
       "      <td>...</td>\n",
       "      <td>...</td>\n",
       "      <td>...</td>\n",
       "      <td>...</td>\n",
       "      <td>...</td>\n",
       "      <td>...</td>\n",
       "      <td>...</td>\n",
       "      <td>...</td>\n",
       "      <td>...</td>\n",
       "      <td>...</td>\n",
       "      <td>...</td>\n",
       "      <td>...</td>\n",
       "      <td>...</td>\n",
       "      <td>...</td>\n",
       "      <td>...</td>\n",
       "      <td>...</td>\n",
       "      <td>...</td>\n",
       "    </tr>\n",
       "    <tr>\n",
       "      <th>6613</th>\n",
       "      <td>0.0</td>\n",
       "      <td>0.040247</td>\n",
       "      <td>0.0</td>\n",
       "      <td>0.0</td>\n",
       "      <td>0.224997</td>\n",
       "      <td>0.255015</td>\n",
       "      <td>0.049090</td>\n",
       "      <td>0.0</td>\n",
       "      <td>0.0</td>\n",
       "      <td>0.0</td>\n",
       "      <td>...</td>\n",
       "      <td>0.0</td>\n",
       "      <td>0.0</td>\n",
       "      <td>0.0</td>\n",
       "      <td>0.0</td>\n",
       "      <td>0.0</td>\n",
       "      <td>0.0</td>\n",
       "      <td>0.0</td>\n",
       "      <td>0.0</td>\n",
       "      <td>0.0</td>\n",
       "      <td>1</td>\n",
       "    </tr>\n",
       "    <tr>\n",
       "      <th>6614</th>\n",
       "      <td>0.0</td>\n",
       "      <td>0.000000</td>\n",
       "      <td>0.0</td>\n",
       "      <td>0.0</td>\n",
       "      <td>0.000000</td>\n",
       "      <td>0.000000</td>\n",
       "      <td>0.000000</td>\n",
       "      <td>0.0</td>\n",
       "      <td>0.0</td>\n",
       "      <td>0.0</td>\n",
       "      <td>...</td>\n",
       "      <td>0.0</td>\n",
       "      <td>0.0</td>\n",
       "      <td>0.0</td>\n",
       "      <td>0.0</td>\n",
       "      <td>0.0</td>\n",
       "      <td>0.0</td>\n",
       "      <td>0.0</td>\n",
       "      <td>0.0</td>\n",
       "      <td>0.0</td>\n",
       "      <td>1</td>\n",
       "    </tr>\n",
       "    <tr>\n",
       "      <th>6615</th>\n",
       "      <td>0.0</td>\n",
       "      <td>0.000000</td>\n",
       "      <td>0.0</td>\n",
       "      <td>0.0</td>\n",
       "      <td>0.142888</td>\n",
       "      <td>0.161951</td>\n",
       "      <td>0.000000</td>\n",
       "      <td>0.0</td>\n",
       "      <td>0.0</td>\n",
       "      <td>0.0</td>\n",
       "      <td>...</td>\n",
       "      <td>0.0</td>\n",
       "      <td>0.0</td>\n",
       "      <td>0.0</td>\n",
       "      <td>0.0</td>\n",
       "      <td>0.0</td>\n",
       "      <td>0.0</td>\n",
       "      <td>0.0</td>\n",
       "      <td>0.0</td>\n",
       "      <td>0.0</td>\n",
       "      <td>3</td>\n",
       "    </tr>\n",
       "    <tr>\n",
       "      <th>6616</th>\n",
       "      <td>0.0</td>\n",
       "      <td>0.000000</td>\n",
       "      <td>0.0</td>\n",
       "      <td>0.0</td>\n",
       "      <td>0.000000</td>\n",
       "      <td>0.000000</td>\n",
       "      <td>0.000000</td>\n",
       "      <td>0.0</td>\n",
       "      <td>0.0</td>\n",
       "      <td>0.0</td>\n",
       "      <td>...</td>\n",
       "      <td>0.0</td>\n",
       "      <td>0.0</td>\n",
       "      <td>0.0</td>\n",
       "      <td>0.0</td>\n",
       "      <td>0.0</td>\n",
       "      <td>0.0</td>\n",
       "      <td>0.0</td>\n",
       "      <td>0.0</td>\n",
       "      <td>0.0</td>\n",
       "      <td>2</td>\n",
       "    </tr>\n",
       "    <tr>\n",
       "      <th>6617</th>\n",
       "      <td>0.0</td>\n",
       "      <td>0.000000</td>\n",
       "      <td>0.0</td>\n",
       "      <td>0.0</td>\n",
       "      <td>0.233827</td>\n",
       "      <td>0.265023</td>\n",
       "      <td>0.000000</td>\n",
       "      <td>0.0</td>\n",
       "      <td>0.0</td>\n",
       "      <td>0.0</td>\n",
       "      <td>...</td>\n",
       "      <td>0.0</td>\n",
       "      <td>0.0</td>\n",
       "      <td>0.0</td>\n",
       "      <td>0.0</td>\n",
       "      <td>0.0</td>\n",
       "      <td>0.0</td>\n",
       "      <td>0.0</td>\n",
       "      <td>0.0</td>\n",
       "      <td>0.0</td>\n",
       "      <td>1</td>\n",
       "    </tr>\n",
       "  </tbody>\n",
       "</table>\n",
       "<p>6618 rows × 1001 columns</p>\n",
       "</div>"
      ],
      "text/plain": [
       "       bd      img0  img1  www        অক     অক বর        অগ   অঙ   অজ   অঞ  \\\n",
       "0     0.0  0.000000   0.0  0.0  0.000000  0.000000  0.000000  0.0  0.0  0.0   \n",
       "1     0.0  0.000000   0.0  0.0  0.080130  0.000000  0.000000  0.0  0.0  0.0   \n",
       "2     0.0  0.000000   0.0  0.0  0.000000  0.000000  0.000000  0.0  0.0  0.0   \n",
       "3     0.0  0.000000   0.0  0.0  0.000000  0.000000  0.051015  0.0  0.0  0.0   \n",
       "4     0.0  0.000000   0.0  0.0  0.000000  0.000000  0.000000  0.0  0.0  0.0   \n",
       "...   ...       ...   ...  ...       ...       ...       ...  ...  ...  ...   \n",
       "6613  0.0  0.040247   0.0  0.0  0.224997  0.255015  0.049090  0.0  0.0  0.0   \n",
       "6614  0.0  0.000000   0.0  0.0  0.000000  0.000000  0.000000  0.0  0.0  0.0   \n",
       "6615  0.0  0.000000   0.0  0.0  0.142888  0.161951  0.000000  0.0  0.0  0.0   \n",
       "6616  0.0  0.000000   0.0  0.0  0.000000  0.000000  0.000000  0.0  0.0  0.0   \n",
       "6617  0.0  0.000000   0.0  0.0  0.233827  0.265023  0.000000  0.0  0.0  0.0   \n",
       "\n",
       "      ...   ৫ট   ৫০   ৬ট   ৬০   ৭০   ৮ট   ৮০   ৯ট   ৯০  target  \n",
       "0     ...  0.0  0.0  0.0  0.0  0.0  0.0  0.0  0.0  0.0       2  \n",
       "1     ...  0.0  0.0  0.0  0.0  0.0  0.0  0.0  0.0  0.0       1  \n",
       "2     ...  0.0  0.0  0.0  0.0  0.0  0.0  0.0  0.0  0.0       0  \n",
       "3     ...  0.0  0.0  0.0  0.0  0.0  0.0  0.0  0.0  0.0       2  \n",
       "4     ...  0.0  0.0  0.0  0.0  0.0  0.0  0.0  0.0  0.0       1  \n",
       "...   ...  ...  ...  ...  ...  ...  ...  ...  ...  ...     ...  \n",
       "6613  ...  0.0  0.0  0.0  0.0  0.0  0.0  0.0  0.0  0.0       1  \n",
       "6614  ...  0.0  0.0  0.0  0.0  0.0  0.0  0.0  0.0  0.0       1  \n",
       "6615  ...  0.0  0.0  0.0  0.0  0.0  0.0  0.0  0.0  0.0       3  \n",
       "6616  ...  0.0  0.0  0.0  0.0  0.0  0.0  0.0  0.0  0.0       2  \n",
       "6617  ...  0.0  0.0  0.0  0.0  0.0  0.0  0.0  0.0  0.0       1  \n",
       "\n",
       "[6618 rows x 1001 columns]"
      ]
     },
     "execution_count": 32,
     "metadata": {},
     "output_type": "execute_result"
    }
   ],
   "source": [
    "count_df = pd.DataFrame(X,columns=tv.get_feature_names_out()).assign(target=y)\n",
    "count_df"
   ]
  },
  {
   "cell_type": "code",
   "execution_count": 33,
   "id": "e8e0fb75",
   "metadata": {},
   "outputs": [
    {
     "data": {
      "text/plain": [
       "(6618, 1001)"
      ]
     },
     "execution_count": 33,
     "metadata": {},
     "output_type": "execute_result"
    }
   ],
   "source": [
    "count_df.shape"
   ]
  },
  {
   "cell_type": "code",
   "execution_count": 34,
   "id": "c928e987",
   "metadata": {},
   "outputs": [],
   "source": [
    "count_df.to_excel(\"itte-part-2.xlsx\", index = False, header = False)"
   ]
  }
 ],
 "metadata": {
  "kernelspec": {
   "display_name": "NlP",
   "language": "python",
   "name": "nlp"
  },
  "language_info": {
   "codemirror_mode": {
    "name": "ipython",
    "version": 3
   },
   "file_extension": ".py",
   "mimetype": "text/x-python",
   "name": "python",
   "nbconvert_exporter": "python",
   "pygments_lexer": "ipython3",
   "version": "3.11.4"
  }
 },
 "nbformat": 4,
 "nbformat_minor": 5
}
