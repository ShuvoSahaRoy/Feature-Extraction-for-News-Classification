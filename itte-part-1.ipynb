{
 "cells": [
  {
   "cell_type": "code",
   "execution_count": 1,
   "id": "784e90d2",
   "metadata": {},
   "outputs": [],
   "source": [
    "import pandas as pd\n",
    "import numpy as np\n",
    "import json"
   ]
  },
  {
   "cell_type": "code",
   "execution_count": 2,
   "id": "7e8994c5",
   "metadata": {},
   "outputs": [],
   "source": [
    "# Step 2: Open and Read the JSON File\n",
    "with open('D:/shuvo/bangla_news_classification/dataset/itte-part-1.json', 'r') as json_file:\n",
    "    json_data = json_file.read()\n",
    "\n",
    "# Step 3: Parse the JSON Data\n",
    "parsed_data = json.loads(json_data)"
   ]
  },
  {
   "cell_type": "code",
   "execution_count": 3,
   "id": "23f66c12",
   "metadata": {},
   "outputs": [
    {
     "name": "stdout",
     "output_type": "stream",
     "text": [
      "[{'gen_type': 'অন্যান্য', 'headline': 'ভুয়া খবর খুঁজতে ভারতে পেশাদার সংস্থা', 'additional_info': {'publisher': 'ইত্তেফাক ডেস্ক', 'release': 'প্রকাশ : ১১ জুন ২০২০, ০০:০০', 'update': 'আপডেট : ১১ জুন ২০২০, ০০:৩৯'}, 'body': '\\nভুয়া খবর খুঁজে বের করার জন্য কেন্দ্রীয় সরকারের প্রেস ইনফর্মেশন ব্যুরো বা পিআইবি’র একটা বিশেষ সেল আছে। রাষ্ট্রায়ত্ত্ব সংস্থা প্রসার ভারতীও নিয়মিত ফেক নিউজ খুঁজে বের করে। তবে তাতেও হচ্ছে না। এবার পেশাদার সংস্থাকে দিয়ে সামাজিক মাধ্যমে ফেক নিউজ খুঁজে বের করবে প্রধানমন্ত্রী নরেন্দ্র মোদির সরকার।\\xa0 েতথ্য ও সম্প্রচার মন্ত্রণালয়ের সংস্থা ব্রডকাস্ট ইঞ্জিনিয়ারিং কনসালটেন্টস ইন্ডিয়া এর জন্য টেন্ডার ডেকেছে। সেই পেশাদার সংস্থার কাজ হবে, তথ্য যাচাই করে ফেক নিউজ খুঁজে বের করা এবং কারা সেই ফেক নিউজ দিচ্ছে তা দেখা এবং তারা কোন দেশ থেকে দিচ্ছে সেটাও খুঁজে বের করা। তথ্য ও সম্প্রচার বিভাগের এক কর্মকর্তা জানিয়েছেন, ভুয়া বা মিথ্যা খবর এখন সরকারের মাথাব্যথার কারণ হয়ে দাঁড়িয়েছে। সংবাদপত্র ও টিভিতে ফেক নিউজ দেয়া হলে তা ধরে ফেলা সহজ। কিন্তু সামাজিক মাধ্যমে ফেক নিউজের এতটাই রমরমা যে সরকার চিন্তিত। সেই ফেক নিউজ ধরাও শক্ত। - ডয়চেভেলে\\n', 'tags': [], 'url': 'https://www.ittefaq.com.bd/157451'}, {'gen_type': 'অন্যান্য', 'headline': 'হংকংয়ে ৫৩ বিক্ষোভকারী গ্রেপ্তার', 'additional_info': {'publisher': 'ইত্তেফাক ডেস্ক', 'release': 'প্রকাশ : ১১ জুন ২০২০, ০০:০০', 'update': 'আপডেট : ১১ জুন ২০২০, ০০:৪০'}, 'body': '\\nহংকংয়ে বিক্ষোভকালে ৫৩ গণতন্ত্রপন্থিকে গ্রেপ্তার করেছে পুলিশ। মঙ্গলবার সন্ধ্যায় শহরটির কেন্দ্রে বিক্ষোভের সময় তাদের গ্রেপ্তার করা হয় বলে পুলিশ জানিয়েছে। ঐ দিন পুলিশের নিষেধাজ্ঞ অমান্য করে রাস্তায় নেমে আসে শত শত বিক্ষোভকারী। তাদের নিয়ন্ত্রণে করতে মরিচের স্প্রে ছুড়ে পুলিশ। হংকংয়ের উপর চীনের জাতীয় নিরাপত্তা বিল প্রণয়নের ঘোষণা নিয়ে সৃষ্ট উত্তেজনার মধ্যে বিক্ষোভে নামে গণতন্ত্রপন্থিরা। পুলিশ গতকাল জানায়, মঙ্গলবার নির্দেশ অমান্য করে অননুমোদিত সমাবেশে অংশ নেওয়ায় ও অবৈধ সমাবেশ আয়োজন করায় ৩৬ জন পুরুষ ও ১৭ জন নারীকে গ্রেপ্তার করা হয়েছে। -রয়টার্স\\n', 'tags': [], 'url': 'https://www.ittefaq.com.bd/157452'}]\n"
     ]
    }
   ],
   "source": [
    "# Step 4: Print the Content\n",
    "print(parsed_data[:2])"
   ]
  },
  {
   "cell_type": "code",
   "execution_count": 4,
   "id": "473f1d78",
   "metadata": {},
   "outputs": [
    {
     "data": {
      "text/html": [
       "<div>\n",
       "<style scoped>\n",
       "    .dataframe tbody tr th:only-of-type {\n",
       "        vertical-align: middle;\n",
       "    }\n",
       "\n",
       "    .dataframe tbody tr th {\n",
       "        vertical-align: top;\n",
       "    }\n",
       "\n",
       "    .dataframe thead th {\n",
       "        text-align: right;\n",
       "    }\n",
       "</style>\n",
       "<table border=\"1\" class=\"dataframe\">\n",
       "  <thead>\n",
       "    <tr style=\"text-align: right;\">\n",
       "      <th></th>\n",
       "      <th>gen_type</th>\n",
       "      <th>headline</th>\n",
       "      <th>additional_info</th>\n",
       "      <th>body</th>\n",
       "      <th>tags</th>\n",
       "      <th>url</th>\n",
       "    </tr>\n",
       "  </thead>\n",
       "  <tbody>\n",
       "    <tr>\n",
       "      <th>0</th>\n",
       "      <td>অন্যান্য</td>\n",
       "      <td>ভুয়া খবর খুঁজতে ভারতে পেশাদার সংস্থা</td>\n",
       "      <td>{'publisher': 'ইত্তেফাক ডেস্ক', 'release': 'প্...</td>\n",
       "      <td>\\nভুয়া খবর খুঁজে বের করার জন্য কেন্দ্রীয় সরকার...</td>\n",
       "      <td>[]</td>\n",
       "      <td>https://www.ittefaq.com.bd/157451</td>\n",
       "    </tr>\n",
       "    <tr>\n",
       "      <th>1</th>\n",
       "      <td>অন্যান্য</td>\n",
       "      <td>হংকংয়ে ৫৩ বিক্ষোভকারী গ্রেপ্তার</td>\n",
       "      <td>{'publisher': 'ইত্তেফাক ডেস্ক', 'release': 'প্...</td>\n",
       "      <td>\\nহংকংয়ে বিক্ষোভকালে ৫৩ গণতন্ত্রপন্থিকে গ্রেপ্...</td>\n",
       "      <td>[]</td>\n",
       "      <td>https://www.ittefaq.com.bd/157452</td>\n",
       "    </tr>\n",
       "    <tr>\n",
       "      <th>2</th>\n",
       "      <td>অন্যান্য</td>\n",
       "      <td>লিবিয়ায় মিসরের যু্দ্ধবিরতির প্রস্তাবে অস্বীকৃত...</td>\n",
       "      <td>{'publisher': 'ইত্তেফাক ডেস্ক', 'release': 'প্...</td>\n",
       "      <td>\\nলিবিয়ায় মিসরের যুদ্ধবিরতির প্রস্তাবে অস্বীকৃ...</td>\n",
       "      <td>[]</td>\n",
       "      <td>https://www.ittefaq.com.bd/157453</td>\n",
       "    </tr>\n",
       "    <tr>\n",
       "      <th>3</th>\n",
       "      <td>অন্যান্য</td>\n",
       "      <td>ফিলিস্তিনের পশ্চিম তীরের দখল নিয়ে ইসরাইলকে সতর...</td>\n",
       "      <td>{'publisher': 'ইত্তেফাক ডেস্ক', 'release': 'প্...</td>\n",
       "      <td>\\nফিলিস্তিনের পশ্চিম তীর দখল নিয়ে ইসরাইলকে কড়া...</td>\n",
       "      <td>[]</td>\n",
       "      <td>https://www.ittefaq.com.bd/157454</td>\n",
       "    </tr>\n",
       "    <tr>\n",
       "      <th>4</th>\n",
       "      <td>অন্যান্য</td>\n",
       "      <td>নকল স্যানিটাইজার বিক্রি নিউ মার্কেটের চার দোকা...</td>\n",
       "      <td>{'publisher': 'ইত্তেফাক রিপোর্ট', 'release': '...</td>\n",
       "      <td>\\nনকল ও অনুমোদনহীন স্যানিটাইজার বিক্রির অপরাধে...</td>\n",
       "      <td>[]</td>\n",
       "      <td>https://www.ittefaq.com.bd/157458</td>\n",
       "    </tr>\n",
       "    <tr>\n",
       "      <th>...</th>\n",
       "      <td>...</td>\n",
       "      <td>...</td>\n",
       "      <td>...</td>\n",
       "      <td>...</td>\n",
       "      <td>...</td>\n",
       "      <td>...</td>\n",
       "    </tr>\n",
       "    <tr>\n",
       "      <th>91711</th>\n",
       "      <td>সারাদেশ</td>\n",
       "      <td>চুয়াডাঙ্গায় হত্যা, ডাকাতি ও মাদক মামলার ১৩ আসা...</td>\n",
       "      <td>{'publisher': 'চুয়াডাঙ্গা প্রতিনিধি', 'release...</td>\n",
       "      <td>\\nচুয়াডাঙ্গা শহরে দুর্বৃত্তদের গোপন বৈঠকে হানা...</td>\n",
       "      <td>[]</td>\n",
       "      <td>https://www.ittefaq.com.bd/55710</td>\n",
       "    </tr>\n",
       "    <tr>\n",
       "      <th>91712</th>\n",
       "      <td>সারাদেশ</td>\n",
       "      <td>মেধাবী আসকর রিকশার চাকায় ভাগ্য ঘুরাতে চায়</td>\n",
       "      <td>{'publisher': 'কক্সবাজার প্রতিনিধি', 'release'...</td>\n",
       "      <td>\\nকক্সবাজারের চকরিয়ার উপকূলীয় বদরখালীর ৪নং ওয়া...</td>\n",
       "      <td>[]</td>\n",
       "      <td>https://www.ittefaq.com.bd/55709</td>\n",
       "    </tr>\n",
       "    <tr>\n",
       "      <th>91713</th>\n",
       "      <td>রাজধানী</td>\n",
       "      <td>দৃষ্টি প্রতিবন্ধীদের ৬ দফা দাবি</td>\n",
       "      <td>{'publisher': 'অনলাইন ডেস্ক', 'release': 'প্রক...</td>\n",
       "      <td>\\n‘দৃষ্টি প্রতিবন্ধী ব্যক্তিদের কর্মে যোগদানের...</td>\n",
       "      <td>[]</td>\n",
       "      <td>https://www.ittefaq.com.bd/55708</td>\n",
       "    </tr>\n",
       "    <tr>\n",
       "      <th>91714</th>\n",
       "      <td>সারাদেশ</td>\n",
       "      <td>ফুটবল কন্যাদের কলসিন্দুর-তারাকান্দা সড়কের বেহা...</td>\n",
       "      <td>{'publisher': 'ধোবাউড়া (ময়মনসিংহ) সংবাদদাতা', ...</td>\n",
       "      <td>\\nগত এক দশকেও বেহাল দশা কাটেনি ময়মনসিংহের ফুটব...</td>\n",
       "      <td>[]</td>\n",
       "      <td>https://www.ittefaq.com.bd/55707</td>\n",
       "    </tr>\n",
       "    <tr>\n",
       "      <th>91715</th>\n",
       "      <td>খেলা</td>\n",
       "      <td>দ্বিতীয় দিনের খেলা পরিত্যক্ত</td>\n",
       "      <td>{'publisher': 'অনলাইন ডেস্ক', 'release': 'প্রক...</td>\n",
       "      <td>\\n   বৃষ্টির কারণে বাংলাদেশ ও দক্ষিণ আফ্রিকার ...</td>\n",
       "      <td>[]</td>\n",
       "      <td>https://www.ittefaq.com.bd/342278</td>\n",
       "    </tr>\n",
       "  </tbody>\n",
       "</table>\n",
       "<p>91716 rows × 6 columns</p>\n",
       "</div>"
      ],
      "text/plain": [
       "       gen_type                                           headline  \\\n",
       "0      অন্যান্য               ভুয়া খবর খুঁজতে ভারতে পেশাদার সংস্থা   \n",
       "1      অন্যান্য                    হংকংয়ে ৫৩ বিক্ষোভকারী গ্রেপ্তার   \n",
       "2      অন্যান্য  লিবিয়ায় মিসরের যু্দ্ধবিরতির প্রস্তাবে অস্বীকৃত...   \n",
       "3      অন্যান্য  ফিলিস্তিনের পশ্চিম তীরের দখল নিয়ে ইসরাইলকে সতর...   \n",
       "4      অন্যান্য  নকল স্যানিটাইজার বিক্রি নিউ মার্কেটের চার দোকা...   \n",
       "...         ...                                                ...   \n",
       "91711   সারাদেশ  চুয়াডাঙ্গায় হত্যা, ডাকাতি ও মাদক মামলার ১৩ আসা...   \n",
       "91712   সারাদেশ          মেধাবী আসকর রিকশার চাকায় ভাগ্য ঘুরাতে চায়   \n",
       "91713   রাজধানী                    দৃষ্টি প্রতিবন্ধীদের ৬ দফা দাবি   \n",
       "91714   সারাদেশ  ফুটবল কন্যাদের কলসিন্দুর-তারাকান্দা সড়কের বেহা...   \n",
       "91715      খেলা                       দ্বিতীয় দিনের খেলা পরিত্যক্ত   \n",
       "\n",
       "                                         additional_info  \\\n",
       "0      {'publisher': 'ইত্তেফাক ডেস্ক', 'release': 'প্...   \n",
       "1      {'publisher': 'ইত্তেফাক ডেস্ক', 'release': 'প্...   \n",
       "2      {'publisher': 'ইত্তেফাক ডেস্ক', 'release': 'প্...   \n",
       "3      {'publisher': 'ইত্তেফাক ডেস্ক', 'release': 'প্...   \n",
       "4      {'publisher': 'ইত্তেফাক রিপোর্ট', 'release': '...   \n",
       "...                                                  ...   \n",
       "91711  {'publisher': 'চুয়াডাঙ্গা প্রতিনিধি', 'release...   \n",
       "91712  {'publisher': 'কক্সবাজার প্রতিনিধি', 'release'...   \n",
       "91713  {'publisher': 'অনলাইন ডেস্ক', 'release': 'প্রক...   \n",
       "91714  {'publisher': 'ধোবাউড়া (ময়মনসিংহ) সংবাদদাতা', ...   \n",
       "91715  {'publisher': 'অনলাইন ডেস্ক', 'release': 'প্রক...   \n",
       "\n",
       "                                                    body tags  \\\n",
       "0      \\nভুয়া খবর খুঁজে বের করার জন্য কেন্দ্রীয় সরকার...   []   \n",
       "1      \\nহংকংয়ে বিক্ষোভকালে ৫৩ গণতন্ত্রপন্থিকে গ্রেপ্...   []   \n",
       "2      \\nলিবিয়ায় মিসরের যুদ্ধবিরতির প্রস্তাবে অস্বীকৃ...   []   \n",
       "3      \\nফিলিস্তিনের পশ্চিম তীর দখল নিয়ে ইসরাইলকে কড়া...   []   \n",
       "4      \\nনকল ও অনুমোদনহীন স্যানিটাইজার বিক্রির অপরাধে...   []   \n",
       "...                                                  ...  ...   \n",
       "91711  \\nচুয়াডাঙ্গা শহরে দুর্বৃত্তদের গোপন বৈঠকে হানা...   []   \n",
       "91712  \\nকক্সবাজারের চকরিয়ার উপকূলীয় বদরখালীর ৪নং ওয়া...   []   \n",
       "91713  \\n‘দৃষ্টি প্রতিবন্ধী ব্যক্তিদের কর্মে যোগদানের...   []   \n",
       "91714  \\nগত এক দশকেও বেহাল দশা কাটেনি ময়মনসিংহের ফুটব...   []   \n",
       "91715  \\n   বৃষ্টির কারণে বাংলাদেশ ও দক্ষিণ আফ্রিকার ...   []   \n",
       "\n",
       "                                     url  \n",
       "0      https://www.ittefaq.com.bd/157451  \n",
       "1      https://www.ittefaq.com.bd/157452  \n",
       "2      https://www.ittefaq.com.bd/157453  \n",
       "3      https://www.ittefaq.com.bd/157454  \n",
       "4      https://www.ittefaq.com.bd/157458  \n",
       "...                                  ...  \n",
       "91711   https://www.ittefaq.com.bd/55710  \n",
       "91712   https://www.ittefaq.com.bd/55709  \n",
       "91713   https://www.ittefaq.com.bd/55708  \n",
       "91714   https://www.ittefaq.com.bd/55707  \n",
       "91715  https://www.ittefaq.com.bd/342278  \n",
       "\n",
       "[91716 rows x 6 columns]"
      ]
     },
     "execution_count": 4,
     "metadata": {},
     "output_type": "execute_result"
    }
   ],
   "source": [
    "# Step 2: Create a DataFrame from JSON Data\n",
    "df = pd.DataFrame(parsed_data)\n",
    "df"
   ]
  },
  {
   "cell_type": "code",
   "execution_count": 5,
   "id": "3977bd57",
   "metadata": {},
   "outputs": [
    {
     "data": {
      "text/plain": [
       "((91716, 6),\n",
       " Index(['gen_type', 'headline', 'additional_info', 'body', 'tags', 'url'], dtype='object'))"
      ]
     },
     "execution_count": 5,
     "metadata": {},
     "output_type": "execute_result"
    }
   ],
   "source": [
    "df.shape, df.columns"
   ]
  },
  {
   "cell_type": "code",
   "execution_count": 6,
   "id": "ade066de",
   "metadata": {
    "scrolled": true
   },
   "outputs": [
    {
     "data": {
      "text/plain": [
       "(16,\n",
       " 90110,\n",
       "    gen_type                                               body\n",
       " 0  অন্যান্য  \\nভুয়া খবর খুঁজে বের করার জন্য কেন্দ্রীয় সরকার...\n",
       " 1  অন্যান্য  \\nহংকংয়ে বিক্ষোভকালে ৫৩ গণতন্ত্রপন্থিকে গ্রেপ্...\n",
       " 2  অন্যান্য  \\nলিবিয়ায় মিসরের যুদ্ধবিরতির প্রস্তাবে অস্বীকৃ...\n",
       " 3  অন্যান্য  \\nফিলিস্তিনের পশ্চিম তীর দখল নিয়ে ইসরাইলকে কড়া...\n",
       " 4  অন্যান্য  \\nনকল ও অনুমোদনহীন স্যানিটাইজার বিক্রির অপরাধে...)"
      ]
     },
     "execution_count": 6,
     "metadata": {},
     "output_type": "execute_result"
    }
   ],
   "source": [
    "df = df[['gen_type', 'body']]\n",
    "len(df['gen_type'].unique()),len(df['body'].unique()),df.head()"
   ]
  },
  {
   "cell_type": "code",
   "execution_count": 7,
   "id": "05329400",
   "metadata": {
    "scrolled": true
   },
   "outputs": [
    {
     "name": "stderr",
     "output_type": "stream",
     "text": [
      "C:\\Users\\SSROY\\AppData\\Local\\Temp\\ipykernel_13192\\3287021994.py:1: SettingWithCopyWarning: \n",
      "A value is trying to be set on a copy of a slice from a DataFrame\n",
      "\n",
      "See the caveats in the documentation: https://pandas.pydata.org/pandas-docs/stable/user_guide/indexing.html#returning-a-view-versus-a-copy\n",
      "  df.dropna(inplace=True)\n",
      "C:\\Users\\SSROY\\AppData\\Local\\Temp\\ipykernel_13192\\3287021994.py:3: SettingWithCopyWarning: \n",
      "A value is trying to be set on a copy of a slice from a DataFrame\n",
      "\n",
      "See the caveats in the documentation: https://pandas.pydata.org/pandas-docs/stable/user_guide/indexing.html#returning-a-view-versus-a-copy\n",
      "  df.drop_duplicates(subset='body', keep='first',inplace=True)\n"
     ]
    },
    {
     "data": {
      "text/plain": [
       "(   gen_type                                               body\n",
       " 0  অন্যান্য  \\nভুয়া খবর খুঁজে বের করার জন্য কেন্দ্রীয় সরকার...\n",
       " 1  অন্যান্য  \\nহংকংয়ে বিক্ষোভকালে ৫৩ গণতন্ত্রপন্থিকে গ্রেপ্...\n",
       " 2  অন্যান্য  \\nলিবিয়ায় মিসরের যুদ্ধবিরতির প্রস্তাবে অস্বীকৃ...\n",
       " 3  অন্যান্য  \\nফিলিস্তিনের পশ্চিম তীর দখল নিয়ে ইসরাইলকে কড়া...\n",
       " 4  অন্যান্য  \\nনকল ও অনুমোদনহীন স্যানিটাইজার বিক্রির অপরাধে...,\n",
       " (90110, 2))"
      ]
     },
     "execution_count": 7,
     "metadata": {},
     "output_type": "execute_result"
    }
   ],
   "source": [
    "df.dropna(inplace=True)\n",
    "# Remove duplicates in 'body' column, keeping the first occurrence\n",
    "df.drop_duplicates(subset='body', keep='first',inplace=True)\n",
    "df.reset_index(inplace=True, drop=True)\n",
    "df.head(), df.shape"
   ]
  },
  {
   "cell_type": "code",
   "execution_count": 8,
   "id": "4b3aff87",
   "metadata": {},
   "outputs": [
    {
     "data": {
      "text/plain": [
       "(90110, 9011, 16)"
      ]
     },
     "execution_count": 8,
     "metadata": {},
     "output_type": "execute_result"
    }
   ],
   "source": [
    "n = len(df['body'].unique())\n",
    "unique_label = len(df['gen_type'].unique())\n",
    "m = int(n* 0.1)\n",
    "n,m,unique_label"
   ]
  },
  {
   "cell_type": "code",
   "execution_count": 9,
   "id": "22cc4654",
   "metadata": {
    "scrolled": true
   },
   "outputs": [
    {
     "data": {
      "text/plain": [
       "array(['অন্যান্য', 'বিশ্ব সংবাদ', 'সারাদেশ', 'রাজধানী', 'বিনোদন',\n",
       "       'শিক্ষা', 'বাণিজ্য', 'খেলা', 'জাতীয়', 'রাজনীতি', 'মতামত', 'টেক',\n",
       "       'প্রবাস', 'ফিচার', 'লাইফস্টাইল', 'ধর্ম'], dtype=object)"
      ]
     },
     "execution_count": 9,
     "metadata": {},
     "output_type": "execute_result"
    }
   ],
   "source": [
    "df['gen_type'].unique()"
   ]
  },
  {
   "cell_type": "code",
   "execution_count": 10,
   "id": "2b31051c",
   "metadata": {},
   "outputs": [],
   "source": [
    "# df = df.sample(m, replace=False)\n",
    "# df.reset_index(inplace=True)\n",
    "# # df.drop(['level_0', 'index'], inplace = True)\n",
    "# df"
   ]
  },
  {
   "cell_type": "code",
   "execution_count": 11,
   "id": "7f8bfb89",
   "metadata": {},
   "outputs": [
    {
     "name": "stdout",
     "output_type": "stream",
     "text": [
      "\n",
      "ভুয়া খবর খুঁজে বের করার জন্য কেন্দ্রীয় সরকারের প্রেস ইনফর্মেশন ব্যুরো বা পিআইবি’র একটা বিশেষ সেল আছে। রাষ্ট্রায়ত্ত্ব সংস্থা প্রসার ভারতীও নিয়মিত ফেক নিউজ খুঁজে বের করে। তবে তাতেও হচ্ছে না। এবার পেশাদার সংস্থাকে দিয়ে সামাজিক মাধ্যমে ফেক নিউজ খুঁজে বের করবে প্রধানমন্ত্রী নরেন্দ্র মোদির সরকার।  েতথ্য ও সম্প্রচার মন্ত্রণালয়ের সংস্থা ব্রডকাস্ট ইঞ্জিনিয়ারিং কনসালটেন্টস ইন্ডিয়া এর জন্য টেন্ডার ডেকেছে। সেই পেশাদার সংস্থার কাজ হবে, তথ্য যাচাই করে ফেক নিউজ খুঁজে বের করা এবং কারা সেই ফেক নিউজ দিচ্ছে তা দেখা এবং তারা কোন দেশ থেকে দিচ্ছে সেটাও খুঁজে বের করা। তথ্য ও সম্প্রচার বিভাগের এক কর্মকর্তা জানিয়েছেন, ভুয়া বা মিথ্যা খবর এখন সরকারের মাথাব্যথার কারণ হয়ে দাঁড়িয়েছে। সংবাদপত্র ও টিভিতে ফেক নিউজ দেয়া হলে তা ধরে ফেলা সহজ। কিন্তু সামাজিক মাধ্যমে ফেক নিউজের এতটাই রমরমা যে সরকার চিন্তিত। সেই ফেক নিউজ ধরাও শক্ত। - ডয়চেভেলে\n",
      "\n"
     ]
    }
   ],
   "source": [
    "# Print the content of the first 'body' entry\n",
    "first_body_content = df.loc[0, 'body']\n",
    "print(first_body_content)"
   ]
  },
  {
   "cell_type": "code",
   "execution_count": 12,
   "id": "b724eea7",
   "metadata": {
    "scrolled": false
   },
   "outputs": [
    {
     "data": {
      "text/plain": [
       "অন্যান্য       54843\n",
       "সারাদেশ        10809\n",
       "বিশ্ব সংবাদ     5150\n",
       "জাতীয়           4230\n",
       "ফিচার           4203\n",
       "খেলা            2755\n",
       "রাজধানী         2279\n",
       "বিনোদন          1514\n",
       "রাজনীতি         1428\n",
       "শিক্ষা          1047\n",
       "বাণিজ্য          692\n",
       "টেক              506\n",
       "প্রবাস           405\n",
       "লাইফস্টাইল       155\n",
       "মতামত             62\n",
       "ধর্ম              32\n",
       "Name: gen_type, dtype: int64"
      ]
     },
     "execution_count": 12,
     "metadata": {},
     "output_type": "execute_result"
    }
   ],
   "source": [
    "gen_type_counts = df['gen_type'].value_counts()\n",
    "gen_type_counts"
   ]
  },
  {
   "cell_type": "code",
   "execution_count": 13,
   "id": "cee3d341",
   "metadata": {},
   "outputs": [
    {
     "name": "stdout",
     "output_type": "stream",
     "text": [
      "5\n",
      "Randomly selected gen_type values:\n",
      "['রাজনীতি' 'বিনোদন' 'খেলা' 'রাজধানী' 'শিক্ষা']\n"
     ]
    }
   ],
   "source": [
    "import random\n",
    "# Filter gen_type values based on count criteria\n",
    "filtered_gen_types = gen_type_counts[(gen_type_counts > 500) & (gen_type_counts < 3000)]\n",
    "\n",
    "random_classes_number = random.randint(3, 6)\n",
    "print(random_classes_number)\n",
    "# Ensure we have at least 5 gen_type values that meet the criteria\n",
    "if len(filtered_gen_types) >= random_classes_number:\n",
    "    # Randomly select 5 gen_type values from the filtered list\n",
    "    random_gen_types = np.random.choice(filtered_gen_types.index, random_classes_number, replace=False)\n",
    "    print(\"Randomly selected gen_type values:\")\n",
    "    print(random_gen_types)\n",
    "else:\n",
    "    print(\"Not enough gen_type values meeting the criteria.\")"
   ]
  },
  {
   "cell_type": "code",
   "execution_count": 14,
   "id": "776a6376",
   "metadata": {},
   "outputs": [
    {
     "data": {
      "text/html": [
       "<div>\n",
       "<style scoped>\n",
       "    .dataframe tbody tr th:only-of-type {\n",
       "        vertical-align: middle;\n",
       "    }\n",
       "\n",
       "    .dataframe tbody tr th {\n",
       "        vertical-align: top;\n",
       "    }\n",
       "\n",
       "    .dataframe thead th {\n",
       "        text-align: right;\n",
       "    }\n",
       "</style>\n",
       "<table border=\"1\" class=\"dataframe\">\n",
       "  <thead>\n",
       "    <tr style=\"text-align: right;\">\n",
       "      <th></th>\n",
       "      <th>gen_type</th>\n",
       "      <th>body</th>\n",
       "    </tr>\n",
       "  </thead>\n",
       "  <tbody>\n",
       "    <tr>\n",
       "      <th>0</th>\n",
       "      <td>রাজধানী</td>\n",
       "      <td>\\nরাজধানীর ইউনাইটেড হাসপাতালের করোনা ইউনিটে অগ...</td>\n",
       "    </tr>\n",
       "    <tr>\n",
       "      <th>1</th>\n",
       "      <td>রাজধানী</td>\n",
       "      <td>\\nজাতীয় হৃদরোগ ইনস্টিটিউটে সরকারি ওষুধ চুরির স...</td>\n",
       "    </tr>\n",
       "    <tr>\n",
       "      <th>2</th>\n",
       "      <td>রাজধানী</td>\n",
       "      <td>\\nছিন্নমূল, খেটে খাওয়া মানুষের মাঝে মৌসুমি ফল ...</td>\n",
       "    </tr>\n",
       "    <tr>\n",
       "      <th>3</th>\n",
       "      <td>বিনোদন</td>\n",
       "      <td>\\nবলিউড ড্যান্সার নোরা ফতেহি। কেরিয়ার শুরু মূল...</td>\n",
       "    </tr>\n",
       "    <tr>\n",
       "      <th>4</th>\n",
       "      <td>শিক্ষা</td>\n",
       "      <td>\\nমহামারীর কারণে সারা পৃথিবীতে পরিবর্তন এসেছে।...</td>\n",
       "    </tr>\n",
       "    <tr>\n",
       "      <th>...</th>\n",
       "      <td>...</td>\n",
       "      <td>...</td>\n",
       "    </tr>\n",
       "    <tr>\n",
       "      <th>9018</th>\n",
       "      <td>শিক্ষা</td>\n",
       "      <td>\\nইসলাম ধর্ম এবং শেষ নবী মুহাম্মদ (সাঃ) কে নিয়...</td>\n",
       "    </tr>\n",
       "    <tr>\n",
       "      <th>9019</th>\n",
       "      <td>রাজধানী</td>\n",
       "      <td>\\nদেশে যতদিন সিগারেট থাকবে ততদিন বিড়ি রাখার দা...</td>\n",
       "    </tr>\n",
       "    <tr>\n",
       "      <th>9020</th>\n",
       "      <td>রাজধানী</td>\n",
       "      <td>\\nঢাকা দক্ষিণ সিটি করপোরেশনের (ডিএসসিসি) মেয়র...</td>\n",
       "    </tr>\n",
       "    <tr>\n",
       "      <th>9021</th>\n",
       "      <td>রাজধানী</td>\n",
       "      <td>\\n‘দৃষ্টি প্রতিবন্ধী ব্যক্তিদের কর্মে যোগদানের...</td>\n",
       "    </tr>\n",
       "    <tr>\n",
       "      <th>9022</th>\n",
       "      <td>খেলা</td>\n",
       "      <td>\\n   বৃষ্টির কারণে বাংলাদেশ ও দক্ষিণ আফ্রিকার ...</td>\n",
       "    </tr>\n",
       "  </tbody>\n",
       "</table>\n",
       "<p>9023 rows × 2 columns</p>\n",
       "</div>"
      ],
      "text/plain": [
       "     gen_type                                               body\n",
       "0     রাজধানী  \\nরাজধানীর ইউনাইটেড হাসপাতালের করোনা ইউনিটে অগ...\n",
       "1     রাজধানী  \\nজাতীয় হৃদরোগ ইনস্টিটিউটে সরকারি ওষুধ চুরির স...\n",
       "2     রাজধানী  \\nছিন্নমূল, খেটে খাওয়া মানুষের মাঝে মৌসুমি ফল ...\n",
       "3      বিনোদন  \\nবলিউড ড্যান্সার নোরা ফতেহি। কেরিয়ার শুরু মূল...\n",
       "4      শিক্ষা  \\nমহামারীর কারণে সারা পৃথিবীতে পরিবর্তন এসেছে।...\n",
       "...       ...                                                ...\n",
       "9018   শিক্ষা  \\nইসলাম ধর্ম এবং শেষ নবী মুহাম্মদ (সাঃ) কে নিয়...\n",
       "9019  রাজধানী  \\nদেশে যতদিন সিগারেট থাকবে ততদিন বিড়ি রাখার দা...\n",
       "9020  রাজধানী  \\nঢাকা দক্ষিণ সিটি করপোরেশনের (ডিএসসিসি) মেয়র...\n",
       "9021  রাজধানী  \\n‘দৃষ্টি প্রতিবন্ধী ব্যক্তিদের কর্মে যোগদানের...\n",
       "9022     খেলা  \\n   বৃষ্টির কারণে বাংলাদেশ ও দক্ষিণ আফ্রিকার ...\n",
       "\n",
       "[9023 rows x 2 columns]"
      ]
     },
     "execution_count": 14,
     "metadata": {},
     "output_type": "execute_result"
    }
   ],
   "source": [
    "# Create a list of specific categories\n",
    "categories = random_gen_types\n",
    "\n",
    "# Use boolean indexing to filter rows based on the 'Section' column\n",
    "df = df[df['gen_type'].isin(categories)]\n",
    "df.reset_index(inplace=True, drop=True)\n",
    "# Print the new DataFrame\n",
    "df"
   ]
  },
  {
   "cell_type": "code",
   "execution_count": 15,
   "id": "a5b6f13c",
   "metadata": {},
   "outputs": [
    {
     "data": {
      "text/plain": [
       "খেলা       2755\n",
       "রাজধানী    2279\n",
       "বিনোদন     1514\n",
       "রাজনীতি    1428\n",
       "শিক্ষা     1047\n",
       "Name: gen_type, dtype: int64"
      ]
     },
     "execution_count": 15,
     "metadata": {},
     "output_type": "execute_result"
    }
   ],
   "source": [
    "df['gen_type'].value_counts()"
   ]
  },
  {
   "cell_type": "code",
   "execution_count": 16,
   "id": "b595265a",
   "metadata": {},
   "outputs": [
    {
     "data": {
      "text/html": [
       "<div>\n",
       "<style scoped>\n",
       "    .dataframe tbody tr th:only-of-type {\n",
       "        vertical-align: middle;\n",
       "    }\n",
       "\n",
       "    .dataframe tbody tr th {\n",
       "        vertical-align: top;\n",
       "    }\n",
       "\n",
       "    .dataframe thead th {\n",
       "        text-align: right;\n",
       "    }\n",
       "</style>\n",
       "<table border=\"1\" class=\"dataframe\">\n",
       "  <thead>\n",
       "    <tr style=\"text-align: right;\">\n",
       "      <th></th>\n",
       "      <th>gen_type</th>\n",
       "      <th>body</th>\n",
       "    </tr>\n",
       "  </thead>\n",
       "  <tbody>\n",
       "    <tr>\n",
       "      <th>0</th>\n",
       "      <td>Capital</td>\n",
       "      <td>\\nরাজধানীর ইউনাইটেড হাসপাতালের করোনা ইউনিটে অগ...</td>\n",
       "    </tr>\n",
       "    <tr>\n",
       "      <th>1</th>\n",
       "      <td>Capital</td>\n",
       "      <td>\\nজাতীয় হৃদরোগ ইনস্টিটিউটে সরকারি ওষুধ চুরির স...</td>\n",
       "    </tr>\n",
       "    <tr>\n",
       "      <th>2</th>\n",
       "      <td>Capital</td>\n",
       "      <td>\\nছিন্নমূল, খেটে খাওয়া মানুষের মাঝে মৌসুমি ফল ...</td>\n",
       "    </tr>\n",
       "    <tr>\n",
       "      <th>3</th>\n",
       "      <td>Entertainment</td>\n",
       "      <td>\\nবলিউড ড্যান্সার নোরা ফতেহি। কেরিয়ার শুরু মূল...</td>\n",
       "    </tr>\n",
       "    <tr>\n",
       "      <th>4</th>\n",
       "      <td>Education</td>\n",
       "      <td>\\nমহামারীর কারণে সারা পৃথিবীতে পরিবর্তন এসেছে।...</td>\n",
       "    </tr>\n",
       "    <tr>\n",
       "      <th>...</th>\n",
       "      <td>...</td>\n",
       "      <td>...</td>\n",
       "    </tr>\n",
       "    <tr>\n",
       "      <th>9018</th>\n",
       "      <td>Education</td>\n",
       "      <td>\\nইসলাম ধর্ম এবং শেষ নবী মুহাম্মদ (সাঃ) কে নিয়...</td>\n",
       "    </tr>\n",
       "    <tr>\n",
       "      <th>9019</th>\n",
       "      <td>Capital</td>\n",
       "      <td>\\nদেশে যতদিন সিগারেট থাকবে ততদিন বিড়ি রাখার দা...</td>\n",
       "    </tr>\n",
       "    <tr>\n",
       "      <th>9020</th>\n",
       "      <td>Capital</td>\n",
       "      <td>\\nঢাকা দক্ষিণ সিটি করপোরেশনের (ডিএসসিসি) মেয়র...</td>\n",
       "    </tr>\n",
       "    <tr>\n",
       "      <th>9021</th>\n",
       "      <td>Capital</td>\n",
       "      <td>\\n‘দৃষ্টি প্রতিবন্ধী ব্যক্তিদের কর্মে যোগদানের...</td>\n",
       "    </tr>\n",
       "    <tr>\n",
       "      <th>9022</th>\n",
       "      <td>Sports</td>\n",
       "      <td>\\n   বৃষ্টির কারণে বাংলাদেশ ও দক্ষিণ আফ্রিকার ...</td>\n",
       "    </tr>\n",
       "  </tbody>\n",
       "</table>\n",
       "<p>9023 rows × 2 columns</p>\n",
       "</div>"
      ],
      "text/plain": [
       "           gen_type                                               body\n",
       "0           Capital  \\nরাজধানীর ইউনাইটেড হাসপাতালের করোনা ইউনিটে অগ...\n",
       "1           Capital  \\nজাতীয় হৃদরোগ ইনস্টিটিউটে সরকারি ওষুধ চুরির স...\n",
       "2           Capital  \\nছিন্নমূল, খেটে খাওয়া মানুষের মাঝে মৌসুমি ফল ...\n",
       "3     Entertainment  \\nবলিউড ড্যান্সার নোরা ফতেহি। কেরিয়ার শুরু মূল...\n",
       "4         Education  \\nমহামারীর কারণে সারা পৃথিবীতে পরিবর্তন এসেছে।...\n",
       "...             ...                                                ...\n",
       "9018      Education  \\nইসলাম ধর্ম এবং শেষ নবী মুহাম্মদ (সাঃ) কে নিয়...\n",
       "9019        Capital  \\nদেশে যতদিন সিগারেট থাকবে ততদিন বিড়ি রাখার দা...\n",
       "9020        Capital  \\nঢাকা দক্ষিণ সিটি করপোরেশনের (ডিএসসিসি) মেয়র...\n",
       "9021        Capital  \\n‘দৃষ্টি প্রতিবন্ধী ব্যক্তিদের কর্মে যোগদানের...\n",
       "9022         Sports  \\n   বৃষ্টির কারণে বাংলাদেশ ও দক্ষিণ আফ্রিকার ...\n",
       "\n",
       "[9023 rows x 2 columns]"
      ]
     },
     "execution_count": 16,
     "metadata": {},
     "output_type": "execute_result"
    }
   ],
   "source": [
    "# Mapping of old names to new names\n",
    "name_mapping = {\n",
    "    'রাজনীতি': 'Politics',\n",
    "    'খেলা': 'Sports',\n",
    "    'রাজধানী': 'Capital',\n",
    "    'বিনোদন': 'Entertainment',\n",
    "    'শিক্ষা': 'Education',\n",
    "}\n",
    "\n",
    "# Replace values in the 'gen_type' column\n",
    "df['gen_type'] = df['gen_type'].replace(name_mapping)\n",
    "df"
   ]
  },
  {
   "cell_type": "code",
   "execution_count": 17,
   "id": "84e69534",
   "metadata": {
    "scrolled": true
   },
   "outputs": [
    {
     "data": {
      "text/plain": [
       "9023"
      ]
     },
     "execution_count": 17,
     "metadata": {},
     "output_type": "execute_result"
    }
   ],
   "source": [
    "each_class= df['gen_type'].value_counts()\n",
    "each_class.sum()"
   ]
  },
  {
   "cell_type": "code",
   "execution_count": 18,
   "id": "32b8826c",
   "metadata": {},
   "outputs": [
    {
     "data": {
      "text/plain": [
       "<Axes: >"
      ]
     },
     "execution_count": 18,
     "metadata": {},
     "output_type": "execute_result"
    },
    {
     "data": {
      "image/png": "[encoded data removed]",
      "text/plain": [
       "<Figure size 640x480 with 1 Axes>"
      ]
     },
     "metadata": {},
     "output_type": "display_data"
    }
   ],
   "source": [
    "each_class.plot.bar()"
   ]
  },
  {
   "cell_type": "code",
   "execution_count": 19,
   "id": "5d0dcefd",
   "metadata": {},
   "outputs": [
    {
     "data": {
      "text/plain": [
       "(0       \\nরাজধানীর ইউনাইটেড হাসপাতালের করোনা ইউনিটে অগ...\n",
       " 1       \\nজাতীয় হৃদরোগ ইনস্টিটিউটে সরকারি ওষুধ চুরির স...\n",
       " 2       \\nছিন্নমূল, খেটে খাওয়া মানুষের মাঝে মৌসুমি ফল ...\n",
       " 3       \\nবলিউড ড্যান্সার নোরা ফতেহি। কেরিয়ার শুরু মূল...\n",
       " 4       \\nমহামারীর কারণে সারা পৃথিবীতে পরিবর্তন এসেছে।...\n",
       "                               ...                        \n",
       " 9018    \\nইসলাম ধর্ম এবং শেষ নবী মুহাম্মদ (সাঃ) কে নিয়...\n",
       " 9019    \\nদেশে যতদিন সিগারেট থাকবে ততদিন বিড়ি রাখার দা...\n",
       " 9020    \\nঢাকা দক্ষিণ সিটি করপোরেশনের (ডিএসসিসি) মেয়র...\n",
       " 9021    \\n‘দৃষ্টি প্রতিবন্ধী ব্যক্তিদের কর্মে যোগদানের...\n",
       " 9022    \\n   বৃষ্টির কারণে বাংলাদেশ ও দক্ষিণ আফ্রিকার ...\n",
       " Name: body, Length: 9023, dtype: object,\n",
       " 0             Capital\n",
       " 1             Capital\n",
       " 2             Capital\n",
       " 3       Entertainment\n",
       " 4           Education\n",
       "             ...      \n",
       " 9018        Education\n",
       " 9019          Capital\n",
       " 9020          Capital\n",
       " 9021          Capital\n",
       " 9022           Sports\n",
       " Name: gen_type, Length: 9023, dtype: object)"
      ]
     },
     "execution_count": 19,
     "metadata": {},
     "output_type": "execute_result"
    }
   ],
   "source": [
    "X = df['body']\n",
    "y=df['gen_type']\n",
    "X,y"
   ]
  },
  {
   "cell_type": "code",
   "execution_count": 20,
   "id": "8d15beb3",
   "metadata": {},
   "outputs": [
    {
     "data": {
      "text/plain": [
       "(['Capital', 'Entertainment', 'Education', 'Sports', 'Politics'],\n",
       " gen_type       5\n",
       " body        9023\n",
       " dtype: int64)"
      ]
     },
     "execution_count": 20,
     "metadata": {},
     "output_type": "execute_result"
    }
   ],
   "source": [
    "## Get the Dependent features\n",
    "classes = list(y.unique())\n",
    "classes, df.nunique()"
   ]
  },
  {
   "cell_type": "code",
   "execution_count": 21,
   "id": "dc506bc3",
   "metadata": {},
   "outputs": [
    {
     "data": {
      "text/plain": [
       "(array([0, 0, 0, ..., 0, 0, 4]), 9023)"
      ]
     },
     "execution_count": 21,
     "metadata": {},
     "output_type": "execute_result"
    }
   ],
   "source": [
    "from sklearn.preprocessing import LabelEncoder\n",
    "y = LabelEncoder().fit_transform(y)\n",
    "y, len(y)"
   ]
  },
  {
   "cell_type": "code",
   "execution_count": 22,
   "id": "27515526",
   "metadata": {},
   "outputs": [
    {
     "name": "stdout",
     "output_type": "stream",
     "text": [
      "[0 1 2 3 4] [2279 1047 1514 1428 2755]\n"
     ]
    }
   ],
   "source": [
    "import numpy as np\n",
    "unique_values, counts = np.unique(y, return_counts=True)\n",
    "print(unique_values, counts)"
   ]
  },
  {
   "cell_type": "code",
   "execution_count": 23,
   "id": "cef16d60",
   "metadata": {},
   "outputs": [
    {
     "data": {
      "text/plain": [
       "732"
      ]
     },
     "execution_count": 23,
     "metadata": {},
     "output_type": "execute_result"
    }
   ],
   "source": [
    "import re\n",
    "from temp_stemmer.bangla_stemmer.stemmer.stemmer import BanglaStemmer  # for stemming \n",
    "st_words = ('অই', 'অগত্যা', 'অত: পর', 'অতএব', 'অথচ', 'অথবা', 'অধিক', 'অধীনে', 'অধ্যায়', 'অনুগ্রহ', 'অনুভূত', 'অনুযায়ী', 'অনুরূপ', 'অনুসন্ধান', 'অনুসরণ', 'অনুসারে', 'অনুসৃত', 'অনেক', 'অনেকে', 'অনেকেই', 'অন্তত', 'অন্য', 'অন্যত্র', 'অন্যভাবে', 'অন্যান্য', 'অপেক্ষাকৃতভাবে', 'অবধি', 'অবশ্য', 'অবশ্যই', 'অবস্থা', 'অবিলম্বে', 'অভ্যন্তরস্থ', 'অর্জিত', 'অর্থাত', 'অসদৃশ', 'অসম্ভাব্য', 'আইন', 'আউট', 'আক্রান্ত', 'আগামী', 'আগে', 'আগেই', 'আগ্রহী', 'আছে', 'আজ', 'আট', 'আদেশ', 'আদ্যভাগে', 'আন্দাজ', 'আপনার', 'আপনি', 'আবার', 'আমরা', 'আমাকে', 'আমাদিগের', 'আমাদের', 'আমার', 'আমি', 'আর', 'আরও', 'আশি', 'আশু', 'আসা', 'আসে', 'ই', 'ইচ্ছা', 'ইচ্ছাপূর্বক', 'ইতিমধ্যে', 'ইতোমধ্যে', 'ইত্যাদি', 'ইশারা', 'ইহা', 'ইহাতে', 'উক্তি', 'উচিত', 'উচ্চ', 'উঠা', 'উত্তম', 'উত্তর', 'উনি', 'উপর', 'উপরে', 'উপলব্ধ', 'উপায়', 'উভয়', 'উল্লেখ', 'উল্লেখযোগ্যভাবে', 'উহার', 'ঊর্ধ্বতন', 'এ', 'এপর্যন্ত', 'এঁদের', 'এঁরা', 'এই', 'এইগুলো', 'এইভাবে', 'এক', 'একই', 'একটি', 'একদা', 'একবার', 'একভাবে', 'একরকম', 'একসঙ্গে', 'একা', 'একে', 'এক্', 'এখন', 'এখনও', 'এখনো', 'এখানে', 'এখানেই', 'এছাড়াও', 'এটা', 'এটাই', 'এটি', 'এত', 'এতটাই', 'এতদ্বারা', 'এতে', 'এদিকে', 'এদের', 'এপর্যন্ত', 'এবং', 'এবার', 'এমন', 'এমনকি', 'এমনকী', 'এমনি', 'এর', 'এরকম', 'এরা', 'এল', 'এলাকায়', 'এলাকার', 'এস', 'এসে', 'ঐ', 'ও', 'ওঁদের', 'ওঁর', 'ওঁরা', 'ওই', 'ওকে', 'ওখানে', 'ওদের', 'ওর', 'ওরা', 'ওহে', 'কক্ষ', 'কখন', 'কখনও', 'কত', 'কবে', 'কম', 'কমনে', 'কয়েক', 'কয়েকটি', 'করছে', 'করছেন', 'করতে', 'করবে', 'করবেন', 'করলে', 'করলেন', 'করলো', 'করা', 'করাই', 'করাত', 'করার', 'করায়', 'করি', 'করিতে', 'করিয়া', 'করিয়ে', 'করে', 'করেই', 'করেছিল', 'করেছিলেন', 'করেছে', 'করেছেন', 'করেন', 'কর্তব্য', 'কাউকে', 'কাছ', 'কাছাকাছি', 'কাছে', 'কাজ', 'কাজে', 'কারও', 'কারণ', 'কারণসমূহ', 'কারো', 'কি', 'কিংবা', 'কিছু', 'কিছুই', 'কিছুটা', 'কিছুনা', 'কিনা', 'কিন্তু', 'কিভাবে', 'কী', 'কূপ', 'কে', 'কেউ', 'কেউই', 'কেউনা', 'কেখা', 'কেন', 'কেবল', 'কেবা', 'কেস', 'কেহ', 'কোটি', 'কোথা', 'কোথাও', 'কোথায়', 'কোন', 'কোনও', 'কোনো', 'ক্রম', 'ক্ষেত্রে', 'কয়েক', 'কয়েকটি', 'খুঁজছেন', 'খুব', 'খোলা', 'খোলে', 'গড়', 'গত', 'গিয়ে', 'গিয়েছিলাম', 'গিয়েছে', 'গিয়ে', 'গিয়েছে', 'গুরুত্ব', 'গুলি', 'গেছে', 'গেল', 'গেলে', 'গোটা', 'গোষ্ঠীবদ্ধ', 'গ্রহণ', 'গ্রুপ', 'ঘর', 'ঘোষণা', 'চলে', 'চান', 'চায়', 'চার', 'চালা', 'চালান', 'চালু', 'চায়', 'চেয়ে', 'চেয়েছিলেন', 'চেষ্টা', 'চেয়ে', 'ছয়', 'ছাড়া', 'ছাড়াছাড়ি', 'ছাড়া', 'ছাড়াও', 'ছিল', 'ছিলেন', 'ছোট', 'জন', 'জনকে', 'জনাব', 'জনাবা', 'জনের', 'জন্য', 'জানতাম', 'জানতে', 'জানা', 'জানানো', 'জানায়', 'জানিয়ে', 'জানিয়েছে', 'জানে', 'জায়গা', 'জিজ্ঞাসা', 'জিজ্ঞেস', 'জিনিস', 'জে', 'জ্নজন', 'টা', 'টি', 'ঠিক', 'ঠিকআছে', 'ডগা', 'তখন', 'তত', 'তত্কারণে', 'তত্প্রতি', 'তথা', 'তদনুসারে', 'তদ্ব্যতীত', 'তন্নতন্ন', 'তবু', 'তবে', 'তরুণ', 'তা', 'তাঁকে', 'তাঁদের', 'তাঁর', 'তাঁরা', 'তাঁহারা', 'তাই', 'তাও', 'তাকে', 'তাতে', 'তাদের', 'তার', 'তারপর', 'তারপরেও', 'তারা', 'তারিখ', 'তারৈ', 'তাহলে', 'তাহা', 'তাহাতে', 'তাহাদিগকে', 'তাহাদেরই', 'তাহার', 'তিন', 'তিনি', 'তিনিও', 'তীক্ষ্ন', 'তুমি', 'তুলে', 'তেমন', 'তৈরীর', 'তো', 'তোমার', 'তোলে', 'থাকবে', 'থাকবেন', 'থাকা', 'থাকায়', 'থাকায়', 'থাকে', 'থাকেন', 'থেকে', 'থেকেই', 'থেকেও', 'দরকারী', 'দলবদ্ধ', 'দান', 'দিকে', 'দিতে', 'দিন', 'দিয়ে', 'দিয়েছে', 'দিয়েছেন', 'দিলেন', 'দিয়ে', 'দিয়েছে', 'দিয়েছেন', 'দু', 'দুই', 'দুটি', 'দুটো', 'দূরে', 'দেওয়ার', 'দেওয়া', 'দেওয়ার', 'দেখতে', 'দেখা', 'দেখাচ্ছে', 'দেখিয়েছেন', 'দেখে', 'দেখেন', 'দেন', 'দেয়', 'দেয়', 'দ্বারা', 'দ্বিগুণ', 'দ্বিতীয়', 'দ্য', 'ধরা', 'ধরে', 'ধামার', 'নতুন', 'নব্বই', 'নয়', 'নাই', 'নাকি', 'নাগাদ', 'নানা', 'নাম', 'নিচে', 'নিছক', 'নিজে', 'নিজেই', 'নিজেকে', 'নিজেদের', 'নিজেদেরকে', 'নিজের', 'নিতে', 'নিদিষ্ট', 'নিম্নাভিমুখে', 'নিয়ে', 'নির্দিষ্ট', 'নির্বিশেষে', 'নিশ্চিত', 'নিয়ে', 'নেই', 'নেওয়ার', 'নেওয়া', 'নেয়ার', 'নয়', 'পক্ষই', 'পক্ষে', 'পঞ্চম', 'পড়া', 'পণ্য', 'পথ', 'পয়েন্ট', 'পর', 'পরন্তু', 'পরবর্তী', 'পরিণত', 'পরিবর্তে', 'পরে', 'পরেই', 'পরেও', 'পর্যন্ত', 'পর্যাপ্ত', 'পাঁচ', 'পাওয়া', 'পাচ', 'পায়', 'পারা', 'পারি', 'পারিনি', 'পারে', 'পারেন', 'পালা', 'পাশ', 'পাশে', 'পিছনে', 'পিঠের', 'পুরোনো', 'পুরোপুরি', 'পূর্বে', 'পৃষ্ঠা', 'পৃষ্ঠাগুলি', 'পেছনে', 'পেয়েছেন', 'পেয়ে', 'পেয়্র্', 'প্রকৃতপক্ষে', 'প্রণীত', 'প্রতি', 'প্রথম', 'প্রদত্ত', 'প্রদর্শনী', 'প্রদর্শিত', 'প্রধানত', 'প্রবলভাবে', 'প্রভৃতি', 'প্রমাণীকরণ', 'প্রযন্ত', 'প্রয়োজন', 'প্রয়োজনীয়', 'প্রসূত', 'প্রাক্তন', 'প্রাথমিক', 'প্রাথমিকভাবে', 'প্রান্ত', 'প্রাপ্ত', 'প্রায়', 'প্রায়ই', 'প্রায়', 'ফলাফল', 'ফলে', 'ফিক্স', 'ফিরে', 'ফের', 'বক্তব্য', 'বছর', 'বড়', 'বদলে', 'বন', 'বন্ধ', 'বরং', 'বরাবর', 'বর্ণন', 'বর্তমান', 'বলতে', 'বলল', 'বললেন', 'বলা', 'বলে', 'বলেছেন', 'বলেন', 'বসে', 'বহু', 'বা', 'বাঁক', 'বাইরে', 'বাকি', 'বাড়ি', 'বাতিক', 'বাদ', 'বাদে', 'বার', 'বাহিরে', 'বিনা', 'বিন্দু', 'বিভিন্ন', 'বিশেষ', 'বিশেষণ', 'বিশেষত', 'বিশেষভাবে', 'বিশ্ব', 'বিষয়টি', 'বুঝিয়ে', 'বৃহত্তর', 'বের', 'বেশ', 'বেশি', 'বেশী', 'ব্যতীত', 'ব্যবহার', 'ব্যবহারসমূহ', 'ব্যবহৃত', 'ব্যাক', 'ব্যাপকভাবে', 'ব্যাপারে', 'ভবিষ্যতে', 'ভান', 'ভাবে', 'ভাবেই', 'ভাল', 'ভিতরে', 'ভিন্ন', 'ভিন্নভাবে', 'মত', 'মতো', 'মতোই', 'মধ্যভাগে', 'মধ্যে', 'মধ্যেই', 'মধ্যেও', 'মনে', 'মনে হয়', 'মস্ত', 'মহান', 'মাত্র', 'মাধ্যম', 'মাধ্যমে', 'মান', 'মানানসই', 'মানুষ', 'মানে', 'মামলা', 'মিলিয়ন', 'মুখ', 'মূলত', 'মোট', 'মোটেই', 'যখন', 'যখনই', 'যত', 'যতটা', 'যথা', 'যথাক্রমে', 'যথেষ্ট', 'যদি', 'যদিও', 'যন্ত্রাংশ', 'যা', 'যাঁর', 'যাঁরা', 'যাই', 'যাওয়া', 'যাওয়ার', 'যাওয়া', 'যাওয়ার', 'যাকে', 'যাচ্ছে', 'যাতে', 'যাদের', 'যান', 'যাবে', 'যায়', 'যার', 'যারা', 'যাহার', 'যাহোক', 'যিনি', 'যে', 'যেখানে', 'যেখানেই', 'যেটি', 'যেতে', 'যেন', 'যেমন', 'যেহেতু', 'যোগ', 'রকম', 'রয়েছে', 'রাখা', 'রাখে', 'রাজী', 'রাজ্যের', 'রেখে', 'রয়েছে', 'লক্ষ', 'লাইন', 'লাল', 'শত', 'শব্দ', 'শীঘ্র', 'শীঘ্রই', 'শুধু', 'শুরু', 'শুরুতে', 'শূন্য', 'শেষ', 'সংক্রান্ত', 'সংক্ষিপ্ত', 'সংক্ষেপে', 'সংখ্যা', 'সংখ্যার', 'সংশ্লিষ্ট', 'সক্ষম', 'সঙ্গে', 'সঙ্গেও', 'সত্য', 'সত্যিই', 'সদয়', 'সদস্য', 'সদস্যদের', 'সফলভাবে', 'সব', 'সবচেয়ে', 'সবাই', 'সবার', 'সময়', 'সমস্ত', 'সমান', 'সম্পন্ন', 'সম্প্রতি', 'সম্ভব', 'সম্ভবত', 'সম্ভাব্য', 'সরাইয়া', 'সর্বত্র', 'সর্বদা', 'সর্বস্বান্ত', 'সহ', 'সহিত', 'সাত', 'সাধারণ', 'সাধারণত', 'সাব', 'সাবেক', 'সামগ্রিক', 'সামনে', 'সামান্য', 'সাম্প্রতিক', 'সুতরাং', 'সুত্র', 'সূচক', 'সে', 'সে হবে', 'সেই', 'সেকেন্ড', 'সেখান', 'সেখানে', 'সেগুলো', 'সেটা', 'সেটাই', 'সেটাও', 'সেটি', 'সেরা', 'স্টপ', 'স্থাপিত', 'স্পষ্ট', 'স্পষ্টত', 'স্পষ্টতই', 'স্ব', 'স্বয়ং', 'স্বাগত', 'স্বাভাবিকভাবে', 'স্বার্থ', 'স্বয়ং', 'হইতে', 'হইবে', 'হইয়া', 'হওয়া', 'হওয়ায়', 'হওয়ার', 'হচ্ছে', 'হত', 'হতে', 'হতেই', 'হন', 'হবে', 'হবেন', 'হয়', 'হয়তো', 'হয়নি', 'হয়ে', 'হয়েই', 'হয়েছিল', 'হয়েছে', 'হয়েছেন', 'হল', 'হলে', 'হলেই', 'হলেও', 'হলো', 'হাজার', 'হায়', 'হারানো', 'হিসাবে', 'হৈলে', 'হোক', 'হয়', 'হয়তো', 'হয়নি', 'হয়ে', 'হয়েই', 'হয়েছিল', 'হয়েছে', 'হয়েছেন', 'অংশ')\n",
    "len(st_words)"
   ]
  },
  {
   "cell_type": "code",
   "execution_count": 24,
   "id": "f95e3157",
   "metadata": {},
   "outputs": [],
   "source": [
    "# para = df['body'][387]\n",
    "# sentences = re.sub(r'\\n{2,}|\\n|।|,', \"\", para)\n",
    "# sentences"
   ]
  },
  {
   "cell_type": "code",
   "execution_count": 25,
   "id": "73517b16",
   "metadata": {},
   "outputs": [],
   "source": [
    "corpus = []\n",
    "no_of_words = 0\n",
    "for i in range(df.shape[0]):\n",
    "    para = df['body'][i]\n",
    "    sentences = re.sub(r'\\n{2,}|\\n|।|,|!|@|<|>|#|\\$|%|\\^|&|\\*|\\(|\\)|\\\\|/', \"\", para)\n",
    "    words = sentences.split()\n",
    "    \n",
    "\n",
    "    words = [word for word in words if word not in st_words]\n",
    "#     words = [word for word in words if not word in stopwords.words('english')]\n",
    "    words = [BanglaStemmer().stem(word) for word in words]\n",
    "    no_of_words += len(words) \n",
    "    line = ' '.join(words)\n",
    "    corpus.append(line)"
   ]
  },
  {
   "cell_type": "code",
   "execution_count": 26,
   "id": "11b893c4",
   "metadata": {},
   "outputs": [
    {
     "data": {
      "text/plain": [
       "164.94259115593482"
      ]
     },
     "execution_count": 26,
     "metadata": {},
     "output_type": "execute_result"
    }
   ],
   "source": [
    "# avg word/news \n",
    "no_of_words/df.shape[0]"
   ]
  },
  {
   "cell_type": "code",
   "execution_count": 27,
   "id": "4806206d",
   "metadata": {},
   "outputs": [
    {
     "data": {
      "text/plain": [
       "'রাজধানীর ইউনাইটেড হাসপাতাল করোনা ইউনিটে অগ্নিকাণ্ড নেপথ্যে কর্তৃপক্ষ অবহেলা দায়ী ফায়া সার্ভ সিভিল ডিফেন্স কর্তৃপক্ষ গঠিত তদন্ত কমি বল ফায়া সনদ বসানো করোনা ইউনিটে অগ্নিনির্বাপন সরঞ্জাম না আগুন সময় জরুরী নির্গমণ ত্রুুটিপূর্ণ জান শীতাপত নিয়ন্ত্রিত পুরনে মেশিন বসানো করোনা ইউনিটে অগ্নিনির্বাপন ফায়া স্টুইংগুইস মেয়াদোত্তীর্ণ ছিলবুধব ফায়া সার্ভিস গঠন কমি সংস্থা মহাপরিচালক ডিজি তদন্ত প্রতিবেদন জমা প্রতিবেদনে চিকিৎনাধীন ৫ রোগীর প্রাণহানির ইউনাইটেড হাসপাতাল কর্তৃপক্ষ অবহেলা গাফিলতি দায়ি করেছেতদন্ত কমি প্রধান ফায়া সার্ভ সিভিল ডিফেন্স উপ-পরিচালক ঢাকা দেবাশীষ বর্ধন অগ্নিকাণ্ড ক্ষয়ক্ষতি প্রাণহানির বিবরণ প্রতিকারে সুপারিশ করে করোনা ইউনিটে ধরন ফায়া এক্সিট রাখেনি ভষ্মীভুত করোনা ইউনিট অস্থায়ীভাবে তৈরি পার্টিশন পারটেক্স তৈরি অতিমাত্রায় দাহ্য আগুন লাগ তাৎক্ষণিকভাবে পুরোটায় লাগ যায় দায়িত্বরত কর্মকর্তা প্রাণ বাঁচা বেরা নিরাপদে আগুন লাগা সময় রোগী বাঁচানোর আগুন লাগা একজন রোগী পারেননি হ্যান্ড স্যানিটাইজ অক্সিজ সিলিন্ডারসহ অতিদাহ্য পদার্থ ছিলপ্রসঙ্গত ২৭ মে রাত রাজধানীর গুলশান ইউনাইটেড হাসপাতাল করোনা ইউনিটে অগ্নিকাণ্ডে ৫ রোগী দগ্ধ মার ইত্তেফাকবিএএফ'"
      ]
     },
     "execution_count": 27,
     "metadata": {},
     "output_type": "execute_result"
    }
   ],
   "source": [
    "corpus[0]"
   ]
  },
  {
   "cell_type": "code",
   "execution_count": 28,
   "id": "579f99cc",
   "metadata": {},
   "outputs": [],
   "source": [
    "from sklearn.feature_extraction.text import TfidfVectorizer\n",
    "tv = TfidfVectorizer(max_features=1000,ngram_range=(1,3))\n",
    "X = tv.fit_transform(corpus).toarray()"
   ]
  },
  {
   "cell_type": "code",
   "execution_count": 29,
   "id": "98bbdfda",
   "metadata": {},
   "outputs": [
    {
     "data": {
      "text/plain": [
       "(9023, 1000)"
      ]
     },
     "execution_count": 29,
     "metadata": {},
     "output_type": "execute_result"
    }
   ],
   "source": [
    "X.shape"
   ]
  },
  {
   "cell_type": "code",
   "execution_count": 30,
   "id": "4b3b76f4",
   "metadata": {},
   "outputs": [
    {
     "data": {
      "text/plain": [
       "array([0, 0, 0, ..., 0, 0, 4])"
      ]
     },
     "execution_count": 30,
     "metadata": {},
     "output_type": "execute_result"
    }
   ],
   "source": [
    "y"
   ]
  },
  {
   "cell_type": "code",
   "execution_count": 31,
   "id": "9feff0de",
   "metadata": {},
   "outputs": [
    {
     "data": {
      "text/plain": [
       "array(['অক', 'অক বর', 'অগ', 'অঙ', 'অজ', 'অঞ', 'অঞ চল', 'অত', 'অত বক',\n",
       "       'অত বক তব', 'অত যন', 'অধ', 'অধ দপ', 'অধ দপ তর', 'অধ পক', 'অধ য়ক',\n",
       "       'অন', 'অন তর', 'অন দন', 'অন মত'], dtype=object)"
      ]
     },
     "execution_count": 31,
     "metadata": {},
     "output_type": "execute_result"
    }
   ],
   "source": [
    "tv.get_feature_names_out()[:20]"
   ]
  },
  {
   "cell_type": "code",
   "execution_count": 32,
   "id": "0603a6e3",
   "metadata": {},
   "outputs": [
    {
     "data": {
      "text/html": [
       "<div>\n",
       "<style scoped>\n",
       "    .dataframe tbody tr th:only-of-type {\n",
       "        vertical-align: middle;\n",
       "    }\n",
       "\n",
       "    .dataframe tbody tr th {\n",
       "        vertical-align: top;\n",
       "    }\n",
       "\n",
       "    .dataframe thead th {\n",
       "        text-align: right;\n",
       "    }\n",
       "</style>\n",
       "<table border=\"1\" class=\"dataframe\">\n",
       "  <thead>\n",
       "    <tr style=\"text-align: right;\">\n",
       "      <th></th>\n",
       "      <th>অক</th>\n",
       "      <th>অক বর</th>\n",
       "      <th>অগ</th>\n",
       "      <th>অঙ</th>\n",
       "      <th>অজ</th>\n",
       "      <th>অঞ</th>\n",
       "      <th>অঞ চল</th>\n",
       "      <th>অত</th>\n",
       "      <th>অত বক</th>\n",
       "      <th>অত বক তব</th>\n",
       "      <th>...</th>\n",
       "      <th>৫ট</th>\n",
       "      <th>৫০</th>\n",
       "      <th>৬ট</th>\n",
       "      <th>৬০</th>\n",
       "      <th>৭ট</th>\n",
       "      <th>৭০</th>\n",
       "      <th>৮ট</th>\n",
       "      <th>৮০</th>\n",
       "      <th>৯ট</th>\n",
       "      <th>target</th>\n",
       "    </tr>\n",
       "  </thead>\n",
       "  <tbody>\n",
       "    <tr>\n",
       "      <th>0</th>\n",
       "      <td>0.066406</td>\n",
       "      <td>0.0</td>\n",
       "      <td>0.371496</td>\n",
       "      <td>0.000000</td>\n",
       "      <td>0.0</td>\n",
       "      <td>0.0</td>\n",
       "      <td>0.0</td>\n",
       "      <td>0.098021</td>\n",
       "      <td>0.0</td>\n",
       "      <td>0.0</td>\n",
       "      <td>...</td>\n",
       "      <td>0.0</td>\n",
       "      <td>0.0</td>\n",
       "      <td>0.000000</td>\n",
       "      <td>0.0</td>\n",
       "      <td>0.0</td>\n",
       "      <td>0.0</td>\n",
       "      <td>0.0</td>\n",
       "      <td>0.0</td>\n",
       "      <td>0.0</td>\n",
       "      <td>0</td>\n",
       "    </tr>\n",
       "    <tr>\n",
       "      <th>1</th>\n",
       "      <td>0.000000</td>\n",
       "      <td>0.0</td>\n",
       "      <td>0.000000</td>\n",
       "      <td>0.000000</td>\n",
       "      <td>0.0</td>\n",
       "      <td>0.0</td>\n",
       "      <td>0.0</td>\n",
       "      <td>0.000000</td>\n",
       "      <td>0.0</td>\n",
       "      <td>0.0</td>\n",
       "      <td>...</td>\n",
       "      <td>0.0</td>\n",
       "      <td>0.0</td>\n",
       "      <td>0.000000</td>\n",
       "      <td>0.0</td>\n",
       "      <td>0.0</td>\n",
       "      <td>0.0</td>\n",
       "      <td>0.0</td>\n",
       "      <td>0.0</td>\n",
       "      <td>0.0</td>\n",
       "      <td>0</td>\n",
       "    </tr>\n",
       "    <tr>\n",
       "      <th>2</th>\n",
       "      <td>0.000000</td>\n",
       "      <td>0.0</td>\n",
       "      <td>0.000000</td>\n",
       "      <td>0.000000</td>\n",
       "      <td>0.0</td>\n",
       "      <td>0.0</td>\n",
       "      <td>0.0</td>\n",
       "      <td>0.000000</td>\n",
       "      <td>0.0</td>\n",
       "      <td>0.0</td>\n",
       "      <td>...</td>\n",
       "      <td>0.0</td>\n",
       "      <td>0.0</td>\n",
       "      <td>0.000000</td>\n",
       "      <td>0.0</td>\n",
       "      <td>0.0</td>\n",
       "      <td>0.0</td>\n",
       "      <td>0.0</td>\n",
       "      <td>0.0</td>\n",
       "      <td>0.0</td>\n",
       "      <td>0</td>\n",
       "    </tr>\n",
       "    <tr>\n",
       "      <th>3</th>\n",
       "      <td>0.000000</td>\n",
       "      <td>0.0</td>\n",
       "      <td>0.000000</td>\n",
       "      <td>0.080439</td>\n",
       "      <td>0.0</td>\n",
       "      <td>0.0</td>\n",
       "      <td>0.0</td>\n",
       "      <td>0.000000</td>\n",
       "      <td>0.0</td>\n",
       "      <td>0.0</td>\n",
       "      <td>...</td>\n",
       "      <td>0.0</td>\n",
       "      <td>0.0</td>\n",
       "      <td>0.000000</td>\n",
       "      <td>0.0</td>\n",
       "      <td>0.0</td>\n",
       "      <td>0.0</td>\n",
       "      <td>0.0</td>\n",
       "      <td>0.0</td>\n",
       "      <td>0.0</td>\n",
       "      <td>2</td>\n",
       "    </tr>\n",
       "    <tr>\n",
       "      <th>4</th>\n",
       "      <td>0.000000</td>\n",
       "      <td>0.0</td>\n",
       "      <td>0.000000</td>\n",
       "      <td>0.000000</td>\n",
       "      <td>0.0</td>\n",
       "      <td>0.0</td>\n",
       "      <td>0.0</td>\n",
       "      <td>0.017374</td>\n",
       "      <td>0.0</td>\n",
       "      <td>0.0</td>\n",
       "      <td>...</td>\n",
       "      <td>0.0</td>\n",
       "      <td>0.0</td>\n",
       "      <td>0.000000</td>\n",
       "      <td>0.0</td>\n",
       "      <td>0.0</td>\n",
       "      <td>0.0</td>\n",
       "      <td>0.0</td>\n",
       "      <td>0.0</td>\n",
       "      <td>0.0</td>\n",
       "      <td>1</td>\n",
       "    </tr>\n",
       "    <tr>\n",
       "      <th>...</th>\n",
       "      <td>...</td>\n",
       "      <td>...</td>\n",
       "      <td>...</td>\n",
       "      <td>...</td>\n",
       "      <td>...</td>\n",
       "      <td>...</td>\n",
       "      <td>...</td>\n",
       "      <td>...</td>\n",
       "      <td>...</td>\n",
       "      <td>...</td>\n",
       "      <td>...</td>\n",
       "      <td>...</td>\n",
       "      <td>...</td>\n",
       "      <td>...</td>\n",
       "      <td>...</td>\n",
       "      <td>...</td>\n",
       "      <td>...</td>\n",
       "      <td>...</td>\n",
       "      <td>...</td>\n",
       "      <td>...</td>\n",
       "      <td>...</td>\n",
       "    </tr>\n",
       "    <tr>\n",
       "      <th>9018</th>\n",
       "      <td>0.000000</td>\n",
       "      <td>0.0</td>\n",
       "      <td>0.000000</td>\n",
       "      <td>0.000000</td>\n",
       "      <td>0.0</td>\n",
       "      <td>0.0</td>\n",
       "      <td>0.0</td>\n",
       "      <td>0.000000</td>\n",
       "      <td>0.0</td>\n",
       "      <td>0.0</td>\n",
       "      <td>...</td>\n",
       "      <td>0.0</td>\n",
       "      <td>0.0</td>\n",
       "      <td>0.000000</td>\n",
       "      <td>0.0</td>\n",
       "      <td>0.0</td>\n",
       "      <td>0.0</td>\n",
       "      <td>0.0</td>\n",
       "      <td>0.0</td>\n",
       "      <td>0.0</td>\n",
       "      <td>1</td>\n",
       "    </tr>\n",
       "    <tr>\n",
       "      <th>9019</th>\n",
       "      <td>0.000000</td>\n",
       "      <td>0.0</td>\n",
       "      <td>0.000000</td>\n",
       "      <td>0.000000</td>\n",
       "      <td>0.0</td>\n",
       "      <td>0.0</td>\n",
       "      <td>0.0</td>\n",
       "      <td>0.000000</td>\n",
       "      <td>0.0</td>\n",
       "      <td>0.0</td>\n",
       "      <td>...</td>\n",
       "      <td>0.0</td>\n",
       "      <td>0.0</td>\n",
       "      <td>0.000000</td>\n",
       "      <td>0.0</td>\n",
       "      <td>0.0</td>\n",
       "      <td>0.0</td>\n",
       "      <td>0.0</td>\n",
       "      <td>0.0</td>\n",
       "      <td>0.0</td>\n",
       "      <td>0</td>\n",
       "    </tr>\n",
       "    <tr>\n",
       "      <th>9020</th>\n",
       "      <td>0.000000</td>\n",
       "      <td>0.0</td>\n",
       "      <td>0.000000</td>\n",
       "      <td>0.000000</td>\n",
       "      <td>0.0</td>\n",
       "      <td>0.0</td>\n",
       "      <td>0.0</td>\n",
       "      <td>0.000000</td>\n",
       "      <td>0.0</td>\n",
       "      <td>0.0</td>\n",
       "      <td>...</td>\n",
       "      <td>0.0</td>\n",
       "      <td>0.0</td>\n",
       "      <td>0.000000</td>\n",
       "      <td>0.0</td>\n",
       "      <td>0.0</td>\n",
       "      <td>0.0</td>\n",
       "      <td>0.0</td>\n",
       "      <td>0.0</td>\n",
       "      <td>0.0</td>\n",
       "      <td>0</td>\n",
       "    </tr>\n",
       "    <tr>\n",
       "      <th>9021</th>\n",
       "      <td>0.000000</td>\n",
       "      <td>0.0</td>\n",
       "      <td>0.000000</td>\n",
       "      <td>0.000000</td>\n",
       "      <td>0.0</td>\n",
       "      <td>0.0</td>\n",
       "      <td>0.0</td>\n",
       "      <td>0.049658</td>\n",
       "      <td>0.0</td>\n",
       "      <td>0.0</td>\n",
       "      <td>...</td>\n",
       "      <td>0.0</td>\n",
       "      <td>0.0</td>\n",
       "      <td>0.083523</td>\n",
       "      <td>0.0</td>\n",
       "      <td>0.0</td>\n",
       "      <td>0.0</td>\n",
       "      <td>0.0</td>\n",
       "      <td>0.0</td>\n",
       "      <td>0.0</td>\n",
       "      <td>0</td>\n",
       "    </tr>\n",
       "    <tr>\n",
       "      <th>9022</th>\n",
       "      <td>0.000000</td>\n",
       "      <td>0.0</td>\n",
       "      <td>0.000000</td>\n",
       "      <td>0.000000</td>\n",
       "      <td>0.0</td>\n",
       "      <td>0.0</td>\n",
       "      <td>0.0</td>\n",
       "      <td>0.000000</td>\n",
       "      <td>0.0</td>\n",
       "      <td>0.0</td>\n",
       "      <td>...</td>\n",
       "      <td>0.0</td>\n",
       "      <td>0.0</td>\n",
       "      <td>0.000000</td>\n",
       "      <td>0.0</td>\n",
       "      <td>0.0</td>\n",
       "      <td>0.0</td>\n",
       "      <td>0.0</td>\n",
       "      <td>0.0</td>\n",
       "      <td>0.0</td>\n",
       "      <td>4</td>\n",
       "    </tr>\n",
       "  </tbody>\n",
       "</table>\n",
       "<p>9023 rows × 1001 columns</p>\n",
       "</div>"
      ],
      "text/plain": [
       "            অক  অক বর        অগ        অঙ   অজ   অঞ  অঞ চল        অত  অত বক  \\\n",
       "0     0.066406    0.0  0.371496  0.000000  0.0  0.0    0.0  0.098021    0.0   \n",
       "1     0.000000    0.0  0.000000  0.000000  0.0  0.0    0.0  0.000000    0.0   \n",
       "2     0.000000    0.0  0.000000  0.000000  0.0  0.0    0.0  0.000000    0.0   \n",
       "3     0.000000    0.0  0.000000  0.080439  0.0  0.0    0.0  0.000000    0.0   \n",
       "4     0.000000    0.0  0.000000  0.000000  0.0  0.0    0.0  0.017374    0.0   \n",
       "...        ...    ...       ...       ...  ...  ...    ...       ...    ...   \n",
       "9018  0.000000    0.0  0.000000  0.000000  0.0  0.0    0.0  0.000000    0.0   \n",
       "9019  0.000000    0.0  0.000000  0.000000  0.0  0.0    0.0  0.000000    0.0   \n",
       "9020  0.000000    0.0  0.000000  0.000000  0.0  0.0    0.0  0.000000    0.0   \n",
       "9021  0.000000    0.0  0.000000  0.000000  0.0  0.0    0.0  0.049658    0.0   \n",
       "9022  0.000000    0.0  0.000000  0.000000  0.0  0.0    0.0  0.000000    0.0   \n",
       "\n",
       "      অত বক তব  ...   ৫ট   ৫০        ৬ট   ৬০   ৭ট   ৭০   ৮ট   ৮০   ৯ট  target  \n",
       "0          0.0  ...  0.0  0.0  0.000000  0.0  0.0  0.0  0.0  0.0  0.0       0  \n",
       "1          0.0  ...  0.0  0.0  0.000000  0.0  0.0  0.0  0.0  0.0  0.0       0  \n",
       "2          0.0  ...  0.0  0.0  0.000000  0.0  0.0  0.0  0.0  0.0  0.0       0  \n",
       "3          0.0  ...  0.0  0.0  0.000000  0.0  0.0  0.0  0.0  0.0  0.0       2  \n",
       "4          0.0  ...  0.0  0.0  0.000000  0.0  0.0  0.0  0.0  0.0  0.0       1  \n",
       "...        ...  ...  ...  ...       ...  ...  ...  ...  ...  ...  ...     ...  \n",
       "9018       0.0  ...  0.0  0.0  0.000000  0.0  0.0  0.0  0.0  0.0  0.0       1  \n",
       "9019       0.0  ...  0.0  0.0  0.000000  0.0  0.0  0.0  0.0  0.0  0.0       0  \n",
       "9020       0.0  ...  0.0  0.0  0.000000  0.0  0.0  0.0  0.0  0.0  0.0       0  \n",
       "9021       0.0  ...  0.0  0.0  0.083523  0.0  0.0  0.0  0.0  0.0  0.0       0  \n",
       "9022       0.0  ...  0.0  0.0  0.000000  0.0  0.0  0.0  0.0  0.0  0.0       4  \n",
       "\n",
       "[9023 rows x 1001 columns]"
      ]
     },
     "execution_count": 32,
     "metadata": {},
     "output_type": "execute_result"
    }
   ],
   "source": [
    "count_df = pd.DataFrame(X,columns=tv.get_feature_names_out()).assign(target=y)\n",
    "count_df"
   ]
  },
  {
   "cell_type": "code",
   "execution_count": 33,
   "id": "e8e0fb75",
   "metadata": {},
   "outputs": [
    {
     "data": {
      "text/plain": [
       "(9023, 1001)"
      ]
     },
     "execution_count": 33,
     "metadata": {},
     "output_type": "execute_result"
    }
   ],
   "source": [
    "count_df.shape"
   ]
  },
  {
   "cell_type": "code",
   "execution_count": 34,
   "id": "c928e987",
   "metadata": {},
   "outputs": [],
   "source": [
    "count_df.to_excel(\"itte-part-1.xlsx\", index = False, header = False)"
   ]
  },
  {
   "cell_type": "code",
   "execution_count": null,
   "id": "3543d31f",
   "metadata": {},
   "outputs": [],
   "source": []
  }
 ],
 "metadata": {
  "kernelspec": {
   "display_name": "NlP",
   "language": "python",
   "name": "nlp"
  },
  "language_info": {
   "codemirror_mode": {
    "name": "ipython",
    "version": 3
   },
   "file_extension": ".py",
   "mimetype": "text/x-python",
   "name": "python",
   "nbconvert_exporter": "python",
   "pygments_lexer": "ipython3",
   "version": "3.11.4"
  }
 },
 "nbformat": 4,
 "nbformat_minor": 5
}
