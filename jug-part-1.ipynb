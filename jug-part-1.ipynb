{
 "cells": [
  {
   "cell_type": "code",
   "execution_count": 1,
   "id": "784e90d2",
   "metadata": {},
   "outputs": [],
   "source": [
    "import pandas as pd\n",
    "import numpy as np\n",
    "import json"
   ]
  },
  {
   "cell_type": "code",
   "execution_count": 2,
   "id": "7e8994c5",
   "metadata": {},
   "outputs": [],
   "source": [
    "# Step 2: Open and Read the JSON File\n",
    "with open('D:/shuvo/bangla_news_classification/dataset/jug-part-1.json', 'r') as json_file:\n",
    "    json_data = json_file.read()\n",
    "\n",
    "# Step 3: Parse the JSON Data\n",
    "parsed_data = json.loads(json_data)"
   ]
  },
  {
   "cell_type": "code",
   "execution_count": 3,
   "id": "23f66c12",
   "metadata": {},
   "outputs": [
    {
     "name": "stdout",
     "output_type": "stream",
     "text": [
      "[{'url': 'https://www.jugantor.com/news-archive/today-print-edition/bangla-face/2017/07/06/137249', 'category': 'বাংলার মুখ', 'headline': 'ঝালকাঠিতে সনদ জালিয়াতির দায়ে শিক্ষকের কারাদণ্ড', 'reporter': '\\xa0ঝালকাঠি প্রতিনিধি\\xa0', 'time': ' ০৬ জুলাই ২০১৭, ১২:০০ এএম \\xa0|\\xa0 প্রিন্ট সংস্করণ', 'body': '\\nশিক্ষাগত যোগ্যতার সনদ জালিয়াতিসহ বিভিন্ন অভিযোগে দায়েরকৃত মামলায় নলছিটি ডেবরা বালিকা মাধ্যমিক বিদ্যালয়ের প্রধান শিক্ষক রুহুল আমিন বশিরকে ১২ বছরের কারাদণ্ড দিয়েছেন আদালত। বুধবার ঝালকাঠির চিফ জুডিশিয়াল ম্যাজিস্ট্রেট আদালত এ রায় ঘোষণা করেন। জানা যায়, জাল সনদে শিক্ষকতা, প্রতারণা ও সরকারি কাজে বাধা দেয়ার অভিযোগে ২০১১ সালের ২৬ জুন প্রধান শিক্ষক রুহুল আমিনের বিরুদ্ধে মামলা করেন মাধ্যমিক শিক্ষা কর্মকর্তা একেএম হারুন অর রশিদ। অভিযোগপত্রে বলা হয়, ‘স্কুলের চাকরিতে যোগদানের সময় রুহুল আমিনের দাখিল করা এসএসসি, এইচএসসি সনদকে যশোর শিক্ষা বোর্ড এবং বিএ ও বিএড পরীক্ষার সনদকে জাতীয় বিশ্ববিদ্যালয় ভুয়া বলে প্রত্যয়ন প্রদান করে। ’ '}, {'url': 'https://www.jugantor.com/news-archive/today-print-edition/ten-horizon/2016/11/15/76866', 'category': 'দশ দিগন্ত', 'headline': 'ট্রাম্পের সঙ্গে নিউইয়র্ক টাইমসের টুইটার যুদ্ধ', 'reporter': '\\xa0যুগান্তর ডেস্ক\\xa0', 'time': ' ১৫ নভেম্বর ২০১৬, ১২:০০ এএম \\xa0|\\xa0 প্রিন্ট সংস্করণ', 'body': '\\nযুক্তরাষ্ট্রের নবনির্বাচিত প্রেসিডেন্ট ডোনাল্ড ট্রাম্পের সঙ্গে টুইটার যুদ্ধে জড়িয়ে পড়েছে দেশটির প্রভাবশালী পত্রিকা নিউইয়র্ক টাইমস। টুইট-পাল্টা টুইটে একে অপরের অভিযোগের জবাব দিচ্ছে তারা। স্থানীয় সময় রোববার সকাল ৯টা ১৬ মিনিটে একটি টুইট করেন ট্রাম্প। টুইটে বলা হয়, ‘ওয়াও! খুব দুর্বল আর ভুল সংবাদ প্রকাশের কারণে নিউইয়র্ক টাইমস তাদের হাজার হাজার সাবস্ক্রাইবার গ্রাহক হারাচ্ছে।’ পাল্টা টুইটে ট্রাম্পের এ দাবি নাকচ করে দিয়েছে এ মার্কিন সংবাদ মাধ্যম। নিউইয়র্ক টাইমস উল্টো দাবি করে, নির্বাচনের দিন থেকে তাদের গড় সাবস্ক্রাইবারের সংখ্যা চার গুণ বেড়েছে। অপর টুইট বার্তায় পত্রিকাটি জানায়, ‘প্রকৃত ঘটনা : স্বাভাবিক সময়ের তুলনায় এখন আমাদের প্রিন্ট ও ডিজিটাল সাবস্ক্রিপশন চার গুণ বেড়ে গেছে।’ যুক্তরাষ্ট্রভিত্তিক আরেক সংবাদ মাধ্যম পলিটিকো এ বিষয়ে এক প্রতিবেদনে পাল্টাপাল্টি দাবির কথা প্রকাশ করেছে। পলিটিকোর প্রতিবেদনে বলা হয়, ট্রাম্পের টুইটের পর পলিটিকোর কাছে পাঠানো ই-মেইলে ট্রাম্পের দাবিকে নাকচ করে দেয় নিউইয়র্ক টাইমস কর্তৃপক্ষ। সংবাদ মাধ্যমটির মুখপাত্র এইলিন মুরফি এক ই-মেইলে দাবি করেন, ক্যানসেলেশনের প্রশ্ন যদি ওঠে তাহলে বলতে হবে নির্বাচনের দিন থেকে নিউইয়র্ক টাইমসের নতুন ডিজিটাল ও প্রিন্ট সাবস্ক্রিপশনের গড় চার গুণ বেড়েছে। '}]\n"
     ]
    }
   ],
   "source": [
    "# Step 4: Print the Content\n",
    "print(parsed_data[:2])"
   ]
  },
  {
   "cell_type": "code",
   "execution_count": 4,
   "id": "473f1d78",
   "metadata": {},
   "outputs": [
    {
     "data": {
      "text/html": [
       "<div>\n",
       "<style scoped>\n",
       "    .dataframe tbody tr th:only-of-type {\n",
       "        vertical-align: middle;\n",
       "    }\n",
       "\n",
       "    .dataframe tbody tr th {\n",
       "        vertical-align: top;\n",
       "    }\n",
       "\n",
       "    .dataframe thead th {\n",
       "        text-align: right;\n",
       "    }\n",
       "</style>\n",
       "<table border=\"1\" class=\"dataframe\">\n",
       "  <thead>\n",
       "    <tr style=\"text-align: right;\">\n",
       "      <th></th>\n",
       "      <th>url</th>\n",
       "      <th>category</th>\n",
       "      <th>headline</th>\n",
       "      <th>reporter</th>\n",
       "      <th>time</th>\n",
       "      <th>body</th>\n",
       "    </tr>\n",
       "  </thead>\n",
       "  <tbody>\n",
       "    <tr>\n",
       "      <th>0</th>\n",
       "      <td>https://www.jugantor.com/news-archive/today-pr...</td>\n",
       "      <td>বাংলার মুখ</td>\n",
       "      <td>ঝালকাঠিতে সনদ জালিয়াতির দায়ে শিক্ষকের কারাদণ্ড</td>\n",
       "      <td>ঝালকাঠি প্রতিনিধি</td>\n",
       "      <td>০৬ জুলাই ২০১৭, ১২:০০ এএম  |  প্রিন্ট সংস্করণ</td>\n",
       "      <td>\\nশিক্ষাগত যোগ্যতার সনদ জালিয়াতিসহ বিভিন্ন অভি...</td>\n",
       "    </tr>\n",
       "    <tr>\n",
       "      <th>1</th>\n",
       "      <td>https://www.jugantor.com/news-archive/today-pr...</td>\n",
       "      <td>দশ দিগন্ত</td>\n",
       "      <td>ট্রাম্পের সঙ্গে নিউইয়র্ক টাইমসের টুইটার যুদ্ধ</td>\n",
       "      <td>যুগান্তর ডেস্ক</td>\n",
       "      <td>১৫ নভেম্বর ২০১৬, ১২:০০ এএম  |  প্রিন্ট সংস্করণ</td>\n",
       "      <td>\\nযুক্তরাষ্ট্রের নবনির্বাচিত প্রেসিডেন্ট ডোনাল...</td>\n",
       "    </tr>\n",
       "    <tr>\n",
       "      <th>2</th>\n",
       "      <td>https://www.jugantor.com/news-archive/today-pr...</td>\n",
       "      <td>আবহমান চট্টগ্রাম</td>\n",
       "      <td>সংক্ষিপ্ত সংবাদ</td>\n",
       "      <td></td>\n",
       "      <td>১৯ সেপ্টেম্বর ২০১৭, ১২:০০ এএম  |  প্রিন্ট সংস...</td>\n",
       "      <td>\\nরামগঞ্জে মাছের পোনা অবমুক্তরামগঞ্জ (লক্ষ্মীপ...</td>\n",
       "    </tr>\n",
       "    <tr>\n",
       "      <th>3</th>\n",
       "      <td>https://www.jugantor.com/news-archive/today-pr...</td>\n",
       "      <td>আবহমান চট্টগ্রাম</td>\n",
       "      <td>সংক্ষিপ্ত সংবাদ</td>\n",
       "      <td></td>\n",
       "      <td>১৭ নভেম্বর ২০১৭, ১২:০০ এএম  |  প্রিন্ট সংস্করণ</td>\n",
       "      <td>\\nচট্টগ্রামে গৃহবধূর লাশ উদ্ধারচট্টগ্রাম ব্যুর...</td>\n",
       "    </tr>\n",
       "    <tr>\n",
       "      <th>4</th>\n",
       "      <td>https://www.jugantor.com/news-archive/today-pr...</td>\n",
       "      <td>বাংলার মুখ</td>\n",
       "      <td>গোলাপগঞ্জের হাওরপারে অন্নের জন্য হাহাকার</td>\n",
       "      <td>হারিছ আলী, গোলাপগঞ্জ</td>\n",
       "      <td>০৪ জুন ২০১৭, ১২:০০ এএম  |  প্রিন্ট সংস্করণ</td>\n",
       "      <td>\\nসিলেটের গোলাপগঞ্জে দারুণ কষ্টে পড়েছেন বন্যায়...</td>\n",
       "    </tr>\n",
       "    <tr>\n",
       "      <th>...</th>\n",
       "      <td>...</td>\n",
       "      <td>...</td>\n",
       "      <td>...</td>\n",
       "      <td>...</td>\n",
       "      <td>...</td>\n",
       "      <td>...</td>\n",
       "    </tr>\n",
       "    <tr>\n",
       "      <th>238449</th>\n",
       "      <td>https://www.jugantor.com/news-archive/today-pr...</td>\n",
       "      <td>বাংলার মুখ</td>\n",
       "      <td>বেতাগীর ৮ এসএসসি পরীক্ষার্থীর ফল অনিশ্চিত</td>\n",
       "      <td>বরগুনা প্রতিনিধি</td>\n",
       "      <td>০৬ ফেব্রুয়ারি ২০১৬, ১২:০০ এএম  |  প্রিন্ট সংস...</td>\n",
       "      <td>\\nসংশ্লিষ্টদের ভুলে ২০১৩-১৪ শিক্ষাবর্ষের পাঠ্য...</td>\n",
       "    </tr>\n",
       "    <tr>\n",
       "      <th>238450</th>\n",
       "      <td>https://www.jugantor.com/news-archive/today-pr...</td>\n",
       "      <td>সম্পাদকীয়</td>\n",
       "      <td>কিয়েভ অভিমুখে অভিযান</td>\n",
       "      <td>ভিক্তর মাৎসুলেনকো</td>\n",
       "      <td>০৬ ফেব্রুয়ারি ২০১৬, ১২:০০ এএম  |  প্রিন্ট সংস...</td>\n",
       "      <td>\\nনিপারের জন্য লড়াই শুরু হয়েছিল ২৬ আগস্ট (১৯৪৩...</td>\n",
       "    </tr>\n",
       "    <tr>\n",
       "      <th>238451</th>\n",
       "      <td>https://www.jugantor.com/news-archive/today-pr...</td>\n",
       "      <td>বাংলার মুখ</td>\n",
       "      <td>আ’লীগ প্রার্থীদের সরব প্রচারণা নীরবে বিএনপি প্...</td>\n",
       "      <td>ভোলা ও চরফ্যাশন প্রতিনিধি</td>\n",
       "      <td>০৬ ফেব্রুয়ারি ২০১৬, ১২:০০ এএম  |  প্রিন্ট সংস...</td>\n",
       "      <td>\\n\\nআগামী ১৫ ফেব্রুয়ারি অনুষ্ঠিতব্য ভোলার চরফ্...</td>\n",
       "    </tr>\n",
       "    <tr>\n",
       "      <th>238452</th>\n",
       "      <td>https://www.jugantor.com/news-archive/today-pr...</td>\n",
       "      <td>সম্পাদকীয়</td>\n",
       "      <td>শাহরিয়ার-সুষমা বৈঠক</td>\n",
       "      <td></td>\n",
       "      <td>০৬ ফেব্রুয়ারি ২০১৬, ১২:০০ এএম  |  প্রিন্ট সংস...</td>\n",
       "      <td>\\nভারতের পররাষ্ট্রমন্ত্রী সুষমা স্বরাজ বলেছেন,...</td>\n",
       "    </tr>\n",
       "    <tr>\n",
       "      <th>238453</th>\n",
       "      <td>https://www.jugantor.com/news-archive/today-pr...</td>\n",
       "      <td>সম্পাদকীয়</td>\n",
       "      <td>চাঁদাবাজি</td>\n",
       "      <td></td>\n",
       "      <td>০৬ ফেব্রুয়ারি ২০১৬, ১২:০০ এএম  |  প্রিন্ট সংস...</td>\n",
       "      <td>\\n\\nগতকাল যুগান্তরের প্রথম পাতায় চাঁদাবাজি সংক...</td>\n",
       "    </tr>\n",
       "  </tbody>\n",
       "</table>\n",
       "<p>238454 rows × 6 columns</p>\n",
       "</div>"
      ],
      "text/plain": [
       "                                                      url          category  \\\n",
       "0       https://www.jugantor.com/news-archive/today-pr...        বাংলার মুখ   \n",
       "1       https://www.jugantor.com/news-archive/today-pr...         দশ দিগন্ত   \n",
       "2       https://www.jugantor.com/news-archive/today-pr...  আবহমান চট্টগ্রাম   \n",
       "3       https://www.jugantor.com/news-archive/today-pr...  আবহমান চট্টগ্রাম   \n",
       "4       https://www.jugantor.com/news-archive/today-pr...        বাংলার মুখ   \n",
       "...                                                   ...               ...   \n",
       "238449  https://www.jugantor.com/news-archive/today-pr...        বাংলার মুখ   \n",
       "238450  https://www.jugantor.com/news-archive/today-pr...         সম্পাদকীয়   \n",
       "238451  https://www.jugantor.com/news-archive/today-pr...        বাংলার মুখ   \n",
       "238452  https://www.jugantor.com/news-archive/today-pr...         সম্পাদকীয়   \n",
       "238453  https://www.jugantor.com/news-archive/today-pr...         সম্পাদকীয়   \n",
       "\n",
       "                                                 headline  \\\n",
       "0          ঝালকাঠিতে সনদ জালিয়াতির দায়ে শিক্ষকের কারাদণ্ড   \n",
       "1           ট্রাম্পের সঙ্গে নিউইয়র্ক টাইমসের টুইটার যুদ্ধ   \n",
       "2                                         সংক্ষিপ্ত সংবাদ   \n",
       "3                                         সংক্ষিপ্ত সংবাদ   \n",
       "4                গোলাপগঞ্জের হাওরপারে অন্নের জন্য হাহাকার   \n",
       "...                                                   ...   \n",
       "238449          বেতাগীর ৮ এসএসসি পরীক্ষার্থীর ফল অনিশ্চিত   \n",
       "238450                               কিয়েভ অভিমুখে অভিযান   \n",
       "238451  আ’লীগ প্রার্থীদের সরব প্রচারণা নীরবে বিএনপি প্...   \n",
       "238452                                শাহরিয়ার-সুষমা বৈঠক   \n",
       "238453                                          চাঁদাবাজি   \n",
       "\n",
       "                           reporter  \\\n",
       "0                ঝালকাঠি প্রতিনিধি    \n",
       "1                   যুগান্তর ডেস্ক    \n",
       "2                                     \n",
       "3                                     \n",
       "4             হারিছ আলী, গোলাপগঞ্জ    \n",
       "...                             ...   \n",
       "238449            বরগুনা প্রতিনিধি    \n",
       "238450           ভিক্তর মাৎসুলেনকো    \n",
       "238451   ভোলা ও চরফ্যাশন প্রতিনিধি    \n",
       "238452                                \n",
       "238453                                \n",
       "\n",
       "                                                     time  \\\n",
       "0            ০৬ জুলাই ২০১৭, ১২:০০ এএম  |  প্রিন্ট সংস্করণ   \n",
       "1          ১৫ নভেম্বর ২০১৬, ১২:০০ এএম  |  প্রিন্ট সংস্করণ   \n",
       "2        ১৯ সেপ্টেম্বর ২০১৭, ১২:০০ এএম  |  প্রিন্ট সংস...   \n",
       "3          ১৭ নভেম্বর ২০১৭, ১২:০০ এএম  |  প্রিন্ট সংস্করণ   \n",
       "4              ০৪ জুন ২০১৭, ১২:০০ এএম  |  প্রিন্ট সংস্করণ   \n",
       "...                                                   ...   \n",
       "238449   ০৬ ফেব্রুয়ারি ২০১৬, ১২:০০ এএম  |  প্রিন্ট সংস...   \n",
       "238450   ০৬ ফেব্রুয়ারি ২০১৬, ১২:০০ এএম  |  প্রিন্ট সংস...   \n",
       "238451   ০৬ ফেব্রুয়ারি ২০১৬, ১২:০০ এএম  |  প্রিন্ট সংস...   \n",
       "238452   ০৬ ফেব্রুয়ারি ২০১৬, ১২:০০ এএম  |  প্রিন্ট সংস...   \n",
       "238453   ০৬ ফেব্রুয়ারি ২০১৬, ১২:০০ এএম  |  প্রিন্ট সংস...   \n",
       "\n",
       "                                                     body  \n",
       "0       \\nশিক্ষাগত যোগ্যতার সনদ জালিয়াতিসহ বিভিন্ন অভি...  \n",
       "1       \\nযুক্তরাষ্ট্রের নবনির্বাচিত প্রেসিডেন্ট ডোনাল...  \n",
       "2       \\nরামগঞ্জে মাছের পোনা অবমুক্তরামগঞ্জ (লক্ষ্মীপ...  \n",
       "3       \\nচট্টগ্রামে গৃহবধূর লাশ উদ্ধারচট্টগ্রাম ব্যুর...  \n",
       "4       \\nসিলেটের গোলাপগঞ্জে দারুণ কষ্টে পড়েছেন বন্যায়...  \n",
       "...                                                   ...  \n",
       "238449  \\nসংশ্লিষ্টদের ভুলে ২০১৩-১৪ শিক্ষাবর্ষের পাঠ্য...  \n",
       "238450  \\nনিপারের জন্য লড়াই শুরু হয়েছিল ২৬ আগস্ট (১৯৪৩...  \n",
       "238451  \\n\\nআগামী ১৫ ফেব্রুয়ারি অনুষ্ঠিতব্য ভোলার চরফ্...  \n",
       "238452  \\nভারতের পররাষ্ট্রমন্ত্রী সুষমা স্বরাজ বলেছেন,...  \n",
       "238453  \\n\\nগতকাল যুগান্তরের প্রথম পাতায় চাঁদাবাজি সংক...  \n",
       "\n",
       "[238454 rows x 6 columns]"
      ]
     },
     "execution_count": 4,
     "metadata": {},
     "output_type": "execute_result"
    }
   ],
   "source": [
    "# Step 2: Create a DataFrame from JSON Data\n",
    "df = pd.DataFrame(parsed_data)\n",
    "df"
   ]
  },
  {
   "cell_type": "code",
   "execution_count": 5,
   "id": "3977bd57",
   "metadata": {},
   "outputs": [
    {
     "data": {
      "text/plain": [
       "((238454, 6),\n",
       " Index(['url', 'category', 'headline', 'reporter', 'time', 'body'], dtype='object'))"
      ]
     },
     "execution_count": 5,
     "metadata": {},
     "output_type": "execute_result"
    }
   ],
   "source": [
    "df.shape, df.columns"
   ]
  },
  {
   "cell_type": "code",
   "execution_count": 6,
   "id": "ade066de",
   "metadata": {
    "scrolled": true
   },
   "outputs": [
    {
     "data": {
      "text/plain": [
       "(108,\n",
       " 235464,\n",
       "            category                                               body\n",
       " 0        বাংলার মুখ  \\nশিক্ষাগত যোগ্যতার সনদ জালিয়াতিসহ বিভিন্ন অভি...\n",
       " 1         দশ দিগন্ত  \\nযুক্তরাষ্ট্রের নবনির্বাচিত প্রেসিডেন্ট ডোনাল...\n",
       " 2  আবহমান চট্টগ্রাম  \\nরামগঞ্জে মাছের পোনা অবমুক্তরামগঞ্জ (লক্ষ্মীপ...\n",
       " 3  আবহমান চট্টগ্রাম  \\nচট্টগ্রামে গৃহবধূর লাশ উদ্ধারচট্টগ্রাম ব্যুর...\n",
       " 4        বাংলার মুখ  \\nসিলেটের গোলাপগঞ্জে দারুণ কষ্টে পড়েছেন বন্যায়...)"
      ]
     },
     "execution_count": 6,
     "metadata": {},
     "output_type": "execute_result"
    }
   ],
   "source": [
    "df = df[['category', 'body']]\n",
    "len(df['category'].unique()),len(df['body'].unique()),df.head()"
   ]
  },
  {
   "cell_type": "code",
   "execution_count": 7,
   "id": "05329400",
   "metadata": {
    "scrolled": true
   },
   "outputs": [
    {
     "name": "stderr",
     "output_type": "stream",
     "text": [
      "C:\\Users\\SSROY\\AppData\\Local\\Temp\\ipykernel_1904\\3287021994.py:1: SettingWithCopyWarning: \n",
      "A value is trying to be set on a copy of a slice from a DataFrame\n",
      "\n",
      "See the caveats in the documentation: https://pandas.pydata.org/pandas-docs/stable/user_guide/indexing.html#returning-a-view-versus-a-copy\n",
      "  df.dropna(inplace=True)\n",
      "C:\\Users\\SSROY\\AppData\\Local\\Temp\\ipykernel_1904\\3287021994.py:3: SettingWithCopyWarning: \n",
      "A value is trying to be set on a copy of a slice from a DataFrame\n",
      "\n",
      "See the caveats in the documentation: https://pandas.pydata.org/pandas-docs/stable/user_guide/indexing.html#returning-a-view-versus-a-copy\n",
      "  df.drop_duplicates(subset='body', keep='first',inplace=True)\n"
     ]
    },
    {
     "data": {
      "text/plain": [
       "(           category                                               body\n",
       " 0        বাংলার মুখ  \\nশিক্ষাগত যোগ্যতার সনদ জালিয়াতিসহ বিভিন্ন অভি...\n",
       " 1         দশ দিগন্ত  \\nযুক্তরাষ্ট্রের নবনির্বাচিত প্রেসিডেন্ট ডোনাল...\n",
       " 2  আবহমান চট্টগ্রাম  \\nরামগঞ্জে মাছের পোনা অবমুক্তরামগঞ্জ (লক্ষ্মীপ...\n",
       " 3  আবহমান চট্টগ্রাম  \\nচট্টগ্রামে গৃহবধূর লাশ উদ্ধারচট্টগ্রাম ব্যুর...\n",
       " 4        বাংলার মুখ  \\nসিলেটের গোলাপগঞ্জে দারুণ কষ্টে পড়েছেন বন্যায়...,\n",
       " (235464, 2))"
      ]
     },
     "execution_count": 7,
     "metadata": {},
     "output_type": "execute_result"
    }
   ],
   "source": [
    "df.dropna(inplace=True)\n",
    "# Remove duplicates in 'body' column, keeping the first occurrence\n",
    "df.drop_duplicates(subset='body', keep='first',inplace=True)\n",
    "df.reset_index(inplace=True, drop=True)\n",
    "df.head(), df.shape"
   ]
  },
  {
   "cell_type": "code",
   "execution_count": 8,
   "id": "4b3aff87",
   "metadata": {},
   "outputs": [
    {
     "data": {
      "text/plain": [
       "(235464, 108)"
      ]
     },
     "execution_count": 8,
     "metadata": {},
     "output_type": "execute_result"
    }
   ],
   "source": [
    "n = len(df['body'].unique())\n",
    "unique_label = len(df['category'].unique())\n",
    "n,unique_label"
   ]
  },
  {
   "cell_type": "code",
   "execution_count": 9,
   "id": "22cc4654",
   "metadata": {
    "scrolled": true
   },
   "outputs": [
    {
     "data": {
      "text/plain": [
       "array(['বাংলার মুখ', 'দশ দিগন্ত', 'আবহমান চট্টগ্রাম', 'জাতীয় ',\n",
       "       'দ্বিতীয় সংস্করণ', 'সারা দেশ', 'আইটি বিশ্ব', 'খবর',\n",
       "       'একদিন প্রতিদিন', 'বিনোদন ', 'রাজনীতি', 'প্রথম পাতা',\n",
       "       'রাজধানীর খবর', 'উত্তরের জনপদ', 'বাতায়ন', 'খেলা', 'লাইফ স্টাইল',\n",
       "       'টিউটোরিয়াল', 'শেষ পাতা', 'সাহিত্য সাময়িকী ', 'অর্থনীতি ',\n",
       "       'শিল্প বাণিজ্য', 'দুটি পাতা একটি কুঁড়ি', 'ঘরে বাইরে', 'বিপিএল',\n",
       "       'আন্তর্জাতিক', 'তারাঝিলমিল', 'নগর-মহানগর', 'আনন্দ নগর',\n",
       "       'শোক সংবাদ', 'উপসম্পাদকীয়', 'প্রকৃতি ও জীবন', 'ডাক্তার আছেন',\n",
       "       'চাকরির খোঁজ', 'বিচ্ছু', 'প্রতিমঞ্চ', 'ইসলাম ও জীবন',\n",
       "       'জেলা পরিষদ নির্বাচন ২০১৬', 'সম্পাদকীয়', 'মতামত',\n",
       "       'বেহাল সড়কে দুর্ভোগ', 'শিক্ষাঙ্গন', 'সুস্থ থাকুন ',\n",
       "       'মৃত্যুবার্ষিকী', 'ভ্রমণ', 'পাঠকের মতামত ', 'কিছুমিছু', 'উদ্বৃতি ',\n",
       "       'বইমেলা প্রতিদিন', 'আঠারো বছরে পদার্পণ', 'দৃষ্টিপাত',\n",
       "       'স্বজন সমাবেশ', 'চিঠিপত্র', 'শেয়ার বাজার', 'বিশ্ব ইজতেমা',\n",
       "       'সুরঞ্জনা', 'চ্যাম্পিয়ন্স ট্রফি', 'আমার পরিবার', 'পরবাস', 'পরবাস ',\n",
       "       'বাংলাদেশ-ভারত টেস্ট ক্রিকেট', 'মার্কিন নির্বাচনের খবর',\n",
       "       'আ মরি বাংলা ভাষা', 'পবিত্র হজ', 'বাজেট ২০১৭-১৮', 'নাসিক নির্বাচন',\n",
       "       'অন্যান্য', 'বেহাল বধ্যভূমি', 'একুশে বিশেষ সংখ্যা',\n",
       "       'প্রতিষ্ঠাবার্ষিকী সংখ্যা', 'কুলখানি', 'বাজেট',\n",
       "       'আওয়ামী লীগের জাতীয় সম্মেলনের সব খবর', 'বিজয় দিবস সংখ্যা ২০১৭',\n",
       "       'বৈশাখ সংখ্যা', 'ইউনিয়ন পরিষদ নির্বাচন ২০১৬',\n",
       "       'যুগান্তর বিশেষ আয়োজন', 'মাহে রমজান', 'পিইসি-জেএসসির ফল ২০১৬',\n",
       "       'আলোকচিত্রে যুগান্তরের প্রতিষ্ঠাবার্ষিকী', 'সারাদেশ',\n",
       "       'রোহিঙ্গা সংকটের এক মাস', 'আন্তর্জাতিক নারী দিবস',\n",
       "       'মুক্তিযুদ্ধের বিজয়গাথা', 'রক্তে ভেজা ২১ আগস্ট', 'মালয়েশিয়া',\n",
       "       'ভিডিও', 'বর্ষপূর্তি সংখ্যা ', 'স্বাধীনতা দিবস সংখ্যা',\n",
       "       'বিজয় দিবস বিশেষ সংখ্যা ২০১৭', 'আলোকচিত্রে মহান স্বাধীনতা দিবস',\n",
       "       'দুর্গা পূজা', 'বাংলা গানের কিংবদন্তিকে শ্রদ্ধাঞ্জলি', 'শেয়ার',\n",
       "       'বৈশাখে আবহমান বাংলা', 'আলোকচিত্রে বর্ষবরণ',\n",
       "       'শোকগাঁথা হলি আর্টিজান', 'এসএসসির ফল ২০১৬', 'কালনিরবধি ২০১৭',\n",
       "       'চেহলাম', 'ইউপি নির্বাচন-২০১৬', 'বাজেট ২০১৬-১৭', 'ঈদ বিশেষ সংখ্যা',\n",
       "       'নিহতদের প্রতি জাতির শ্রদ্ধা', 'অপারেশন স্টর্ম টোয়েন্টি সিক্স',\n",
       "       'জাতীয় শোক দিবস', 'এইচএসসির ফল ২০১৪', '১৭ বছরে যুগান্তর '],\n",
       "      dtype=object)"
      ]
     },
     "execution_count": 9,
     "metadata": {},
     "output_type": "execute_result"
    }
   ],
   "source": [
    "df['category'].unique()"
   ]
  },
  {
   "cell_type": "code",
   "execution_count": 10,
   "id": "2b31051c",
   "metadata": {},
   "outputs": [],
   "source": [
    "# df = df.sample(m, replace=False)\n",
    "# df.reset_index(inplace=True)\n",
    "# # df.drop(['level_0', 'index'], inplace = True)\n",
    "# df"
   ]
  },
  {
   "cell_type": "code",
   "execution_count": 11,
   "id": "7f8bfb89",
   "metadata": {},
   "outputs": [
    {
     "name": "stdout",
     "output_type": "stream",
     "text": [
      "\n",
      "শিক্ষাগত যোগ্যতার সনদ জালিয়াতিসহ বিভিন্ন অভিযোগে দায়েরকৃত মামলায় নলছিটি ডেবরা বালিকা মাধ্যমিক বিদ্যালয়ের প্রধান শিক্ষক রুহুল আমিন বশিরকে ১২ বছরের কারাদণ্ড দিয়েছেন আদালত। বুধবার ঝালকাঠির চিফ জুডিশিয়াল ম্যাজিস্ট্রেট আদালত এ রায় ঘোষণা করেন। জানা যায়, জাল সনদে শিক্ষকতা, প্রতারণা ও সরকারি কাজে বাধা দেয়ার অভিযোগে ২০১১ সালের ২৬ জুন প্রধান শিক্ষক রুহুল আমিনের বিরুদ্ধে মামলা করেন মাধ্যমিক শিক্ষা কর্মকর্তা একেএম হারুন অর রশিদ। অভিযোগপত্রে বলা হয়, ‘স্কুলের চাকরিতে যোগদানের সময় রুহুল আমিনের দাখিল করা এসএসসি, এইচএসসি সনদকে যশোর শিক্ষা বোর্ড এবং বিএ ও বিএড পরীক্ষার সনদকে জাতীয় বিশ্ববিদ্যালয় ভুয়া বলে প্রত্যয়ন প্রদান করে। ’ \n"
     ]
    }
   ],
   "source": [
    "# Print the content of the first 'body' entry\n",
    "first_body_content = df.loc[0, 'body']\n",
    "print(first_body_content)"
   ]
  },
  {
   "cell_type": "code",
   "execution_count": 12,
   "id": "b724eea7",
   "metadata": {
    "scrolled": false
   },
   "outputs": [
    {
     "data": {
      "text/plain": [
       "বাংলার মুখ                     30528\n",
       "দ্বিতীয় সংস্করণ               29925\n",
       "খেলা                           21920\n",
       "খবর                            17856\n",
       "সারা দেশ                       17348\n",
       "                               ...  \n",
       "উদ্বৃতি                            1\n",
       "নিহতদের প্রতি জাতির শ্রদ্ধা        1\n",
       "জাতীয় শোক দিবস                     1\n",
       "এইচএসসির ফল ২০১৪                   1\n",
       "১৭ বছরে যুগান্তর                   1\n",
       "Name: category, Length: 108, dtype: int64"
      ]
     },
     "execution_count": 12,
     "metadata": {},
     "output_type": "execute_result"
    }
   ],
   "source": [
    "gen_type_counts = df['category'].value_counts()\n",
    "gen_type_counts"
   ]
  },
  {
   "cell_type": "code",
   "execution_count": 13,
   "id": "cee3d341",
   "metadata": {},
   "outputs": [
    {
     "name": "stdout",
     "output_type": "stream",
     "text": [
      "5\n",
      "Randomly selected gen_type values:\n",
      "['সাহিত্য সাময়িকী ' 'মতামত' 'ইসলাম ও জীবন' 'ঘরে বাইরে' 'ডাক্তার আছেন']\n"
     ]
    }
   ],
   "source": [
    "import random\n",
    "# Filter gen_type values based on count criteria\n",
    "filtered_gen_types = gen_type_counts[(gen_type_counts > 500) & (gen_type_counts < 3000)]\n",
    "\n",
    "random_classes_number = random.randint(3, 6)\n",
    "print(random_classes_number)\n",
    "# Ensure we have at least 5 gen_type values that meet the criteria\n",
    "if len(filtered_gen_types) >= random_classes_number:\n",
    "    # Randomly select 5 gen_type values from the filtered list\n",
    "    random_gen_types = np.random.choice(filtered_gen_types.index, random_classes_number, replace=False)\n",
    "    print(\"Randomly selected gen_type values:\")\n",
    "    print(random_gen_types)\n",
    "else:\n",
    "    print(\"Not enough gen_type values meeting the criteria.\")"
   ]
  },
  {
   "cell_type": "code",
   "execution_count": 14,
   "id": "776a6376",
   "metadata": {},
   "outputs": [
    {
     "data": {
      "text/html": [
       "<div>\n",
       "<style scoped>\n",
       "    .dataframe tbody tr th:only-of-type {\n",
       "        vertical-align: middle;\n",
       "    }\n",
       "\n",
       "    .dataframe tbody tr th {\n",
       "        vertical-align: top;\n",
       "    }\n",
       "\n",
       "    .dataframe thead th {\n",
       "        text-align: right;\n",
       "    }\n",
       "</style>\n",
       "<table border=\"1\" class=\"dataframe\">\n",
       "  <thead>\n",
       "    <tr style=\"text-align: right;\">\n",
       "      <th></th>\n",
       "      <th>category</th>\n",
       "      <th>body</th>\n",
       "    </tr>\n",
       "  </thead>\n",
       "  <tbody>\n",
       "    <tr>\n",
       "      <th>0</th>\n",
       "      <td>সাহিত্য সাময়িকী</td>\n",
       "      <td>\\nএ বছর সাহিত্যে নোবেল বিজয়ী মার্কিন সঙ্গীতশিল...</td>\n",
       "    </tr>\n",
       "    <tr>\n",
       "      <th>1</th>\n",
       "      <td>ঘরে বাইরে</td>\n",
       "      <td>\\n\\nখাবার টেবিল থেকে শুরু করে পার্সে কিংবা হাত...</td>\n",
       "    </tr>\n",
       "    <tr>\n",
       "      <th>2</th>\n",
       "      <td>ডাক্তার আছেন</td>\n",
       "      <td>\\n\\nবিভিন্ন কারণে গলা ফুলতে পারে বা গলার ভেতর ...</td>\n",
       "    </tr>\n",
       "    <tr>\n",
       "      <th>3</th>\n",
       "      <td>ডাক্তার আছেন</td>\n",
       "      <td>\\n\\nআমাদের সাধারণ প্রবৃত্তি হল ব্যথা হলেই ব্যথ...</td>\n",
       "    </tr>\n",
       "    <tr>\n",
       "      <th>4</th>\n",
       "      <td>ইসলাম ও জীবন</td>\n",
       "      <td>\\nধানমণ্ডির স্বনামধন্য এক যোগচর্চা কেন্দ্রে পব...</td>\n",
       "    </tr>\n",
       "    <tr>\n",
       "      <th>...</th>\n",
       "      <td>...</td>\n",
       "      <td>...</td>\n",
       "    </tr>\n",
       "    <tr>\n",
       "      <th>4029</th>\n",
       "      <td>ডাক্তার আছেন</td>\n",
       "      <td>\\n\\nমানব শরীরের নতুন অঙ্গ আবিষ্কারের দাবি করেছ...</td>\n",
       "    </tr>\n",
       "    <tr>\n",
       "      <th>4030</th>\n",
       "      <td>ইসলাম ও জীবন</td>\n",
       "      <td>\\nপবিত্র কোরআনে মহান আল্লাহতায়ালা ইরশাদ করেন ‘...</td>\n",
       "    </tr>\n",
       "    <tr>\n",
       "      <th>4031</th>\n",
       "      <td>ইসলাম ও জীবন</td>\n",
       "      <td>\\nবাংলাদেশের মাটিতে বিশ্ব ইজতেমা অনুষ্ঠিত হওয়া...</td>\n",
       "    </tr>\n",
       "    <tr>\n",
       "      <th>4032</th>\n",
       "      <td>ঘরে বাইরে</td>\n",
       "      <td>\\n\\nনাগরিক জীবনে বেঁধে দেয়া ছকে আমাদের চলতে হয়...</td>\n",
       "    </tr>\n",
       "    <tr>\n",
       "      <th>4033</th>\n",
       "      <td>মতামত</td>\n",
       "      <td>\\n\\nগণশুনানির রেওয়াজটা বোধকরি এ দেশে তেমন প্রা...</td>\n",
       "    </tr>\n",
       "  </tbody>\n",
       "</table>\n",
       "<p>4034 rows × 2 columns</p>\n",
       "</div>"
      ],
      "text/plain": [
       "              category                                               body\n",
       "0     সাহিত্য সাময়িকী   \\nএ বছর সাহিত্যে নোবেল বিজয়ী মার্কিন সঙ্গীতশিল...\n",
       "1            ঘরে বাইরে  \\n\\nখাবার টেবিল থেকে শুরু করে পার্সে কিংবা হাত...\n",
       "2         ডাক্তার আছেন  \\n\\nবিভিন্ন কারণে গলা ফুলতে পারে বা গলার ভেতর ...\n",
       "3         ডাক্তার আছেন  \\n\\nআমাদের সাধারণ প্রবৃত্তি হল ব্যথা হলেই ব্যথ...\n",
       "4         ইসলাম ও জীবন  \\nধানমণ্ডির স্বনামধন্য এক যোগচর্চা কেন্দ্রে পব...\n",
       "...                ...                                                ...\n",
       "4029      ডাক্তার আছেন  \\n\\nমানব শরীরের নতুন অঙ্গ আবিষ্কারের দাবি করেছ...\n",
       "4030      ইসলাম ও জীবন  \\nপবিত্র কোরআনে মহান আল্লাহতায়ালা ইরশাদ করেন ‘...\n",
       "4031      ইসলাম ও জীবন  \\nবাংলাদেশের মাটিতে বিশ্ব ইজতেমা অনুষ্ঠিত হওয়া...\n",
       "4032         ঘরে বাইরে  \\n\\nনাগরিক জীবনে বেঁধে দেয়া ছকে আমাদের চলতে হয়...\n",
       "4033             মতামত  \\n\\nগণশুনানির রেওয়াজটা বোধকরি এ দেশে তেমন প্রা...\n",
       "\n",
       "[4034 rows x 2 columns]"
      ]
     },
     "execution_count": 14,
     "metadata": {},
     "output_type": "execute_result"
    }
   ],
   "source": [
    "# Create a list of specific categories\n",
    "categories = random_gen_types\n",
    "\n",
    "# Use boolean indexing to filter rows based on the 'Section' column\n",
    "df = df[df['category'].isin(categories)]\n",
    "df.reset_index(inplace=True, drop=True)\n",
    "# Print the new DataFrame\n",
    "df"
   ]
  },
  {
   "cell_type": "code",
   "execution_count": 15,
   "id": "a5b6f13c",
   "metadata": {
    "scrolled": true
   },
   "outputs": [
    {
     "data": {
      "text/plain": [
       "ঘরে বাইরে           1127\n",
       "মতামত               1061\n",
       "সাহিত্য সাময়িকী      828\n",
       "ইসলাম ও জীবন         516\n",
       "ডাক্তার আছেন         502\n",
       "Name: category, dtype: int64"
      ]
     },
     "execution_count": 15,
     "metadata": {},
     "output_type": "execute_result"
    }
   ],
   "source": [
    "df['category'].value_counts()"
   ]
  },
  {
   "cell_type": "code",
   "execution_count": 51,
   "id": "b595265a",
   "metadata": {
    "scrolled": true
   },
   "outputs": [
    {
     "data": {
      "text/html": [
       "<div>\n",
       "<style scoped>\n",
       "    .dataframe tbody tr th:only-of-type {\n",
       "        vertical-align: middle;\n",
       "    }\n",
       "\n",
       "    .dataframe tbody tr th {\n",
       "        vertical-align: top;\n",
       "    }\n",
       "\n",
       "    .dataframe thead th {\n",
       "        text-align: right;\n",
       "    }\n",
       "</style>\n",
       "<table border=\"1\" class=\"dataframe\">\n",
       "  <thead>\n",
       "    <tr style=\"text-align: right;\">\n",
       "      <th></th>\n",
       "      <th>category</th>\n",
       "      <th>body</th>\n",
       "    </tr>\n",
       "  </thead>\n",
       "  <tbody>\n",
       "    <tr>\n",
       "      <th>0</th>\n",
       "      <td>Literature</td>\n",
       "      <td>\\nএ বছর সাহিত্যে নোবেল বিজয়ী মার্কিন সঙ্গীতশিল...</td>\n",
       "    </tr>\n",
       "    <tr>\n",
       "      <th>1</th>\n",
       "      <td>Indise &amp; Outside</td>\n",
       "      <td>\\n\\nখাবার টেবিল থেকে শুরু করে পার্সে কিংবা হাত...</td>\n",
       "    </tr>\n",
       "    <tr>\n",
       "      <th>2</th>\n",
       "      <td>availble Doctor</td>\n",
       "      <td>\\n\\nবিভিন্ন কারণে গলা ফুলতে পারে বা গলার ভেতর ...</td>\n",
       "    </tr>\n",
       "    <tr>\n",
       "      <th>3</th>\n",
       "      <td>availble Doctor</td>\n",
       "      <td>\\n\\nআমাদের সাধারণ প্রবৃত্তি হল ব্যথা হলেই ব্যথ...</td>\n",
       "    </tr>\n",
       "    <tr>\n",
       "      <th>4</th>\n",
       "      <td>Islam &amp; Life</td>\n",
       "      <td>\\nধানমণ্ডির স্বনামধন্য এক যোগচর্চা কেন্দ্রে পব...</td>\n",
       "    </tr>\n",
       "    <tr>\n",
       "      <th>...</th>\n",
       "      <td>...</td>\n",
       "      <td>...</td>\n",
       "    </tr>\n",
       "    <tr>\n",
       "      <th>4029</th>\n",
       "      <td>availble Doctor</td>\n",
       "      <td>\\n\\nমানব শরীরের নতুন অঙ্গ আবিষ্কারের দাবি করেছ...</td>\n",
       "    </tr>\n",
       "    <tr>\n",
       "      <th>4030</th>\n",
       "      <td>Islam &amp; Life</td>\n",
       "      <td>\\nপবিত্র কোরআনে মহান আল্লাহতায়ালা ইরশাদ করেন ‘...</td>\n",
       "    </tr>\n",
       "    <tr>\n",
       "      <th>4031</th>\n",
       "      <td>Islam &amp; Life</td>\n",
       "      <td>\\nবাংলাদেশের মাটিতে বিশ্ব ইজতেমা অনুষ্ঠিত হওয়া...</td>\n",
       "    </tr>\n",
       "    <tr>\n",
       "      <th>4032</th>\n",
       "      <td>Indise &amp; Outside</td>\n",
       "      <td>\\n\\nনাগরিক জীবনে বেঁধে দেয়া ছকে আমাদের চলতে হয়...</td>\n",
       "    </tr>\n",
       "    <tr>\n",
       "      <th>4033</th>\n",
       "      <td>Opinion</td>\n",
       "      <td>\\n\\nগণশুনানির রেওয়াজটা বোধকরি এ দেশে তেমন প্রা...</td>\n",
       "    </tr>\n",
       "  </tbody>\n",
       "</table>\n",
       "<p>4034 rows × 2 columns</p>\n",
       "</div>"
      ],
      "text/plain": [
       "              category                                               body\n",
       "0           Literature  \\nএ বছর সাহিত্যে নোবেল বিজয়ী মার্কিন সঙ্গীতশিল...\n",
       "1     Indise & Outside  \\n\\nখাবার টেবিল থেকে শুরু করে পার্সে কিংবা হাত...\n",
       "2      availble Doctor  \\n\\nবিভিন্ন কারণে গলা ফুলতে পারে বা গলার ভেতর ...\n",
       "3      availble Doctor  \\n\\nআমাদের সাধারণ প্রবৃত্তি হল ব্যথা হলেই ব্যথ...\n",
       "4         Islam & Life  \\nধানমণ্ডির স্বনামধন্য এক যোগচর্চা কেন্দ্রে পব...\n",
       "...                ...                                                ...\n",
       "4029   availble Doctor  \\n\\nমানব শরীরের নতুন অঙ্গ আবিষ্কারের দাবি করেছ...\n",
       "4030      Islam & Life  \\nপবিত্র কোরআনে মহান আল্লাহতায়ালা ইরশাদ করেন ‘...\n",
       "4031      Islam & Life  \\nবাংলাদেশের মাটিতে বিশ্ব ইজতেমা অনুষ্ঠিত হওয়া...\n",
       "4032  Indise & Outside  \\n\\nনাগরিক জীবনে বেঁধে দেয়া ছকে আমাদের চলতে হয়...\n",
       "4033           Opinion  \\n\\nগণশুনানির রেওয়াজটা বোধকরি এ দেশে তেমন প্রা...\n",
       "\n",
       "[4034 rows x 2 columns]"
      ]
     },
     "execution_count": 51,
     "metadata": {},
     "output_type": "execute_result"
    }
   ],
   "source": [
    "# Mapping of old names to new names\n",
    "name_mapping = {\n",
    "    \"ঘরে বাইরে\" :  'Indise & Outside',    \n",
    "    \"মতামত\"  :  'Opinion',\n",
    "    \"সাহিত্য সাময়িকী \" : 'Literature',\n",
    "    'ডাক্তার আছেন': 'Availble Doctor',\n",
    "    'ইসলাম ও জীবন' : 'Islam & Life'\n",
    "}\n",
    "\n",
    "# Replace values in the 'gen_type' column\n",
    "df['category'] = df['category'].replace(name_mapping)\n",
    "df"
   ]
  },
  {
   "cell_type": "code",
   "execution_count": 52,
   "id": "84e69534",
   "metadata": {
    "scrolled": true
   },
   "outputs": [
    {
     "data": {
      "text/plain": [
       "(Indise & Outside    1127\n",
       " Opinion             1061\n",
       " Literature           828\n",
       " Islam & Life         516\n",
       " availble Doctor      502\n",
       " Name: category, dtype: int64,\n",
       " 4034)"
      ]
     },
     "execution_count": 52,
     "metadata": {},
     "output_type": "execute_result"
    }
   ],
   "source": [
    "each_class= df['category'].value_counts()\n",
    "each_class, each_class.sum()"
   ]
  },
  {
   "cell_type": "code",
   "execution_count": 53,
   "id": "32b8826c",
   "metadata": {},
   "outputs": [
    {
     "data": {
      "text/plain": [
       "<Axes: >"
      ]
     },
     "execution_count": 53,
     "metadata": {},
     "output_type": "execute_result"
    },
    {
     "data": {
      "image/png": "[encoded data removed]",
      "text/plain": [
       "<Figure size 640x480 with 1 Axes>"
      ]
     },
     "metadata": {},
     "output_type": "display_data"
    }
   ],
   "source": [
    "each_class.plot.bar()"
   ]
  },
  {
   "cell_type": "code",
   "execution_count": 54,
   "id": "5d0dcefd",
   "metadata": {},
   "outputs": [
    {
     "data": {
      "text/plain": [
       "(0       \\nএ বছর সাহিত্যে নোবেল বিজয়ী মার্কিন সঙ্গীতশিল...\n",
       " 1       \\n\\nখাবার টেবিল থেকে শুরু করে পার্সে কিংবা হাত...\n",
       " 2       \\n\\nবিভিন্ন কারণে গলা ফুলতে পারে বা গলার ভেতর ...\n",
       " 3       \\n\\nআমাদের সাধারণ প্রবৃত্তি হল ব্যথা হলেই ব্যথ...\n",
       " 4       \\nধানমণ্ডির স্বনামধন্য এক যোগচর্চা কেন্দ্রে পব...\n",
       "                               ...                        \n",
       " 4029    \\n\\nমানব শরীরের নতুন অঙ্গ আবিষ্কারের দাবি করেছ...\n",
       " 4030    \\nপবিত্র কোরআনে মহান আল্লাহতায়ালা ইরশাদ করেন ‘...\n",
       " 4031    \\nবাংলাদেশের মাটিতে বিশ্ব ইজতেমা অনুষ্ঠিত হওয়া...\n",
       " 4032    \\n\\nনাগরিক জীবনে বেঁধে দেয়া ছকে আমাদের চলতে হয়...\n",
       " 4033    \\n\\nগণশুনানির রেওয়াজটা বোধকরি এ দেশে তেমন প্রা...\n",
       " Name: body, Length: 4034, dtype: object,\n",
       " 0             Literature\n",
       " 1       Indise & Outside\n",
       " 2        availble Doctor\n",
       " 3        availble Doctor\n",
       " 4           Islam & Life\n",
       "               ...       \n",
       " 4029     availble Doctor\n",
       " 4030        Islam & Life\n",
       " 4031        Islam & Life\n",
       " 4032    Indise & Outside\n",
       " 4033             Opinion\n",
       " Name: category, Length: 4034, dtype: object)"
      ]
     },
     "execution_count": 54,
     "metadata": {},
     "output_type": "execute_result"
    }
   ],
   "source": [
    "X = df['body']\n",
    "y=df['category']\n",
    "X,y"
   ]
  },
  {
   "cell_type": "code",
   "execution_count": 55,
   "id": "8d15beb3",
   "metadata": {},
   "outputs": [
    {
     "data": {
      "text/plain": [
       "(['Literature',\n",
       "  'Indise & Outside',\n",
       "  'availble Doctor',\n",
       "  'Islam & Life',\n",
       "  'Opinion'],\n",
       " category       5\n",
       " body        4034\n",
       " dtype: int64)"
      ]
     },
     "execution_count": 55,
     "metadata": {},
     "output_type": "execute_result"
    }
   ],
   "source": [
    "## Get the Dependent features\n",
    "classes = list(y.unique())\n",
    "classes, df.nunique()"
   ]
  },
  {
   "cell_type": "code",
   "execution_count": 56,
   "id": "dc506bc3",
   "metadata": {},
   "outputs": [
    {
     "data": {
      "text/plain": [
       "(array([2, 0, 4, ..., 1, 0, 3]), 4034)"
      ]
     },
     "execution_count": 56,
     "metadata": {},
     "output_type": "execute_result"
    }
   ],
   "source": [
    "from sklearn.preprocessing import LabelEncoder\n",
    "y = LabelEncoder().fit_transform(y)\n",
    "y, len(y)"
   ]
  },
  {
   "cell_type": "code",
   "execution_count": 57,
   "id": "27515526",
   "metadata": {},
   "outputs": [
    {
     "name": "stdout",
     "output_type": "stream",
     "text": [
      "[0 1 2 3 4] [1127  516  828 1061  502]\n"
     ]
    }
   ],
   "source": [
    "import numpy as np\n",
    "unique_values, counts = np.unique(y, return_counts=True)\n",
    "print(unique_values, counts)"
   ]
  },
  {
   "cell_type": "code",
   "execution_count": 58,
   "id": "cef16d60",
   "metadata": {},
   "outputs": [
    {
     "data": {
      "text/plain": [
       "732"
      ]
     },
     "execution_count": 58,
     "metadata": {},
     "output_type": "execute_result"
    }
   ],
   "source": [
    "import re\n",
    "from temp_stemmer.bangla_stemmer.stemmer.stemmer import BanglaStemmer  # for stemming \n",
    "st_words = ('অই', 'অগত্যা', 'অত: পর', 'অতএব', 'অথচ', 'অথবা', 'অধিক', 'অধীনে', 'অধ্যায়', 'অনুগ্রহ', 'অনুভূত', 'অনুযায়ী', 'অনুরূপ', 'অনুসন্ধান', 'অনুসরণ', 'অনুসারে', 'অনুসৃত', 'অনেক', 'অনেকে', 'অনেকেই', 'অন্তত', 'অন্য', 'অন্যত্র', 'অন্যভাবে', 'অন্যান্য', 'অপেক্ষাকৃতভাবে', 'অবধি', 'অবশ্য', 'অবশ্যই', 'অবস্থা', 'অবিলম্বে', 'অভ্যন্তরস্থ', 'অর্জিত', 'অর্থাত', 'অসদৃশ', 'অসম্ভাব্য', 'আইন', 'আউট', 'আক্রান্ত', 'আগামী', 'আগে', 'আগেই', 'আগ্রহী', 'আছে', 'আজ', 'আট', 'আদেশ', 'আদ্যভাগে', 'আন্দাজ', 'আপনার', 'আপনি', 'আবার', 'আমরা', 'আমাকে', 'আমাদিগের', 'আমাদের', 'আমার', 'আমি', 'আর', 'আরও', 'আশি', 'আশু', 'আসা', 'আসে', 'ই', 'ইচ্ছা', 'ইচ্ছাপূর্বক', 'ইতিমধ্যে', 'ইতোমধ্যে', 'ইত্যাদি', 'ইশারা', 'ইহা', 'ইহাতে', 'উক্তি', 'উচিত', 'উচ্চ', 'উঠা', 'উত্তম', 'উত্তর', 'উনি', 'উপর', 'উপরে', 'উপলব্ধ', 'উপায়', 'উভয়', 'উল্লেখ', 'উল্লেখযোগ্যভাবে', 'উহার', 'ঊর্ধ্বতন', 'এ', 'এপর্যন্ত', 'এঁদের', 'এঁরা', 'এই', 'এইগুলো', 'এইভাবে', 'এক', 'একই', 'একটি', 'একদা', 'একবার', 'একভাবে', 'একরকম', 'একসঙ্গে', 'একা', 'একে', 'এক্', 'এখন', 'এখনও', 'এখনো', 'এখানে', 'এখানেই', 'এছাড়াও', 'এটা', 'এটাই', 'এটি', 'এত', 'এতটাই', 'এতদ্বারা', 'এতে', 'এদিকে', 'এদের', 'এপর্যন্ত', 'এবং', 'এবার', 'এমন', 'এমনকি', 'এমনকী', 'এমনি', 'এর', 'এরকম', 'এরা', 'এল', 'এলাকায়', 'এলাকার', 'এস', 'এসে', 'ঐ', 'ও', 'ওঁদের', 'ওঁর', 'ওঁরা', 'ওই', 'ওকে', 'ওখানে', 'ওদের', 'ওর', 'ওরা', 'ওহে', 'কক্ষ', 'কখন', 'কখনও', 'কত', 'কবে', 'কম', 'কমনে', 'কয়েক', 'কয়েকটি', 'করছে', 'করছেন', 'করতে', 'করবে', 'করবেন', 'করলে', 'করলেন', 'করলো', 'করা', 'করাই', 'করাত', 'করার', 'করায়', 'করি', 'করিতে', 'করিয়া', 'করিয়ে', 'করে', 'করেই', 'করেছিল', 'করেছিলেন', 'করেছে', 'করেছেন', 'করেন', 'কর্তব্য', 'কাউকে', 'কাছ', 'কাছাকাছি', 'কাছে', 'কাজ', 'কাজে', 'কারও', 'কারণ', 'কারণসমূহ', 'কারো', 'কি', 'কিংবা', 'কিছু', 'কিছুই', 'কিছুটা', 'কিছুনা', 'কিনা', 'কিন্তু', 'কিভাবে', 'কী', 'কূপ', 'কে', 'কেউ', 'কেউই', 'কেউনা', 'কেখা', 'কেন', 'কেবল', 'কেবা', 'কেস', 'কেহ', 'কোটি', 'কোথা', 'কোথাও', 'কোথায়', 'কোন', 'কোনও', 'কোনো', 'ক্রম', 'ক্ষেত্রে', 'কয়েক', 'কয়েকটি', 'খুঁজছেন', 'খুব', 'খোলা', 'খোলে', 'গড়', 'গত', 'গিয়ে', 'গিয়েছিলাম', 'গিয়েছে', 'গিয়ে', 'গিয়েছে', 'গুরুত্ব', 'গুলি', 'গেছে', 'গেল', 'গেলে', 'গোটা', 'গোষ্ঠীবদ্ধ', 'গ্রহণ', 'গ্রুপ', 'ঘর', 'ঘোষণা', 'চলে', 'চান', 'চায়', 'চার', 'চালা', 'চালান', 'চালু', 'চায়', 'চেয়ে', 'চেয়েছিলেন', 'চেষ্টা', 'চেয়ে', 'ছয়', 'ছাড়া', 'ছাড়াছাড়ি', 'ছাড়া', 'ছাড়াও', 'ছিল', 'ছিলেন', 'ছোট', 'জন', 'জনকে', 'জনাব', 'জনাবা', 'জনের', 'জন্য', 'জানতাম', 'জানতে', 'জানা', 'জানানো', 'জানায়', 'জানিয়ে', 'জানিয়েছে', 'জানে', 'জায়গা', 'জিজ্ঞাসা', 'জিজ্ঞেস', 'জিনিস', 'জে', 'জ্নজন', 'টা', 'টি', 'ঠিক', 'ঠিকআছে', 'ডগা', 'তখন', 'তত', 'তত্কারণে', 'তত্প্রতি', 'তথা', 'তদনুসারে', 'তদ্ব্যতীত', 'তন্নতন্ন', 'তবু', 'তবে', 'তরুণ', 'তা', 'তাঁকে', 'তাঁদের', 'তাঁর', 'তাঁরা', 'তাঁহারা', 'তাই', 'তাও', 'তাকে', 'তাতে', 'তাদের', 'তার', 'তারপর', 'তারপরেও', 'তারা', 'তারিখ', 'তারৈ', 'তাহলে', 'তাহা', 'তাহাতে', 'তাহাদিগকে', 'তাহাদেরই', 'তাহার', 'তিন', 'তিনি', 'তিনিও', 'তীক্ষ্ন', 'তুমি', 'তুলে', 'তেমন', 'তৈরীর', 'তো', 'তোমার', 'তোলে', 'থাকবে', 'থাকবেন', 'থাকা', 'থাকায়', 'থাকায়', 'থাকে', 'থাকেন', 'থেকে', 'থেকেই', 'থেকেও', 'দরকারী', 'দলবদ্ধ', 'দান', 'দিকে', 'দিতে', 'দিন', 'দিয়ে', 'দিয়েছে', 'দিয়েছেন', 'দিলেন', 'দিয়ে', 'দিয়েছে', 'দিয়েছেন', 'দু', 'দুই', 'দুটি', 'দুটো', 'দূরে', 'দেওয়ার', 'দেওয়া', 'দেওয়ার', 'দেখতে', 'দেখা', 'দেখাচ্ছে', 'দেখিয়েছেন', 'দেখে', 'দেখেন', 'দেন', 'দেয়', 'দেয়', 'দ্বারা', 'দ্বিগুণ', 'দ্বিতীয়', 'দ্য', 'ধরা', 'ধরে', 'ধামার', 'নতুন', 'নব্বই', 'নয়', 'নাই', 'নাকি', 'নাগাদ', 'নানা', 'নাম', 'নিচে', 'নিছক', 'নিজে', 'নিজেই', 'নিজেকে', 'নিজেদের', 'নিজেদেরকে', 'নিজের', 'নিতে', 'নিদিষ্ট', 'নিম্নাভিমুখে', 'নিয়ে', 'নির্দিষ্ট', 'নির্বিশেষে', 'নিশ্চিত', 'নিয়ে', 'নেই', 'নেওয়ার', 'নেওয়া', 'নেয়ার', 'নয়', 'পক্ষই', 'পক্ষে', 'পঞ্চম', 'পড়া', 'পণ্য', 'পথ', 'পয়েন্ট', 'পর', 'পরন্তু', 'পরবর্তী', 'পরিণত', 'পরিবর্তে', 'পরে', 'পরেই', 'পরেও', 'পর্যন্ত', 'পর্যাপ্ত', 'পাঁচ', 'পাওয়া', 'পাচ', 'পায়', 'পারা', 'পারি', 'পারিনি', 'পারে', 'পারেন', 'পালা', 'পাশ', 'পাশে', 'পিছনে', 'পিঠের', 'পুরোনো', 'পুরোপুরি', 'পূর্বে', 'পৃষ্ঠা', 'পৃষ্ঠাগুলি', 'পেছনে', 'পেয়েছেন', 'পেয়ে', 'পেয়্র্', 'প্রকৃতপক্ষে', 'প্রণীত', 'প্রতি', 'প্রথম', 'প্রদত্ত', 'প্রদর্শনী', 'প্রদর্শিত', 'প্রধানত', 'প্রবলভাবে', 'প্রভৃতি', 'প্রমাণীকরণ', 'প্রযন্ত', 'প্রয়োজন', 'প্রয়োজনীয়', 'প্রসূত', 'প্রাক্তন', 'প্রাথমিক', 'প্রাথমিকভাবে', 'প্রান্ত', 'প্রাপ্ত', 'প্রায়', 'প্রায়ই', 'প্রায়', 'ফলাফল', 'ফলে', 'ফিক্স', 'ফিরে', 'ফের', 'বক্তব্য', 'বছর', 'বড়', 'বদলে', 'বন', 'বন্ধ', 'বরং', 'বরাবর', 'বর্ণন', 'বর্তমান', 'বলতে', 'বলল', 'বললেন', 'বলা', 'বলে', 'বলেছেন', 'বলেন', 'বসে', 'বহু', 'বা', 'বাঁক', 'বাইরে', 'বাকি', 'বাড়ি', 'বাতিক', 'বাদ', 'বাদে', 'বার', 'বাহিরে', 'বিনা', 'বিন্দু', 'বিভিন্ন', 'বিশেষ', 'বিশেষণ', 'বিশেষত', 'বিশেষভাবে', 'বিশ্ব', 'বিষয়টি', 'বুঝিয়ে', 'বৃহত্তর', 'বের', 'বেশ', 'বেশি', 'বেশী', 'ব্যতীত', 'ব্যবহার', 'ব্যবহারসমূহ', 'ব্যবহৃত', 'ব্যাক', 'ব্যাপকভাবে', 'ব্যাপারে', 'ভবিষ্যতে', 'ভান', 'ভাবে', 'ভাবেই', 'ভাল', 'ভিতরে', 'ভিন্ন', 'ভিন্নভাবে', 'মত', 'মতো', 'মতোই', 'মধ্যভাগে', 'মধ্যে', 'মধ্যেই', 'মধ্যেও', 'মনে', 'মনে হয়', 'মস্ত', 'মহান', 'মাত্র', 'মাধ্যম', 'মাধ্যমে', 'মান', 'মানানসই', 'মানুষ', 'মানে', 'মামলা', 'মিলিয়ন', 'মুখ', 'মূলত', 'মোট', 'মোটেই', 'যখন', 'যখনই', 'যত', 'যতটা', 'যথা', 'যথাক্রমে', 'যথেষ্ট', 'যদি', 'যদিও', 'যন্ত্রাংশ', 'যা', 'যাঁর', 'যাঁরা', 'যাই', 'যাওয়া', 'যাওয়ার', 'যাওয়া', 'যাওয়ার', 'যাকে', 'যাচ্ছে', 'যাতে', 'যাদের', 'যান', 'যাবে', 'যায়', 'যার', 'যারা', 'যাহার', 'যাহোক', 'যিনি', 'যে', 'যেখানে', 'যেখানেই', 'যেটি', 'যেতে', 'যেন', 'যেমন', 'যেহেতু', 'যোগ', 'রকম', 'রয়েছে', 'রাখা', 'রাখে', 'রাজী', 'রাজ্যের', 'রেখে', 'রয়েছে', 'লক্ষ', 'লাইন', 'লাল', 'শত', 'শব্দ', 'শীঘ্র', 'শীঘ্রই', 'শুধু', 'শুরু', 'শুরুতে', 'শূন্য', 'শেষ', 'সংক্রান্ত', 'সংক্ষিপ্ত', 'সংক্ষেপে', 'সংখ্যা', 'সংখ্যার', 'সংশ্লিষ্ট', 'সক্ষম', 'সঙ্গে', 'সঙ্গেও', 'সত্য', 'সত্যিই', 'সদয়', 'সদস্য', 'সদস্যদের', 'সফলভাবে', 'সব', 'সবচেয়ে', 'সবাই', 'সবার', 'সময়', 'সমস্ত', 'সমান', 'সম্পন্ন', 'সম্প্রতি', 'সম্ভব', 'সম্ভবত', 'সম্ভাব্য', 'সরাইয়া', 'সর্বত্র', 'সর্বদা', 'সর্বস্বান্ত', 'সহ', 'সহিত', 'সাত', 'সাধারণ', 'সাধারণত', 'সাব', 'সাবেক', 'সামগ্রিক', 'সামনে', 'সামান্য', 'সাম্প্রতিক', 'সুতরাং', 'সুত্র', 'সূচক', 'সে', 'সে হবে', 'সেই', 'সেকেন্ড', 'সেখান', 'সেখানে', 'সেগুলো', 'সেটা', 'সেটাই', 'সেটাও', 'সেটি', 'সেরা', 'স্টপ', 'স্থাপিত', 'স্পষ্ট', 'স্পষ্টত', 'স্পষ্টতই', 'স্ব', 'স্বয়ং', 'স্বাগত', 'স্বাভাবিকভাবে', 'স্বার্থ', 'স্বয়ং', 'হইতে', 'হইবে', 'হইয়া', 'হওয়া', 'হওয়ায়', 'হওয়ার', 'হচ্ছে', 'হত', 'হতে', 'হতেই', 'হন', 'হবে', 'হবেন', 'হয়', 'হয়তো', 'হয়নি', 'হয়ে', 'হয়েই', 'হয়েছিল', 'হয়েছে', 'হয়েছেন', 'হল', 'হলে', 'হলেই', 'হলেও', 'হলো', 'হাজার', 'হায়', 'হারানো', 'হিসাবে', 'হৈলে', 'হোক', 'হয়', 'হয়তো', 'হয়নি', 'হয়ে', 'হয়েই', 'হয়েছিল', 'হয়েছে', 'হয়েছেন', 'অংশ')\n",
    "len(st_words)"
   ]
  },
  {
   "cell_type": "code",
   "execution_count": 59,
   "id": "f95e3157",
   "metadata": {},
   "outputs": [],
   "source": [
    "# para = df['body'][387]\n",
    "# sentences = re.sub(r'\\n{2,}|\\n|।|,', \"\", para)\n",
    "# sentences"
   ]
  },
  {
   "cell_type": "code",
   "execution_count": 60,
   "id": "73517b16",
   "metadata": {},
   "outputs": [],
   "source": [
    "corpus = []\n",
    "no_of_words = 0\n",
    "for i in range(df.shape[0]):\n",
    "    para = df['body'][i]\n",
    "    sentences = re.sub(r'\\n{2,}|\\n|।|,|!|@|<|>|#|\\$|%|\\^|&|\\*|\\(|\\)|\\\\|/', \"\", para)\n",
    "    words = sentences.split()\n",
    "    \n",
    "\n",
    "    words = [word for word in words if word not in st_words]\n",
    "#     words = [word for word in words if not word in stopwords.words('english')]\n",
    "    words = [BanglaStemmer().stem(word) for word in words]\n",
    "    no_of_words += len(words) \n",
    "    line = ' '.join(words)\n",
    "    corpus.append(line)"
   ]
  },
  {
   "cell_type": "code",
   "execution_count": 61,
   "id": "11b893c4",
   "metadata": {},
   "outputs": [
    {
     "data": {
      "text/plain": [
       "467.859444719881"
      ]
     },
     "execution_count": 61,
     "metadata": {},
     "output_type": "execute_result"
    }
   ],
   "source": [
    "# avg word/news \n",
    "no_of_words/df.shape[0]"
   ]
  },
  {
   "cell_type": "code",
   "execution_count": 62,
   "id": "4806206d",
   "metadata": {},
   "outputs": [
    {
     "data": {
      "text/plain": [
       "\"সাহিত্যে নোবেল বিজয়ী মার্কিন সঙ্গীতশিল্পী গীতিক অভিনেতা লেখক বব ডিলান ১৯৪১- সম্পর্ শতাব্দীর সত্তর দশক মাঝামাঝি সময় কথা চট্টগ্রাম বিশ্ববিদ্যালয় প্রাণিবিদ্যা বিভাগ অনাসের্র ছাত্র পড়াশোন পাশাপাশি গান লেখালেখি থাকি এমন দিনে সহপাঠী-বান্ধবী ক্যাথরিন রড্রিক্স ক্লাসে সামনে হাত গান বাংলা গান ইংরেজি গান ‘খুব সুন্দর এক গান গাইতে পারো’ বড় বড় চোখ তাকাতে ‘আমি সুর জানি তোমাকে শিখা দেবো’ক্যাথরিন দু’স্তবক পুরো গান গায় শোনায় আমাদেরকাগজটা ধরি চোখ পরিপূর্ণ অর্থ কথ গভীরতা মুহূর্ না বুঝলে কবিতা লিখ বলে কি-না প্রতি পঙ্ক্তি দোল খায় যায় বুক ভেতর‘How many roads must a man walk downBefore you can call him a man ?How many seas must a white dove sailBefore she sleeps in the sand ?Yes and how many times must the cannonball flyBefore they're for ever banned ?The answer my friend is blowin' in the windThe answer is blowin' in the wind.’জিজ্ঞেস কর ‘গান শিল্পী ?’ক্যাথরিন ছোট্ট নাম ‘বব ডিলান’ মুহূর্ নাম গেঁথে মনেবব ডিলান বড় মাপ একজন শিল্পী গীতিক বুঝ বেশিদিন সময় লাগেনি চলমান পৃথিবী শিল্পী ব্যান্ডদল আসায় প্রজন্ম অচেনা গিয়েছি বব ডিলান শিল্পী আমেরিকার জনপ্রিয় লোকসঙ্গীত ধারায় যুক্ত প্রতিবাদ-ঘৃণা তা- অলংকৃত শব্ কাব্যিক ধ্বনিময়-মাধুর্য বিস্মরণ গভীর এনেছেন সুইডেনের নোবেল কমি ২০১৬ সালে সাহিত্যে পৃথিবীর শ্রেষ্ঠ নোবেল পুরস্কারটি ভালোব বীজ রোপণ প্রজন্ম জন্যবব ডিলান গান রচনা গাওয়া সেসব গান কথায় ফুটে উঠেছিল সামাজিক অস্থিরত কথা মার্কিন মুলুক অতীত ইতিহাস শোষণ-বঞ্চন কথা রূপক কাব্যিক ভাষায় গান বাণী ঋদ্ধ গান মাধ্যমে উঠেছি প্রজন্ম মুখপাত্র যেই গান কথা লেখ করে ‘Blowin’ in the wind’ ‘The times they are a-changin’ দিক গান ওঠে আমেরিকান নাগরিক অধিক যুদ্ধবিরোধী আন্দোলন স্তবগান অধিক আদায় অনুষ্ঠানে বব ডিলান গান না বাজলে অনুষ্ঠান পূর্ণতা পেত না লোকগান পুনরুজ্জীবন পাশাপাশি শতাব্দীর মধ্য-ষাট দশক বব ডিলান গানে রক-মিউজিক সংমিশ্রণ ঘটান আমেরিকার সঙ্গীতজগ দ্রুত জনপ্রিয় বব ডিলান আমেরিকার ইতিহাস ঐতিহ্য সংস্কৃতি গান রচনা পরিবেশন দায়িত্ব একা কাঁধে নিয়েছি পরামর্শ ছাড়া রক-এন-রোল জাজ সঙ্গীত করলে মূল কাজ সরে যাননি সুইডিশ নোবেল কমি সময় পুরস্কারপ্রাপ্তির হিসেব বিষয় হলো- ‘আমেরিকার বিশাল সনাতনী-ঐতিহ্যবাহী সঙ্গীত ধারা ভেতর সৃষ্ কাব্যিক অভিব্যক্তি new poetic expressions’বেশ কয়েকবছর ধরে বব ডিলান সাহিত্যক্ষেত্রে পুরস্কার নোবেল কমি তালিকায় উঠে আসছিল চিহ্নিত গান রচয়িতা হিসেব সাহিত্যে নোবেল পুরস্কার ইতিহাসে সূক্ষ্মভাবে বিচ দেখব ১৯১৩ সালে রবীন্দ্রনাথ ঠাকুর দেয়া পুরস্কার গীতিকবি গীতিক গান রচন নোবেল পুরস্ক অর্জন দু’জন গান বাণীর ভেতর বিস্তর ফারাক বিদ্যমান 'The Song Offerings'-এর গান ভেতর আধ্যাত্মিকতা সৃষ্টিকর্ত ভক্তি মানবজীবন গভীর ভাববাদী অন্তর্শক্তির প্রকাশ বব ডিলান গান আমেরিকান ঐতিহ্যবাহী সঙ্গীত ভেতর আধুনিক কাব্যধ সংযোগ ঘটা মানবাধিকার বিষয় গুরুত্ব ধর প্রচেষ্ প্রচেষ্ শতভাগ সফল শতাব্দীর ষাট দশক বর্ণিল কর্মজীবন তাকালে উপলব্ধি যায় কথাসাহিত্য কাব্যগ্রন্থ ভেতর জীবন অনালোকিত বিষয় বিশ্বাস সংগ্রাম কথা ক্রমাগত ধর ভেতর একজন লেখক কবি অন্য আলাদা উঠ কারণে সাহিত্যে নোবেল পুরস্কার ধারাবাহিকতা বিবেচনা লেখক কবি নাম পুরস্কার বিবেচনায় পুরস্ক ঢাউস ঢাউস প্রবন্ধ লিখে পূর্বাভাষ বিশ্লেষণ তালিকায় বব ডিলান দাখ রায় পারেননি গান একজন গীতিকবি আন্দোলন হাতিয় তুল বব ডিলান নোবেল পুরস্কারপ্রাপ্তি তার প্রমাণ সংরক্ষণ করল ভবিষ্যত মার্কিন সাহিত্যিক ভেতর ১৯৯৩ সালে সর্বশেষ নোবেল পুরস্কারটি পেয়েছি উপন্যাসিক ফিকশন-রাই টনি মরিসন ১৯৩১- উপন্যাস বিষয়বস্তু আহরণ মহাকাব্য অনুষঙ্গ উপজীব্য উপন্যাস ক্যানভাসে অসংখ্য চরিত্র আগমন ঘটে পুরাণ ইতিহাস এসব মানুষ টনি মরিসন আধুনিক ভাষাভঙ্গি আদর্শ বিশ্বাস চমৎক মিশেল ঘটা রচনা উপন্যাস ২৩ বব ডিলান পুরস্কারটি পেল প্রথাগত চিন্তা মগজে-মননে নোবেল কমি সিদ্ধান্ত জানা দ্বিধাগ্রস্ত পড় দ্বিধাগ্রস্ত জন্য সুইডিশ একাডেমির স্থায়ী সচিব মিজ সার দানিয়ুস ‘ডিলান ঐতিহ্য অন্তর্ভুক্ত ধারণ ৫৪ এটি অবিচল আছ পুনরাবিষ্কার সৃষ্ পৃথক পরিচিতি’ পরামর্শ ‘যা কাজ পরিচিত নন ১৯৬৬ সালে প্রকাশিত 'Blonde on Blonde' মিউজিক-অ্যালবাম জানা কাজ পারেন’ আলোচক সঙ্গীতবোদ্ধা মত অ্যালবাম সময় গুরুত্বপূর্ণ অ্যালবাম হিসেব ওপর সারি থাকবেবব ডিলান সাম্প্রতিককাল মার্কিন সঙ্গীত ভাবন কথা সাক্ষাৎকারে এখনক সংশ্লেষী ধারা সঙ্গীত সম্পর্ ডিলান সংশ্লেষী মিউজিক সবচ আবশ্যক হৃদয় উৎসারিত গান বহুদিন টেক শ্রোতা দর্শক হৃদয় শিল্পকৌশল যান্ত্রিক উপায় গান দীর্ঘস্থায়ী যায় নাফলে অধিকাংশ শিল্পী জনমানসে স্থায়ী আবেদন হাজির না আবেগের অনুপস্থিতির কারণে ব্যান্ডদল বিটেলস সম্পর্ গান বাণী বাইবেলের জনপ্রিয় পূর্বসূরি উৎকর্ষতা ছাড়িয়ে গিয়েছিল ডিলান গান কাতারে ফেল নারাজ গান ইয়োলো সাবমেরিন মাইকেল আয় ওয়ান্না হোল্ড ইয়োর হ্যান্ড অবিশ্বাস্য চমৎক ধারণা দ্বিতীয় বিটেলস জন্ম নাব না গান মানুষ কণ্ঠ বিশ্বব্যাপী ছড়িয়ে দেয় বব ডিলান স্বীক কৃতিত্ব পল রবসন ১৮৯৮-১৯৭৬ মত রবসন সর্বশ্রেষ্ঠ সঙ্গীতশিল্পী পল রবসন একাধারে সঙ্গীতশিল্পী অভিনেতা সামাজিক আন্দোলনে অংশগ্রহণকারী আইনজ্ঞ খেলোয়াড় নিচু-খা সুরে গান গাইত গান অনুনাদ-অনুরণন অতুলনীয় পিট সিজ মিজ ডালিয়া লেভ প্রমুখ সঙ্গীতশিল্পী ভালোব তালিকা দেননি একজন সফল মানবাধিক কর্মী হিসেব বব ডিলান বিশ্বে মার্কিন যুক্তরাষ্ট্র পরাশক্তি যেসব যুদ্ধ ন্যায়ানুগ যথাযথ এসব নীতি সম্পর্ কথা ‘আমি একজন লেখক গায়ক সঙ্গীতশিল্পী গান মাধ্যমে প্রতিবাদ যাচ্ছি’নোবেলজয়ী বব ডিলান সঙ্গীত ৪৮ একক-অ্যালবাম প্রকাশ স্টুডি কনসার্ট মিলা ১৯৬২ সালে ‘বব ডিলান’ শিরোনাম অ্যালবাম ২০১৬ সালে প্রকাশিত ‘ফ অ্যাঞ্জেল্স’ প্রকাশিত গান সংকলিত অ্যালবাম ৩১ একক গান অ্যালবাম ৫৮ শিল্পী প্রকাশিত অ্যালবাম ৬টি জীবনে গান গাওয়া বিস্ময়কর বব ডিলান বিস্ময়কর সঙ্গীতপ্রতিভা পঞ্চাশ বছরে ১১০ মিলিয়ন গান রেকর্ড বিক্রয় যোগ্যতা অর্জন ১৯৮৮ সাল বিখ্যাত ‘নেভ এন্ডিং ট্যুর’ প্রতিবছর গড়ে ১০০ স্টেজ-শো যায় ৭৫ বয়সে এসে থাম যাননি বছর স্টেজ-শো চীনে নিষিদ্ধ রাজনৈতিক কারণেবব ডিলান গীতিকবি সঙ্গীতশিল্পী হিসেব আট রাখলে চলবে না পরিচয় বহুমাত্রিক কাজ বিখ্যাত একাধারে লেখক চলচ্চিত্র পরিচালক অভিনেতা ডিসকো-জকি চিত্রশিল্পী ১৯৯৪ আঁকা পেইন্টিং ড্রয়িংয় ৬টি বই প্রকাশিত দৃষ্টিনন্দন রুচির পরিচয় দেয়এত ছোট্ট পরিসরে বব ডিলান সম্পর্ তবু নোবেলপ্রাপ্তি গান গান বাণী ভালোবাসি সমাজ ভাবি মানবত কথা উচ্চারণ সহাস্যে বলতে পারি- ‘থ্রি চিয়ার্স ফর বব ডিলান’\""
      ]
     },
     "execution_count": 62,
     "metadata": {},
     "output_type": "execute_result"
    }
   ],
   "source": [
    "corpus[0]"
   ]
  },
  {
   "cell_type": "code",
   "execution_count": 63,
   "id": "579f99cc",
   "metadata": {},
   "outputs": [],
   "source": [
    "from sklearn.feature_extraction.text import TfidfVectorizer\n",
    "tv = TfidfVectorizer(max_features=1000,ngram_range=(1,3))\n",
    "X = tv.fit_transform(corpus).toarray()"
   ]
  },
  {
   "cell_type": "code",
   "execution_count": 64,
   "id": "98bbdfda",
   "metadata": {},
   "outputs": [
    {
     "data": {
      "text/plain": [
       "(4034, 1000)"
      ]
     },
     "execution_count": 64,
     "metadata": {},
     "output_type": "execute_result"
    }
   ],
   "source": [
    "X.shape"
   ]
  },
  {
   "cell_type": "code",
   "execution_count": 65,
   "id": "4b3b76f4",
   "metadata": {},
   "outputs": [
    {
     "data": {
      "text/plain": [
       "array([2, 0, 4, ..., 1, 0, 3])"
      ]
     },
     "execution_count": 65,
     "metadata": {},
     "output_type": "execute_result"
    }
   ],
   "source": [
    "y"
   ]
  },
  {
   "cell_type": "code",
   "execution_count": 66,
   "id": "9feff0de",
   "metadata": {},
   "outputs": [
    {
     "data": {
      "text/plain": [
       "array(['email', 'email protected', 'of', 'protected', 'the', 'অক',\n",
       "       'অক বর', 'অগ', 'অঙ', 'অজ', 'অঞ', 'অঞ চল', 'অট', 'অত', 'অত পর',\n",
       "       'অত যন', 'অদ', 'অধ', 'অধ পক', 'অন'], dtype=object)"
      ]
     },
     "execution_count": 66,
     "metadata": {},
     "output_type": "execute_result"
    }
   ],
   "source": [
    "tv.get_feature_names_out()[:20]"
   ]
  },
  {
   "cell_type": "code",
   "execution_count": 67,
   "id": "0603a6e3",
   "metadata": {},
   "outputs": [
    {
     "data": {
      "text/html": [
       "<div>\n",
       "<style scoped>\n",
       "    .dataframe tbody tr th:only-of-type {\n",
       "        vertical-align: middle;\n",
       "    }\n",
       "\n",
       "    .dataframe tbody tr th {\n",
       "        vertical-align: top;\n",
       "    }\n",
       "\n",
       "    .dataframe thead th {\n",
       "        text-align: right;\n",
       "    }\n",
       "</style>\n",
       "<table border=\"1\" class=\"dataframe\">\n",
       "  <thead>\n",
       "    <tr style=\"text-align: right;\">\n",
       "      <th></th>\n",
       "      <th>email</th>\n",
       "      <th>email protected</th>\n",
       "      <th>of</th>\n",
       "      <th>protected</th>\n",
       "      <th>the</th>\n",
       "      <th>অক</th>\n",
       "      <th>অক বর</th>\n",
       "      <th>অগ</th>\n",
       "      <th>অঙ</th>\n",
       "      <th>অজ</th>\n",
       "      <th>...</th>\n",
       "      <th>২২</th>\n",
       "      <th>২৩</th>\n",
       "      <th>২৪</th>\n",
       "      <th>২৫</th>\n",
       "      <th>৩০</th>\n",
       "      <th>৪০</th>\n",
       "      <th>৫০</th>\n",
       "      <th>৫০০</th>\n",
       "      <th>৭০</th>\n",
       "      <th>target</th>\n",
       "    </tr>\n",
       "  </thead>\n",
       "  <tbody>\n",
       "    <tr>\n",
       "      <th>0</th>\n",
       "      <td>0.0</td>\n",
       "      <td>0.0</td>\n",
       "      <td>0.0</td>\n",
       "      <td>0.0</td>\n",
       "      <td>0.293083</td>\n",
       "      <td>0.000000</td>\n",
       "      <td>0.0</td>\n",
       "      <td>0.000000</td>\n",
       "      <td>0.000000</td>\n",
       "      <td>0.0</td>\n",
       "      <td>...</td>\n",
       "      <td>0.0</td>\n",
       "      <td>0.033369</td>\n",
       "      <td>0.000000</td>\n",
       "      <td>0.00000</td>\n",
       "      <td>0.000000</td>\n",
       "      <td>0.000000</td>\n",
       "      <td>0.000000</td>\n",
       "      <td>0.000000</td>\n",
       "      <td>0.0</td>\n",
       "      <td>2</td>\n",
       "    </tr>\n",
       "    <tr>\n",
       "      <th>1</th>\n",
       "      <td>0.0</td>\n",
       "      <td>0.0</td>\n",
       "      <td>0.0</td>\n",
       "      <td>0.0</td>\n",
       "      <td>0.000000</td>\n",
       "      <td>0.000000</td>\n",
       "      <td>0.0</td>\n",
       "      <td>0.000000</td>\n",
       "      <td>0.000000</td>\n",
       "      <td>0.0</td>\n",
       "      <td>...</td>\n",
       "      <td>0.0</td>\n",
       "      <td>0.000000</td>\n",
       "      <td>0.000000</td>\n",
       "      <td>0.00000</td>\n",
       "      <td>0.000000</td>\n",
       "      <td>0.000000</td>\n",
       "      <td>0.000000</td>\n",
       "      <td>0.360987</td>\n",
       "      <td>0.0</td>\n",
       "      <td>0</td>\n",
       "    </tr>\n",
       "    <tr>\n",
       "      <th>2</th>\n",
       "      <td>0.0</td>\n",
       "      <td>0.0</td>\n",
       "      <td>0.0</td>\n",
       "      <td>0.0</td>\n",
       "      <td>0.000000</td>\n",
       "      <td>0.000000</td>\n",
       "      <td>0.0</td>\n",
       "      <td>0.000000</td>\n",
       "      <td>0.000000</td>\n",
       "      <td>0.0</td>\n",
       "      <td>...</td>\n",
       "      <td>0.0</td>\n",
       "      <td>0.000000</td>\n",
       "      <td>0.000000</td>\n",
       "      <td>0.00000</td>\n",
       "      <td>0.000000</td>\n",
       "      <td>0.000000</td>\n",
       "      <td>0.000000</td>\n",
       "      <td>0.000000</td>\n",
       "      <td>0.0</td>\n",
       "      <td>4</td>\n",
       "    </tr>\n",
       "    <tr>\n",
       "      <th>3</th>\n",
       "      <td>0.0</td>\n",
       "      <td>0.0</td>\n",
       "      <td>0.0</td>\n",
       "      <td>0.0</td>\n",
       "      <td>0.000000</td>\n",
       "      <td>0.000000</td>\n",
       "      <td>0.0</td>\n",
       "      <td>0.000000</td>\n",
       "      <td>0.000000</td>\n",
       "      <td>0.0</td>\n",
       "      <td>...</td>\n",
       "      <td>0.0</td>\n",
       "      <td>0.000000</td>\n",
       "      <td>0.000000</td>\n",
       "      <td>0.00000</td>\n",
       "      <td>0.000000</td>\n",
       "      <td>0.000000</td>\n",
       "      <td>0.000000</td>\n",
       "      <td>0.000000</td>\n",
       "      <td>0.0</td>\n",
       "      <td>4</td>\n",
       "    </tr>\n",
       "    <tr>\n",
       "      <th>4</th>\n",
       "      <td>0.0</td>\n",
       "      <td>0.0</td>\n",
       "      <td>0.0</td>\n",
       "      <td>0.0</td>\n",
       "      <td>0.000000</td>\n",
       "      <td>0.000000</td>\n",
       "      <td>0.0</td>\n",
       "      <td>0.050798</td>\n",
       "      <td>0.000000</td>\n",
       "      <td>0.0</td>\n",
       "      <td>...</td>\n",
       "      <td>0.0</td>\n",
       "      <td>0.000000</td>\n",
       "      <td>0.000000</td>\n",
       "      <td>0.00000</td>\n",
       "      <td>0.000000</td>\n",
       "      <td>0.000000</td>\n",
       "      <td>0.000000</td>\n",
       "      <td>0.000000</td>\n",
       "      <td>0.0</td>\n",
       "      <td>1</td>\n",
       "    </tr>\n",
       "    <tr>\n",
       "      <th>...</th>\n",
       "      <td>...</td>\n",
       "      <td>...</td>\n",
       "      <td>...</td>\n",
       "      <td>...</td>\n",
       "      <td>...</td>\n",
       "      <td>...</td>\n",
       "      <td>...</td>\n",
       "      <td>...</td>\n",
       "      <td>...</td>\n",
       "      <td>...</td>\n",
       "      <td>...</td>\n",
       "      <td>...</td>\n",
       "      <td>...</td>\n",
       "      <td>...</td>\n",
       "      <td>...</td>\n",
       "      <td>...</td>\n",
       "      <td>...</td>\n",
       "      <td>...</td>\n",
       "      <td>...</td>\n",
       "      <td>...</td>\n",
       "      <td>...</td>\n",
       "    </tr>\n",
       "    <tr>\n",
       "      <th>4029</th>\n",
       "      <td>0.0</td>\n",
       "      <td>0.0</td>\n",
       "      <td>0.0</td>\n",
       "      <td>0.0</td>\n",
       "      <td>0.000000</td>\n",
       "      <td>0.000000</td>\n",
       "      <td>0.0</td>\n",
       "      <td>0.000000</td>\n",
       "      <td>0.495764</td>\n",
       "      <td>0.0</td>\n",
       "      <td>...</td>\n",
       "      <td>0.0</td>\n",
       "      <td>0.000000</td>\n",
       "      <td>0.000000</td>\n",
       "      <td>0.00000</td>\n",
       "      <td>0.000000</td>\n",
       "      <td>0.000000</td>\n",
       "      <td>0.000000</td>\n",
       "      <td>0.066750</td>\n",
       "      <td>0.0</td>\n",
       "      <td>4</td>\n",
       "    </tr>\n",
       "    <tr>\n",
       "      <th>4030</th>\n",
       "      <td>0.0</td>\n",
       "      <td>0.0</td>\n",
       "      <td>0.0</td>\n",
       "      <td>0.0</td>\n",
       "      <td>0.000000</td>\n",
       "      <td>0.000000</td>\n",
       "      <td>0.0</td>\n",
       "      <td>0.000000</td>\n",
       "      <td>0.000000</td>\n",
       "      <td>0.0</td>\n",
       "      <td>...</td>\n",
       "      <td>0.0</td>\n",
       "      <td>0.000000</td>\n",
       "      <td>0.000000</td>\n",
       "      <td>0.00000</td>\n",
       "      <td>0.000000</td>\n",
       "      <td>0.000000</td>\n",
       "      <td>0.000000</td>\n",
       "      <td>0.000000</td>\n",
       "      <td>0.0</td>\n",
       "      <td>1</td>\n",
       "    </tr>\n",
       "    <tr>\n",
       "      <th>4031</th>\n",
       "      <td>0.0</td>\n",
       "      <td>0.0</td>\n",
       "      <td>0.0</td>\n",
       "      <td>0.0</td>\n",
       "      <td>0.000000</td>\n",
       "      <td>0.000000</td>\n",
       "      <td>0.0</td>\n",
       "      <td>0.000000</td>\n",
       "      <td>0.000000</td>\n",
       "      <td>0.0</td>\n",
       "      <td>...</td>\n",
       "      <td>0.0</td>\n",
       "      <td>0.000000</td>\n",
       "      <td>0.000000</td>\n",
       "      <td>0.00000</td>\n",
       "      <td>0.000000</td>\n",
       "      <td>0.064323</td>\n",
       "      <td>0.000000</td>\n",
       "      <td>0.000000</td>\n",
       "      <td>0.0</td>\n",
       "      <td>1</td>\n",
       "    </tr>\n",
       "    <tr>\n",
       "      <th>4032</th>\n",
       "      <td>0.0</td>\n",
       "      <td>0.0</td>\n",
       "      <td>0.0</td>\n",
       "      <td>0.0</td>\n",
       "      <td>0.000000</td>\n",
       "      <td>0.000000</td>\n",
       "      <td>0.0</td>\n",
       "      <td>0.000000</td>\n",
       "      <td>0.000000</td>\n",
       "      <td>0.0</td>\n",
       "      <td>...</td>\n",
       "      <td>0.0</td>\n",
       "      <td>0.000000</td>\n",
       "      <td>0.000000</td>\n",
       "      <td>0.04427</td>\n",
       "      <td>0.039788</td>\n",
       "      <td>0.000000</td>\n",
       "      <td>0.000000</td>\n",
       "      <td>0.000000</td>\n",
       "      <td>0.0</td>\n",
       "      <td>0</td>\n",
       "    </tr>\n",
       "    <tr>\n",
       "      <th>4033</th>\n",
       "      <td>0.0</td>\n",
       "      <td>0.0</td>\n",
       "      <td>0.0</td>\n",
       "      <td>0.0</td>\n",
       "      <td>0.000000</td>\n",
       "      <td>0.038016</td>\n",
       "      <td>0.0</td>\n",
       "      <td>0.020517</td>\n",
       "      <td>0.000000</td>\n",
       "      <td>0.0</td>\n",
       "      <td>...</td>\n",
       "      <td>0.0</td>\n",
       "      <td>0.000000</td>\n",
       "      <td>0.029857</td>\n",
       "      <td>0.00000</td>\n",
       "      <td>0.000000</td>\n",
       "      <td>0.000000</td>\n",
       "      <td>0.025589</td>\n",
       "      <td>0.000000</td>\n",
       "      <td>0.0</td>\n",
       "      <td>3</td>\n",
       "    </tr>\n",
       "  </tbody>\n",
       "</table>\n",
       "<p>4034 rows × 1001 columns</p>\n",
       "</div>"
      ],
      "text/plain": [
       "      email  email protected   of  protected       the        অক  অক বর  \\\n",
       "0       0.0              0.0  0.0        0.0  0.293083  0.000000    0.0   \n",
       "1       0.0              0.0  0.0        0.0  0.000000  0.000000    0.0   \n",
       "2       0.0              0.0  0.0        0.0  0.000000  0.000000    0.0   \n",
       "3       0.0              0.0  0.0        0.0  0.000000  0.000000    0.0   \n",
       "4       0.0              0.0  0.0        0.0  0.000000  0.000000    0.0   \n",
       "...     ...              ...  ...        ...       ...       ...    ...   \n",
       "4029    0.0              0.0  0.0        0.0  0.000000  0.000000    0.0   \n",
       "4030    0.0              0.0  0.0        0.0  0.000000  0.000000    0.0   \n",
       "4031    0.0              0.0  0.0        0.0  0.000000  0.000000    0.0   \n",
       "4032    0.0              0.0  0.0        0.0  0.000000  0.000000    0.0   \n",
       "4033    0.0              0.0  0.0        0.0  0.000000  0.038016    0.0   \n",
       "\n",
       "            অগ        অঙ   অজ  ...   ২২        ২৩        ২৪       ২৫  \\\n",
       "0     0.000000  0.000000  0.0  ...  0.0  0.033369  0.000000  0.00000   \n",
       "1     0.000000  0.000000  0.0  ...  0.0  0.000000  0.000000  0.00000   \n",
       "2     0.000000  0.000000  0.0  ...  0.0  0.000000  0.000000  0.00000   \n",
       "3     0.000000  0.000000  0.0  ...  0.0  0.000000  0.000000  0.00000   \n",
       "4     0.050798  0.000000  0.0  ...  0.0  0.000000  0.000000  0.00000   \n",
       "...        ...       ...  ...  ...  ...       ...       ...      ...   \n",
       "4029  0.000000  0.495764  0.0  ...  0.0  0.000000  0.000000  0.00000   \n",
       "4030  0.000000  0.000000  0.0  ...  0.0  0.000000  0.000000  0.00000   \n",
       "4031  0.000000  0.000000  0.0  ...  0.0  0.000000  0.000000  0.00000   \n",
       "4032  0.000000  0.000000  0.0  ...  0.0  0.000000  0.000000  0.04427   \n",
       "4033  0.020517  0.000000  0.0  ...  0.0  0.000000  0.029857  0.00000   \n",
       "\n",
       "            ৩০        ৪০        ৫০       ৫০০   ৭০  target  \n",
       "0     0.000000  0.000000  0.000000  0.000000  0.0       2  \n",
       "1     0.000000  0.000000  0.000000  0.360987  0.0       0  \n",
       "2     0.000000  0.000000  0.000000  0.000000  0.0       4  \n",
       "3     0.000000  0.000000  0.000000  0.000000  0.0       4  \n",
       "4     0.000000  0.000000  0.000000  0.000000  0.0       1  \n",
       "...        ...       ...       ...       ...  ...     ...  \n",
       "4029  0.000000  0.000000  0.000000  0.066750  0.0       4  \n",
       "4030  0.000000  0.000000  0.000000  0.000000  0.0       1  \n",
       "4031  0.000000  0.064323  0.000000  0.000000  0.0       1  \n",
       "4032  0.039788  0.000000  0.000000  0.000000  0.0       0  \n",
       "4033  0.000000  0.000000  0.025589  0.000000  0.0       3  \n",
       "\n",
       "[4034 rows x 1001 columns]"
      ]
     },
     "execution_count": 67,
     "metadata": {},
     "output_type": "execute_result"
    }
   ],
   "source": [
    "count_df = pd.DataFrame(X,columns=tv.get_feature_names_out()).assign(target=y)\n",
    "count_df"
   ]
  },
  {
   "cell_type": "code",
   "execution_count": 68,
   "id": "e8e0fb75",
   "metadata": {},
   "outputs": [
    {
     "data": {
      "text/plain": [
       "(4034, 1001)"
      ]
     },
     "execution_count": 68,
     "metadata": {},
     "output_type": "execute_result"
    }
   ],
   "source": [
    "count_df.shape"
   ]
  },
  {
   "cell_type": "code",
   "execution_count": 69,
   "id": "c928e987",
   "metadata": {},
   "outputs": [],
   "source": [
    "count_df.to_excel(\"jug-part-1.xlsx\", index = False, header = False)"
   ]
  }
 ],
 "metadata": {
  "kernelspec": {
   "display_name": "NlP",
   "language": "python",
   "name": "nlp"
  },
  "language_info": {
   "codemirror_mode": {
    "name": "ipython",
    "version": 3
   },
   "file_extension": ".py",
   "mimetype": "text/x-python",
   "name": "python",
   "nbconvert_exporter": "python",
   "pygments_lexer": "ipython3",
   "version": "3.11.4"
  }
 },
 "nbformat": 4,
 "nbformat_minor": 5
}
