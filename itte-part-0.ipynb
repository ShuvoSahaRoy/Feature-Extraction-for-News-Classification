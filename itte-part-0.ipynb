{
 "cells": [
  {
   "cell_type": "code",
   "execution_count": 1,
   "id": "784e90d2",
   "metadata": {},
   "outputs": [],
   "source": [
    "import pandas as pd\n",
    "import numpy as np\n",
    "import json"
   ]
  },
  {
   "cell_type": "code",
   "execution_count": 2,
   "id": "7e8994c5",
   "metadata": {},
   "outputs": [],
   "source": [
    "# Step 2: Open and Read the JSON File\n",
    "with open('D:/shuvo/bangla_news_classification/dataset/itte-part-0.json', 'r') as json_file:\n",
    "    json_data = json_file.read()\n",
    "\n",
    "# Step 3: Parse the JSON Data\n",
    "parsed_data = json.loads(json_data)"
   ]
  },
  {
   "cell_type": "code",
   "execution_count": 3,
   "id": "23f66c12",
   "metadata": {},
   "outputs": [
    {
     "name": "stdout",
     "output_type": "stream",
     "text": [
      "[{'gen_type': 'অন্যান্য', 'headline': '‘শিশুবক্তা’ রফিকুল ইসলামের বিচার শুরু', 'additional_info': {'publisher': 'ইত্তেফাক অনলাইন ডেস্ক', 'release': 'প্রকাশ : ২৬ জানুয়ারি ২০২২, ১৩:৩৬', 'update': 'আপডেট : ২৬ জানুয়ারি ২০২২, ১৩:৩৮'}, 'body': '\\nরাষ্ট্রবিরোধী ও উসকানিমূলক বক্তব্য দেওয়ার অভিযোগে গাজীপুরের গাছা থানায় ডিজিটাল নিরাপত্তা আইনে করা মামলায় আলোচিত ‘শিশুবক্তা’ রফিকুল ইসলামের বিরুদ্ধে অভিযোগ গঠন করেছেন আদালত। ফলে মামলার আনুষ্ঠানিক বিচার শুরু হলো।\\nআজ বুধবার (২৬ জানুয়ারি) ঢাকার সাইবার ট্রাইব্যুনালের বিচারক আসসামছ জগলুল হোসেন এ অভিযোগ গঠন করেন।\\nএর আগে, রফিকুল ইসলামকে কারাগার থেকে আদালতে হাজির করা হয়। এরপর তাকে নির্দোষ দাবি করে তার আইনজীবী শোহেল মো. ফজলে রাব্বি অব্যাহতি চেয়ে আবেদন করেন। অন্যদিকে, রাষ্ট্রপক্ষ অভিযোগ গঠনের পক্ষে শুনানি করেন।\\nউভয় পক্ষের শুনানি শেষে আদালত অব্যাহতির আবেদন খারিজ করে অভিযোগ গঠনের মাধ্যমে বিচার শুরুর আদেশ দেন। একইসঙ্গে সাক্ষ্যগ্রহণের জন্য আগামী ২২ ফেব্রুয়ারি দিন ধার্য করেন আদালত।\\n', 'tags': ['\\nআইন আদালত\\n']}, {'gen_type': 'অন্যান্য', 'headline': 'বরিশালে জুয়েলারির দোকানে চুরির ঘটনায় ১০ জন গ্রেফতার', 'additional_info': {'publisher': None, 'release': 'প্রকাশ : ২১ ডিসেম্বর ২০২০, ০০:০০', 'update': 'আপডেট : ২০ ডিসেম্বর ২০২০, ২২:০৬'}, 'body': '\\nআংশিক মালামাল উদ্ধার \\n\\xa0বরিশাল অফিস\\nবরিশালে আট মাস আগে সংঘটিত একটি জুয়েলারির দোকানে চুরির রহস্য উদ্ঘাটন করেছে বরিশাল মেট্রোপলিটন পুলিশ (বিএমপি)। সিসি ক্যামেরার ফুটেজ এবং তথ্যপ্রযুক্তি ব্যবহার করে বরিশাল, ঢাকা, কুমিল্লা ও চট্টগ্রামের বিভিন্ন এলাকায় টানা ৯ দিন অভিযান চালিয়ে ঐ চুরির সঙ্গে জড়িত আট জন এবং চোরাই স্বর্ণালংকার কেনার অভিযোগে দুই জুয়েলারি মালিককে গ্রেফতার করা হয়েছে। এ সময় চুরি যাওয়া প্রায় তিন ভরি স্বর্ণালংকার উদ্ধার করে পুলিশ। \\nগতকাল রবিবার এক সংবাদ সম্মেলনে বিএমপি কমিশনার মো. শাহাবুদ্দিন খান বলেন, চুরির রহস্য উদ্ঘাটনের ক্ষেত্রে সিসি ক্যামেরার ফুটেজ গুরুত্বপূর্ণ সহায়ক হিসেবে কাজ করেছে। দেরিতে হলেও জুয়েলারি চুরির রহস্য উদ্ঘাটন এবং অভিযুক্তদের গ্রেফতার করায় তদন্ত কর্মকর্তাদের প্রশংসা করেন তিনি। এ সময় অতিরিক্ত পুলিশ কমিশনার প্রলয় চিসিম, উপ-পুলিশ কমিশনার (সদর) আবু রায়হান মো. সালেহ, অভিযানে নেতৃত্বদানকারী বিএমপির কোতোয়ালি মডেল থানার সিনিয়র সহকারী কমিশনার রাসেল আহমেদ উপস্থিত ছিলেন। \\nসংবাদ সম্মেলনে জানানো হয়, গত ১৯ মার্চ নগরীর কাঠপট্টি এলাকায় আশরাফ অ্যান্ড সন্স নামে একটি জুয়েলারি বন্ধ করে দুপুরের খাবার খেতে যান মালিক বাচ্চু মিয়া। এ সময় সংঘবদ্ধ চক্র ব্যস্ততম রাস্তার পাশে লুঙ্গি এবং বিছানার চাদর মেলে ধরে তালা কেটে ভেতরে ঢুকে মাত্র ৭ মিনিটের মধ্যে ১২৬ ভরি স্বর্ণালংকার চুরি করে নিয়ে যায়। \\nএ ঘটনায় চট্টগ্রামের একটি মাদক নিরাময় কেন্দ্র থেকে মো. লিটন নামে এক জনকে গ্রেফতার করে পুলিশ। পরে তার স্বীকারোক্তি অনুযায়ী বরিশাল, ঢাকা, কুমিল্লা ও চট্টগ্রাম থেকে এই চক্রের আরো সাত সদস্য সুমন, অলি, জামাল, আলাউদ্দিন, হাসান, নয়ন ও জসিম ওরফে জনি এবং স্বর্ণালংকার কেনার অভিযোগে চট্টগ্রামের বউবাজার এলাকার স্বর্ণা জুয়েলার্সের মালিক পবন রায় ও শিফা জুয়েলার্সের মালিক আলম হোসেনকে গ্রেফতার করে পুলিশ। \\n\\xa0\\n', 'tags': []}]\n"
     ]
    }
   ],
   "source": [
    "# Step 4: Print the Content\n",
    "print(parsed_data[:2])"
   ]
  },
  {
   "cell_type": "code",
   "execution_count": 4,
   "id": "473f1d78",
   "metadata": {},
   "outputs": [
    {
     "data": {
      "text/html": [
       "<div>\n",
       "<style scoped>\n",
       "    .dataframe tbody tr th:only-of-type {\n",
       "        vertical-align: middle;\n",
       "    }\n",
       "\n",
       "    .dataframe tbody tr th {\n",
       "        vertical-align: top;\n",
       "    }\n",
       "\n",
       "    .dataframe thead th {\n",
       "        text-align: right;\n",
       "    }\n",
       "</style>\n",
       "<table border=\"1\" class=\"dataframe\">\n",
       "  <thead>\n",
       "    <tr style=\"text-align: right;\">\n",
       "      <th></th>\n",
       "      <th>gen_type</th>\n",
       "      <th>headline</th>\n",
       "      <th>additional_info</th>\n",
       "      <th>body</th>\n",
       "      <th>tags</th>\n",
       "    </tr>\n",
       "  </thead>\n",
       "  <tbody>\n",
       "    <tr>\n",
       "      <th>0</th>\n",
       "      <td>অন্যান্য</td>\n",
       "      <td>‘শিশুবক্তা’ রফিকুল ইসলামের বিচার শুরু</td>\n",
       "      <td>{'publisher': 'ইত্তেফাক অনলাইন ডেস্ক', 'releas...</td>\n",
       "      <td>\\nরাষ্ট্রবিরোধী ও উসকানিমূলক বক্তব্য দেওয়ার অভ...</td>\n",
       "      <td>[\\nআইন আদালত\\n]</td>\n",
       "    </tr>\n",
       "    <tr>\n",
       "      <th>1</th>\n",
       "      <td>অন্যান্য</td>\n",
       "      <td>বরিশালে জুয়েলারির দোকানে চুরির ঘটনায় ১০ জন গ্র...</td>\n",
       "      <td>{'publisher': None, 'release': 'প্রকাশ : ২১ ডি...</td>\n",
       "      <td>\\nআংশিক মালামাল উদ্ধার \\n বরিশাল অফিস\\nবরিশালে...</td>\n",
       "      <td>[]</td>\n",
       "    </tr>\n",
       "    <tr>\n",
       "      <th>2</th>\n",
       "      <td>অন্যান্য</td>\n",
       "      <td>কক্সবাজার-সেন্টমার্টিন রুটে আজ নামছে ‘বে ওয়ান’</td>\n",
       "      <td>{'publisher': None, 'release': 'প্রকাশ : ২১ ডি...</td>\n",
       "      <td>\\nইত্তেফাক রিপোর্ট\\nকক্সবাজার থেকে সেন্টমার্টি...</td>\n",
       "      <td>[]</td>\n",
       "    </tr>\n",
       "    <tr>\n",
       "      <th>3</th>\n",
       "      <td>অন্যান্য</td>\n",
       "      <td>আজকের টেলিভিশন</td>\n",
       "      <td>{'publisher': None, 'release': 'প্রকাশ : ২১ ডি...</td>\n",
       "      <td>\\nফুটবল\\nইপিএল\\nচেলসি-ওয়েস্ট হাম\\nসরাসরি, রাত ...</td>\n",
       "      <td>[]</td>\n",
       "    </tr>\n",
       "    <tr>\n",
       "      <th>4</th>\n",
       "      <td>অন্যান্য</td>\n",
       "      <td>কিশোরগঞ্জে হকি প্রশিক্ষণ</td>\n",
       "      <td>{'publisher': None, 'release': 'প্রকাশ : ২১ ডি...</td>\n",
       "      <td>\\nকিশোরগঞ্জ প্রতিনিধি \\nশনিবার থেকে জেলা সদরের...</td>\n",
       "      <td>[]</td>\n",
       "    </tr>\n",
       "    <tr>\n",
       "      <th>...</th>\n",
       "      <td>...</td>\n",
       "      <td>...</td>\n",
       "      <td>...</td>\n",
       "      <td>...</td>\n",
       "      <td>...</td>\n",
       "    </tr>\n",
       "    <tr>\n",
       "      <th>143059</th>\n",
       "      <td>সারাদেশ</td>\n",
       "      <td>অস্ত্রসহ ৫ রোহিঙ্গা আটক</td>\n",
       "      <td>\\n\\nজেলা প্রতিনিধি, কক্সবাজার\\n\\n\\nপ্রকাশ : ২৭...</td>\n",
       "      <td>\\nকক্সবাজারের উখিয়ায় রোহিঙ্গা ক্যাম্প থেকে ডাক...</td>\n",
       "      <td>[\\nকক্সবাজার\\nরোহিঙ্গা\\nডাকাত\\n]</td>\n",
       "    </tr>\n",
       "    <tr>\n",
       "      <th>143060</th>\n",
       "      <td>সারাদেশ</td>\n",
       "      <td>খুলনায় কলেজছাত্র হত্যার দায়ে একজনের যাবজ্জীবন</td>\n",
       "      <td>\\n\\nখুলনা অফিস\\n\\n\\nপ্রকাশ : ২৭ জানুয়ারি ২০২২...</td>\n",
       "      <td>\\nখুলনায় কলেজছাত্র মো. রুবেল হোসেন হত্যার দায়ে...</td>\n",
       "      <td>[\\nআইন আদালত\\nযাবজ্জীবন\\n]</td>\n",
       "    </tr>\n",
       "    <tr>\n",
       "      <th>143061</th>\n",
       "      <td>জাতীয়</td>\n",
       "      <td>ভূমি নিয়ে ২৪ ধরনের অপরাধ চিহ্নিত</td>\n",
       "      <td>\\n\\nনভেম অপু\\n\\n\\nপ্রকাশ : ২৭ জানুয়ারি ২০২২, ...</td>\n",
       "      <td>\\nবাংলাদেশে বর্তমানে বিচারাধীন মামলার সংখ্যা প...</td>\n",
       "      <td>[\\nবিশেষ সংবাদ\\nনভেম অপু\\nভূমি\\n]</td>\n",
       "    </tr>\n",
       "    <tr>\n",
       "      <th>143062</th>\n",
       "      <td>এশিয়া</td>\n",
       "      <td>মার্চেই আফগান মেয়েদের স্কুল খুলে দেওয়া হবে: হা...</td>\n",
       "      <td>\\n\\nইত্তেফাক অনলাইন ডেস্ক\\n\\n\\nপ্রকাশ : ২৭ জান...</td>\n",
       "      <td>\\nআগামী মার্চে আফগানিস্তানে মেয়েদের জন্য স্কুল...</td>\n",
       "      <td>[\\nআফগানিস্তান\\nতালেবান\\nএশিয়া\\nবিশ্ব সংবাদ\\n]</td>\n",
       "    </tr>\n",
       "    <tr>\n",
       "      <th>143063</th>\n",
       "      <td>খেলা</td>\n",
       "      <td>ভারতীয় সংবাদমাধ্যমে সাকিবের ‘পুষ্পা’ সেলিব্রেশন</td>\n",
       "      <td>\\n\\nইত্তেফাক অনলাইন ডেস্ক\\n\\n\\nপ্রকাশ : ২৭ জান...</td>\n",
       "      <td>\\nদক্ষিণ ভারতীয় সিনেমা ‘পুষ্পা: দ্য রাইজ’ এর জ...</td>\n",
       "      <td>[\\nবিনোদন\\nক্রিকেট\\nবিপিএল\\n]</td>\n",
       "    </tr>\n",
       "  </tbody>\n",
       "</table>\n",
       "<p>143064 rows × 5 columns</p>\n",
       "</div>"
      ],
      "text/plain": [
       "        gen_type                                           headline  \\\n",
       "0       অন্যান্য              ‘শিশুবক্তা’ রফিকুল ইসলামের বিচার শুরু   \n",
       "1       অন্যান্য  বরিশালে জুয়েলারির দোকানে চুরির ঘটনায় ১০ জন গ্র...   \n",
       "2       অন্যান্য     কক্সবাজার-সেন্টমার্টিন রুটে আজ নামছে ‘বে ওয়ান’   \n",
       "3       অন্যান্য                                     আজকের টেলিভিশন   \n",
       "4       অন্যান্য                           কিশোরগঞ্জে হকি প্রশিক্ষণ   \n",
       "...          ...                                                ...   \n",
       "143059   সারাদেশ                            অস্ত্রসহ ৫ রোহিঙ্গা আটক   \n",
       "143060   সারাদেশ      খুলনায় কলেজছাত্র হত্যার দায়ে একজনের যাবজ্জীবন   \n",
       "143061     জাতীয়                   ভূমি নিয়ে ২৪ ধরনের অপরাধ চিহ্নিত   \n",
       "143062     এশিয়া  মার্চেই আফগান মেয়েদের স্কুল খুলে দেওয়া হবে: হা...   \n",
       "143063      খেলা    ভারতীয় সংবাদমাধ্যমে সাকিবের ‘পুষ্পা’ সেলিব্রেশন   \n",
       "\n",
       "                                          additional_info  \\\n",
       "0       {'publisher': 'ইত্তেফাক অনলাইন ডেস্ক', 'releas...   \n",
       "1       {'publisher': None, 'release': 'প্রকাশ : ২১ ডি...   \n",
       "2       {'publisher': None, 'release': 'প্রকাশ : ২১ ডি...   \n",
       "3       {'publisher': None, 'release': 'প্রকাশ : ২১ ডি...   \n",
       "4       {'publisher': None, 'release': 'প্রকাশ : ২১ ডি...   \n",
       "...                                                   ...   \n",
       "143059  \\n\\nজেলা প্রতিনিধি, কক্সবাজার\\n\\n\\nপ্রকাশ : ২৭...   \n",
       "143060  \\n\\nখুলনা অফিস\\n\\n\\nপ্রকাশ : ২৭ জানুয়ারি ২০২২...   \n",
       "143061  \\n\\nনভেম অপু\\n\\n\\nপ্রকাশ : ২৭ জানুয়ারি ২০২২, ...   \n",
       "143062  \\n\\nইত্তেফাক অনলাইন ডেস্ক\\n\\n\\nপ্রকাশ : ২৭ জান...   \n",
       "143063  \\n\\nইত্তেফাক অনলাইন ডেস্ক\\n\\n\\nপ্রকাশ : ২৭ জান...   \n",
       "\n",
       "                                                     body  \\\n",
       "0       \\nরাষ্ট্রবিরোধী ও উসকানিমূলক বক্তব্য দেওয়ার অভ...   \n",
       "1       \\nআংশিক মালামাল উদ্ধার \\n বরিশাল অফিস\\nবরিশালে...   \n",
       "2       \\nইত্তেফাক রিপোর্ট\\nকক্সবাজার থেকে সেন্টমার্টি...   \n",
       "3       \\nফুটবল\\nইপিএল\\nচেলসি-ওয়েস্ট হাম\\nসরাসরি, রাত ...   \n",
       "4       \\nকিশোরগঞ্জ প্রতিনিধি \\nশনিবার থেকে জেলা সদরের...   \n",
       "...                                                   ...   \n",
       "143059  \\nকক্সবাজারের উখিয়ায় রোহিঙ্গা ক্যাম্প থেকে ডাক...   \n",
       "143060  \\nখুলনায় কলেজছাত্র মো. রুবেল হোসেন হত্যার দায়ে...   \n",
       "143061  \\nবাংলাদেশে বর্তমানে বিচারাধীন মামলার সংখ্যা প...   \n",
       "143062  \\nআগামী মার্চে আফগানিস্তানে মেয়েদের জন্য স্কুল...   \n",
       "143063  \\nদক্ষিণ ভারতীয় সিনেমা ‘পুষ্পা: দ্য রাইজ’ এর জ...   \n",
       "\n",
       "                                                  tags  \n",
       "0                                      [\\nআইন আদালত\\n]  \n",
       "1                                                   []  \n",
       "2                                                   []  \n",
       "3                                                   []  \n",
       "4                                                   []  \n",
       "...                                                ...  \n",
       "143059                [\\nকক্সবাজার\\nরোহিঙ্গা\\nডাকাত\\n]  \n",
       "143060                      [\\nআইন আদালত\\nযাবজ্জীবন\\n]  \n",
       "143061               [\\nবিশেষ সংবাদ\\nনভেম অপু\\nভূমি\\n]  \n",
       "143062  [\\nআফগানিস্তান\\nতালেবান\\nএশিয়া\\nবিশ্ব সংবাদ\\n]  \n",
       "143063                   [\\nবিনোদন\\nক্রিকেট\\nবিপিএল\\n]  \n",
       "\n",
       "[143064 rows x 5 columns]"
      ]
     },
     "execution_count": 4,
     "metadata": {},
     "output_type": "execute_result"
    }
   ],
   "source": [
    "# Step 2: Create a DataFrame from JSON Data\n",
    "df = pd.DataFrame(parsed_data)\n",
    "df"
   ]
  },
  {
   "cell_type": "code",
   "execution_count": 5,
   "id": "3977bd57",
   "metadata": {},
   "outputs": [
    {
     "data": {
      "text/plain": [
       "((143064, 5),\n",
       " Index(['gen_type', 'headline', 'additional_info', 'body', 'tags'], dtype='object'))"
      ]
     },
     "execution_count": 5,
     "metadata": {},
     "output_type": "execute_result"
    }
   ],
   "source": [
    "df.shape, df.columns"
   ]
  },
  {
   "cell_type": "code",
   "execution_count": 6,
   "id": "ade066de",
   "metadata": {
    "scrolled": true
   },
   "outputs": [
    {
     "data": {
      "text/plain": [
       "(38,\n",
       " 135040,\n",
       "    gen_type                                               body\n",
       " 0  অন্যান্য  \\nরাষ্ট্রবিরোধী ও উসকানিমূলক বক্তব্য দেওয়ার অভ...\n",
       " 1  অন্যান্য  \\nআংশিক মালামাল উদ্ধার \\n বরিশাল অফিস\\nবরিশালে...\n",
       " 2  অন্যান্য  \\nইত্তেফাক রিপোর্ট\\nকক্সবাজার থেকে সেন্টমার্টি...\n",
       " 3  অন্যান্য  \\nফুটবল\\nইপিএল\\nচেলসি-ওয়েস্ট হাম\\nসরাসরি, রাত ...\n",
       " 4  অন্যান্য  \\nকিশোরগঞ্জ প্রতিনিধি \\nশনিবার থেকে জেলা সদরের...)"
      ]
     },
     "execution_count": 6,
     "metadata": {},
     "output_type": "execute_result"
    }
   ],
   "source": [
    "df = df[['gen_type', 'body']]\n",
    "len(df['gen_type'].unique()),len(df['body'].unique()),df.head()"
   ]
  },
  {
   "cell_type": "code",
   "execution_count": 7,
   "id": "05329400",
   "metadata": {
    "scrolled": true
   },
   "outputs": [
    {
     "name": "stderr",
     "output_type": "stream",
     "text": [
      "C:\\Users\\SSROY\\AppData\\Local\\Temp\\ipykernel_112\\3287021994.py:1: SettingWithCopyWarning: \n",
      "A value is trying to be set on a copy of a slice from a DataFrame\n",
      "\n",
      "See the caveats in the documentation: https://pandas.pydata.org/pandas-docs/stable/user_guide/indexing.html#returning-a-view-versus-a-copy\n",
      "  df.dropna(inplace=True)\n",
      "C:\\Users\\SSROY\\AppData\\Local\\Temp\\ipykernel_112\\3287021994.py:3: SettingWithCopyWarning: \n",
      "A value is trying to be set on a copy of a slice from a DataFrame\n",
      "\n",
      "See the caveats in the documentation: https://pandas.pydata.org/pandas-docs/stable/user_guide/indexing.html#returning-a-view-versus-a-copy\n",
      "  df.drop_duplicates(subset='body', keep='first',inplace=True)\n"
     ]
    },
    {
     "data": {
      "text/plain": [
       "(   gen_type                                               body\n",
       " 0  অন্যান্য  \\nরাষ্ট্রবিরোধী ও উসকানিমূলক বক্তব্য দেওয়ার অভ...\n",
       " 1  অন্যান্য  \\nআংশিক মালামাল উদ্ধার \\n বরিশাল অফিস\\nবরিশালে...\n",
       " 2  অন্যান্য  \\nইত্তেফাক রিপোর্ট\\nকক্সবাজার থেকে সেন্টমার্টি...\n",
       " 3  অন্যান্য  \\nফুটবল\\nইপিএল\\nচেলসি-ওয়েস্ট হাম\\nসরাসরি, রাত ...\n",
       " 4  অন্যান্য  \\nকিশোরগঞ্জ প্রতিনিধি \\nশনিবার থেকে জেলা সদরের...,\n",
       " (135040, 2))"
      ]
     },
     "execution_count": 7,
     "metadata": {},
     "output_type": "execute_result"
    }
   ],
   "source": [
    "df.dropna(inplace=True)\n",
    "# Remove duplicates in 'body' column, keeping the first occurrence\n",
    "df.drop_duplicates(subset='body', keep='first',inplace=True)\n",
    "df.reset_index(inplace=True, drop=True)\n",
    "df.head(), df.shape"
   ]
  },
  {
   "cell_type": "code",
   "execution_count": 8,
   "id": "4b3aff87",
   "metadata": {},
   "outputs": [
    {
     "data": {
      "text/plain": [
       "(135040, 13504, 38)"
      ]
     },
     "execution_count": 8,
     "metadata": {},
     "output_type": "execute_result"
    }
   ],
   "source": [
    "n = len(df['body'].unique())\n",
    "unique_label = len(df['gen_type'].unique())\n",
    "m = int(n* 0.1)\n",
    "n,m,unique_label"
   ]
  },
  {
   "cell_type": "code",
   "execution_count": 9,
   "id": "22cc4654",
   "metadata": {
    "scrolled": true
   },
   "outputs": [
    {
     "data": {
      "text/plain": [
       "array(['অন্যান্য', 'এশিয়া', 'সারাদেশ', 'আমেরিকা', 'জাতীয়', 'ভিন্নচোখে',\n",
       "       'রাজধানী', 'চাকরি', 'বিশ্ব সংবাদ', 'লাইফস্টাইল', 'রাজনীতি',\n",
       "       'বিনোদন', 'খেলা', 'শিক্ষা', 'টেক', 'বাণিজ্য', 'মতামত', 'প্রবাস',\n",
       "       'ইউরোপ', 'ফিচার', 'স্বাস্থ্য', 'ধর্ম', 'প্রজন্ম', 'ক্রিকেট',\n",
       "       'ভিডিও', 'আফ্রিকা', 'ক্যাম্পাস', 'মধ্যপ্রাচ্য', 'ফুটবল', 'সাহিত্য',\n",
       "       'অন্য খেলা', 'জীবন-যাপন', 'ওশেনিয়া', 'ছবি', 'সম্পাদকীয়',\n",
       "       'সাক্ষাৎকার', 'কলাম', 'প্রতিক্রিয়া'], dtype=object)"
      ]
     },
     "execution_count": 9,
     "metadata": {},
     "output_type": "execute_result"
    }
   ],
   "source": [
    "df['gen_type'].unique()"
   ]
  },
  {
   "cell_type": "code",
   "execution_count": 10,
   "id": "2b31051c",
   "metadata": {},
   "outputs": [],
   "source": [
    "# df = df.sample(m, replace=False)\n",
    "# df.reset_index(inplace=True)\n",
    "# # df.drop(['level_0', 'index'], inplace = True)\n",
    "# df"
   ]
  },
  {
   "cell_type": "code",
   "execution_count": 11,
   "id": "7f8bfb89",
   "metadata": {},
   "outputs": [
    {
     "name": "stdout",
     "output_type": "stream",
     "text": [
      "\n",
      "রাষ্ট্রবিরোধী ও উসকানিমূলক বক্তব্য দেওয়ার অভিযোগে গাজীপুরের গাছা থানায় ডিজিটাল নিরাপত্তা আইনে করা মামলায় আলোচিত ‘শিশুবক্তা’ রফিকুল ইসলামের বিরুদ্ধে অভিযোগ গঠন করেছেন আদালত। ফলে মামলার আনুষ্ঠানিক বিচার শুরু হলো।\n",
      "আজ বুধবার (২৬ জানুয়ারি) ঢাকার সাইবার ট্রাইব্যুনালের বিচারক আসসামছ জগলুল হোসেন এ অভিযোগ গঠন করেন।\n",
      "এর আগে, রফিকুল ইসলামকে কারাগার থেকে আদালতে হাজির করা হয়। এরপর তাকে নির্দোষ দাবি করে তার আইনজীবী শোহেল মো. ফজলে রাব্বি অব্যাহতি চেয়ে আবেদন করেন। অন্যদিকে, রাষ্ট্রপক্ষ অভিযোগ গঠনের পক্ষে শুনানি করেন।\n",
      "উভয় পক্ষের শুনানি শেষে আদালত অব্যাহতির আবেদন খারিজ করে অভিযোগ গঠনের মাধ্যমে বিচার শুরুর আদেশ দেন। একইসঙ্গে সাক্ষ্যগ্রহণের জন্য আগামী ২২ ফেব্রুয়ারি দিন ধার্য করেন আদালত।\n",
      "\n"
     ]
    }
   ],
   "source": [
    "# Print the content of the first 'body' entry\n",
    "first_body_content = df.loc[0, 'body']\n",
    "print(first_body_content)"
   ]
  },
  {
   "cell_type": "code",
   "execution_count": 12,
   "id": "b724eea7",
   "metadata": {
    "scrolled": false
   },
   "outputs": [
    {
     "data": {
      "text/plain": [
       "অন্যান্য       64574\n",
       "সারাদেশ        15935\n",
       "বিশ্ব সংবাদ    11619\n",
       "জাতীয়           9293\n",
       "খেলা            5737\n",
       "বিনোদন          4991\n",
       "রাজধানী         4450\n",
       "রাজনীতি         2804\n",
       "ফিচার           2742\n",
       "শিক্ষা          2113\n",
       "বাণিজ্য         1817\n",
       "লাইফস্টাইল      1816\n",
       "টেক             1167\n",
       "মতামত           1067\n",
       "ভিন্নচোখে        790\n",
       "প্রবাস           756\n",
       "ইউরোপ            574\n",
       "এশিয়া            417\n",
       "স্বাস্থ্য        349\n",
       "প্রজন্ম          318\n",
       "ক্যাম্পাস        281\n",
       "ধর্ম             257\n",
       "ক্রিকেট          234\n",
       "চাকরি            179\n",
       "ভিডিও            134\n",
       "আমেরিকা          133\n",
       "সাহিত্য          127\n",
       "মধ্যপ্রাচ্য       81\n",
       "ফুটবল             76\n",
       "কলাম              55\n",
       "আফ্রিকা           43\n",
       "সম্পাদকীয়         42\n",
       "ছবি               41\n",
       "অন্য খেলা         14\n",
       "ওশেনিয়া           10\n",
       "জীবন-যাপন          2\n",
       "সাক্ষাৎকার         1\n",
       "প্রতিক্রিয়া        1\n",
       "Name: gen_type, dtype: int64"
      ]
     },
     "execution_count": 12,
     "metadata": {},
     "output_type": "execute_result"
    }
   ],
   "source": [
    "gen_type_counts = df['gen_type'].value_counts()\n",
    "gen_type_counts"
   ]
  },
  {
   "cell_type": "code",
   "execution_count": 14,
   "id": "cee3d341",
   "metadata": {},
   "outputs": [
    {
     "name": "stdout",
     "output_type": "stream",
     "text": [
      "4\n",
      "Randomly selected gen_type values:\n",
      "['ফিচার' 'ইউরোপ' 'লাইফস্টাইল' 'প্রবাস']\n"
     ]
    }
   ],
   "source": [
    "import random\n",
    "# Filter gen_type values based on count criteria\n",
    "filtered_gen_types = gen_type_counts[(gen_type_counts > 500) & (gen_type_counts < 3000)]\n",
    "\n",
    "random_classes_number = random.randint(3, 6)\n",
    "print(random_classes_number)\n",
    "# Ensure we have at least 5 gen_type values that meet the criteria\n",
    "if len(filtered_gen_types) >= random_classes_number:\n",
    "    # Randomly select 5 gen_type values from the filtered list\n",
    "    random_gen_types = np.random.choice(filtered_gen_types.index, random_classes_number, replace=False)\n",
    "    print(\"Randomly selected gen_type values:\")\n",
    "    print(random_gen_types)\n",
    "else:\n",
    "    print(\"Not enough gen_type values meeting the criteria.\")"
   ]
  },
  {
   "cell_type": "code",
   "execution_count": 15,
   "id": "776a6376",
   "metadata": {},
   "outputs": [
    {
     "data": {
      "text/html": [
       "<div>\n",
       "<style scoped>\n",
       "    .dataframe tbody tr th:only-of-type {\n",
       "        vertical-align: middle;\n",
       "    }\n",
       "\n",
       "    .dataframe tbody tr th {\n",
       "        vertical-align: top;\n",
       "    }\n",
       "\n",
       "    .dataframe thead th {\n",
       "        text-align: right;\n",
       "    }\n",
       "</style>\n",
       "<table border=\"1\" class=\"dataframe\">\n",
       "  <thead>\n",
       "    <tr style=\"text-align: right;\">\n",
       "      <th></th>\n",
       "      <th>gen_type</th>\n",
       "      <th>body</th>\n",
       "    </tr>\n",
       "  </thead>\n",
       "  <tbody>\n",
       "    <tr>\n",
       "      <th>0</th>\n",
       "      <td>লাইফস্টাইল</td>\n",
       "      <td>\\nআজকাল ছিপছিপে সুন্দর গড়ন পেতে সকলেই ব্যস্ত। ...</td>\n",
       "    </tr>\n",
       "    <tr>\n",
       "      <th>1</th>\n",
       "      <td>প্রবাস</td>\n",
       "      <td>\\nস্পেনে অনিয়মিত অভিবাসীদের নিয়মিতকরণের দাবি...</td>\n",
       "    </tr>\n",
       "    <tr>\n",
       "      <th>2</th>\n",
       "      <td>ইউরোপ</td>\n",
       "      <td>\\nকরোনাভাইরাসের ওমিক্রন ভ্যারিয়েন্টের তাণ্ডবে ...</td>\n",
       "    </tr>\n",
       "    <tr>\n",
       "      <th>3</th>\n",
       "      <td>ইউরোপ</td>\n",
       "      <td>\\nরাশিয়ার ক্রেমলিনের কারাগারে বন্দি কঠোর সমালো...</td>\n",
       "    </tr>\n",
       "    <tr>\n",
       "      <th>4</th>\n",
       "      <td>ফিচার</td>\n",
       "      <td>\\nফুলকপির মতোই দেখতে—সবুজ রঙের সবজিটির নাম ব্...</td>\n",
       "    </tr>\n",
       "    <tr>\n",
       "      <th>...</th>\n",
       "      <td>...</td>\n",
       "      <td>...</td>\n",
       "    </tr>\n",
       "    <tr>\n",
       "      <th>5883</th>\n",
       "      <td>ইউরোপ</td>\n",
       "      <td>\\nকরোনাভাইরাসের সংক্রমণ থেকে রোগীকে সারাতে ভ্য...</td>\n",
       "    </tr>\n",
       "    <tr>\n",
       "      <th>5884</th>\n",
       "      <td>ইউরোপ</td>\n",
       "      <td>\\nযদি রাশিয়া ইউরোপে গ্যাস সরবরাহ বন্ধ করে দেয়,...</td>\n",
       "    </tr>\n",
       "    <tr>\n",
       "      <th>5885</th>\n",
       "      <td>লাইফস্টাইল</td>\n",
       "      <td>\\nমিষ্টি জাতীয় খাবারের কথা শুনলেই আমরা মনে করি...</td>\n",
       "    </tr>\n",
       "    <tr>\n",
       "      <th>5886</th>\n",
       "      <td>ইউরোপ</td>\n",
       "      <td>\\nআলোচনার জন্য পুতিনকে তুরস্ক সফরের আমন্ত্রণ জ...</td>\n",
       "    </tr>\n",
       "    <tr>\n",
       "      <th>5887</th>\n",
       "      <td>লাইফস্টাইল</td>\n",
       "      <td>\\nডিমেনশিয়া বা স্মৃতিভ্রংশ রোগ মস্তিষ্কের কার্...</td>\n",
       "    </tr>\n",
       "  </tbody>\n",
       "</table>\n",
       "<p>5888 rows × 2 columns</p>\n",
       "</div>"
      ],
      "text/plain": [
       "        gen_type                                               body\n",
       "0     লাইফস্টাইল  \\nআজকাল ছিপছিপে সুন্দর গড়ন পেতে সকলেই ব্যস্ত। ...\n",
       "1         প্রবাস  \\nস্পেনে অনিয়মিত অভিবাসীদের নিয়মিতকরণের দাবি...\n",
       "2          ইউরোপ  \\nকরোনাভাইরাসের ওমিক্রন ভ্যারিয়েন্টের তাণ্ডবে ...\n",
       "3          ইউরোপ  \\nরাশিয়ার ক্রেমলিনের কারাগারে বন্দি কঠোর সমালো...\n",
       "4          ফিচার  \\nফুলকপির মতোই দেখতে—সবুজ রঙের সবজিটির নাম ব্...\n",
       "...          ...                                                ...\n",
       "5883       ইউরোপ  \\nকরোনাভাইরাসের সংক্রমণ থেকে রোগীকে সারাতে ভ্য...\n",
       "5884       ইউরোপ  \\nযদি রাশিয়া ইউরোপে গ্যাস সরবরাহ বন্ধ করে দেয়,...\n",
       "5885  লাইফস্টাইল  \\nমিষ্টি জাতীয় খাবারের কথা শুনলেই আমরা মনে করি...\n",
       "5886       ইউরোপ  \\nআলোচনার জন্য পুতিনকে তুরস্ক সফরের আমন্ত্রণ জ...\n",
       "5887  লাইফস্টাইল  \\nডিমেনশিয়া বা স্মৃতিভ্রংশ রোগ মস্তিষ্কের কার্...\n",
       "\n",
       "[5888 rows x 2 columns]"
      ]
     },
     "execution_count": 15,
     "metadata": {},
     "output_type": "execute_result"
    }
   ],
   "source": [
    "# Create a list of specific categories\n",
    "categories = random_gen_types\n",
    "\n",
    "# Use boolean indexing to filter rows based on the 'Section' column\n",
    "df = df[df['gen_type'].isin(categories)]\n",
    "df.reset_index(inplace=True, drop=True)\n",
    "# Print the new DataFrame\n",
    "df"
   ]
  },
  {
   "cell_type": "code",
   "execution_count": 16,
   "id": "a5b6f13c",
   "metadata": {},
   "outputs": [
    {
     "data": {
      "text/plain": [
       "ফিচার         2742\n",
       "লাইফস্টাইল    1816\n",
       "প্রবাস         756\n",
       "ইউরোপ          574\n",
       "Name: gen_type, dtype: int64"
      ]
     },
     "execution_count": 16,
     "metadata": {},
     "output_type": "execute_result"
    }
   ],
   "source": [
    "df['gen_type'].value_counts()"
   ]
  },
  {
   "cell_type": "code",
   "execution_count": 17,
   "id": "b595265a",
   "metadata": {},
   "outputs": [
    {
     "data": {
      "text/html": [
       "<div>\n",
       "<style scoped>\n",
       "    .dataframe tbody tr th:only-of-type {\n",
       "        vertical-align: middle;\n",
       "    }\n",
       "\n",
       "    .dataframe tbody tr th {\n",
       "        vertical-align: top;\n",
       "    }\n",
       "\n",
       "    .dataframe thead th {\n",
       "        text-align: right;\n",
       "    }\n",
       "</style>\n",
       "<table border=\"1\" class=\"dataframe\">\n",
       "  <thead>\n",
       "    <tr style=\"text-align: right;\">\n",
       "      <th></th>\n",
       "      <th>gen_type</th>\n",
       "      <th>body</th>\n",
       "    </tr>\n",
       "  </thead>\n",
       "  <tbody>\n",
       "    <tr>\n",
       "      <th>0</th>\n",
       "      <td>Lifestyle</td>\n",
       "      <td>\\nআজকাল ছিপছিপে সুন্দর গড়ন পেতে সকলেই ব্যস্ত। ...</td>\n",
       "    </tr>\n",
       "    <tr>\n",
       "      <th>1</th>\n",
       "      <td>Foreign</td>\n",
       "      <td>\\nস্পেনে অনিয়মিত অভিবাসীদের নিয়মিতকরণের দাবি...</td>\n",
       "    </tr>\n",
       "    <tr>\n",
       "      <th>2</th>\n",
       "      <td>Europe</td>\n",
       "      <td>\\nকরোনাভাইরাসের ওমিক্রন ভ্যারিয়েন্টের তাণ্ডবে ...</td>\n",
       "    </tr>\n",
       "    <tr>\n",
       "      <th>3</th>\n",
       "      <td>Europe</td>\n",
       "      <td>\\nরাশিয়ার ক্রেমলিনের কারাগারে বন্দি কঠোর সমালো...</td>\n",
       "    </tr>\n",
       "    <tr>\n",
       "      <th>4</th>\n",
       "      <td>Features</td>\n",
       "      <td>\\nফুলকপির মতোই দেখতে—সবুজ রঙের সবজিটির নাম ব্...</td>\n",
       "    </tr>\n",
       "    <tr>\n",
       "      <th>...</th>\n",
       "      <td>...</td>\n",
       "      <td>...</td>\n",
       "    </tr>\n",
       "    <tr>\n",
       "      <th>5883</th>\n",
       "      <td>Europe</td>\n",
       "      <td>\\nকরোনাভাইরাসের সংক্রমণ থেকে রোগীকে সারাতে ভ্য...</td>\n",
       "    </tr>\n",
       "    <tr>\n",
       "      <th>5884</th>\n",
       "      <td>Europe</td>\n",
       "      <td>\\nযদি রাশিয়া ইউরোপে গ্যাস সরবরাহ বন্ধ করে দেয়,...</td>\n",
       "    </tr>\n",
       "    <tr>\n",
       "      <th>5885</th>\n",
       "      <td>Lifestyle</td>\n",
       "      <td>\\nমিষ্টি জাতীয় খাবারের কথা শুনলেই আমরা মনে করি...</td>\n",
       "    </tr>\n",
       "    <tr>\n",
       "      <th>5886</th>\n",
       "      <td>Europe</td>\n",
       "      <td>\\nআলোচনার জন্য পুতিনকে তুরস্ক সফরের আমন্ত্রণ জ...</td>\n",
       "    </tr>\n",
       "    <tr>\n",
       "      <th>5887</th>\n",
       "      <td>Lifestyle</td>\n",
       "      <td>\\nডিমেনশিয়া বা স্মৃতিভ্রংশ রোগ মস্তিষ্কের কার্...</td>\n",
       "    </tr>\n",
       "  </tbody>\n",
       "</table>\n",
       "<p>5888 rows × 2 columns</p>\n",
       "</div>"
      ],
      "text/plain": [
       "       gen_type                                               body\n",
       "0     Lifestyle  \\nআজকাল ছিপছিপে সুন্দর গড়ন পেতে সকলেই ব্যস্ত। ...\n",
       "1       Foreign  \\nস্পেনে অনিয়মিত অভিবাসীদের নিয়মিতকরণের দাবি...\n",
       "2        Europe  \\nকরোনাভাইরাসের ওমিক্রন ভ্যারিয়েন্টের তাণ্ডবে ...\n",
       "3        Europe  \\nরাশিয়ার ক্রেমলিনের কারাগারে বন্দি কঠোর সমালো...\n",
       "4      Features  \\nফুলকপির মতোই দেখতে—সবুজ রঙের সবজিটির নাম ব্...\n",
       "...         ...                                                ...\n",
       "5883     Europe  \\nকরোনাভাইরাসের সংক্রমণ থেকে রোগীকে সারাতে ভ্য...\n",
       "5884     Europe  \\nযদি রাশিয়া ইউরোপে গ্যাস সরবরাহ বন্ধ করে দেয়,...\n",
       "5885  Lifestyle  \\nমিষ্টি জাতীয় খাবারের কথা শুনলেই আমরা মনে করি...\n",
       "5886     Europe  \\nআলোচনার জন্য পুতিনকে তুরস্ক সফরের আমন্ত্রণ জ...\n",
       "5887  Lifestyle  \\nডিমেনশিয়া বা স্মৃতিভ্রংশ রোগ মস্তিষ্কের কার্...\n",
       "\n",
       "[5888 rows x 2 columns]"
      ]
     },
     "execution_count": 17,
     "metadata": {},
     "output_type": "execute_result"
    }
   ],
   "source": [
    "# Mapping of old names to new names\n",
    "name_mapping = {\n",
    "    'ফিচার': 'Features',\n",
    "    'লাইফস্টাইল': 'Lifestyle',\n",
    "    'প্রবাস': 'Foreign',\n",
    "    'ইউরোপ': 'Europe'\n",
    "}\n",
    "\n",
    "# Replace values in the 'gen_type' column\n",
    "df['gen_type'] = df['gen_type'].replace(name_mapping)\n",
    "df"
   ]
  },
  {
   "cell_type": "code",
   "execution_count": 18,
   "id": "84e69534",
   "metadata": {
    "scrolled": true
   },
   "outputs": [
    {
     "data": {
      "text/plain": [
       "5888"
      ]
     },
     "execution_count": 18,
     "metadata": {},
     "output_type": "execute_result"
    }
   ],
   "source": [
    "each_class= df['gen_type'].value_counts()\n",
    "each_class.sum()"
   ]
  },
  {
   "cell_type": "code",
   "execution_count": 19,
   "id": "32b8826c",
   "metadata": {},
   "outputs": [
    {
     "data": {
      "text/plain": [
       "<Axes: >"
      ]
     },
     "execution_count": 19,
     "metadata": {},
     "output_type": "execute_result"
    },
    {
     "data": {
      "image/png": "[encoded data removed]",
      "text/plain": [
       "<Figure size 640x480 with 1 Axes>"
      ]
     },
     "metadata": {},
     "output_type": "display_data"
    }
   ],
   "source": [
    "each_class.plot.bar()"
   ]
  },
  {
   "cell_type": "code",
   "execution_count": 20,
   "id": "5d0dcefd",
   "metadata": {},
   "outputs": [
    {
     "data": {
      "text/plain": [
       "(0       \\nআজকাল ছিপছিপে সুন্দর গড়ন পেতে সকলেই ব্যস্ত। ...\n",
       " 1       \\nস্পেনে অনিয়মিত অভিবাসীদের নিয়মিতকরণের দাবি...\n",
       " 2       \\nকরোনাভাইরাসের ওমিক্রন ভ্যারিয়েন্টের তাণ্ডবে ...\n",
       " 3       \\nরাশিয়ার ক্রেমলিনের কারাগারে বন্দি কঠোর সমালো...\n",
       " 4       \\nফুলকপির মতোই দেখতে—সবুজ রঙের সবজিটির নাম ব্...\n",
       "                               ...                        \n",
       " 5883    \\nকরোনাভাইরাসের সংক্রমণ থেকে রোগীকে সারাতে ভ্য...\n",
       " 5884    \\nযদি রাশিয়া ইউরোপে গ্যাস সরবরাহ বন্ধ করে দেয়,...\n",
       " 5885    \\nমিষ্টি জাতীয় খাবারের কথা শুনলেই আমরা মনে করি...\n",
       " 5886    \\nআলোচনার জন্য পুতিনকে তুরস্ক সফরের আমন্ত্রণ জ...\n",
       " 5887    \\nডিমেনশিয়া বা স্মৃতিভ্রংশ রোগ মস্তিষ্কের কার্...\n",
       " Name: body, Length: 5888, dtype: object,\n",
       " 0       Lifestyle\n",
       " 1         Foreign\n",
       " 2          Europe\n",
       " 3          Europe\n",
       " 4        Features\n",
       "           ...    \n",
       " 5883       Europe\n",
       " 5884       Europe\n",
       " 5885    Lifestyle\n",
       " 5886       Europe\n",
       " 5887    Lifestyle\n",
       " Name: gen_type, Length: 5888, dtype: object)"
      ]
     },
     "execution_count": 20,
     "metadata": {},
     "output_type": "execute_result"
    }
   ],
   "source": [
    "X = df['body']\n",
    "y=df['gen_type']\n",
    "X,y"
   ]
  },
  {
   "cell_type": "code",
   "execution_count": 21,
   "id": "8d15beb3",
   "metadata": {},
   "outputs": [
    {
     "data": {
      "text/plain": [
       "(['Lifestyle', 'Foreign', 'Europe', 'Features'],\n",
       " gen_type       4\n",
       " body        5888\n",
       " dtype: int64)"
      ]
     },
     "execution_count": 21,
     "metadata": {},
     "output_type": "execute_result"
    }
   ],
   "source": [
    "## Get the Dependent features\n",
    "classes = list(y.unique())\n",
    "classes, df.nunique()"
   ]
  },
  {
   "cell_type": "code",
   "execution_count": 22,
   "id": "dc506bc3",
   "metadata": {},
   "outputs": [
    {
     "data": {
      "text/plain": [
       "(array([3, 2, 0, ..., 3, 0, 3]), 5888)"
      ]
     },
     "execution_count": 22,
     "metadata": {},
     "output_type": "execute_result"
    }
   ],
   "source": [
    "from sklearn.preprocessing import LabelEncoder\n",
    "y = LabelEncoder().fit_transform(y)\n",
    "y, len(y)"
   ]
  },
  {
   "cell_type": "code",
   "execution_count": 23,
   "id": "27515526",
   "metadata": {},
   "outputs": [
    {
     "name": "stdout",
     "output_type": "stream",
     "text": [
      "[0 1 2 3] [ 574 2742  756 1816]\n"
     ]
    }
   ],
   "source": [
    "import numpy as np\n",
    "unique_values, counts = np.unique(y, return_counts=True)\n",
    "print(unique_values, counts)"
   ]
  },
  {
   "cell_type": "code",
   "execution_count": 24,
   "id": "cef16d60",
   "metadata": {},
   "outputs": [
    {
     "data": {
      "text/plain": [
       "732"
      ]
     },
     "execution_count": 24,
     "metadata": {},
     "output_type": "execute_result"
    }
   ],
   "source": [
    "import re\n",
    "from temp_stemmer.bangla_stemmer.stemmer.stemmer import BanglaStemmer  # for stemming \n",
    "st_words = ('অই', 'অগত্যা', 'অত: পর', 'অতএব', 'অথচ', 'অথবা', 'অধিক', 'অধীনে', 'অধ্যায়', 'অনুগ্রহ', 'অনুভূত', 'অনুযায়ী', 'অনুরূপ', 'অনুসন্ধান', 'অনুসরণ', 'অনুসারে', 'অনুসৃত', 'অনেক', 'অনেকে', 'অনেকেই', 'অন্তত', 'অন্য', 'অন্যত্র', 'অন্যভাবে', 'অন্যান্য', 'অপেক্ষাকৃতভাবে', 'অবধি', 'অবশ্য', 'অবশ্যই', 'অবস্থা', 'অবিলম্বে', 'অভ্যন্তরস্থ', 'অর্জিত', 'অর্থাত', 'অসদৃশ', 'অসম্ভাব্য', 'আইন', 'আউট', 'আক্রান্ত', 'আগামী', 'আগে', 'আগেই', 'আগ্রহী', 'আছে', 'আজ', 'আট', 'আদেশ', 'আদ্যভাগে', 'আন্দাজ', 'আপনার', 'আপনি', 'আবার', 'আমরা', 'আমাকে', 'আমাদিগের', 'আমাদের', 'আমার', 'আমি', 'আর', 'আরও', 'আশি', 'আশু', 'আসা', 'আসে', 'ই', 'ইচ্ছা', 'ইচ্ছাপূর্বক', 'ইতিমধ্যে', 'ইতোমধ্যে', 'ইত্যাদি', 'ইশারা', 'ইহা', 'ইহাতে', 'উক্তি', 'উচিত', 'উচ্চ', 'উঠা', 'উত্তম', 'উত্তর', 'উনি', 'উপর', 'উপরে', 'উপলব্ধ', 'উপায়', 'উভয়', 'উল্লেখ', 'উল্লেখযোগ্যভাবে', 'উহার', 'ঊর্ধ্বতন', 'এ', 'এপর্যন্ত', 'এঁদের', 'এঁরা', 'এই', 'এইগুলো', 'এইভাবে', 'এক', 'একই', 'একটি', 'একদা', 'একবার', 'একভাবে', 'একরকম', 'একসঙ্গে', 'একা', 'একে', 'এক্', 'এখন', 'এখনও', 'এখনো', 'এখানে', 'এখানেই', 'এছাড়াও', 'এটা', 'এটাই', 'এটি', 'এত', 'এতটাই', 'এতদ্বারা', 'এতে', 'এদিকে', 'এদের', 'এপর্যন্ত', 'এবং', 'এবার', 'এমন', 'এমনকি', 'এমনকী', 'এমনি', 'এর', 'এরকম', 'এরা', 'এল', 'এলাকায়', 'এলাকার', 'এস', 'এসে', 'ঐ', 'ও', 'ওঁদের', 'ওঁর', 'ওঁরা', 'ওই', 'ওকে', 'ওখানে', 'ওদের', 'ওর', 'ওরা', 'ওহে', 'কক্ষ', 'কখন', 'কখনও', 'কত', 'কবে', 'কম', 'কমনে', 'কয়েক', 'কয়েকটি', 'করছে', 'করছেন', 'করতে', 'করবে', 'করবেন', 'করলে', 'করলেন', 'করলো', 'করা', 'করাই', 'করাত', 'করার', 'করায়', 'করি', 'করিতে', 'করিয়া', 'করিয়ে', 'করে', 'করেই', 'করেছিল', 'করেছিলেন', 'করেছে', 'করেছেন', 'করেন', 'কর্তব্য', 'কাউকে', 'কাছ', 'কাছাকাছি', 'কাছে', 'কাজ', 'কাজে', 'কারও', 'কারণ', 'কারণসমূহ', 'কারো', 'কি', 'কিংবা', 'কিছু', 'কিছুই', 'কিছুটা', 'কিছুনা', 'কিনা', 'কিন্তু', 'কিভাবে', 'কী', 'কূপ', 'কে', 'কেউ', 'কেউই', 'কেউনা', 'কেখা', 'কেন', 'কেবল', 'কেবা', 'কেস', 'কেহ', 'কোটি', 'কোথা', 'কোথাও', 'কোথায়', 'কোন', 'কোনও', 'কোনো', 'ক্রম', 'ক্ষেত্রে', 'কয়েক', 'কয়েকটি', 'খুঁজছেন', 'খুব', 'খোলা', 'খোলে', 'গড়', 'গত', 'গিয়ে', 'গিয়েছিলাম', 'গিয়েছে', 'গিয়ে', 'গিয়েছে', 'গুরুত্ব', 'গুলি', 'গেছে', 'গেল', 'গেলে', 'গোটা', 'গোষ্ঠীবদ্ধ', 'গ্রহণ', 'গ্রুপ', 'ঘর', 'ঘোষণা', 'চলে', 'চান', 'চায়', 'চার', 'চালা', 'চালান', 'চালু', 'চায়', 'চেয়ে', 'চেয়েছিলেন', 'চেষ্টা', 'চেয়ে', 'ছয়', 'ছাড়া', 'ছাড়াছাড়ি', 'ছাড়া', 'ছাড়াও', 'ছিল', 'ছিলেন', 'ছোট', 'জন', 'জনকে', 'জনাব', 'জনাবা', 'জনের', 'জন্য', 'জানতাম', 'জানতে', 'জানা', 'জানানো', 'জানায়', 'জানিয়ে', 'জানিয়েছে', 'জানে', 'জায়গা', 'জিজ্ঞাসা', 'জিজ্ঞেস', 'জিনিস', 'জে', 'জ্নজন', 'টা', 'টি', 'ঠিক', 'ঠিকআছে', 'ডগা', 'তখন', 'তত', 'তত্কারণে', 'তত্প্রতি', 'তথা', 'তদনুসারে', 'তদ্ব্যতীত', 'তন্নতন্ন', 'তবু', 'তবে', 'তরুণ', 'তা', 'তাঁকে', 'তাঁদের', 'তাঁর', 'তাঁরা', 'তাঁহারা', 'তাই', 'তাও', 'তাকে', 'তাতে', 'তাদের', 'তার', 'তারপর', 'তারপরেও', 'তারা', 'তারিখ', 'তারৈ', 'তাহলে', 'তাহা', 'তাহাতে', 'তাহাদিগকে', 'তাহাদেরই', 'তাহার', 'তিন', 'তিনি', 'তিনিও', 'তীক্ষ্ন', 'তুমি', 'তুলে', 'তেমন', 'তৈরীর', 'তো', 'তোমার', 'তোলে', 'থাকবে', 'থাকবেন', 'থাকা', 'থাকায়', 'থাকায়', 'থাকে', 'থাকেন', 'থেকে', 'থেকেই', 'থেকেও', 'দরকারী', 'দলবদ্ধ', 'দান', 'দিকে', 'দিতে', 'দিন', 'দিয়ে', 'দিয়েছে', 'দিয়েছেন', 'দিলেন', 'দিয়ে', 'দিয়েছে', 'দিয়েছেন', 'দু', 'দুই', 'দুটি', 'দুটো', 'দূরে', 'দেওয়ার', 'দেওয়া', 'দেওয়ার', 'দেখতে', 'দেখা', 'দেখাচ্ছে', 'দেখিয়েছেন', 'দেখে', 'দেখেন', 'দেন', 'দেয়', 'দেয়', 'দ্বারা', 'দ্বিগুণ', 'দ্বিতীয়', 'দ্য', 'ধরা', 'ধরে', 'ধামার', 'নতুন', 'নব্বই', 'নয়', 'নাই', 'নাকি', 'নাগাদ', 'নানা', 'নাম', 'নিচে', 'নিছক', 'নিজে', 'নিজেই', 'নিজেকে', 'নিজেদের', 'নিজেদেরকে', 'নিজের', 'নিতে', 'নিদিষ্ট', 'নিম্নাভিমুখে', 'নিয়ে', 'নির্দিষ্ট', 'নির্বিশেষে', 'নিশ্চিত', 'নিয়ে', 'নেই', 'নেওয়ার', 'নেওয়া', 'নেয়ার', 'নয়', 'পক্ষই', 'পক্ষে', 'পঞ্চম', 'পড়া', 'পণ্য', 'পথ', 'পয়েন্ট', 'পর', 'পরন্তু', 'পরবর্তী', 'পরিণত', 'পরিবর্তে', 'পরে', 'পরেই', 'পরেও', 'পর্যন্ত', 'পর্যাপ্ত', 'পাঁচ', 'পাওয়া', 'পাচ', 'পায়', 'পারা', 'পারি', 'পারিনি', 'পারে', 'পারেন', 'পালা', 'পাশ', 'পাশে', 'পিছনে', 'পিঠের', 'পুরোনো', 'পুরোপুরি', 'পূর্বে', 'পৃষ্ঠা', 'পৃষ্ঠাগুলি', 'পেছনে', 'পেয়েছেন', 'পেয়ে', 'পেয়্র্', 'প্রকৃতপক্ষে', 'প্রণীত', 'প্রতি', 'প্রথম', 'প্রদত্ত', 'প্রদর্শনী', 'প্রদর্শিত', 'প্রধানত', 'প্রবলভাবে', 'প্রভৃতি', 'প্রমাণীকরণ', 'প্রযন্ত', 'প্রয়োজন', 'প্রয়োজনীয়', 'প্রসূত', 'প্রাক্তন', 'প্রাথমিক', 'প্রাথমিকভাবে', 'প্রান্ত', 'প্রাপ্ত', 'প্রায়', 'প্রায়ই', 'প্রায়', 'ফলাফল', 'ফলে', 'ফিক্স', 'ফিরে', 'ফের', 'বক্তব্য', 'বছর', 'বড়', 'বদলে', 'বন', 'বন্ধ', 'বরং', 'বরাবর', 'বর্ণন', 'বর্তমান', 'বলতে', 'বলল', 'বললেন', 'বলা', 'বলে', 'বলেছেন', 'বলেন', 'বসে', 'বহু', 'বা', 'বাঁক', 'বাইরে', 'বাকি', 'বাড়ি', 'বাতিক', 'বাদ', 'বাদে', 'বার', 'বাহিরে', 'বিনা', 'বিন্দু', 'বিভিন্ন', 'বিশেষ', 'বিশেষণ', 'বিশেষত', 'বিশেষভাবে', 'বিশ্ব', 'বিষয়টি', 'বুঝিয়ে', 'বৃহত্তর', 'বের', 'বেশ', 'বেশি', 'বেশী', 'ব্যতীত', 'ব্যবহার', 'ব্যবহারসমূহ', 'ব্যবহৃত', 'ব্যাক', 'ব্যাপকভাবে', 'ব্যাপারে', 'ভবিষ্যতে', 'ভান', 'ভাবে', 'ভাবেই', 'ভাল', 'ভিতরে', 'ভিন্ন', 'ভিন্নভাবে', 'মত', 'মতো', 'মতোই', 'মধ্যভাগে', 'মধ্যে', 'মধ্যেই', 'মধ্যেও', 'মনে', 'মনে হয়', 'মস্ত', 'মহান', 'মাত্র', 'মাধ্যম', 'মাধ্যমে', 'মান', 'মানানসই', 'মানুষ', 'মানে', 'মামলা', 'মিলিয়ন', 'মুখ', 'মূলত', 'মোট', 'মোটেই', 'যখন', 'যখনই', 'যত', 'যতটা', 'যথা', 'যথাক্রমে', 'যথেষ্ট', 'যদি', 'যদিও', 'যন্ত্রাংশ', 'যা', 'যাঁর', 'যাঁরা', 'যাই', 'যাওয়া', 'যাওয়ার', 'যাওয়া', 'যাওয়ার', 'যাকে', 'যাচ্ছে', 'যাতে', 'যাদের', 'যান', 'যাবে', 'যায়', 'যার', 'যারা', 'যাহার', 'যাহোক', 'যিনি', 'যে', 'যেখানে', 'যেখানেই', 'যেটি', 'যেতে', 'যেন', 'যেমন', 'যেহেতু', 'যোগ', 'রকম', 'রয়েছে', 'রাখা', 'রাখে', 'রাজী', 'রাজ্যের', 'রেখে', 'রয়েছে', 'লক্ষ', 'লাইন', 'লাল', 'শত', 'শব্দ', 'শীঘ্র', 'শীঘ্রই', 'শুধু', 'শুরু', 'শুরুতে', 'শূন্য', 'শেষ', 'সংক্রান্ত', 'সংক্ষিপ্ত', 'সংক্ষেপে', 'সংখ্যা', 'সংখ্যার', 'সংশ্লিষ্ট', 'সক্ষম', 'সঙ্গে', 'সঙ্গেও', 'সত্য', 'সত্যিই', 'সদয়', 'সদস্য', 'সদস্যদের', 'সফলভাবে', 'সব', 'সবচেয়ে', 'সবাই', 'সবার', 'সময়', 'সমস্ত', 'সমান', 'সম্পন্ন', 'সম্প্রতি', 'সম্ভব', 'সম্ভবত', 'সম্ভাব্য', 'সরাইয়া', 'সর্বত্র', 'সর্বদা', 'সর্বস্বান্ত', 'সহ', 'সহিত', 'সাত', 'সাধারণ', 'সাধারণত', 'সাব', 'সাবেক', 'সামগ্রিক', 'সামনে', 'সামান্য', 'সাম্প্রতিক', 'সুতরাং', 'সুত্র', 'সূচক', 'সে', 'সে হবে', 'সেই', 'সেকেন্ড', 'সেখান', 'সেখানে', 'সেগুলো', 'সেটা', 'সেটাই', 'সেটাও', 'সেটি', 'সেরা', 'স্টপ', 'স্থাপিত', 'স্পষ্ট', 'স্পষ্টত', 'স্পষ্টতই', 'স্ব', 'স্বয়ং', 'স্বাগত', 'স্বাভাবিকভাবে', 'স্বার্থ', 'স্বয়ং', 'হইতে', 'হইবে', 'হইয়া', 'হওয়া', 'হওয়ায়', 'হওয়ার', 'হচ্ছে', 'হত', 'হতে', 'হতেই', 'হন', 'হবে', 'হবেন', 'হয়', 'হয়তো', 'হয়নি', 'হয়ে', 'হয়েই', 'হয়েছিল', 'হয়েছে', 'হয়েছেন', 'হল', 'হলে', 'হলেই', 'হলেও', 'হলো', 'হাজার', 'হায়', 'হারানো', 'হিসাবে', 'হৈলে', 'হোক', 'হয়', 'হয়তো', 'হয়নি', 'হয়ে', 'হয়েই', 'হয়েছিল', 'হয়েছে', 'হয়েছেন', 'অংশ')\n",
    "len(st_words)"
   ]
  },
  {
   "cell_type": "code",
   "execution_count": 25,
   "id": "f95e3157",
   "metadata": {},
   "outputs": [],
   "source": [
    "# para = df['body'][387]\n",
    "# sentences = re.sub(r'\\n{2,}|\\n|।|,', \"\", para)\n",
    "# sentences"
   ]
  },
  {
   "cell_type": "code",
   "execution_count": 26,
   "id": "73517b16",
   "metadata": {},
   "outputs": [],
   "source": [
    "corpus = []\n",
    "no_of_words = 0\n",
    "for i in range(df.shape[0]):\n",
    "    para = df['body'][i]\n",
    "    sentences = re.sub(r'\\n{2,}|\\n|।|,|!|@|<|>|#|\\$|%|\\^|&|\\*|\\(|\\)|\\\\|/', \"\", para)\n",
    "    words = sentences.split()\n",
    "    \n",
    "\n",
    "    words = [word for word in words if word not in st_words]\n",
    "#     words = [word for word in words if not word in stopwords.words('english')]\n",
    "    words = [BanglaStemmer().stem(word) for word in words]\n",
    "    no_of_words += len(words) \n",
    "    line = ' '.join(words)\n",
    "    corpus.append(line)"
   ]
  },
  {
   "cell_type": "code",
   "execution_count": 27,
   "id": "11b893c4",
   "metadata": {},
   "outputs": [
    {
     "data": {
      "text/plain": [
       "209.96076766304347"
      ]
     },
     "execution_count": 27,
     "metadata": {},
     "output_type": "execute_result"
    }
   ],
   "source": [
    "# avg word/news \n",
    "no_of_words/df.shape[0]"
   ]
  },
  {
   "cell_type": "code",
   "execution_count": 28,
   "id": "4806206d",
   "metadata": {},
   "outputs": [
    {
     "data": {
      "text/plain": [
       "'আজকাল ছিপছিপে সুন্দর গড়ন পেত সকলে ব্যস্ত টেলিভিশন পর্দায় বিলবোর্ড চোখ রাখুন মডেল জিরো ফিগার সৌন্দর্য নজর কাড়বেআর ওজন একটু সেক্ষেত্রে নজর টনক নড়বে ইশ সুন্দর গড়ন হত এছাড়া বাড়তি ওজন দাহ রোগ কারণ সেক্ষেত্রে ওজন কমা সচেতনতা ভীষণ জরুরিকিন্তু সারাদিন ব্যস্ততায় নিয়মিত ওয়ার্কআউট নিয়ম মান কড়া ডায়েট করা ওঠে না সেক্ষেত্রে খায় একটু বুঝে শুনে খেত সাথে করুন আধ ঘণ্ হাঁটাহাঁ অভ্যাস নিতেঅনেকের ধারণা স্বাস্থ্যকর খাবা মানে খাবা মুখে রুচবে না চলুন জান আসি রোজক খাদ্যাভ্যাসে মজ সালাদ দ্রুত ওজন নিয়ন্ত্রণে সাহায্য দুপুর খাবা বিকেলের নাস্তায় অস্বাস্থ্যকর ভাজাভুজি না খায় যুক্ত মজ কাব ছোল সালাদকাব ছোলা ওজন কমা সাহায্য ছোলা প্রচুর প্রোটিন আয়রন ফসফরাস জিঙ্ক পটাশিয়াম ভিটামিন বি৬ থায়ামিনসহ প্রচুর পরিমাণে ফাইব ফাইব পাকস্থলী ভর থাক সাহায্য ক্ষুধাভাব কমায় বাড়তি অস্বাস্থ্যকর খাবা খাওয় প্রবণতা কমে এছাড়া ফাইব শরীরে জমে ক্যালরি ফ্যাট পরিমাণ বললে নিশ্চিন্ মজ সালাদ উপভোগ চলুন জান কিকরে তৈরি মজ সালাদ:প্রথমে কাব ছোলা সেদ্ধ নিন এরপর পেঁয়াজ কুচি টমেটো ক্যাপসিকাম শসা গাজরসহ পছন্ সবজি করুন ওপরে লবণ গোলমরিচ চাটমশলা ছিটিয়ে নিন চাইলে ধনে পাতা পুদিনা পাতা সবশেষ করুন লেবুর রস ব্যাস তৈরি মজ কাব ছোলা সালাদ এবারে নিশ্চিন্ উপভোগ করুন সালাদ পেট ভর সাথে ওজনও নিয়ন্ত্রণে'"
      ]
     },
     "execution_count": 28,
     "metadata": {},
     "output_type": "execute_result"
    }
   ],
   "source": [
    "corpus[0]"
   ]
  },
  {
   "cell_type": "code",
   "execution_count": 29,
   "id": "579f99cc",
   "metadata": {},
   "outputs": [],
   "source": [
    "from sklearn.feature_extraction.text import TfidfVectorizer\n",
    "tv = TfidfVectorizer(max_features=1000,ngram_range=(1,3))\n",
    "X = tv.fit_transform(corpus).toarray()"
   ]
  },
  {
   "cell_type": "code",
   "execution_count": 30,
   "id": "98bbdfda",
   "metadata": {},
   "outputs": [
    {
     "data": {
      "text/plain": [
       "(5888, 1000)"
      ]
     },
     "execution_count": 30,
     "metadata": {},
     "output_type": "execute_result"
    }
   ],
   "source": [
    "X.shape"
   ]
  },
  {
   "cell_type": "code",
   "execution_count": 31,
   "id": "4b3b76f4",
   "metadata": {},
   "outputs": [
    {
     "data": {
      "text/plain": [
       "array([3, 2, 0, ..., 3, 0, 3])"
      ]
     },
     "execution_count": 31,
     "metadata": {},
     "output_type": "execute_result"
    }
   ],
   "source": [
    "y"
   ]
  },
  {
   "cell_type": "code",
   "execution_count": 32,
   "id": "9feff0de",
   "metadata": {},
   "outputs": [
    {
     "data": {
      "text/plain": [
       "array(['com', 'www', 'অক', 'অক বর', 'অগ', 'অঙ', 'অজ', 'অঞ', 'অঞ চল', 'অট',\n",
       "       'অড', 'অত', 'অত পর', 'অত যন', 'অদ', 'অধ', 'অধ পক', 'অন', 'অন তর',\n",
       "       'অন ধক'], dtype=object)"
      ]
     },
     "execution_count": 32,
     "metadata": {},
     "output_type": "execute_result"
    }
   ],
   "source": [
    "tv.get_feature_names_out()[:20]"
   ]
  },
  {
   "cell_type": "code",
   "execution_count": 33,
   "id": "0603a6e3",
   "metadata": {},
   "outputs": [
    {
     "data": {
      "text/html": [
       "<div>\n",
       "<style scoped>\n",
       "    .dataframe tbody tr th:only-of-type {\n",
       "        vertical-align: middle;\n",
       "    }\n",
       "\n",
       "    .dataframe tbody tr th {\n",
       "        vertical-align: top;\n",
       "    }\n",
       "\n",
       "    .dataframe thead th {\n",
       "        text-align: right;\n",
       "    }\n",
       "</style>\n",
       "<table border=\"1\" class=\"dataframe\">\n",
       "  <thead>\n",
       "    <tr style=\"text-align: right;\">\n",
       "      <th></th>\n",
       "      <th>com</th>\n",
       "      <th>www</th>\n",
       "      <th>অক</th>\n",
       "      <th>অক বর</th>\n",
       "      <th>অগ</th>\n",
       "      <th>অঙ</th>\n",
       "      <th>অজ</th>\n",
       "      <th>অঞ</th>\n",
       "      <th>অঞ চল</th>\n",
       "      <th>অট</th>\n",
       "      <th>...</th>\n",
       "      <th>২৮</th>\n",
       "      <th>৩০</th>\n",
       "      <th>৩১</th>\n",
       "      <th>৪০</th>\n",
       "      <th>৫০</th>\n",
       "      <th>৫০০</th>\n",
       "      <th>৬০</th>\n",
       "      <th>৭০</th>\n",
       "      <th>৮০</th>\n",
       "      <th>target</th>\n",
       "    </tr>\n",
       "  </thead>\n",
       "  <tbody>\n",
       "    <tr>\n",
       "      <th>0</th>\n",
       "      <td>0.0</td>\n",
       "      <td>0.0</td>\n",
       "      <td>0.000000</td>\n",
       "      <td>0.0</td>\n",
       "      <td>0.0</td>\n",
       "      <td>0.0</td>\n",
       "      <td>0.0</td>\n",
       "      <td>0.0</td>\n",
       "      <td>0.0</td>\n",
       "      <td>0.0</td>\n",
       "      <td>...</td>\n",
       "      <td>0.0</td>\n",
       "      <td>0.000000</td>\n",
       "      <td>0.0</td>\n",
       "      <td>0.0</td>\n",
       "      <td>0.0</td>\n",
       "      <td>0.0</td>\n",
       "      <td>0.000000</td>\n",
       "      <td>0.0</td>\n",
       "      <td>0.0</td>\n",
       "      <td>3</td>\n",
       "    </tr>\n",
       "    <tr>\n",
       "      <th>1</th>\n",
       "      <td>0.0</td>\n",
       "      <td>0.0</td>\n",
       "      <td>0.000000</td>\n",
       "      <td>0.0</td>\n",
       "      <td>0.0</td>\n",
       "      <td>0.0</td>\n",
       "      <td>0.0</td>\n",
       "      <td>0.0</td>\n",
       "      <td>0.0</td>\n",
       "      <td>0.0</td>\n",
       "      <td>...</td>\n",
       "      <td>0.0</td>\n",
       "      <td>0.000000</td>\n",
       "      <td>0.0</td>\n",
       "      <td>0.0</td>\n",
       "      <td>0.0</td>\n",
       "      <td>0.0</td>\n",
       "      <td>0.000000</td>\n",
       "      <td>0.0</td>\n",
       "      <td>0.0</td>\n",
       "      <td>2</td>\n",
       "    </tr>\n",
       "    <tr>\n",
       "      <th>2</th>\n",
       "      <td>0.0</td>\n",
       "      <td>0.0</td>\n",
       "      <td>0.000000</td>\n",
       "      <td>0.0</td>\n",
       "      <td>0.0</td>\n",
       "      <td>0.0</td>\n",
       "      <td>0.0</td>\n",
       "      <td>0.0</td>\n",
       "      <td>0.0</td>\n",
       "      <td>0.0</td>\n",
       "      <td>...</td>\n",
       "      <td>0.0</td>\n",
       "      <td>0.077066</td>\n",
       "      <td>0.0</td>\n",
       "      <td>0.0</td>\n",
       "      <td>0.0</td>\n",
       "      <td>0.0</td>\n",
       "      <td>0.103328</td>\n",
       "      <td>0.0</td>\n",
       "      <td>0.0</td>\n",
       "      <td>0</td>\n",
       "    </tr>\n",
       "    <tr>\n",
       "      <th>3</th>\n",
       "      <td>0.0</td>\n",
       "      <td>0.0</td>\n",
       "      <td>0.000000</td>\n",
       "      <td>0.0</td>\n",
       "      <td>0.0</td>\n",
       "      <td>0.0</td>\n",
       "      <td>0.0</td>\n",
       "      <td>0.0</td>\n",
       "      <td>0.0</td>\n",
       "      <td>0.0</td>\n",
       "      <td>...</td>\n",
       "      <td>0.0</td>\n",
       "      <td>0.000000</td>\n",
       "      <td>0.0</td>\n",
       "      <td>0.0</td>\n",
       "      <td>0.0</td>\n",
       "      <td>0.0</td>\n",
       "      <td>0.000000</td>\n",
       "      <td>0.0</td>\n",
       "      <td>0.0</td>\n",
       "      <td>0</td>\n",
       "    </tr>\n",
       "    <tr>\n",
       "      <th>4</th>\n",
       "      <td>0.0</td>\n",
       "      <td>0.0</td>\n",
       "      <td>0.162003</td>\n",
       "      <td>0.0</td>\n",
       "      <td>0.0</td>\n",
       "      <td>0.0</td>\n",
       "      <td>0.0</td>\n",
       "      <td>0.0</td>\n",
       "      <td>0.0</td>\n",
       "      <td>0.0</td>\n",
       "      <td>...</td>\n",
       "      <td>0.0</td>\n",
       "      <td>0.000000</td>\n",
       "      <td>0.0</td>\n",
       "      <td>0.0</td>\n",
       "      <td>0.0</td>\n",
       "      <td>0.0</td>\n",
       "      <td>0.000000</td>\n",
       "      <td>0.0</td>\n",
       "      <td>0.0</td>\n",
       "      <td>1</td>\n",
       "    </tr>\n",
       "    <tr>\n",
       "      <th>...</th>\n",
       "      <td>...</td>\n",
       "      <td>...</td>\n",
       "      <td>...</td>\n",
       "      <td>...</td>\n",
       "      <td>...</td>\n",
       "      <td>...</td>\n",
       "      <td>...</td>\n",
       "      <td>...</td>\n",
       "      <td>...</td>\n",
       "      <td>...</td>\n",
       "      <td>...</td>\n",
       "      <td>...</td>\n",
       "      <td>...</td>\n",
       "      <td>...</td>\n",
       "      <td>...</td>\n",
       "      <td>...</td>\n",
       "      <td>...</td>\n",
       "      <td>...</td>\n",
       "      <td>...</td>\n",
       "      <td>...</td>\n",
       "      <td>...</td>\n",
       "    </tr>\n",
       "    <tr>\n",
       "      <th>5883</th>\n",
       "      <td>0.0</td>\n",
       "      <td>0.0</td>\n",
       "      <td>0.000000</td>\n",
       "      <td>0.0</td>\n",
       "      <td>0.0</td>\n",
       "      <td>0.0</td>\n",
       "      <td>0.0</td>\n",
       "      <td>0.0</td>\n",
       "      <td>0.0</td>\n",
       "      <td>0.0</td>\n",
       "      <td>...</td>\n",
       "      <td>0.0</td>\n",
       "      <td>0.000000</td>\n",
       "      <td>0.0</td>\n",
       "      <td>0.0</td>\n",
       "      <td>0.0</td>\n",
       "      <td>0.0</td>\n",
       "      <td>0.000000</td>\n",
       "      <td>0.0</td>\n",
       "      <td>0.0</td>\n",
       "      <td>0</td>\n",
       "    </tr>\n",
       "    <tr>\n",
       "      <th>5884</th>\n",
       "      <td>0.0</td>\n",
       "      <td>0.0</td>\n",
       "      <td>0.000000</td>\n",
       "      <td>0.0</td>\n",
       "      <td>0.0</td>\n",
       "      <td>0.0</td>\n",
       "      <td>0.0</td>\n",
       "      <td>0.0</td>\n",
       "      <td>0.0</td>\n",
       "      <td>0.0</td>\n",
       "      <td>...</td>\n",
       "      <td>0.0</td>\n",
       "      <td>0.000000</td>\n",
       "      <td>0.0</td>\n",
       "      <td>0.0</td>\n",
       "      <td>0.0</td>\n",
       "      <td>0.0</td>\n",
       "      <td>0.000000</td>\n",
       "      <td>0.0</td>\n",
       "      <td>0.0</td>\n",
       "      <td>0</td>\n",
       "    </tr>\n",
       "    <tr>\n",
       "      <th>5885</th>\n",
       "      <td>0.0</td>\n",
       "      <td>0.0</td>\n",
       "      <td>0.000000</td>\n",
       "      <td>0.0</td>\n",
       "      <td>0.0</td>\n",
       "      <td>0.0</td>\n",
       "      <td>0.0</td>\n",
       "      <td>0.0</td>\n",
       "      <td>0.0</td>\n",
       "      <td>0.0</td>\n",
       "      <td>...</td>\n",
       "      <td>0.0</td>\n",
       "      <td>0.000000</td>\n",
       "      <td>0.0</td>\n",
       "      <td>0.0</td>\n",
       "      <td>0.0</td>\n",
       "      <td>0.0</td>\n",
       "      <td>0.000000</td>\n",
       "      <td>0.0</td>\n",
       "      <td>0.0</td>\n",
       "      <td>3</td>\n",
       "    </tr>\n",
       "    <tr>\n",
       "      <th>5886</th>\n",
       "      <td>0.0</td>\n",
       "      <td>0.0</td>\n",
       "      <td>0.000000</td>\n",
       "      <td>0.0</td>\n",
       "      <td>0.0</td>\n",
       "      <td>0.0</td>\n",
       "      <td>0.0</td>\n",
       "      <td>0.0</td>\n",
       "      <td>0.0</td>\n",
       "      <td>0.0</td>\n",
       "      <td>...</td>\n",
       "      <td>0.0</td>\n",
       "      <td>0.000000</td>\n",
       "      <td>0.0</td>\n",
       "      <td>0.0</td>\n",
       "      <td>0.0</td>\n",
       "      <td>0.0</td>\n",
       "      <td>0.000000</td>\n",
       "      <td>0.0</td>\n",
       "      <td>0.0</td>\n",
       "      <td>0</td>\n",
       "    </tr>\n",
       "    <tr>\n",
       "      <th>5887</th>\n",
       "      <td>0.0</td>\n",
       "      <td>0.0</td>\n",
       "      <td>0.000000</td>\n",
       "      <td>0.0</td>\n",
       "      <td>0.0</td>\n",
       "      <td>0.0</td>\n",
       "      <td>0.0</td>\n",
       "      <td>0.0</td>\n",
       "      <td>0.0</td>\n",
       "      <td>0.0</td>\n",
       "      <td>...</td>\n",
       "      <td>0.0</td>\n",
       "      <td>0.000000</td>\n",
       "      <td>0.0</td>\n",
       "      <td>0.0</td>\n",
       "      <td>0.0</td>\n",
       "      <td>0.0</td>\n",
       "      <td>0.000000</td>\n",
       "      <td>0.0</td>\n",
       "      <td>0.0</td>\n",
       "      <td>3</td>\n",
       "    </tr>\n",
       "  </tbody>\n",
       "</table>\n",
       "<p>5888 rows × 1001 columns</p>\n",
       "</div>"
      ],
      "text/plain": [
       "      com  www        অক  অক বর   অগ   অঙ   অজ   অঞ  অঞ চল   অট  ...   ২৮  \\\n",
       "0     0.0  0.0  0.000000    0.0  0.0  0.0  0.0  0.0    0.0  0.0  ...  0.0   \n",
       "1     0.0  0.0  0.000000    0.0  0.0  0.0  0.0  0.0    0.0  0.0  ...  0.0   \n",
       "2     0.0  0.0  0.000000    0.0  0.0  0.0  0.0  0.0    0.0  0.0  ...  0.0   \n",
       "3     0.0  0.0  0.000000    0.0  0.0  0.0  0.0  0.0    0.0  0.0  ...  0.0   \n",
       "4     0.0  0.0  0.162003    0.0  0.0  0.0  0.0  0.0    0.0  0.0  ...  0.0   \n",
       "...   ...  ...       ...    ...  ...  ...  ...  ...    ...  ...  ...  ...   \n",
       "5883  0.0  0.0  0.000000    0.0  0.0  0.0  0.0  0.0    0.0  0.0  ...  0.0   \n",
       "5884  0.0  0.0  0.000000    0.0  0.0  0.0  0.0  0.0    0.0  0.0  ...  0.0   \n",
       "5885  0.0  0.0  0.000000    0.0  0.0  0.0  0.0  0.0    0.0  0.0  ...  0.0   \n",
       "5886  0.0  0.0  0.000000    0.0  0.0  0.0  0.0  0.0    0.0  0.0  ...  0.0   \n",
       "5887  0.0  0.0  0.000000    0.0  0.0  0.0  0.0  0.0    0.0  0.0  ...  0.0   \n",
       "\n",
       "            ৩০   ৩১   ৪০   ৫০  ৫০০        ৬০   ৭০   ৮০  target  \n",
       "0     0.000000  0.0  0.0  0.0  0.0  0.000000  0.0  0.0       3  \n",
       "1     0.000000  0.0  0.0  0.0  0.0  0.000000  0.0  0.0       2  \n",
       "2     0.077066  0.0  0.0  0.0  0.0  0.103328  0.0  0.0       0  \n",
       "3     0.000000  0.0  0.0  0.0  0.0  0.000000  0.0  0.0       0  \n",
       "4     0.000000  0.0  0.0  0.0  0.0  0.000000  0.0  0.0       1  \n",
       "...        ...  ...  ...  ...  ...       ...  ...  ...     ...  \n",
       "5883  0.000000  0.0  0.0  0.0  0.0  0.000000  0.0  0.0       0  \n",
       "5884  0.000000  0.0  0.0  0.0  0.0  0.000000  0.0  0.0       0  \n",
       "5885  0.000000  0.0  0.0  0.0  0.0  0.000000  0.0  0.0       3  \n",
       "5886  0.000000  0.0  0.0  0.0  0.0  0.000000  0.0  0.0       0  \n",
       "5887  0.000000  0.0  0.0  0.0  0.0  0.000000  0.0  0.0       3  \n",
       "\n",
       "[5888 rows x 1001 columns]"
      ]
     },
     "execution_count": 33,
     "metadata": {},
     "output_type": "execute_result"
    }
   ],
   "source": [
    "count_df = pd.DataFrame(X,columns=tv.get_feature_names_out()).assign(target=y)\n",
    "count_df"
   ]
  },
  {
   "cell_type": "code",
   "execution_count": 34,
   "id": "e8e0fb75",
   "metadata": {},
   "outputs": [
    {
     "data": {
      "text/plain": [
       "(5888, 1001)"
      ]
     },
     "execution_count": 34,
     "metadata": {},
     "output_type": "execute_result"
    }
   ],
   "source": [
    "count_df.shape"
   ]
  },
  {
   "cell_type": "code",
   "execution_count": 35,
   "id": "c928e987",
   "metadata": {},
   "outputs": [],
   "source": [
    "count_df.to_excel(\"itte-part-0.xlsx\", index = False, header = False)"
   ]
  },
  {
   "cell_type": "code",
   "execution_count": null,
   "id": "3543d31f",
   "metadata": {},
   "outputs": [],
   "source": []
  }
 ],
 "metadata": {
  "kernelspec": {
   "display_name": "NlP",
   "language": "python",
   "name": "nlp"
  },
  "language_info": {
   "codemirror_mode": {
    "name": "ipython",
    "version": 3
   },
   "file_extension": ".py",
   "mimetype": "text/x-python",
   "name": "python",
   "nbconvert_exporter": "python",
   "pygments_lexer": "ipython3",
   "version": "3.11.4"
  }
 },
 "nbformat": 4,
 "nbformat_minor": 5
}
