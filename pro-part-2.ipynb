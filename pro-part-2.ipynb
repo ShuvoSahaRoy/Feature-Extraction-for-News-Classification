{
 "cells": [
  {
   "cell_type": "code",
   "execution_count": 1,
   "id": "784e90d2",
   "metadata": {},
   "outputs": [],
   "source": [
    "import pandas as pd\n",
    "import numpy as np\n",
    "import json"
   ]
  },
  {
   "cell_type": "code",
   "execution_count": 2,
   "id": "7e8994c5",
   "metadata": {},
   "outputs": [],
   "source": [
    "# Step 2: Open and Read the JSON File\n",
    "with open('D:/shuvo/bangla_news_classification/dataset/pro-part-2.json', 'r') as json_file:\n",
    "    json_data = json_file.read()\n",
    "\n",
    "# Step 3: Parse the JSON Data\n",
    "parsed_data = json.loads(json_data)"
   ]
  },
  {
   "cell_type": "code",
   "execution_count": 3,
   "id": "23f66c12",
   "metadata": {},
   "outputs": [
    {
     "name": "stdout",
     "output_type": "stream",
     "text": [
      "[{'tags': [], 'headline': 'পাইকারি বাজারে কমলেও খুচরা পর্যায়ে কমেনি পেঁয়াজের দাম', 'content_type': 'story', 'content_id': '80b2ef5e-70e7-4a4b-b1a4-81817e379cfa', 'url': 'https://www.prothomalo.com/business/পাইকারি-বাজারে-কমলেও-খুচরা-পর্যায়ে-কমেনি-পেঁয়াজের-দাম', 'body': ['<p>ভারত পেঁয়াজ রপ্তানির ওপর নিষেধাজ্ঞা তুলে নেওয়ায় দেশের পাইকারি বাজারে সব ধরনের পেঁয়াজের দাম কমে এসেছে। কিন্তু খুচরা বিক্রেতারা এখনো পেঁয়াজ বিক্রি করছেন চড়া দামে।রাজধানীর কয়েকটি কাঁচাবাজারে গতকাল বুধবার দেশি পেঁয়াজ ৪০ এবং আমদানি করা ভারতীয় পেঁয়াজ ৩৫ থেকে ৩৬ টাকায় বিক্রি হতে দেখা গেছে।ভারতের কৃষকদের বিক্ষোভ ও দাবির মুখে গত মঙ্গলবার সেই দেশের সরকার পেঁয়াজ রপ্তানির ওপর নিষেধাজ্ঞা তুলে নেয়। এর আগে ৯ সেপ্টেম্বর ভারত পেঁয়াজ রপ্তানি বন্ধ করে, যে কারণে ভারতে পেঁয়াজের দাম কমে যায়। প্রতি কুইন্টাল (১০০ কেজি) পেঁয়াজের দাম এক হাজার রুপি থেকে কমে ৪০০ রুপিতে নেমে আসে।ভারত রপ্তানি নিষেধাজ্ঞা আরোপের পর ঢাকায় পেঁয়াজের সবচেয়ে বড় পাইকারি বাজার শ্যামবাজারে পাইকারি দর দাঁড়ায় প্রতি কেজি দেশি পেঁয়াজ ৩৬ থেকে ৩৭ টাকা এবং ভারতীয় পেঁয়াজ ৩৫ থেকে ৩৬ টাকায়।তবে নিষেধাজ্ঞা প্রত্যাহারের পর গতকাল শ্যামবাজারে প্রতি কেজি দেশি পেঁয়াজ ৩০ থেকে ৩২ টাকা এবং ভারতীয় পেঁয়াজ ২৭ থেকে ২৮ টাকায় বিক্রি হয়েছে। পেঁয়াজ আমদানিকারক ও শ্যামবাজারের পাইকারি ব্যবসায়ী রতন সাহা বলেন, রপ্তানি নিষেধাজ্ঞা তুলে নিলেও দাম তেমন কমবে না। কারণএর আগেই ভারত পেঁয়াজের রপ্তানিমূল্য বাড়িয়ে টনপ্রতি ৪৭৫ ডলার করেছিল।</p>'], 'added_time': 1585270322047, 'updated_time': 1600169881202, 'general_type': ['business']}, {'tags': [], 'headline': 'মোড়কজাত মসলায় বেশি দাম রাখা হচ্ছে', 'content_type': 'story', 'content_id': '4c255f46-8db9-48b1-abdf-6e66d5cb42e8', 'url': 'https://www.prothomalo.com/business/মোড়কজাত-মসলায়-বেশি-দাম-রাখা-হচ্ছে', 'body': ['<p>খোলা মসলার তুলনায় মোড়কজাত মসলার দাম যতটুকু বেশি হওয়ার কথা, বাস্তবে তার অনেক বেশি। মরিচ, আদা, রসুনসহ বিভিন্ন মসলা মোড়কজাত করা বড় বড় কোম্পানি মাত্রাতিরিক্ত দাম রাখছে। এতে প্রতিদিন ঠকছেন ভোক্তারা। এসব কথা জানিয়ে শিগগির মসলা মোড়কজাত করা কোম্পানিগুলোর সঙ্গে বৈঠকে বসা হবে বলে জানিয়েছেন বাণিজ্যসচিব গোলাম হোসেন। মসলাজাতীয় পণ্যের উৎপাদন, মজুদ ও মূল্য পরিস্থিতির নিয়ে সচিবালয়ে এসব পণ্যের আমদানিকারক ও পাইকারি ব্যবসায়ীদের সঙ্গে অনুষ্ঠিত বৈঠক শেষে বাণিজ্যসচিব গতকাল বুধবার এসব কথা জানান।  জাতীয় ভোক্তা অধিকার সংরক্ষণ অধিদপ্তরের মহাপরিচালক আবুল হোসেন মিঞা, ট্রেডিং করপোরেশন অব বাংলাদেশের (টিসিবি) চেয়ারম্যান সারোয়ার জাহান তালুকদার, ট্যারিফ কমিশনের যুগ্ম প্রধান আবদুল কাইয়ুম, মৌলভীবাজার ব্যবসায়ী সমিতির সাধারণ সম্পাদক গোলাম মাওলা প্রমুখ বৈঠকে উপস্থিত ছিলেন। বাণিজ্যসচিব আরও বলেন, খোলা ও মোড়কজাত পণ্যের দামে বড় ধরনের ফারাক রয়েছে। এতে ভোক্তাদের ভোগান্তি হচ্ছে। তাদের (বড় কোম্পানি) উদ্দেশে বলব, অন্যায়ভাবে মানুষের ওপর যাতে অতিরিক্ত দাম চাপিয়ে না দেয়।অন্যদিকে, যেসব পণ্য মোড়কজাত করে বিক্রি করা সম্ভব, সেগুলো খোলার পরিবর্তে মোড়কজাত করেই বিক্রি করার আহ্বান জানান বাণিজ্যসচিব। তিনি বলেন, ‘খোলা কোনো জিনিস বিক্রি বন্ধ করতে  হবে। কারণ, এতে ক্রেতাদের ঠকানো হয়। আমার মনে হয়, কেউ তা অস্বীকার করবেন না।’গোলাম হোসেন বলেন, দেশে সুন্দর সুন্দর আইন আছে। কিন্তু পণ্যের খোলা আকারের কারণে সেই আইনগুলো প্রয়োগ করা যাচ্ছে না। পণ্যের মোড়কে উৎপাদনের তারিখ, মেয়াদোত্তীর্ণের তারিখ, ব্যাচ নম্বর ইত্যাদি বাধ্যতামূলক করার প্রতি গুরুত্বারোপ করেন তিনি। ‘একটি ভালো খবর রয়েছে’ জানিয়ে সচিব বলেন, আট থেকে নয় মাসের পেঁয়াজের চাহিদা পূরণ হয় ভারত থেকে আমদানি করে। দেশটি সম্প্রতি পেঁয়াজ রপ্তানিতে নিষেধাজ্ঞা আরোপ করলেও মঙ্গলবার তা প্রত্যাহার করে নিয়েছে। তবে ভারত দাম নির্ধারণ করেছে প্রতি টন ৪৭৫ ডলার।ভারতের নিষেধাজ্ঞার পর পেঁয়াজ আমদানির জন্য বিকল্প কয়েকটি দেশের কথা ভাবা হয়েছিল জানিয়ে সচিব বলেন, ‘যেমন, তুরস্ক থেকে কেউ যদি এখনো পেঁয়াজ আমদানি করতে চান, তথ্য-উপাত্তসহ বিভিন্নভাবে সরকারের পক্ষ থেকে তাঁকে সহযোগিতা করা হবে।’গোলাম হোসেন বলেন, ভারতে রসুন পাচার হওয়ার কথা শোনা যায়। তা রোধ করতে নিয়োজিত রয়েছে বর্ডার গার্ড বাংলাদেশ (বিজিবি)। এ বছর আদার উৎপাদন সন্তোষজনক হবে বলে ব্যবসায়ীরা বাণিজ্যসচিবকে জানিয়েছেন। সচিব জানান, এরই মধ্যে পাহাড়ি এলাকা থেকে দেশের বিভিন্ন জায়গায় আদা সরবরাহ শুরু হয়েছে।  সচিব জানান, রসুন আমদানিতে পাঁচ শতাংশ অগ্রিম আয়কর (এআইটি) না নেওয়া হলে এবং জাতীয় রাজস্ব বোর্ড (এনবিআর) প্রকৃত মূল্যের ওপর মূল্যায়ন করলে রসুনের দাম কেজিতে আরও পাঁচ টাকা কমতে পারে বলে ব্যবসায়ীরা তাঁকে জানিয়েছেন।</p>'], 'added_time': 1585270321806, 'updated_time': 1600169880906, 'general_type': ['business']}]\n"
     ]
    }
   ],
   "source": [
    "# Step 4: Print the Content\n",
    "print(parsed_data[:2])"
   ]
  },
  {
   "cell_type": "code",
   "execution_count": 4,
   "id": "473f1d78",
   "metadata": {},
   "outputs": [
    {
     "data": {
      "text/html": [
       "<div>\n",
       "<style scoped>\n",
       "    .dataframe tbody tr th:only-of-type {\n",
       "        vertical-align: middle;\n",
       "    }\n",
       "\n",
       "    .dataframe tbody tr th {\n",
       "        vertical-align: top;\n",
       "    }\n",
       "\n",
       "    .dataframe thead th {\n",
       "        text-align: right;\n",
       "    }\n",
       "</style>\n",
       "<table border=\"1\" class=\"dataframe\">\n",
       "  <thead>\n",
       "    <tr style=\"text-align: right;\">\n",
       "      <th></th>\n",
       "      <th>tags</th>\n",
       "      <th>headline</th>\n",
       "      <th>content_type</th>\n",
       "      <th>content_id</th>\n",
       "      <th>url</th>\n",
       "      <th>body</th>\n",
       "      <th>added_time</th>\n",
       "      <th>updated_time</th>\n",
       "      <th>general_type</th>\n",
       "    </tr>\n",
       "  </thead>\n",
       "  <tbody>\n",
       "    <tr>\n",
       "      <th>0</th>\n",
       "      <td>[]</td>\n",
       "      <td>পাইকারি বাজারে কমলেও খুচরা পর্যায়ে কমেনি পেঁয়া...</td>\n",
       "      <td>story</td>\n",
       "      <td>80b2ef5e-70e7-4a4b-b1a4-81817e379cfa</td>\n",
       "      <td>https://www.prothomalo.com/business/পাইকারি-বা...</td>\n",
       "      <td>[&lt;p&gt;ভারত পেঁয়াজ রপ্তানির ওপর নিষেধাজ্ঞা তুলে ন...</td>\n",
       "      <td>1585270322047</td>\n",
       "      <td>1600169881202</td>\n",
       "      <td>[business]</td>\n",
       "    </tr>\n",
       "    <tr>\n",
       "      <th>1</th>\n",
       "      <td>[]</td>\n",
       "      <td>মোড়কজাত মসলায় বেশি দাম রাখা হচ্ছে</td>\n",
       "      <td>story</td>\n",
       "      <td>4c255f46-8db9-48b1-abdf-6e66d5cb42e8</td>\n",
       "      <td>https://www.prothomalo.com/business/মোড়কজাত-মস...</td>\n",
       "      <td>[&lt;p&gt;খোলা মসলার তুলনায় মোড়কজাত মসলার দাম যতটুকু...</td>\n",
       "      <td>1585270321806</td>\n",
       "      <td>1600169880906</td>\n",
       "      <td>[business]</td>\n",
       "    </tr>\n",
       "    <tr>\n",
       "      <th>2</th>\n",
       "      <td>[]</td>\n",
       "      <td>লক্ষ্য করুন</td>\n",
       "      <td>story</td>\n",
       "      <td>2e0e128a-2c12-45a8-b6af-6786979d3d8d</td>\n",
       "      <td>https://www.prothomalo.com/feature/ananda/লক্ষ...</td>\n",
       "      <td>[&lt;p&gt;গত সপ্তাহের আনন্দ পাতায় ‘একজন ছায়াবতী’ নাট...</td>\n",
       "      <td>1585270320524</td>\n",
       "      <td>1600169880613</td>\n",
       "      <td>[feature, ananda]</td>\n",
       "    </tr>\n",
       "    <tr>\n",
       "      <th>3</th>\n",
       "      <td>[]</td>\n",
       "      <td>কোপেনিকের ক্যাপ্টেন</td>\n",
       "      <td>story</td>\n",
       "      <td>50862225-dd84-4c23-a06c-35f3e9c9edef</td>\n",
       "      <td>https://www.prothomalo.com/feature/ananda/কোপে...</td>\n",
       "      <td>[&lt;p&gt;পাশের ছবিটি নাগরিক নাট্যসম্প্রদায়ের কোপেনি...</td>\n",
       "      <td>1585270320284</td>\n",
       "      <td>1600169880323</td>\n",
       "      <td>[feature, ananda]</td>\n",
       "    </tr>\n",
       "    <tr>\n",
       "      <th>4</th>\n",
       "      <td>[]</td>\n",
       "      <td>মঞ্চে রিপার্টরি থিয়েটারের আগ্রহ বাড়ছে</td>\n",
       "      <td>story</td>\n",
       "      <td>928f06c2-93d0-40d9-a487-d68bbb13a0a7</td>\n",
       "      <td>https://www.prothomalo.com/feature/ananda/মঞ্চ...</td>\n",
       "      <td>[&lt;p&gt;বাংলা থিয়েটারের জয়জয়কার যেই পশ্চিমবঙ্গে এখ...</td>\n",
       "      <td>1585270320030</td>\n",
       "      <td>1600169880008</td>\n",
       "      <td>[feature, ananda]</td>\n",
       "    </tr>\n",
       "  </tbody>\n",
       "</table>\n",
       "</div>"
      ],
      "text/plain": [
       "  tags                                           headline content_type  \\\n",
       "0   []  পাইকারি বাজারে কমলেও খুচরা পর্যায়ে কমেনি পেঁয়া...        story   \n",
       "1   []                  মোড়কজাত মসলায় বেশি দাম রাখা হচ্ছে        story   \n",
       "2   []                                        লক্ষ্য করুন        story   \n",
       "3   []                                কোপেনিকের ক্যাপ্টেন        story   \n",
       "4   []              মঞ্চে রিপার্টরি থিয়েটারের আগ্রহ বাড়ছে        story   \n",
       "\n",
       "                             content_id  \\\n",
       "0  80b2ef5e-70e7-4a4b-b1a4-81817e379cfa   \n",
       "1  4c255f46-8db9-48b1-abdf-6e66d5cb42e8   \n",
       "2  2e0e128a-2c12-45a8-b6af-6786979d3d8d   \n",
       "3  50862225-dd84-4c23-a06c-35f3e9c9edef   \n",
       "4  928f06c2-93d0-40d9-a487-d68bbb13a0a7   \n",
       "\n",
       "                                                 url  \\\n",
       "0  https://www.prothomalo.com/business/পাইকারি-বা...   \n",
       "1  https://www.prothomalo.com/business/মোড়কজাত-মস...   \n",
       "2  https://www.prothomalo.com/feature/ananda/লক্ষ...   \n",
       "3  https://www.prothomalo.com/feature/ananda/কোপে...   \n",
       "4  https://www.prothomalo.com/feature/ananda/মঞ্চ...   \n",
       "\n",
       "                                                body     added_time  \\\n",
       "0  [<p>ভারত পেঁয়াজ রপ্তানির ওপর নিষেধাজ্ঞা তুলে ন...  1585270322047   \n",
       "1  [<p>খোলা মসলার তুলনায় মোড়কজাত মসলার দাম যতটুকু...  1585270321806   \n",
       "2  [<p>গত সপ্তাহের আনন্দ পাতায় ‘একজন ছায়াবতী’ নাট...  1585270320524   \n",
       "3  [<p>পাশের ছবিটি নাগরিক নাট্যসম্প্রদায়ের কোপেনি...  1585270320284   \n",
       "4  [<p>বাংলা থিয়েটারের জয়জয়কার যেই পশ্চিমবঙ্গে এখ...  1585270320030   \n",
       "\n",
       "    updated_time       general_type  \n",
       "0  1600169881202         [business]  \n",
       "1  1600169880906         [business]  \n",
       "2  1600169880613  [feature, ananda]  \n",
       "3  1600169880323  [feature, ananda]  \n",
       "4  1600169880008  [feature, ananda]  "
      ]
     },
     "execution_count": 4,
     "metadata": {},
     "output_type": "execute_result"
    }
   ],
   "source": [
    "# Step 2: Create a DataFrame from JSON Data\n",
    "df = pd.DataFrame(parsed_data)\n",
    "df.head()"
   ]
  },
  {
   "cell_type": "code",
   "execution_count": 5,
   "id": "3977bd57",
   "metadata": {},
   "outputs": [
    {
     "data": {
      "text/plain": [
       "((90000, 9),\n",
       " Index(['tags', 'headline', 'content_type', 'content_id', 'url', 'body',\n",
       "        'added_time', 'updated_time', 'general_type'],\n",
       "       dtype='object'))"
      ]
     },
     "execution_count": 5,
     "metadata": {},
     "output_type": "execute_result"
    }
   ],
   "source": [
    "df.shape, df.columns"
   ]
  },
  {
   "cell_type": "code",
   "execution_count": 6,
   "id": "ee3c7a4d",
   "metadata": {},
   "outputs": [
    {
     "data": {
      "text/html": [
       "<div>\n",
       "<style scoped>\n",
       "    .dataframe tbody tr th:only-of-type {\n",
       "        vertical-align: middle;\n",
       "    }\n",
       "\n",
       "    .dataframe tbody tr th {\n",
       "        vertical-align: top;\n",
       "    }\n",
       "\n",
       "    .dataframe thead th {\n",
       "        text-align: right;\n",
       "    }\n",
       "</style>\n",
       "<table border=\"1\" class=\"dataframe\">\n",
       "  <thead>\n",
       "    <tr style=\"text-align: right;\">\n",
       "      <th></th>\n",
       "      <th>tags</th>\n",
       "      <th>headline</th>\n",
       "      <th>content_type</th>\n",
       "      <th>content_id</th>\n",
       "      <th>url</th>\n",
       "      <th>body</th>\n",
       "      <th>added_time</th>\n",
       "      <th>updated_time</th>\n",
       "      <th>general_type</th>\n",
       "    </tr>\n",
       "  </thead>\n",
       "  <tbody>\n",
       "    <tr>\n",
       "      <th>0</th>\n",
       "      <td>[]</td>\n",
       "      <td>পাইকারি বাজারে কমলেও খুচরা পর্যায়ে কমেনি পেঁয়া...</td>\n",
       "      <td>story</td>\n",
       "      <td>80b2ef5e-70e7-4a4b-b1a4-81817e379cfa</td>\n",
       "      <td>https://www.prothomalo.com/business/পাইকারি-বা...</td>\n",
       "      <td>ভারত পেঁয়াজ রপ্তানির ওপর নিষেধাজ্ঞা তুলে নেওয়া...</td>\n",
       "      <td>1585270322047</td>\n",
       "      <td>1600169881202</td>\n",
       "      <td>business</td>\n",
       "    </tr>\n",
       "    <tr>\n",
       "      <th>1</th>\n",
       "      <td>[]</td>\n",
       "      <td>মোড়কজাত মসলায় বেশি দাম রাখা হচ্ছে</td>\n",
       "      <td>story</td>\n",
       "      <td>4c255f46-8db9-48b1-abdf-6e66d5cb42e8</td>\n",
       "      <td>https://www.prothomalo.com/business/মোড়কজাত-মস...</td>\n",
       "      <td>খোলা মসলার তুলনায় মোড়কজাত মসলার দাম যতটুকু বেশ...</td>\n",
       "      <td>1585270321806</td>\n",
       "      <td>1600169880906</td>\n",
       "      <td>business</td>\n",
       "    </tr>\n",
       "    <tr>\n",
       "      <th>2</th>\n",
       "      <td>[]</td>\n",
       "      <td>লক্ষ্য করুন</td>\n",
       "      <td>story</td>\n",
       "      <td>2e0e128a-2c12-45a8-b6af-6786979d3d8d</td>\n",
       "      <td>https://www.prothomalo.com/feature/ananda/লক্ষ...</td>\n",
       "      <td>গত সপ্তাহের আনন্দ পাতায় ‘একজন ছায়াবতী’ নাটকটির...</td>\n",
       "      <td>1585270320524</td>\n",
       "      <td>1600169880613</td>\n",
       "      <td>feature</td>\n",
       "    </tr>\n",
       "    <tr>\n",
       "      <th>3</th>\n",
       "      <td>[]</td>\n",
       "      <td>কোপেনিকের ক্যাপ্টেন</td>\n",
       "      <td>story</td>\n",
       "      <td>50862225-dd84-4c23-a06c-35f3e9c9edef</td>\n",
       "      <td>https://www.prothomalo.com/feature/ananda/কোপে...</td>\n",
       "      <td>পাশের ছবিটি নাগরিক নাট্যসম্প্রদায়ের কোপেনিকের ...</td>\n",
       "      <td>1585270320284</td>\n",
       "      <td>1600169880323</td>\n",
       "      <td>feature</td>\n",
       "    </tr>\n",
       "    <tr>\n",
       "      <th>4</th>\n",
       "      <td>[]</td>\n",
       "      <td>মঞ্চে রিপার্টরি থিয়েটারের আগ্রহ বাড়ছে</td>\n",
       "      <td>story</td>\n",
       "      <td>928f06c2-93d0-40d9-a487-d68bbb13a0a7</td>\n",
       "      <td>https://www.prothomalo.com/feature/ananda/মঞ্চ...</td>\n",
       "      <td>বাংলা থিয়েটারের জয়জয়কার যেই পশ্চিমবঙ্গে এখনো স...</td>\n",
       "      <td>1585270320030</td>\n",
       "      <td>1600169880008</td>\n",
       "      <td>feature</td>\n",
       "    </tr>\n",
       "    <tr>\n",
       "      <th>...</th>\n",
       "      <td>...</td>\n",
       "      <td>...</td>\n",
       "      <td>...</td>\n",
       "      <td>...</td>\n",
       "      <td>...</td>\n",
       "      <td>...</td>\n",
       "      <td>...</td>\n",
       "      <td>...</td>\n",
       "      <td>...</td>\n",
       "    </tr>\n",
       "    <tr>\n",
       "      <th>89995</th>\n",
       "      <td>[]</td>\n",
       "      <td>আদিবাসীদের জমিতে ইট কারখানা স্থাপন বন্ধের নির্দেশ</td>\n",
       "      <td>story</td>\n",
       "      <td>6de96aec-9b9f-4177-b3a7-fd728aa70205</td>\n",
       "      <td>https://www.prothomalo.com/bangladesh/আদিবাসীদ...</td>\n",
       "      <td>মধুপুর গড় এলাকার ইদিলপুরে আদিবাসীদের কৃষিজমিতে...</td>\n",
       "      <td>1588934990896</td>\n",
       "      <td>1600200490259</td>\n",
       "      <td>bangladesh</td>\n",
       "    </tr>\n",
       "    <tr>\n",
       "      <th>89996</th>\n",
       "      <td>[]</td>\n",
       "      <td>মহান শিক্ষা দিবসে সর্বজনীন শিক্ষাব্যবস্থার দাবি</td>\n",
       "      <td>story</td>\n",
       "      <td>6de2ea78-b363-4902-b245-4f41b9d08b65</td>\n",
       "      <td>https://www.prothomalo.com/bangladesh/মহান-শিক...</td>\n",
       "      <td>সর্বজনীন, বৈষম্যহীন, বিজ্ঞানভিত্তিক একই ধারার ...</td>\n",
       "      <td>1588934990544</td>\n",
       "      <td>1600200489944</td>\n",
       "      <td>bangladesh</td>\n",
       "    </tr>\n",
       "    <tr>\n",
       "      <th>89997</th>\n",
       "      <td>[]</td>\n",
       "      <td>উপজেলা পরিষদ কার্যালয়ে কর্মকর্তাবিহীন কার্যদিবস!</td>\n",
       "      <td>story</td>\n",
       "      <td>b13d9a3c-7ee2-4251-b61f-d020d788d76c</td>\n",
       "      <td>https://www.prothomalo.com/bangladesh/উপজেলা-প...</td>\n",
       "      <td>রোববার সকাল নয়টা ৩০ মিনিট! উপজেলা পরিষদে কোনো ...</td>\n",
       "      <td>1588934990161</td>\n",
       "      <td>1600200489614</td>\n",
       "      <td>bangladesh</td>\n",
       "    </tr>\n",
       "    <tr>\n",
       "      <th>89998</th>\n",
       "      <td>[]</td>\n",
       "      <td>ফেনীতে দুই মাদক ব্যবসায়ীকে দণ্ড</td>\n",
       "      <td>story</td>\n",
       "      <td>1fdf3e53-3e1e-49b8-a0b2-ceb408179e85</td>\n",
       "      <td>https://www.prothomalo.com/bangladesh/ফেনীতে-দ...</td>\n",
       "      <td>ফেনীতে গতকাল সোমবার দুই মাদক ব্যবসায়ীকে ভ্রাম্...</td>\n",
       "      <td>1588934989831</td>\n",
       "      <td>1600200489290</td>\n",
       "      <td>bangladesh</td>\n",
       "    </tr>\n",
       "    <tr>\n",
       "      <th>89999</th>\n",
       "      <td>[]</td>\n",
       "      <td>চট্টগ্রামে সড়ক দুর্ঘটনা একটি মৃত্যুকাহিনি</td>\n",
       "      <td>story</td>\n",
       "      <td>96a68692-7796-48a0-9dd2-3b192975055c</td>\n",
       "      <td>https://www.prothomalo.com/bangladesh/চট্টগ্রা...</td>\n",
       "      <td>সাবেক সাংসদ মো. ওবাইদুল হকের মৃত্যুর খবর শুনে ...</td>\n",
       "      <td>1588934989461</td>\n",
       "      <td>1600200488970</td>\n",
       "      <td>bangladesh</td>\n",
       "    </tr>\n",
       "  </tbody>\n",
       "</table>\n",
       "<p>90000 rows × 9 columns</p>\n",
       "</div>"
      ],
      "text/plain": [
       "      tags                                           headline content_type  \\\n",
       "0       []  পাইকারি বাজারে কমলেও খুচরা পর্যায়ে কমেনি পেঁয়া...        story   \n",
       "1       []                  মোড়কজাত মসলায় বেশি দাম রাখা হচ্ছে        story   \n",
       "2       []                                        লক্ষ্য করুন        story   \n",
       "3       []                                কোপেনিকের ক্যাপ্টেন        story   \n",
       "4       []              মঞ্চে রিপার্টরি থিয়েটারের আগ্রহ বাড়ছে        story   \n",
       "...    ...                                                ...          ...   \n",
       "89995   []  আদিবাসীদের জমিতে ইট কারখানা স্থাপন বন্ধের নির্দেশ        story   \n",
       "89996   []    মহান শিক্ষা দিবসে সর্বজনীন শিক্ষাব্যবস্থার দাবি        story   \n",
       "89997   []   উপজেলা পরিষদ কার্যালয়ে কর্মকর্তাবিহীন কার্যদিবস!        story   \n",
       "89998   []                    ফেনীতে দুই মাদক ব্যবসায়ীকে দণ্ড        story   \n",
       "89999   []          চট্টগ্রামে সড়ক দুর্ঘটনা একটি মৃত্যুকাহিনি        story   \n",
       "\n",
       "                                 content_id  \\\n",
       "0      80b2ef5e-70e7-4a4b-b1a4-81817e379cfa   \n",
       "1      4c255f46-8db9-48b1-abdf-6e66d5cb42e8   \n",
       "2      2e0e128a-2c12-45a8-b6af-6786979d3d8d   \n",
       "3      50862225-dd84-4c23-a06c-35f3e9c9edef   \n",
       "4      928f06c2-93d0-40d9-a487-d68bbb13a0a7   \n",
       "...                                     ...   \n",
       "89995  6de96aec-9b9f-4177-b3a7-fd728aa70205   \n",
       "89996  6de2ea78-b363-4902-b245-4f41b9d08b65   \n",
       "89997  b13d9a3c-7ee2-4251-b61f-d020d788d76c   \n",
       "89998  1fdf3e53-3e1e-49b8-a0b2-ceb408179e85   \n",
       "89999  96a68692-7796-48a0-9dd2-3b192975055c   \n",
       "\n",
       "                                                     url  \\\n",
       "0      https://www.prothomalo.com/business/পাইকারি-বা...   \n",
       "1      https://www.prothomalo.com/business/মোড়কজাত-মস...   \n",
       "2      https://www.prothomalo.com/feature/ananda/লক্ষ...   \n",
       "3      https://www.prothomalo.com/feature/ananda/কোপে...   \n",
       "4      https://www.prothomalo.com/feature/ananda/মঞ্চ...   \n",
       "...                                                  ...   \n",
       "89995  https://www.prothomalo.com/bangladesh/আদিবাসীদ...   \n",
       "89996  https://www.prothomalo.com/bangladesh/মহান-শিক...   \n",
       "89997  https://www.prothomalo.com/bangladesh/উপজেলা-প...   \n",
       "89998  https://www.prothomalo.com/bangladesh/ফেনীতে-দ...   \n",
       "89999  https://www.prothomalo.com/bangladesh/চট্টগ্রা...   \n",
       "\n",
       "                                                    body     added_time  \\\n",
       "0      ভারত পেঁয়াজ রপ্তানির ওপর নিষেধাজ্ঞা তুলে নেওয়া...  1585270322047   \n",
       "1      খোলা মসলার তুলনায় মোড়কজাত মসলার দাম যতটুকু বেশ...  1585270321806   \n",
       "2      গত সপ্তাহের আনন্দ পাতায় ‘একজন ছায়াবতী’ নাটকটির...  1585270320524   \n",
       "3      পাশের ছবিটি নাগরিক নাট্যসম্প্রদায়ের কোপেনিকের ...  1585270320284   \n",
       "4      বাংলা থিয়েটারের জয়জয়কার যেই পশ্চিমবঙ্গে এখনো স...  1585270320030   \n",
       "...                                                  ...            ...   \n",
       "89995  মধুপুর গড় এলাকার ইদিলপুরে আদিবাসীদের কৃষিজমিতে...  1588934990896   \n",
       "89996  সর্বজনীন, বৈষম্যহীন, বিজ্ঞানভিত্তিক একই ধারার ...  1588934990544   \n",
       "89997  রোববার সকাল নয়টা ৩০ মিনিট! উপজেলা পরিষদে কোনো ...  1588934990161   \n",
       "89998  ফেনীতে গতকাল সোমবার দুই মাদক ব্যবসায়ীকে ভ্রাম্...  1588934989831   \n",
       "89999  সাবেক সাংসদ মো. ওবাইদুল হকের মৃত্যুর খবর শুনে ...  1588934989461   \n",
       "\n",
       "        updated_time general_type  \n",
       "0      1600169881202     business  \n",
       "1      1600169880906     business  \n",
       "2      1600169880613      feature  \n",
       "3      1600169880323      feature  \n",
       "4      1600169880008      feature  \n",
       "...              ...          ...  \n",
       "89995  1600200490259   bangladesh  \n",
       "89996  1600200489944   bangladesh  \n",
       "89997  1600200489614   bangladesh  \n",
       "89998  1600200489290   bangladesh  \n",
       "89999  1600200488970   bangladesh  \n",
       "\n",
       "[90000 rows x 9 columns]"
      ]
     },
     "execution_count": 6,
     "metadata": {},
     "output_type": "execute_result"
    }
   ],
   "source": [
    "df['general_type'] = df['general_type'].str[0]\n",
    "df['body'] = df['body'].str[0].str.replace('<p>', '').replace('</p>', '')\n",
    "df"
   ]
  },
  {
   "cell_type": "code",
   "execution_count": 7,
   "id": "ade066de",
   "metadata": {
    "scrolled": true
   },
   "outputs": [
    {
     "data": {
      "text/html": [
       "<div>\n",
       "<style scoped>\n",
       "    .dataframe tbody tr th:only-of-type {\n",
       "        vertical-align: middle;\n",
       "    }\n",
       "\n",
       "    .dataframe tbody tr th {\n",
       "        vertical-align: top;\n",
       "    }\n",
       "\n",
       "    .dataframe thead th {\n",
       "        text-align: right;\n",
       "    }\n",
       "</style>\n",
       "<table border=\"1\" class=\"dataframe\">\n",
       "  <thead>\n",
       "    <tr style=\"text-align: right;\">\n",
       "      <th></th>\n",
       "      <th>general_type</th>\n",
       "      <th>body</th>\n",
       "    </tr>\n",
       "  </thead>\n",
       "  <tbody>\n",
       "    <tr>\n",
       "      <th>0</th>\n",
       "      <td>business</td>\n",
       "      <td>ভারত পেঁয়াজ রপ্তানির ওপর নিষেধাজ্ঞা তুলে নেওয়া...</td>\n",
       "    </tr>\n",
       "    <tr>\n",
       "      <th>1</th>\n",
       "      <td>business</td>\n",
       "      <td>খোলা মসলার তুলনায় মোড়কজাত মসলার দাম যতটুকু বেশ...</td>\n",
       "    </tr>\n",
       "    <tr>\n",
       "      <th>2</th>\n",
       "      <td>feature</td>\n",
       "      <td>গত সপ্তাহের আনন্দ পাতায় ‘একজন ছায়াবতী’ নাটকটির...</td>\n",
       "    </tr>\n",
       "    <tr>\n",
       "      <th>3</th>\n",
       "      <td>feature</td>\n",
       "      <td>পাশের ছবিটি নাগরিক নাট্যসম্প্রদায়ের কোপেনিকের ...</td>\n",
       "    </tr>\n",
       "    <tr>\n",
       "      <th>4</th>\n",
       "      <td>feature</td>\n",
       "      <td>বাংলা থিয়েটারের জয়জয়কার যেই পশ্চিমবঙ্গে এখনো স...</td>\n",
       "    </tr>\n",
       "    <tr>\n",
       "      <th>...</th>\n",
       "      <td>...</td>\n",
       "      <td>...</td>\n",
       "    </tr>\n",
       "    <tr>\n",
       "      <th>89995</th>\n",
       "      <td>bangladesh</td>\n",
       "      <td>মধুপুর গড় এলাকার ইদিলপুরে আদিবাসীদের কৃষিজমিতে...</td>\n",
       "    </tr>\n",
       "    <tr>\n",
       "      <th>89996</th>\n",
       "      <td>bangladesh</td>\n",
       "      <td>সর্বজনীন, বৈষম্যহীন, বিজ্ঞানভিত্তিক একই ধারার ...</td>\n",
       "    </tr>\n",
       "    <tr>\n",
       "      <th>89997</th>\n",
       "      <td>bangladesh</td>\n",
       "      <td>রোববার সকাল নয়টা ৩০ মিনিট! উপজেলা পরিষদে কোনো ...</td>\n",
       "    </tr>\n",
       "    <tr>\n",
       "      <th>89998</th>\n",
       "      <td>bangladesh</td>\n",
       "      <td>ফেনীতে গতকাল সোমবার দুই মাদক ব্যবসায়ীকে ভ্রাম্...</td>\n",
       "    </tr>\n",
       "    <tr>\n",
       "      <th>89999</th>\n",
       "      <td>bangladesh</td>\n",
       "      <td>সাবেক সাংসদ মো. ওবাইদুল হকের মৃত্যুর খবর শুনে ...</td>\n",
       "    </tr>\n",
       "  </tbody>\n",
       "</table>\n",
       "<p>90000 rows × 2 columns</p>\n",
       "</div>"
      ],
      "text/plain": [
       "      general_type                                               body\n",
       "0         business  ভারত পেঁয়াজ রপ্তানির ওপর নিষেধাজ্ঞা তুলে নেওয়া...\n",
       "1         business  খোলা মসলার তুলনায় মোড়কজাত মসলার দাম যতটুকু বেশ...\n",
       "2          feature  গত সপ্তাহের আনন্দ পাতায় ‘একজন ছায়াবতী’ নাটকটির...\n",
       "3          feature  পাশের ছবিটি নাগরিক নাট্যসম্প্রদায়ের কোপেনিকের ...\n",
       "4          feature  বাংলা থিয়েটারের জয়জয়কার যেই পশ্চিমবঙ্গে এখনো স...\n",
       "...            ...                                                ...\n",
       "89995   bangladesh  মধুপুর গড় এলাকার ইদিলপুরে আদিবাসীদের কৃষিজমিতে...\n",
       "89996   bangladesh  সর্বজনীন, বৈষম্যহীন, বিজ্ঞানভিত্তিক একই ধারার ...\n",
       "89997   bangladesh  রোববার সকাল নয়টা ৩০ মিনিট! উপজেলা পরিষদে কোনো ...\n",
       "89998   bangladesh  ফেনীতে গতকাল সোমবার দুই মাদক ব্যবসায়ীকে ভ্রাম্...\n",
       "89999   bangladesh  সাবেক সাংসদ মো. ওবাইদুল হকের মৃত্যুর খবর শুনে ...\n",
       "\n",
       "[90000 rows x 2 columns]"
      ]
     },
     "execution_count": 7,
     "metadata": {},
     "output_type": "execute_result"
    }
   ],
   "source": [
    "df = df[['general_type', 'body']]\n",
    "df"
   ]
  },
  {
   "cell_type": "code",
   "execution_count": 8,
   "id": "05329400",
   "metadata": {
    "scrolled": true
   },
   "outputs": [
    {
     "name": "stderr",
     "output_type": "stream",
     "text": [
      "C:\\Users\\SSROY\\AppData\\Local\\Temp\\ipykernel_11888\\3287021994.py:1: SettingWithCopyWarning: \n",
      "A value is trying to be set on a copy of a slice from a DataFrame\n",
      "\n",
      "See the caveats in the documentation: https://pandas.pydata.org/pandas-docs/stable/user_guide/indexing.html#returning-a-view-versus-a-copy\n",
      "  df.dropna(inplace=True)\n",
      "C:\\Users\\SSROY\\AppData\\Local\\Temp\\ipykernel_11888\\3287021994.py:3: SettingWithCopyWarning: \n",
      "A value is trying to be set on a copy of a slice from a DataFrame\n",
      "\n",
      "See the caveats in the documentation: https://pandas.pydata.org/pandas-docs/stable/user_guide/indexing.html#returning-a-view-versus-a-copy\n",
      "  df.drop_duplicates(subset='body', keep='first',inplace=True)\n"
     ]
    },
    {
     "data": {
      "text/plain": [
       "(  general_type                                               body\n",
       " 0     business  ভারত পেঁয়াজ রপ্তানির ওপর নিষেধাজ্ঞা তুলে নেওয়া...\n",
       " 1     business  খোলা মসলার তুলনায় মোড়কজাত মসলার দাম যতটুকু বেশ...\n",
       " 2      feature  গত সপ্তাহের আনন্দ পাতায় ‘একজন ছায়াবতী’ নাটকটির...\n",
       " 3      feature  পাশের ছবিটি নাগরিক নাট্যসম্প্রদায়ের কোপেনিকের ...\n",
       " 4      feature  বাংলা থিয়েটারের জয়জয়কার যেই পশ্চিমবঙ্গে এখনো স...,\n",
       " (88499, 2))"
      ]
     },
     "execution_count": 8,
     "metadata": {},
     "output_type": "execute_result"
    }
   ],
   "source": [
    "df.dropna(inplace=True)\n",
    "# Remove duplicates in 'body' column, keeping the first occurrence\n",
    "df.drop_duplicates(subset='body', keep='first',inplace=True)\n",
    "df.reset_index(inplace=True, drop=True)\n",
    "df.head(), df.shape"
   ]
  },
  {
   "cell_type": "code",
   "execution_count": 9,
   "id": "4b3aff87",
   "metadata": {},
   "outputs": [
    {
     "data": {
      "text/plain": [
       "(88499, 11)"
      ]
     },
     "execution_count": 9,
     "metadata": {},
     "output_type": "execute_result"
    }
   ],
   "source": [
    "n = len(df['body'].unique())\n",
    "unique_label = len(df['general_type'].unique())\n",
    "n,unique_label"
   ]
  },
  {
   "cell_type": "code",
   "execution_count": 10,
   "id": "22cc4654",
   "metadata": {
    "scrolled": true
   },
   "outputs": [
    {
     "data": {
      "text/plain": [
       "array(['business', 'feature', 'sports', 'bangladesh', 'education',\n",
       "       'old-prothomalo', 'entertainment', 'opinion', 'world', 'onnoalo',\n",
       "       'life'], dtype=object)"
      ]
     },
     "execution_count": 10,
     "metadata": {},
     "output_type": "execute_result"
    }
   ],
   "source": [
    "df['general_type'].unique()"
   ]
  },
  {
   "cell_type": "code",
   "execution_count": 11,
   "id": "2b31051c",
   "metadata": {},
   "outputs": [],
   "source": [
    "# df = df.sample(m, replace=False)\n",
    "# df.reset_index(inplace=True)\n",
    "# # df.drop(['level_0', 'index'], inplace = True)\n",
    "# df"
   ]
  },
  {
   "cell_type": "code",
   "execution_count": 12,
   "id": "7f8bfb89",
   "metadata": {},
   "outputs": [
    {
     "name": "stdout",
     "output_type": "stream",
     "text": [
      "ভারত পেঁয়াজ রপ্তানির ওপর নিষেধাজ্ঞা তুলে নেওয়ায় দেশের পাইকারি বাজারে সব ধরনের পেঁয়াজের দাম কমে এসেছে। কিন্তু খুচরা বিক্রেতারা এখনো পেঁয়াজ বিক্রি করছেন চড়া দামে।রাজধানীর কয়েকটি কাঁচাবাজারে গতকাল বুধবার দেশি পেঁয়াজ ৪০ এবং আমদানি করা ভারতীয় পেঁয়াজ ৩৫ থেকে ৩৬ টাকায় বিক্রি হতে দেখা গেছে।ভারতের কৃষকদের বিক্ষোভ ও দাবির মুখে গত মঙ্গলবার সেই দেশের সরকার পেঁয়াজ রপ্তানির ওপর নিষেধাজ্ঞা তুলে নেয়। এর আগে ৯ সেপ্টেম্বর ভারত পেঁয়াজ রপ্তানি বন্ধ করে, যে কারণে ভারতে পেঁয়াজের দাম কমে যায়। প্রতি কুইন্টাল (১০০ কেজি) পেঁয়াজের দাম এক হাজার রুপি থেকে কমে ৪০০ রুপিতে নেমে আসে।ভারত রপ্তানি নিষেধাজ্ঞা আরোপের পর ঢাকায় পেঁয়াজের সবচেয়ে বড় পাইকারি বাজার শ্যামবাজারে পাইকারি দর দাঁড়ায় প্রতি কেজি দেশি পেঁয়াজ ৩৬ থেকে ৩৭ টাকা এবং ভারতীয় পেঁয়াজ ৩৫ থেকে ৩৬ টাকায়।তবে নিষেধাজ্ঞা প্রত্যাহারের পর গতকাল শ্যামবাজারে প্রতি কেজি দেশি পেঁয়াজ ৩০ থেকে ৩২ টাকা এবং ভারতীয় পেঁয়াজ ২৭ থেকে ২৮ টাকায় বিক্রি হয়েছে। পেঁয়াজ আমদানিকারক ও শ্যামবাজারের পাইকারি ব্যবসায়ী রতন সাহা বলেন, রপ্তানি নিষেধাজ্ঞা তুলে নিলেও দাম তেমন কমবে না। কারণএর আগেই ভারত পেঁয়াজের রপ্তানিমূল্য বাড়িয়ে টনপ্রতি ৪৭৫ ডলার করেছিল।</p>\n"
     ]
    }
   ],
   "source": [
    "# Print the content of the first 'body' entry\n",
    "first_body_content = df.loc[0, 'body']\n",
    "print(first_body_content)"
   ]
  },
  {
   "cell_type": "code",
   "execution_count": 13,
   "id": "b724eea7",
   "metadata": {
    "scrolled": false
   },
   "outputs": [
    {
     "data": {
      "text/plain": [
       "bangladesh        30779\n",
       "old-prothomalo    21794\n",
       "sports             8750\n",
       "feature            7104\n",
       "education          5293\n",
       "world              4763\n",
       "business           3752\n",
       "opinion            3069\n",
       "entertainment      2478\n",
       "onnoalo             692\n",
       "life                 25\n",
       "Name: general_type, dtype: int64"
      ]
     },
     "execution_count": 13,
     "metadata": {},
     "output_type": "execute_result"
    }
   ],
   "source": [
    "gen_type_counts = df['general_type'].value_counts()\n",
    "gen_type_counts"
   ]
  },
  {
   "cell_type": "code",
   "execution_count": 15,
   "id": "cee3d341",
   "metadata": {},
   "outputs": [
    {
     "name": "stdout",
     "output_type": "stream",
     "text": [
      "3\n",
      "Randomly selected gen_type values:\n",
      "['onnoalo' 'world' 'opinion']\n"
     ]
    }
   ],
   "source": [
    "import random\n",
    "# Filter gen_type values based on count criteria\n",
    "filtered_gen_types = gen_type_counts[(gen_type_counts > 500) & (gen_type_counts < 5000)]\n",
    "\n",
    "random_classes_number = random.randint(3, 6)\n",
    "print(random_classes_number)\n",
    "# Ensure we have at least 5 gen_type values that meet the criteria\n",
    "if len(filtered_gen_types) >= random_classes_number:\n",
    "    # Randomly select 5 gen_type values from the filtered list\n",
    "    random_gen_types = np.random.choice(filtered_gen_types.index, random_classes_number, replace=False)\n",
    "    print(\"Randomly selected gen_type values:\")\n",
    "    print(random_gen_types)\n",
    "else:\n",
    "    print(\"Not enough gen_type values meeting the criteria.\")"
   ]
  },
  {
   "cell_type": "code",
   "execution_count": 16,
   "id": "776a6376",
   "metadata": {},
   "outputs": [
    {
     "data": {
      "text/html": [
       "<div>\n",
       "<style scoped>\n",
       "    .dataframe tbody tr th:only-of-type {\n",
       "        vertical-align: middle;\n",
       "    }\n",
       "\n",
       "    .dataframe tbody tr th {\n",
       "        vertical-align: top;\n",
       "    }\n",
       "\n",
       "    .dataframe thead th {\n",
       "        text-align: right;\n",
       "    }\n",
       "</style>\n",
       "<table border=\"1\" class=\"dataframe\">\n",
       "  <thead>\n",
       "    <tr style=\"text-align: right;\">\n",
       "      <th></th>\n",
       "      <th>general_type</th>\n",
       "      <th>body</th>\n",
       "    </tr>\n",
       "  </thead>\n",
       "  <tbody>\n",
       "    <tr>\n",
       "      <th>0</th>\n",
       "      <td>opinion</td>\n",
       "      <td>এক দিন আগেই লিখছি মার্সেল মার্সোকে নিয়ে। কাল আ...</td>\n",
       "    </tr>\n",
       "    <tr>\n",
       "      <th>1</th>\n",
       "      <td>opinion</td>\n",
       "      <td>এখন অভিযুক্ত ব্যক্তিরা বলছেন, উইকিলিকসে তাঁদের...</td>\n",
       "    </tr>\n",
       "    <tr>\n",
       "      <th>2</th>\n",
       "      <td>world</td>\n",
       "      <td>চীনে ভারী বৃষ্টিপাত থেকে সৃষ্ট বন্যা ও ভূমিধসে...</td>\n",
       "    </tr>\n",
       "    <tr>\n",
       "      <th>3</th>\n",
       "      <td>world</td>\n",
       "      <td>জাপানের শীর্ষস্থানীয় অস্ত্রনির্মাতা প্রতিষ্ঠান...</td>\n",
       "    </tr>\n",
       "    <tr>\n",
       "      <th>4</th>\n",
       "      <td>world</td>\n",
       "      <td>মিয়ানমারের সেনাসমর্থিত সরকারকে সংবাদ নিয়ন্ত্রণ...</td>\n",
       "    </tr>\n",
       "    <tr>\n",
       "      <th>...</th>\n",
       "      <td>...</td>\n",
       "      <td>...</td>\n",
       "    </tr>\n",
       "    <tr>\n",
       "      <th>8519</th>\n",
       "      <td>opinion</td>\n",
       "      <td>কর্মচারী প্রতিনিধিগণপ্রজাতন্ত্রী বাংলাদেশ সরকা...</td>\n",
       "    </tr>\n",
       "    <tr>\n",
       "      <th>8520</th>\n",
       "      <td>opinion</td>\n",
       "      <td>শেষ হলো প্যারালিম্পিক ২০১২। টিকিট বিক্রি হয়েছে...</td>\n",
       "    </tr>\n",
       "    <tr>\n",
       "      <th>8521</th>\n",
       "      <td>opinion</td>\n",
       "      <td>সাংবাদিক সমাজ যখন সাগর-রুনি হত্যাকারীদের বিচার...</td>\n",
       "    </tr>\n",
       "    <tr>\n",
       "      <th>8522</th>\n",
       "      <td>opinion</td>\n",
       "      <td>ডিমের দাম বাড়তির মুখে আমদানি উন্মুক্ত করে দিয়ে...</td>\n",
       "    </tr>\n",
       "    <tr>\n",
       "      <th>8523</th>\n",
       "      <td>world</td>\n",
       "      <td>মিয়ানমার সরকার সে দেশের বিভিন্ন কারাগারে থাকা ...</td>\n",
       "    </tr>\n",
       "  </tbody>\n",
       "</table>\n",
       "<p>8524 rows × 2 columns</p>\n",
       "</div>"
      ],
      "text/plain": [
       "     general_type                                               body\n",
       "0         opinion  এক দিন আগেই লিখছি মার্সেল মার্সোকে নিয়ে। কাল আ...\n",
       "1         opinion  এখন অভিযুক্ত ব্যক্তিরা বলছেন, উইকিলিকসে তাঁদের...\n",
       "2           world  চীনে ভারী বৃষ্টিপাত থেকে সৃষ্ট বন্যা ও ভূমিধসে...\n",
       "3           world  জাপানের শীর্ষস্থানীয় অস্ত্রনির্মাতা প্রতিষ্ঠান...\n",
       "4           world  মিয়ানমারের সেনাসমর্থিত সরকারকে সংবাদ নিয়ন্ত্রণ...\n",
       "...           ...                                                ...\n",
       "8519      opinion  কর্মচারী প্রতিনিধিগণপ্রজাতন্ত্রী বাংলাদেশ সরকা...\n",
       "8520      opinion  শেষ হলো প্যারালিম্পিক ২০১২। টিকিট বিক্রি হয়েছে...\n",
       "8521      opinion  সাংবাদিক সমাজ যখন সাগর-রুনি হত্যাকারীদের বিচার...\n",
       "8522      opinion  ডিমের দাম বাড়তির মুখে আমদানি উন্মুক্ত করে দিয়ে...\n",
       "8523        world  মিয়ানমার সরকার সে দেশের বিভিন্ন কারাগারে থাকা ...\n",
       "\n",
       "[8524 rows x 2 columns]"
      ]
     },
     "execution_count": 16,
     "metadata": {},
     "output_type": "execute_result"
    }
   ],
   "source": [
    "# Create a list of specific categories\n",
    "categories = random_gen_types\n",
    "\n",
    "# Use boolean indexing to filter rows based on the 'Section' column\n",
    "df = df[df['general_type'].isin(categories)]\n",
    "df.reset_index(inplace=True, drop=True)\n",
    "# Print the new DataFrame\n",
    "df"
   ]
  },
  {
   "cell_type": "code",
   "execution_count": 17,
   "id": "a5b6f13c",
   "metadata": {},
   "outputs": [
    {
     "data": {
      "text/plain": [
       "world      4763\n",
       "opinion    3069\n",
       "onnoalo     692\n",
       "Name: general_type, dtype: int64"
      ]
     },
     "execution_count": 17,
     "metadata": {},
     "output_type": "execute_result"
    }
   ],
   "source": [
    "df['general_type'].value_counts()"
   ]
  },
  {
   "cell_type": "code",
   "execution_count": 18,
   "id": "84e69534",
   "metadata": {
    "scrolled": true
   },
   "outputs": [
    {
     "data": {
      "text/plain": [
       "8524"
      ]
     },
     "execution_count": 18,
     "metadata": {},
     "output_type": "execute_result"
    }
   ],
   "source": [
    "each_class= df['general_type'].value_counts()\n",
    "each_class.sum()"
   ]
  },
  {
   "cell_type": "code",
   "execution_count": 19,
   "id": "32b8826c",
   "metadata": {},
   "outputs": [
    {
     "data": {
      "text/plain": [
       "<Axes: >"
      ]
     },
     "execution_count": 19,
     "metadata": {},
     "output_type": "execute_result"
    },
    {
     "data": {
      "image/png": "[encoded data removed]",
      "text/plain": [
       "<Figure size 640x480 with 1 Axes>"
      ]
     },
     "metadata": {},
     "output_type": "display_data"
    }
   ],
   "source": [
    "each_class.plot.bar()"
   ]
  },
  {
   "cell_type": "code",
   "execution_count": 20,
   "id": "5d0dcefd",
   "metadata": {},
   "outputs": [
    {
     "data": {
      "text/plain": [
       "(0       এক দিন আগেই লিখছি মার্সেল মার্সোকে নিয়ে। কাল আ...\n",
       " 1       এখন অভিযুক্ত ব্যক্তিরা বলছেন, উইকিলিকসে তাঁদের...\n",
       " 2       চীনে ভারী বৃষ্টিপাত থেকে সৃষ্ট বন্যা ও ভূমিধসে...\n",
       " 3       জাপানের শীর্ষস্থানীয় অস্ত্রনির্মাতা প্রতিষ্ঠান...\n",
       " 4       মিয়ানমারের সেনাসমর্থিত সরকারকে সংবাদ নিয়ন্ত্রণ...\n",
       "                               ...                        \n",
       " 8519    কর্মচারী প্রতিনিধিগণপ্রজাতন্ত্রী বাংলাদেশ সরকা...\n",
       " 8520    শেষ হলো প্যারালিম্পিক ২০১২। টিকিট বিক্রি হয়েছে...\n",
       " 8521    সাংবাদিক সমাজ যখন সাগর-রুনি হত্যাকারীদের বিচার...\n",
       " 8522    ডিমের দাম বাড়তির মুখে আমদানি উন্মুক্ত করে দিয়ে...\n",
       " 8523    মিয়ানমার সরকার সে দেশের বিভিন্ন কারাগারে থাকা ...\n",
       " Name: body, Length: 8524, dtype: object,\n",
       " 0       opinion\n",
       " 1       opinion\n",
       " 2         world\n",
       " 3         world\n",
       " 4         world\n",
       "          ...   \n",
       " 8519    opinion\n",
       " 8520    opinion\n",
       " 8521    opinion\n",
       " 8522    opinion\n",
       " 8523      world\n",
       " Name: general_type, Length: 8524, dtype: object)"
      ]
     },
     "execution_count": 20,
     "metadata": {},
     "output_type": "execute_result"
    }
   ],
   "source": [
    "X = df['body']\n",
    "y=df['general_type']\n",
    "X,y"
   ]
  },
  {
   "cell_type": "code",
   "execution_count": 21,
   "id": "8d15beb3",
   "metadata": {},
   "outputs": [
    {
     "data": {
      "text/plain": [
       "(['opinion', 'world', 'onnoalo'],\n",
       " general_type       3\n",
       " body            8524\n",
       " dtype: int64)"
      ]
     },
     "execution_count": 21,
     "metadata": {},
     "output_type": "execute_result"
    }
   ],
   "source": [
    "## Get the Dependent features\n",
    "classes = list(y.unique())\n",
    "classes, df.nunique()"
   ]
  },
  {
   "cell_type": "code",
   "execution_count": 22,
   "id": "dc506bc3",
   "metadata": {},
   "outputs": [
    {
     "data": {
      "text/plain": [
       "(array([1, 1, 2, ..., 1, 1, 2]), 8524)"
      ]
     },
     "execution_count": 22,
     "metadata": {},
     "output_type": "execute_result"
    }
   ],
   "source": [
    "from sklearn.preprocessing import LabelEncoder\n",
    "y = LabelEncoder().fit_transform(y)\n",
    "y, len(y)"
   ]
  },
  {
   "cell_type": "code",
   "execution_count": 23,
   "id": "27515526",
   "metadata": {},
   "outputs": [
    {
     "name": "stdout",
     "output_type": "stream",
     "text": [
      "[0 1 2] [ 692 3069 4763]\n"
     ]
    }
   ],
   "source": [
    "import numpy as np\n",
    "unique_values, counts = np.unique(y, return_counts=True)\n",
    "print(unique_values, counts)"
   ]
  },
  {
   "cell_type": "code",
   "execution_count": 24,
   "id": "cef16d60",
   "metadata": {},
   "outputs": [
    {
     "data": {
      "text/plain": [
       "732"
      ]
     },
     "execution_count": 24,
     "metadata": {},
     "output_type": "execute_result"
    }
   ],
   "source": [
    "import re\n",
    "from temp_stemmer.bangla_stemmer.stemmer.stemmer import BanglaStemmer  # for stemming \n",
    "st_words = ('অই', 'অগত্যা', 'অত: পর', 'অতএব', 'অথচ', 'অথবা', 'অধিক', 'অধীনে', 'অধ্যায়', 'অনুগ্রহ', 'অনুভূত', 'অনুযায়ী', 'অনুরূপ', 'অনুসন্ধান', 'অনুসরণ', 'অনুসারে', 'অনুসৃত', 'অনেক', 'অনেকে', 'অনেকেই', 'অন্তত', 'অন্য', 'অন্যত্র', 'অন্যভাবে', 'অন্যান্য', 'অপেক্ষাকৃতভাবে', 'অবধি', 'অবশ্য', 'অবশ্যই', 'অবস্থা', 'অবিলম্বে', 'অভ্যন্তরস্থ', 'অর্জিত', 'অর্থাত', 'অসদৃশ', 'অসম্ভাব্য', 'আইন', 'আউট', 'আক্রান্ত', 'আগামী', 'আগে', 'আগেই', 'আগ্রহী', 'আছে', 'আজ', 'আট', 'আদেশ', 'আদ্যভাগে', 'আন্দাজ', 'আপনার', 'আপনি', 'আবার', 'আমরা', 'আমাকে', 'আমাদিগের', 'আমাদের', 'আমার', 'আমি', 'আর', 'আরও', 'আশি', 'আশু', 'আসা', 'আসে', 'ই', 'ইচ্ছা', 'ইচ্ছাপূর্বক', 'ইতিমধ্যে', 'ইতোমধ্যে', 'ইত্যাদি', 'ইশারা', 'ইহা', 'ইহাতে', 'উক্তি', 'উচিত', 'উচ্চ', 'উঠা', 'উত্তম', 'উত্তর', 'উনি', 'উপর', 'উপরে', 'উপলব্ধ', 'উপায়', 'উভয়', 'উল্লেখ', 'উল্লেখযোগ্যভাবে', 'উহার', 'ঊর্ধ্বতন', 'এ', 'এপর্যন্ত', 'এঁদের', 'এঁরা', 'এই', 'এইগুলো', 'এইভাবে', 'এক', 'একই', 'একটি', 'একদা', 'একবার', 'একভাবে', 'একরকম', 'একসঙ্গে', 'একা', 'একে', 'এক্', 'এখন', 'এখনও', 'এখনো', 'এখানে', 'এখানেই', 'এছাড়াও', 'এটা', 'এটাই', 'এটি', 'এত', 'এতটাই', 'এতদ্বারা', 'এতে', 'এদিকে', 'এদের', 'এপর্যন্ত', 'এবং', 'এবার', 'এমন', 'এমনকি', 'এমনকী', 'এমনি', 'এর', 'এরকম', 'এরা', 'এল', 'এলাকায়', 'এলাকার', 'এস', 'এসে', 'ঐ', 'ও', 'ওঁদের', 'ওঁর', 'ওঁরা', 'ওই', 'ওকে', 'ওখানে', 'ওদের', 'ওর', 'ওরা', 'ওহে', 'কক্ষ', 'কখন', 'কখনও', 'কত', 'কবে', 'কম', 'কমনে', 'কয়েক', 'কয়েকটি', 'করছে', 'করছেন', 'করতে', 'করবে', 'করবেন', 'করলে', 'করলেন', 'করলো', 'করা', 'করাই', 'করাত', 'করার', 'করায়', 'করি', 'করিতে', 'করিয়া', 'করিয়ে', 'করে', 'করেই', 'করেছিল', 'করেছিলেন', 'করেছে', 'করেছেন', 'করেন', 'কর্তব্য', 'কাউকে', 'কাছ', 'কাছাকাছি', 'কাছে', 'কাজ', 'কাজে', 'কারও', 'কারণ', 'কারণসমূহ', 'কারো', 'কি', 'কিংবা', 'কিছু', 'কিছুই', 'কিছুটা', 'কিছুনা', 'কিনা', 'কিন্তু', 'কিভাবে', 'কী', 'কূপ', 'কে', 'কেউ', 'কেউই', 'কেউনা', 'কেখা', 'কেন', 'কেবল', 'কেবা', 'কেস', 'কেহ', 'কোটি', 'কোথা', 'কোথাও', 'কোথায়', 'কোন', 'কোনও', 'কোনো', 'ক্রম', 'ক্ষেত্রে', 'কয়েক', 'কয়েকটি', 'খুঁজছেন', 'খুব', 'খোলা', 'খোলে', 'গড়', 'গত', 'গিয়ে', 'গিয়েছিলাম', 'গিয়েছে', 'গিয়ে', 'গিয়েছে', 'গুরুত্ব', 'গুলি', 'গেছে', 'গেল', 'গেলে', 'গোটা', 'গোষ্ঠীবদ্ধ', 'গ্রহণ', 'গ্রুপ', 'ঘর', 'ঘোষণা', 'চলে', 'চান', 'চায়', 'চার', 'চালা', 'চালান', 'চালু', 'চায়', 'চেয়ে', 'চেয়েছিলেন', 'চেষ্টা', 'চেয়ে', 'ছয়', 'ছাড়া', 'ছাড়াছাড়ি', 'ছাড়া', 'ছাড়াও', 'ছিল', 'ছিলেন', 'ছোট', 'জন', 'জনকে', 'জনাব', 'জনাবা', 'জনের', 'জন্য', 'জানতাম', 'জানতে', 'জানা', 'জানানো', 'জানায়', 'জানিয়ে', 'জানিয়েছে', 'জানে', 'জায়গা', 'জিজ্ঞাসা', 'জিজ্ঞেস', 'জিনিস', 'জে', 'জ্নজন', 'টা', 'টি', 'ঠিক', 'ঠিকআছে', 'ডগা', 'তখন', 'তত', 'তত্কারণে', 'তত্প্রতি', 'তথা', 'তদনুসারে', 'তদ্ব্যতীত', 'তন্নতন্ন', 'তবু', 'তবে', 'তরুণ', 'তা', 'তাঁকে', 'তাঁদের', 'তাঁর', 'তাঁরা', 'তাঁহারা', 'তাই', 'তাও', 'তাকে', 'তাতে', 'তাদের', 'তার', 'তারপর', 'তারপরেও', 'তারা', 'তারিখ', 'তারৈ', 'তাহলে', 'তাহা', 'তাহাতে', 'তাহাদিগকে', 'তাহাদেরই', 'তাহার', 'তিন', 'তিনি', 'তিনিও', 'তীক্ষ্ন', 'তুমি', 'তুলে', 'তেমন', 'তৈরীর', 'তো', 'তোমার', 'তোলে', 'থাকবে', 'থাকবেন', 'থাকা', 'থাকায়', 'থাকায়', 'থাকে', 'থাকেন', 'থেকে', 'থেকেই', 'থেকেও', 'দরকারী', 'দলবদ্ধ', 'দান', 'দিকে', 'দিতে', 'দিন', 'দিয়ে', 'দিয়েছে', 'দিয়েছেন', 'দিলেন', 'দিয়ে', 'দিয়েছে', 'দিয়েছেন', 'দু', 'দুই', 'দুটি', 'দুটো', 'দূরে', 'দেওয়ার', 'দেওয়া', 'দেওয়ার', 'দেখতে', 'দেখা', 'দেখাচ্ছে', 'দেখিয়েছেন', 'দেখে', 'দেখেন', 'দেন', 'দেয়', 'দেয়', 'দ্বারা', 'দ্বিগুণ', 'দ্বিতীয়', 'দ্য', 'ধরা', 'ধরে', 'ধামার', 'নতুন', 'নব্বই', 'নয়', 'নাই', 'নাকি', 'নাগাদ', 'নানা', 'নাম', 'নিচে', 'নিছক', 'নিজে', 'নিজেই', 'নিজেকে', 'নিজেদের', 'নিজেদেরকে', 'নিজের', 'নিতে', 'নিদিষ্ট', 'নিম্নাভিমুখে', 'নিয়ে', 'নির্দিষ্ট', 'নির্বিশেষে', 'নিশ্চিত', 'নিয়ে', 'নেই', 'নেওয়ার', 'নেওয়া', 'নেয়ার', 'নয়', 'পক্ষই', 'পক্ষে', 'পঞ্চম', 'পড়া', 'পণ্য', 'পথ', 'পয়েন্ট', 'পর', 'পরন্তু', 'পরবর্তী', 'পরিণত', 'পরিবর্তে', 'পরে', 'পরেই', 'পরেও', 'পর্যন্ত', 'পর্যাপ্ত', 'পাঁচ', 'পাওয়া', 'পাচ', 'পায়', 'পারা', 'পারি', 'পারিনি', 'পারে', 'পারেন', 'পালা', 'পাশ', 'পাশে', 'পিছনে', 'পিঠের', 'পুরোনো', 'পুরোপুরি', 'পূর্বে', 'পৃষ্ঠা', 'পৃষ্ঠাগুলি', 'পেছনে', 'পেয়েছেন', 'পেয়ে', 'পেয়্র্', 'প্রকৃতপক্ষে', 'প্রণীত', 'প্রতি', 'প্রথম', 'প্রদত্ত', 'প্রদর্শনী', 'প্রদর্শিত', 'প্রধানত', 'প্রবলভাবে', 'প্রভৃতি', 'প্রমাণীকরণ', 'প্রযন্ত', 'প্রয়োজন', 'প্রয়োজনীয়', 'প্রসূত', 'প্রাক্তন', 'প্রাথমিক', 'প্রাথমিকভাবে', 'প্রান্ত', 'প্রাপ্ত', 'প্রায়', 'প্রায়ই', 'প্রায়', 'ফলাফল', 'ফলে', 'ফিক্স', 'ফিরে', 'ফের', 'বক্তব্য', 'বছর', 'বড়', 'বদলে', 'বন', 'বন্ধ', 'বরং', 'বরাবর', 'বর্ণন', 'বর্তমান', 'বলতে', 'বলল', 'বললেন', 'বলা', 'বলে', 'বলেছেন', 'বলেন', 'বসে', 'বহু', 'বা', 'বাঁক', 'বাইরে', 'বাকি', 'বাড়ি', 'বাতিক', 'বাদ', 'বাদে', 'বার', 'বাহিরে', 'বিনা', 'বিন্দু', 'বিভিন্ন', 'বিশেষ', 'বিশেষণ', 'বিশেষত', 'বিশেষভাবে', 'বিশ্ব', 'বিষয়টি', 'বুঝিয়ে', 'বৃহত্তর', 'বের', 'বেশ', 'বেশি', 'বেশী', 'ব্যতীত', 'ব্যবহার', 'ব্যবহারসমূহ', 'ব্যবহৃত', 'ব্যাক', 'ব্যাপকভাবে', 'ব্যাপারে', 'ভবিষ্যতে', 'ভান', 'ভাবে', 'ভাবেই', 'ভাল', 'ভিতরে', 'ভিন্ন', 'ভিন্নভাবে', 'মত', 'মতো', 'মতোই', 'মধ্যভাগে', 'মধ্যে', 'মধ্যেই', 'মধ্যেও', 'মনে', 'মনে হয়', 'মস্ত', 'মহান', 'মাত্র', 'মাধ্যম', 'মাধ্যমে', 'মান', 'মানানসই', 'মানুষ', 'মানে', 'মামলা', 'মিলিয়ন', 'মুখ', 'মূলত', 'মোট', 'মোটেই', 'যখন', 'যখনই', 'যত', 'যতটা', 'যথা', 'যথাক্রমে', 'যথেষ্ট', 'যদি', 'যদিও', 'যন্ত্রাংশ', 'যা', 'যাঁর', 'যাঁরা', 'যাই', 'যাওয়া', 'যাওয়ার', 'যাওয়া', 'যাওয়ার', 'যাকে', 'যাচ্ছে', 'যাতে', 'যাদের', 'যান', 'যাবে', 'যায়', 'যার', 'যারা', 'যাহার', 'যাহোক', 'যিনি', 'যে', 'যেখানে', 'যেখানেই', 'যেটি', 'যেতে', 'যেন', 'যেমন', 'যেহেতু', 'যোগ', 'রকম', 'রয়েছে', 'রাখা', 'রাখে', 'রাজী', 'রাজ্যের', 'রেখে', 'রয়েছে', 'লক্ষ', 'লাইন', 'লাল', 'শত', 'শব্দ', 'শীঘ্র', 'শীঘ্রই', 'শুধু', 'শুরু', 'শুরুতে', 'শূন্য', 'শেষ', 'সংক্রান্ত', 'সংক্ষিপ্ত', 'সংক্ষেপে', 'সংখ্যা', 'সংখ্যার', 'সংশ্লিষ্ট', 'সক্ষম', 'সঙ্গে', 'সঙ্গেও', 'সত্য', 'সত্যিই', 'সদয়', 'সদস্য', 'সদস্যদের', 'সফলভাবে', 'সব', 'সবচেয়ে', 'সবাই', 'সবার', 'সময়', 'সমস্ত', 'সমান', 'সম্পন্ন', 'সম্প্রতি', 'সম্ভব', 'সম্ভবত', 'সম্ভাব্য', 'সরাইয়া', 'সর্বত্র', 'সর্বদা', 'সর্বস্বান্ত', 'সহ', 'সহিত', 'সাত', 'সাধারণ', 'সাধারণত', 'সাব', 'সাবেক', 'সামগ্রিক', 'সামনে', 'সামান্য', 'সাম্প্রতিক', 'সুতরাং', 'সুত্র', 'সূচক', 'সে', 'সে হবে', 'সেই', 'সেকেন্ড', 'সেখান', 'সেখানে', 'সেগুলো', 'সেটা', 'সেটাই', 'সেটাও', 'সেটি', 'সেরা', 'স্টপ', 'স্থাপিত', 'স্পষ্ট', 'স্পষ্টত', 'স্পষ্টতই', 'স্ব', 'স্বয়ং', 'স্বাগত', 'স্বাভাবিকভাবে', 'স্বার্থ', 'স্বয়ং', 'হইতে', 'হইবে', 'হইয়া', 'হওয়া', 'হওয়ায়', 'হওয়ার', 'হচ্ছে', 'হত', 'হতে', 'হতেই', 'হন', 'হবে', 'হবেন', 'হয়', 'হয়তো', 'হয়নি', 'হয়ে', 'হয়েই', 'হয়েছিল', 'হয়েছে', 'হয়েছেন', 'হল', 'হলে', 'হলেই', 'হলেও', 'হলো', 'হাজার', 'হায়', 'হারানো', 'হিসাবে', 'হৈলে', 'হোক', 'হয়', 'হয়তো', 'হয়নি', 'হয়ে', 'হয়েই', 'হয়েছিল', 'হয়েছে', 'হয়েছেন', 'অংশ')\n",
    "len(st_words)"
   ]
  },
  {
   "cell_type": "code",
   "execution_count": 25,
   "id": "f95e3157",
   "metadata": {},
   "outputs": [],
   "source": [
    "# para = df['body'][387]\n",
    "# sentences = re.sub(r'\\n{2,}|\\n|।|,', \"\", para)\n",
    "# sentences"
   ]
  },
  {
   "cell_type": "code",
   "execution_count": 26,
   "id": "73517b16",
   "metadata": {},
   "outputs": [],
   "source": [
    "corpus = []\n",
    "no_of_words = 0\n",
    "for i in range(df.shape[0]):\n",
    "    para = df['body'][i]\n",
    "    sentences = re.sub(r'\\n{2,}|\\n|।|,|!|@|<|>|#|\\$|%|\\^|&|\\*|\\(|\\)|\\\\|/|\\u200B', \"\", para)\n",
    "    words = sentences.split()\n",
    "    \n",
    "\n",
    "    words = [word for word in words if word not in st_words]\n",
    "#     words = [word for word in words if not word in stopwords.words('english')]\n",
    "    words = [BanglaStemmer().stem(word) for word in words]\n",
    "    no_of_words += len(words) \n",
    "    line = ' '.join(words)\n",
    "    corpus.append(line)"
   ]
  },
  {
   "cell_type": "code",
   "execution_count": 27,
   "id": "11b893c4",
   "metadata": {},
   "outputs": [
    {
     "data": {
      "text/plain": [
       "277.4797043641483"
      ]
     },
     "execution_count": 27,
     "metadata": {},
     "output_type": "execute_result"
    }
   ],
   "source": [
    "# avg word/news \n",
    "no_of_words/df.shape[0]"
   ]
  },
  {
   "cell_type": "code",
   "execution_count": 28,
   "id": "4806206d",
   "metadata": {},
   "outputs": [
    {
     "data": {
      "text/plain": [
       "'লিখছি মার্সেল মার্সো কাল প্রস্তুত হওয় সার কাটানোর পালাইতিহাস বল ফরাসি বিপ্লব সময় জনগণ মুখ কথ ওপর নিয়ন্ত্রণ আরোপ মূকাভিনয়শিল্প দেশের বিক্ষোভ জাগা তুলেছিল বিপ্লব অবশ্যম্ভাবী সাফল্য অত্যন্ত গুরুত্বপূর্ণ ভূমিকা পালন মুখ কথানির্ভর প্রচলিত ভাষা অনুপস্থিতি সত্ত্বে অনুপম শিল্পে ‘মূক ভাষা’র এমন কার্যকর সংযোগ স্থাপন ক্ষমতাসুপ্রাচীন ঐতিহ্যময় মূকাভিনয়শিল্প নিরন্তর ব্যবহারিক গবেষণ উঁচু ধরেছি মূকাভিনয়শিল্পী-মূকাভিনয়গুরু ‘মাস্ অব মাইম’ মার্সেল মার্সো প্রকৃত মার্সেল ম্যাঙ্গেল জন্ম ১৯২৩-এর ২২ মার্চ ফ্রান্স স্ট্রাসবুর্গ শহরে শৈশব দড়াবাজি অভিনয় সৃষ্টিশীল অনুকরণ অনন্যসাধারণ ক্ষমতাসম্পন্ন মার্সো অনুপ্রাণিত হয়েছি চার্লি চ্যাপলিন বাস্ কিটন প্রমুখ নির্বাক চলচ্চিত্র চ্যাপলিন ‘প্রেরণা’ খ্যাতির চূড়ায় অবস্থানকালে ষাট দশক মার্সোর প্যারিস ওরাল বিমানবন্দরে চার্লি চ্যাপলিন সাক্ষাৎ প্রথমে চ্যাপলিন ‘সাদা মুখ বিখ্যাত মানুষ’ মার্সোর সৃষ্ট ‘বিপ’ চরিত্র অঙ্গরচনা সম্বোধন করেছিলেন—যা মার্সো জীবনে শ্রেষ্ঠ সম্মান আমৃত্যু গর্বিতভাবে স্মরণ করতেনদ্বিতীয় বিশ্বযুদ্ধ মার্সো প্যারিসে ‘স্কুল অব ড্রামাটিক আর্টস’-এর পাঠ সমাপন স্বনামখ্যাত মূকাভিনেতা চার্লস দুলিন আধুনিক নিরীক্ষাধর্মী মূকাভিনয় দিকপাল এতিয় দুক্রু মূকাভিনয়গুরু জ্যাঁ লুই বারোর নিবিড় শিক্ষা লাভ প্রভাবিত ফরাসি মূকাভিনেতা জ্যাঁ গ্যাসপার্ট দেবুরোর দ্বারা মহৎ শিল্পীর বৈশিষ্ট্যানুযায়ী মার্সো পূর্ববর্তী সম্ভাবনা আত্মীকরণ ক্রমে আপন বিশিষ্টতায় অত্যুজ্জ্বল ওঠেন১৯৪৬-এ পেশাগত জীবন করলে গবেষণ প্রক্রিয়ায় মার্সো ১৯৪৭-এ মূকাভিনয়-কাহিনি বিপ চরিত্র প্রবর্তন প্রযোজনাগুলোয় বিচিত্রতর রূপে আস চার্লি চ্যাপলিন ‘ভ্যাগাবন্ড’-এর দর্শক বিপ মানুষ প্রাত্যহিক জীবন ‘মৌনমুখর-সাক্ষী’ মূকচরিত্র পেল বিপ বিশিষ্টতা সাদামুখ গা ডোরাকা জামা পরনে লেপটে প্যান্ট মাথায় টুপি হাত ফুল বিপ-বিষয়ক মার্সোর উল্লেখযোগ্য নকশা-মূকাভিনয় ‘বিপ ট্রাভেলস বাই ট্রেন’ ‘বিপ গ্রেট স্ অব ট্রাভেলিং সার্কাস’ ‘বিপ হান্টস বাটারফ্লাই’ ‘বিপ ট্রাভেলস বাই সি’ ‘বিপ অ্যাজ লায়ন ট্রেমার’ ‘বিপ কমিটস সুইসাইড’ ‘বিপ অ্যাজ সোলজার’ ‘বিপ ইন মডার্ন অ্যান্ড ফিউচ লাইফ’ বিচিত্রতর পরিস্থিতি ঘটনায় মানুষ প্রতিনিধি বিপ স্বেচ্ছাকৃত অনিচ্ছাকৃত উপস্থিতির বিশ্বমানব হাসি-কান্না আনন্দ-বিষাদ অনুভূতি একীভূত দর্শক দেশ-কাল সীমাবদ্ধত গণ্ডিমুক্ত সর্বজনপ্রতিনিধি ওঠে মাধ্যমে শিল্পস্রষ্ মার্সেল মার্সো সমগ্র বিশ্ব আপনজনে হনমূকাভিনয় মার্সোর অতুলনীয় অবদান গবেষক দৃষ্টিভঙ্গিসহ প্রচলিত ক্লিশে মূকাভিনয়-ধারণার মুক্তি মূকাভিনয় নবগতি প্রদান কিংবদন্তিতুল্য প্রয়াত শিল্পী মাইকেল জ্যাকসন ‘মুনওয়াক’ শীর্ষক বিশিষ্ট আঙ্গিক মার্সেল মার্সোর ‘ওয়াক এগেইন্সড উইন্ড’-এর কৌশল অনুপ্রাণিত ধারণ যায় ১৯৯৫ সালে মার্সেল মার্সো মাইকেল জ্যাকসন এইচবিও চ্যানেলের চুক্তিবদ্ধ কনসার্ট যৌথ মহড়া মুহূর্ জ্যাকসন অসুস্থ পড়ায় অনুষ্ঠান বাতিল জ্যাকসন উপস্থাপনায় মূকাভিনয় মুদ্ পদভঙ্গি শরীরভঙ্গি অভিব্যক্তিসহ আকর্ষণীয় অনুষঙ্গ প্রয়োগ ওপর মার্সোর প্রত্যক্ষ পরোক্ষ প্রভাব বলে করেনবাংলাদেশের আধুনিক মূকাভিনয় পথিকৃৎ পার্থপ্রতিম মজুমদ মার্সো প্রতিষ্ঠিত অনন্য মূকাভিনয় স্কুল ‘লা ইকোল ইন্টারন্যাশনাল ডি মাইমোড্রামা’য় এশিয়া মহাদেশের ছাত্র প্রসঙ্গত পার্থপ্রতিম মজুমদ কাজী মশহুরুল হুদা জিল্লুর রহমান জন—বাংলাদেশের মূকাভিনয় মহারথীর প্রবাসগমন কারণে আন্তর্জাতিক পরিমণ্ডলে বাংলাদেশের মূকাভিনয় পরিচিতি লাভ করলে দেশের অভ্যন্তরীণ চর্চ ধারাবাহিকতা দারুণভাবে ব্যাহত সার দেশ বর্তমানে ২৫ দল মূকাভিনয়চর্চা ধারাবাহিকতায় ‘বাংলাদেশ মূকাভিনয় ফেডারেশন’ গঠন আশা জাগায়৬০ মূকাভিনয়শিল্পে একনিষ্ঠ নিরবচ্ছিন্ন সাধনা শাষ ২০০৭ সাল ২২ সেপ্টেম্বর ইহলোক ত্যাগ মার্সেল মার্সো প্যারিস শিল্পী সাহিত্যিক বুদ্ধিজীবী সমাধিস্থল পার লাসিয়েস সিমেট্রি চিরনিদ্রায় শায়িত প্রত্যাশা সেদিন সমগ্র সমাধিস্থলে বেজেছিল মোৎজার্ট সিম্ফনি ছাপিয়ে মার্সোর অগণিত ভক্ত সজল চোখে বলেছি ‘মঁসি মার্সো তোমাকে পৃথিবী রাখবে চিরকাল’মার্সেল মার্সোর চতুর্থ প্রয়াণবার্ষিকী আমরা আন্তরিক শ্রদ্ধা-ভালোবাসায় কথ প্রতিধ্বনি করিজাহিদ রিপনp'"
      ]
     },
     "execution_count": 28,
     "metadata": {},
     "output_type": "execute_result"
    }
   ],
   "source": [
    "corpus[0]"
   ]
  },
  {
   "cell_type": "code",
   "execution_count": 29,
   "id": "579f99cc",
   "metadata": {},
   "outputs": [],
   "source": [
    "from sklearn.feature_extraction.text import TfidfVectorizer\n",
    "tv = TfidfVectorizer(max_features=1000,ngram_range=(1,3))\n",
    "X = tv.fit_transform(corpus).toarray()"
   ]
  },
  {
   "cell_type": "code",
   "execution_count": 30,
   "id": "98bbdfda",
   "metadata": {},
   "outputs": [
    {
     "data": {
      "text/plain": [
       "(8524, 1000)"
      ]
     },
     "execution_count": 30,
     "metadata": {},
     "output_type": "execute_result"
    }
   ],
   "source": [
    "X.shape"
   ]
  },
  {
   "cell_type": "code",
   "execution_count": 31,
   "id": "4b3b76f4",
   "metadata": {},
   "outputs": [
    {
     "data": {
      "text/plain": [
       "array([1, 1, 2, ..., 1, 1, 2])"
      ]
     },
     "execution_count": 31,
     "metadata": {},
     "output_type": "execute_result"
    }
   ],
   "source": [
    "y"
   ]
  },
  {
   "cell_type": "code",
   "execution_count": 32,
   "id": "9feff0de",
   "metadata": {},
   "outputs": [
    {
     "data": {
      "text/plain": [
       "array(['comp', 'অক', 'অক বর', 'অগ', 'অগ রগত', 'অঙ', 'অঙ গর', 'অজ', 'অঞ',\n",
       "       'অঞ চল', 'অত', 'অত যন', 'অদ', 'অধ', 'অধ পক', 'অধ শন', 'অন',\n",
       "       'অন তর', 'অন তর বর', 'অন দন'], dtype=object)"
      ]
     },
     "execution_count": 32,
     "metadata": {},
     "output_type": "execute_result"
    }
   ],
   "source": [
    "tv.get_feature_names_out()[:20]"
   ]
  },
  {
   "cell_type": "code",
   "execution_count": 33,
   "id": "0603a6e3",
   "metadata": {},
   "outputs": [
    {
     "data": {
      "text/html": [
       "<div>\n",
       "<style scoped>\n",
       "    .dataframe tbody tr th:only-of-type {\n",
       "        vertical-align: middle;\n",
       "    }\n",
       "\n",
       "    .dataframe tbody tr th {\n",
       "        vertical-align: top;\n",
       "    }\n",
       "\n",
       "    .dataframe thead th {\n",
       "        text-align: right;\n",
       "    }\n",
       "</style>\n",
       "<table border=\"1\" class=\"dataframe\">\n",
       "  <thead>\n",
       "    <tr style=\"text-align: right;\">\n",
       "      <th></th>\n",
       "      <th>comp</th>\n",
       "      <th>অক</th>\n",
       "      <th>অক বর</th>\n",
       "      <th>অগ</th>\n",
       "      <th>অগ রগত</th>\n",
       "      <th>অঙ</th>\n",
       "      <th>অঙ গর</th>\n",
       "      <th>অজ</th>\n",
       "      <th>অঞ</th>\n",
       "      <th>অঞ চল</th>\n",
       "      <th>...</th>\n",
       "      <th>২৭</th>\n",
       "      <th>২৮</th>\n",
       "      <th>২৯</th>\n",
       "      <th>৩০</th>\n",
       "      <th>৪০</th>\n",
       "      <th>৫০</th>\n",
       "      <th>৬০</th>\n",
       "      <th>৭০</th>\n",
       "      <th>৮০</th>\n",
       "      <th>target</th>\n",
       "    </tr>\n",
       "  </thead>\n",
       "  <tbody>\n",
       "    <tr>\n",
       "      <th>0</th>\n",
       "      <td>0.000000</td>\n",
       "      <td>0.000000</td>\n",
       "      <td>0.000000</td>\n",
       "      <td>0.000000</td>\n",
       "      <td>0.0</td>\n",
       "      <td>0.038066</td>\n",
       "      <td>0.0</td>\n",
       "      <td>0.0</td>\n",
       "      <td>0.0</td>\n",
       "      <td>0.0</td>\n",
       "      <td>...</td>\n",
       "      <td>0.0</td>\n",
       "      <td>0.0</td>\n",
       "      <td>0.000000</td>\n",
       "      <td>0.0</td>\n",
       "      <td>0.0</td>\n",
       "      <td>0.0</td>\n",
       "      <td>0.000000</td>\n",
       "      <td>0.000000</td>\n",
       "      <td>0.000000</td>\n",
       "      <td>1</td>\n",
       "    </tr>\n",
       "    <tr>\n",
       "      <th>1</th>\n",
       "      <td>0.028640</td>\n",
       "      <td>0.023108</td>\n",
       "      <td>0.000000</td>\n",
       "      <td>0.023232</td>\n",
       "      <td>0.0</td>\n",
       "      <td>0.000000</td>\n",
       "      <td>0.0</td>\n",
       "      <td>0.0</td>\n",
       "      <td>0.0</td>\n",
       "      <td>0.0</td>\n",
       "      <td>...</td>\n",
       "      <td>0.0</td>\n",
       "      <td>0.0</td>\n",
       "      <td>0.000000</td>\n",
       "      <td>0.0</td>\n",
       "      <td>0.0</td>\n",
       "      <td>0.0</td>\n",
       "      <td>0.000000</td>\n",
       "      <td>0.000000</td>\n",
       "      <td>0.000000</td>\n",
       "      <td>1</td>\n",
       "    </tr>\n",
       "    <tr>\n",
       "      <th>2</th>\n",
       "      <td>0.000000</td>\n",
       "      <td>0.000000</td>\n",
       "      <td>0.000000</td>\n",
       "      <td>0.000000</td>\n",
       "      <td>0.0</td>\n",
       "      <td>0.000000</td>\n",
       "      <td>0.0</td>\n",
       "      <td>0.0</td>\n",
       "      <td>0.0</td>\n",
       "      <td>0.0</td>\n",
       "      <td>...</td>\n",
       "      <td>0.0</td>\n",
       "      <td>0.0</td>\n",
       "      <td>0.251498</td>\n",
       "      <td>0.0</td>\n",
       "      <td>0.0</td>\n",
       "      <td>0.0</td>\n",
       "      <td>0.000000</td>\n",
       "      <td>0.239933</td>\n",
       "      <td>0.000000</td>\n",
       "      <td>2</td>\n",
       "    </tr>\n",
       "    <tr>\n",
       "      <th>3</th>\n",
       "      <td>0.000000</td>\n",
       "      <td>0.000000</td>\n",
       "      <td>0.000000</td>\n",
       "      <td>0.000000</td>\n",
       "      <td>0.0</td>\n",
       "      <td>0.000000</td>\n",
       "      <td>0.0</td>\n",
       "      <td>0.0</td>\n",
       "      <td>0.0</td>\n",
       "      <td>0.0</td>\n",
       "      <td>...</td>\n",
       "      <td>0.0</td>\n",
       "      <td>0.0</td>\n",
       "      <td>0.000000</td>\n",
       "      <td>0.0</td>\n",
       "      <td>0.0</td>\n",
       "      <td>0.0</td>\n",
       "      <td>0.000000</td>\n",
       "      <td>0.000000</td>\n",
       "      <td>0.105610</td>\n",
       "      <td>2</td>\n",
       "    </tr>\n",
       "    <tr>\n",
       "      <th>4</th>\n",
       "      <td>0.000000</td>\n",
       "      <td>0.000000</td>\n",
       "      <td>0.000000</td>\n",
       "      <td>0.000000</td>\n",
       "      <td>0.0</td>\n",
       "      <td>0.187225</td>\n",
       "      <td>0.0</td>\n",
       "      <td>0.0</td>\n",
       "      <td>0.0</td>\n",
       "      <td>0.0</td>\n",
       "      <td>...</td>\n",
       "      <td>0.0</td>\n",
       "      <td>0.0</td>\n",
       "      <td>0.000000</td>\n",
       "      <td>0.0</td>\n",
       "      <td>0.0</td>\n",
       "      <td>0.0</td>\n",
       "      <td>0.000000</td>\n",
       "      <td>0.000000</td>\n",
       "      <td>0.000000</td>\n",
       "      <td>2</td>\n",
       "    </tr>\n",
       "    <tr>\n",
       "      <th>...</th>\n",
       "      <td>...</td>\n",
       "      <td>...</td>\n",
       "      <td>...</td>\n",
       "      <td>...</td>\n",
       "      <td>...</td>\n",
       "      <td>...</td>\n",
       "      <td>...</td>\n",
       "      <td>...</td>\n",
       "      <td>...</td>\n",
       "      <td>...</td>\n",
       "      <td>...</td>\n",
       "      <td>...</td>\n",
       "      <td>...</td>\n",
       "      <td>...</td>\n",
       "      <td>...</td>\n",
       "      <td>...</td>\n",
       "      <td>...</td>\n",
       "      <td>...</td>\n",
       "      <td>...</td>\n",
       "      <td>...</td>\n",
       "      <td>...</td>\n",
       "    </tr>\n",
       "    <tr>\n",
       "      <th>8519</th>\n",
       "      <td>0.000000</td>\n",
       "      <td>0.000000</td>\n",
       "      <td>0.000000</td>\n",
       "      <td>0.000000</td>\n",
       "      <td>0.0</td>\n",
       "      <td>0.000000</td>\n",
       "      <td>0.0</td>\n",
       "      <td>0.0</td>\n",
       "      <td>0.0</td>\n",
       "      <td>0.0</td>\n",
       "      <td>...</td>\n",
       "      <td>0.0</td>\n",
       "      <td>0.0</td>\n",
       "      <td>0.000000</td>\n",
       "      <td>0.0</td>\n",
       "      <td>0.0</td>\n",
       "      <td>0.0</td>\n",
       "      <td>0.000000</td>\n",
       "      <td>0.000000</td>\n",
       "      <td>0.000000</td>\n",
       "      <td>1</td>\n",
       "    </tr>\n",
       "    <tr>\n",
       "      <th>8520</th>\n",
       "      <td>0.055804</td>\n",
       "      <td>0.045026</td>\n",
       "      <td>0.000000</td>\n",
       "      <td>0.000000</td>\n",
       "      <td>0.0</td>\n",
       "      <td>0.000000</td>\n",
       "      <td>0.0</td>\n",
       "      <td>0.0</td>\n",
       "      <td>0.0</td>\n",
       "      <td>0.0</td>\n",
       "      <td>...</td>\n",
       "      <td>0.0</td>\n",
       "      <td>0.0</td>\n",
       "      <td>0.000000</td>\n",
       "      <td>0.0</td>\n",
       "      <td>0.0</td>\n",
       "      <td>0.0</td>\n",
       "      <td>0.000000</td>\n",
       "      <td>0.000000</td>\n",
       "      <td>0.065987</td>\n",
       "      <td>1</td>\n",
       "    </tr>\n",
       "    <tr>\n",
       "      <th>8521</th>\n",
       "      <td>0.000000</td>\n",
       "      <td>0.000000</td>\n",
       "      <td>0.000000</td>\n",
       "      <td>0.000000</td>\n",
       "      <td>0.0</td>\n",
       "      <td>0.000000</td>\n",
       "      <td>0.0</td>\n",
       "      <td>0.0</td>\n",
       "      <td>0.0</td>\n",
       "      <td>0.0</td>\n",
       "      <td>...</td>\n",
       "      <td>0.0</td>\n",
       "      <td>0.0</td>\n",
       "      <td>0.000000</td>\n",
       "      <td>0.0</td>\n",
       "      <td>0.0</td>\n",
       "      <td>0.0</td>\n",
       "      <td>0.000000</td>\n",
       "      <td>0.000000</td>\n",
       "      <td>0.000000</td>\n",
       "      <td>1</td>\n",
       "    </tr>\n",
       "    <tr>\n",
       "      <th>8522</th>\n",
       "      <td>0.000000</td>\n",
       "      <td>0.000000</td>\n",
       "      <td>0.000000</td>\n",
       "      <td>0.000000</td>\n",
       "      <td>0.0</td>\n",
       "      <td>0.000000</td>\n",
       "      <td>0.0</td>\n",
       "      <td>0.0</td>\n",
       "      <td>0.0</td>\n",
       "      <td>0.0</td>\n",
       "      <td>...</td>\n",
       "      <td>0.0</td>\n",
       "      <td>0.0</td>\n",
       "      <td>0.000000</td>\n",
       "      <td>0.0</td>\n",
       "      <td>0.0</td>\n",
       "      <td>0.0</td>\n",
       "      <td>0.055991</td>\n",
       "      <td>0.000000</td>\n",
       "      <td>0.000000</td>\n",
       "      <td>1</td>\n",
       "    </tr>\n",
       "    <tr>\n",
       "      <th>8523</th>\n",
       "      <td>0.000000</td>\n",
       "      <td>0.091814</td>\n",
       "      <td>0.123739</td>\n",
       "      <td>0.000000</td>\n",
       "      <td>0.0</td>\n",
       "      <td>0.000000</td>\n",
       "      <td>0.0</td>\n",
       "      <td>0.0</td>\n",
       "      <td>0.0</td>\n",
       "      <td>0.0</td>\n",
       "      <td>...</td>\n",
       "      <td>0.0</td>\n",
       "      <td>0.0</td>\n",
       "      <td>0.000000</td>\n",
       "      <td>0.0</td>\n",
       "      <td>0.0</td>\n",
       "      <td>0.0</td>\n",
       "      <td>0.000000</td>\n",
       "      <td>0.000000</td>\n",
       "      <td>0.000000</td>\n",
       "      <td>2</td>\n",
       "    </tr>\n",
       "  </tbody>\n",
       "</table>\n",
       "<p>8524 rows × 1001 columns</p>\n",
       "</div>"
      ],
      "text/plain": [
       "          comp        অক     অক বর        অগ  অগ রগত        অঙ  অঙ গর   অজ  \\\n",
       "0     0.000000  0.000000  0.000000  0.000000     0.0  0.038066    0.0  0.0   \n",
       "1     0.028640  0.023108  0.000000  0.023232     0.0  0.000000    0.0  0.0   \n",
       "2     0.000000  0.000000  0.000000  0.000000     0.0  0.000000    0.0  0.0   \n",
       "3     0.000000  0.000000  0.000000  0.000000     0.0  0.000000    0.0  0.0   \n",
       "4     0.000000  0.000000  0.000000  0.000000     0.0  0.187225    0.0  0.0   \n",
       "...        ...       ...       ...       ...     ...       ...    ...  ...   \n",
       "8519  0.000000  0.000000  0.000000  0.000000     0.0  0.000000    0.0  0.0   \n",
       "8520  0.055804  0.045026  0.000000  0.000000     0.0  0.000000    0.0  0.0   \n",
       "8521  0.000000  0.000000  0.000000  0.000000     0.0  0.000000    0.0  0.0   \n",
       "8522  0.000000  0.000000  0.000000  0.000000     0.0  0.000000    0.0  0.0   \n",
       "8523  0.000000  0.091814  0.123739  0.000000     0.0  0.000000    0.0  0.0   \n",
       "\n",
       "       অঞ  অঞ চল  ...   ২৭   ২৮        ২৯   ৩০   ৪০   ৫০        ৬০        ৭০  \\\n",
       "0     0.0    0.0  ...  0.0  0.0  0.000000  0.0  0.0  0.0  0.000000  0.000000   \n",
       "1     0.0    0.0  ...  0.0  0.0  0.000000  0.0  0.0  0.0  0.000000  0.000000   \n",
       "2     0.0    0.0  ...  0.0  0.0  0.251498  0.0  0.0  0.0  0.000000  0.239933   \n",
       "3     0.0    0.0  ...  0.0  0.0  0.000000  0.0  0.0  0.0  0.000000  0.000000   \n",
       "4     0.0    0.0  ...  0.0  0.0  0.000000  0.0  0.0  0.0  0.000000  0.000000   \n",
       "...   ...    ...  ...  ...  ...       ...  ...  ...  ...       ...       ...   \n",
       "8519  0.0    0.0  ...  0.0  0.0  0.000000  0.0  0.0  0.0  0.000000  0.000000   \n",
       "8520  0.0    0.0  ...  0.0  0.0  0.000000  0.0  0.0  0.0  0.000000  0.000000   \n",
       "8521  0.0    0.0  ...  0.0  0.0  0.000000  0.0  0.0  0.0  0.000000  0.000000   \n",
       "8522  0.0    0.0  ...  0.0  0.0  0.000000  0.0  0.0  0.0  0.055991  0.000000   \n",
       "8523  0.0    0.0  ...  0.0  0.0  0.000000  0.0  0.0  0.0  0.000000  0.000000   \n",
       "\n",
       "            ৮০  target  \n",
       "0     0.000000       1  \n",
       "1     0.000000       1  \n",
       "2     0.000000       2  \n",
       "3     0.105610       2  \n",
       "4     0.000000       2  \n",
       "...        ...     ...  \n",
       "8519  0.000000       1  \n",
       "8520  0.065987       1  \n",
       "8521  0.000000       1  \n",
       "8522  0.000000       1  \n",
       "8523  0.000000       2  \n",
       "\n",
       "[8524 rows x 1001 columns]"
      ]
     },
     "execution_count": 33,
     "metadata": {},
     "output_type": "execute_result"
    }
   ],
   "source": [
    "count_df = pd.DataFrame(X,columns=tv.get_feature_names_out()).assign(target=y)\n",
    "count_df"
   ]
  },
  {
   "cell_type": "code",
   "execution_count": 34,
   "id": "e8e0fb75",
   "metadata": {},
   "outputs": [
    {
     "data": {
      "text/plain": [
       "(8524, 1001)"
      ]
     },
     "execution_count": 34,
     "metadata": {},
     "output_type": "execute_result"
    }
   ],
   "source": [
    "count_df.shape"
   ]
  },
  {
   "cell_type": "code",
   "execution_count": 35,
   "id": "c928e987",
   "metadata": {},
   "outputs": [],
   "source": [
    "count_df.to_excel(\"pro-part-2.xlsx\", index = False, header = False)"
   ]
  },
  {
   "cell_type": "code",
   "execution_count": null,
   "id": "3543d31f",
   "metadata": {},
   "outputs": [],
   "source": []
  }
 ],
 "metadata": {
  "kernelspec": {
   "display_name": "NlP",
   "language": "python",
   "name": "nlp"
  },
  "language_info": {
   "codemirror_mode": {
    "name": "ipython",
    "version": 3
   },
   "file_extension": ".py",
   "mimetype": "text/x-python",
   "name": "python",
   "nbconvert_exporter": "python",
   "pygments_lexer": "ipython3",
   "version": "3.11.4"
  }
 },
 "nbformat": 4,
 "nbformat_minor": 5
}
