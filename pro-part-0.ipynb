{
 "cells": [
  {
   "cell_type": "code",
   "execution_count": 1,
   "id": "784e90d2",
   "metadata": {},
   "outputs": [],
   "source": [
    "import pandas as pd\n",
    "import numpy as np\n",
    "import json"
   ]
  },
  {
   "cell_type": "code",
   "execution_count": 2,
   "id": "7e8994c5",
   "metadata": {},
   "outputs": [],
   "source": [
    "# Step 2: Open and Read the JSON File\n",
    "with open('D:/shuvo/bangla_news_classification/dataset/pro-part-0.json', 'r') as json_file:\n",
    "    json_data = json_file.read()\n",
    "\n",
    "# Step 3: Parse the JSON Data\n",
    "parsed_data = json.loads(json_data)"
   ]
  },
  {
   "cell_type": "code",
   "execution_count": 3,
   "id": "23f66c12",
   "metadata": {},
   "outputs": [
    {
     "name": "stdout",
     "output_type": "stream",
     "text": [
      "[{'tags': [], 'headline': 'বন্ধু হতে চাইলে', 'content_type': 'story', 'content_id': 'f41ca5d8-2bb4-41e7-8568-fadcb54d7a96', 'url': 'https://www.bondhushava.com/বন্ধু-হতে-চাইলে', 'body': ['<p>সারা দেশ থেকে অনেকেই ফোন করেন। জানতে চান, কীভাবে বন্ধু হওয়া যায়। প্রথম আলো বন্ধুসভার বন্ধু হতে চাইলে এক কপি পাসপোর্ট সাইজ ছবিসহ পূর্ণ জীবনবৃত্তান্ত পাঠাতে হবে  নিচের ঠিকানায়। সঙ্গে আরও পাঠাতে হবে এই তথ্যগুলো: বিশেষ ব্যক্তিত্ব,  রাজনৈতিক ব্যক্তিত্ব, প্রিয় লেখক, প্রিয় বই, বাড়তি যোগ্যতা ও কেন আপনি বন্ধুসভার বন্ধু হতে চান।ঠিকানা বিভাগীয় সম্পাদক, প্রথম আলো  বন্ধুসভা, সিএ ভবন, ১০০ কাজী নজরুল ইসলাম এভিনিউ, কারওয়ান বাজার, ঢাকা-১২১৫</p>'], 'added_time': 1585239868702, 'updated_time': 1600084506472, 'general_type': []}, {'tags': [], 'headline': 'আমার মনে দাগ কেটেছে', 'content_type': 'story', 'content_id': '72aeaed4-1403-43e7-9f5d-00a9b49a3bb5', 'url': 'https://www.bondhushava.com/আমার-মনে-দাগ-কেটেছে', 'body': ['<p>আমার পড়া বা আমার সংগ্রহে কিছু বই আছে, যা আমার মনে দাগ কেটে আছে। তেমনি একটি বই বিভূতিভূষণ বন্দ্যোপাধ্যায়ের লেখা অপরাজিত। উপন্যাসটি পড়ে আমি অভিভূত হয়েছি। অপু নামের এমন এক কল্পনাবিলাসী ছেলের গল্প, যে জীবনের কঠিন বাস্তবতার সঙ্গে লড়াইয়ের পরও অপরাজিত। জীবনের রূঢ় বাস্তবতার সম্মুখীন হয়ে, একে একে সব প্রিয়জনকে হারিয়ে সে হয়ে পড়ে নিঃসঙ্গ।তার পরও সে তার কল্পনার জগত্ হারিয়ে ফেলেনি, তার আদর্শ থেকে বিচ্যুত হয়নি। তবু স্বপ্ন দেখা শেষ হয়নি অপুর। ছেলের হাত ধরে আবার জীবনের আরেক নতুন পথে যাত্রা শুরু করে। পথের পাঁচালী বইটিতে অপু ও দুর্গার শৈশবের কাহিনী প্রকাশিত হয়। কিন্তু বইটিতে দুর্গার চরিত্রের প্রভাবে অপুর চরিত্রটি পরিপূর্ণ বিকশিত হতে পারেনি। অপরাজিত বইটিতে অপুর জীবনের প্রতিটি দিক অত্যন্ত নিপুণভাবে ফুটিয়ে তোলা হয়েছে। বিভূতিভূষণ বন্দ্যোপাধ্যায়ের অনন্য প্রতিভার স্বাক্ষর পাওয়া যায় তাঁর অন্য লেখাগুলোতেও। আরও একটি প্রিয় বইয়ের কথা বলতে গেলে বলা যায়, শহীদ জননী জাহানারা ইমামের একাত্তরের দিনগুলি। বইটির পরতে পরতে রয়েছে মুক্তিযুদ্ধের বিভিন্ন ঘটনা, বর্ণনা। লেখিকার বড় সন্তান রুমী এক টগবগে তরুণ, যার রক্তে রয়েছে দেশকে স্বাধীন করার অদম্য আকাঙ্ক্ষা। এক রাতে মিলিটারিরা তাকে ধরে নিয়ে গেলে আর কোনো খোঁজ পাওয়া যায় না তার। বইটিতে রুমীর মতো আরও অনেক তরুণ মুক্তিযোদ্ধার বীরত্বের কথা আছে। বিভিন্ন অপারেশনের প্রত্যক্ষ বর্ণনা দেওয়া আছে। আছে এক জননীর কথা, যাঁর বুকে পুত্র হারানোর শোক; এক স্ত্রীর কথা যিনি তাঁর স্বামীকেও হারান। এত শোকের পরও লেখিকা দেশের জন্য তাঁর ছোট ছেলেকেও উত্সর্গ করতে চান। এমন একজন নারী ‘শহীদ জননী’ আখ্যায়িত হবেন না তো কে হবেন? জাহানারা ইমাম আমাদের জন্য মুক্তিযুদ্ধের এক অমূল্য দলিল সৃষ্টি করে রেখে  গেছেন।</p>'], 'added_time': 1585239868532, 'updated_time': 1600084506204, 'general_type': []}]\n"
     ]
    }
   ],
   "source": [
    "# Step 4: Print the Content\n",
    "print(parsed_data[:2])"
   ]
  },
  {
   "cell_type": "code",
   "execution_count": 4,
   "id": "473f1d78",
   "metadata": {},
   "outputs": [
    {
     "data": {
      "text/html": [
       "<div>\n",
       "<style scoped>\n",
       "    .dataframe tbody tr th:only-of-type {\n",
       "        vertical-align: middle;\n",
       "    }\n",
       "\n",
       "    .dataframe tbody tr th {\n",
       "        vertical-align: top;\n",
       "    }\n",
       "\n",
       "    .dataframe thead th {\n",
       "        text-align: right;\n",
       "    }\n",
       "</style>\n",
       "<table border=\"1\" class=\"dataframe\">\n",
       "  <thead>\n",
       "    <tr style=\"text-align: right;\">\n",
       "      <th></th>\n",
       "      <th>tags</th>\n",
       "      <th>headline</th>\n",
       "      <th>content_type</th>\n",
       "      <th>content_id</th>\n",
       "      <th>url</th>\n",
       "      <th>body</th>\n",
       "      <th>added_time</th>\n",
       "      <th>updated_time</th>\n",
       "      <th>general_type</th>\n",
       "    </tr>\n",
       "  </thead>\n",
       "  <tbody>\n",
       "    <tr>\n",
       "      <th>0</th>\n",
       "      <td>[]</td>\n",
       "      <td>বন্ধু হতে চাইলে</td>\n",
       "      <td>story</td>\n",
       "      <td>f41ca5d8-2bb4-41e7-8568-fadcb54d7a96</td>\n",
       "      <td>https://www.bondhushava.com/বন্ধু-হতে-চাইলে</td>\n",
       "      <td>[&lt;p&gt;সারা দেশ থেকে অনেকেই ফোন করেন। জানতে চান, ...</td>\n",
       "      <td>1585239868702</td>\n",
       "      <td>1600084506472</td>\n",
       "      <td>[]</td>\n",
       "    </tr>\n",
       "    <tr>\n",
       "      <th>1</th>\n",
       "      <td>[]</td>\n",
       "      <td>আমার মনে দাগ কেটেছে</td>\n",
       "      <td>story</td>\n",
       "      <td>72aeaed4-1403-43e7-9f5d-00a9b49a3bb5</td>\n",
       "      <td>https://www.bondhushava.com/আমার-মনে-দাগ-কেটেছে</td>\n",
       "      <td>[&lt;p&gt;আমার পড়া বা আমার সংগ্রহে কিছু বই আছে, যা আ...</td>\n",
       "      <td>1585239868532</td>\n",
       "      <td>1600084506204</td>\n",
       "      <td>[]</td>\n",
       "    </tr>\n",
       "    <tr>\n",
       "      <th>2</th>\n",
       "      <td>[]</td>\n",
       "      <td>কাপ্তাই বন্ধুসভার শপথ বৈঠক</td>\n",
       "      <td>story</td>\n",
       "      <td>bed890f9-2aeb-4656-bb88-9fbbb2e4728f</td>\n",
       "      <td>https://www.bondhushava.com/কাপ্তাই-বন্ধুসভার-...</td>\n",
       "      <td>[&lt;p&gt;আগামী ১৯ জুন কক্সবাজারে আয়োজিত শপথ অনুষ্ঠা...</td>\n",
       "      <td>1585239868348</td>\n",
       "      <td>1600084505932</td>\n",
       "      <td>[]</td>\n",
       "    </tr>\n",
       "    <tr>\n",
       "      <th>3</th>\n",
       "      <td>[]</td>\n",
       "      <td>সে এই শহরে একজন</td>\n",
       "      <td>story</td>\n",
       "      <td>672eaa60-aa6f-4ac7-ba8a-6610c6245453</td>\n",
       "      <td>https://www.bondhushava.com/সে-এই-শহরে-একজন</td>\n",
       "      <td>[&lt;p&gt;অচেনা শহর। শহরের প্রতিটি বাড়ি, প্রতিটি বার...</td>\n",
       "      <td>1585239868176</td>\n",
       "      <td>1600084505663</td>\n",
       "      <td>[]</td>\n",
       "    </tr>\n",
       "    <tr>\n",
       "      <th>4</th>\n",
       "      <td>[]</td>\n",
       "      <td>তিন বন্ধুসভার নতুন কমিটি</td>\n",
       "      <td>story</td>\n",
       "      <td>9f02bde2-9a6a-4626-869c-2d9d382dbc93</td>\n",
       "      <td>https://www.bondhushava.com/তিন-বন্ধুসভার-নতুন...</td>\n",
       "      <td>[&lt;p&gt;কক্সবাজার সরকারি মহিলা কলেজ বন্ধুসভা: ১০ জ...</td>\n",
       "      <td>1585239868001</td>\n",
       "      <td>1600084505381</td>\n",
       "      <td>[]</td>\n",
       "    </tr>\n",
       "  </tbody>\n",
       "</table>\n",
       "</div>"
      ],
      "text/plain": [
       "  tags                    headline content_type  \\\n",
       "0   []             বন্ধু হতে চাইলে        story   \n",
       "1   []         আমার মনে দাগ কেটেছে        story   \n",
       "2   []  কাপ্তাই বন্ধুসভার শপথ বৈঠক        story   \n",
       "3   []             সে এই শহরে একজন        story   \n",
       "4   []    তিন বন্ধুসভার নতুন কমিটি        story   \n",
       "\n",
       "                             content_id  \\\n",
       "0  f41ca5d8-2bb4-41e7-8568-fadcb54d7a96   \n",
       "1  72aeaed4-1403-43e7-9f5d-00a9b49a3bb5   \n",
       "2  bed890f9-2aeb-4656-bb88-9fbbb2e4728f   \n",
       "3  672eaa60-aa6f-4ac7-ba8a-6610c6245453   \n",
       "4  9f02bde2-9a6a-4626-869c-2d9d382dbc93   \n",
       "\n",
       "                                                 url  \\\n",
       "0        https://www.bondhushava.com/বন্ধু-হতে-চাইলে   \n",
       "1    https://www.bondhushava.com/আমার-মনে-দাগ-কেটেছে   \n",
       "2  https://www.bondhushava.com/কাপ্তাই-বন্ধুসভার-...   \n",
       "3        https://www.bondhushava.com/সে-এই-শহরে-একজন   \n",
       "4  https://www.bondhushava.com/তিন-বন্ধুসভার-নতুন...   \n",
       "\n",
       "                                                body     added_time  \\\n",
       "0  [<p>সারা দেশ থেকে অনেকেই ফোন করেন। জানতে চান, ...  1585239868702   \n",
       "1  [<p>আমার পড়া বা আমার সংগ্রহে কিছু বই আছে, যা আ...  1585239868532   \n",
       "2  [<p>আগামী ১৯ জুন কক্সবাজারে আয়োজিত শপথ অনুষ্ঠা...  1585239868348   \n",
       "3  [<p>অচেনা শহর। শহরের প্রতিটি বাড়ি, প্রতিটি বার...  1585239868176   \n",
       "4  [<p>কক্সবাজার সরকারি মহিলা কলেজ বন্ধুসভা: ১০ জ...  1585239868001   \n",
       "\n",
       "    updated_time general_type  \n",
       "0  1600084506472           []  \n",
       "1  1600084506204           []  \n",
       "2  1600084505932           []  \n",
       "3  1600084505663           []  \n",
       "4  1600084505381           []  "
      ]
     },
     "execution_count": 4,
     "metadata": {},
     "output_type": "execute_result"
    }
   ],
   "source": [
    "# Step 2: Create a DataFrame from JSON Data\n",
    "df = pd.DataFrame(parsed_data)\n",
    "df.head()"
   ]
  },
  {
   "cell_type": "code",
   "execution_count": 5,
   "id": "3977bd57",
   "metadata": {},
   "outputs": [
    {
     "data": {
      "text/plain": [
       "((90000, 9),\n",
       " Index(['tags', 'headline', 'content_type', 'content_id', 'url', 'body',\n",
       "        'added_time', 'updated_time', 'general_type'],\n",
       "       dtype='object'))"
      ]
     },
     "execution_count": 5,
     "metadata": {},
     "output_type": "execute_result"
    }
   ],
   "source": [
    "df.shape, df.columns"
   ]
  },
  {
   "cell_type": "code",
   "execution_count": 6,
   "id": "ee3c7a4d",
   "metadata": {},
   "outputs": [
    {
     "data": {
      "text/html": [
       "<div>\n",
       "<style scoped>\n",
       "    .dataframe tbody tr th:only-of-type {\n",
       "        vertical-align: middle;\n",
       "    }\n",
       "\n",
       "    .dataframe tbody tr th {\n",
       "        vertical-align: top;\n",
       "    }\n",
       "\n",
       "    .dataframe thead th {\n",
       "        text-align: right;\n",
       "    }\n",
       "</style>\n",
       "<table border=\"1\" class=\"dataframe\">\n",
       "  <thead>\n",
       "    <tr style=\"text-align: right;\">\n",
       "      <th></th>\n",
       "      <th>tags</th>\n",
       "      <th>headline</th>\n",
       "      <th>content_type</th>\n",
       "      <th>content_id</th>\n",
       "      <th>url</th>\n",
       "      <th>body</th>\n",
       "      <th>added_time</th>\n",
       "      <th>updated_time</th>\n",
       "      <th>general_type</th>\n",
       "    </tr>\n",
       "  </thead>\n",
       "  <tbody>\n",
       "    <tr>\n",
       "      <th>0</th>\n",
       "      <td>[]</td>\n",
       "      <td>বন্ধু হতে চাইলে</td>\n",
       "      <td>story</td>\n",
       "      <td>f41ca5d8-2bb4-41e7-8568-fadcb54d7a96</td>\n",
       "      <td>https://www.bondhushava.com/বন্ধু-হতে-চাইলে</td>\n",
       "      <td>সারা দেশ থেকে অনেকেই ফোন করেন। জানতে চান, কীভা...</td>\n",
       "      <td>1585239868702</td>\n",
       "      <td>1600084506472</td>\n",
       "      <td>NaN</td>\n",
       "    </tr>\n",
       "    <tr>\n",
       "      <th>1</th>\n",
       "      <td>[]</td>\n",
       "      <td>আমার মনে দাগ কেটেছে</td>\n",
       "      <td>story</td>\n",
       "      <td>72aeaed4-1403-43e7-9f5d-00a9b49a3bb5</td>\n",
       "      <td>https://www.bondhushava.com/আমার-মনে-দাগ-কেটেছে</td>\n",
       "      <td>আমার পড়া বা আমার সংগ্রহে কিছু বই আছে, যা আমার ...</td>\n",
       "      <td>1585239868532</td>\n",
       "      <td>1600084506204</td>\n",
       "      <td>NaN</td>\n",
       "    </tr>\n",
       "    <tr>\n",
       "      <th>2</th>\n",
       "      <td>[]</td>\n",
       "      <td>কাপ্তাই বন্ধুসভার শপথ বৈঠক</td>\n",
       "      <td>story</td>\n",
       "      <td>bed890f9-2aeb-4656-bb88-9fbbb2e4728f</td>\n",
       "      <td>https://www.bondhushava.com/কাপ্তাই-বন্ধুসভার-...</td>\n",
       "      <td>আগামী ১৯ জুন কক্সবাজারে আয়োজিত শপথ অনুষ্ঠানে য...</td>\n",
       "      <td>1585239868348</td>\n",
       "      <td>1600084505932</td>\n",
       "      <td>NaN</td>\n",
       "    </tr>\n",
       "    <tr>\n",
       "      <th>3</th>\n",
       "      <td>[]</td>\n",
       "      <td>সে এই শহরে একজন</td>\n",
       "      <td>story</td>\n",
       "      <td>672eaa60-aa6f-4ac7-ba8a-6610c6245453</td>\n",
       "      <td>https://www.bondhushava.com/সে-এই-শহরে-একজন</td>\n",
       "      <td>অচেনা শহর। শহরের প্রতিটি বাড়ি, প্রতিটি বারান্দ...</td>\n",
       "      <td>1585239868176</td>\n",
       "      <td>1600084505663</td>\n",
       "      <td>NaN</td>\n",
       "    </tr>\n",
       "    <tr>\n",
       "      <th>4</th>\n",
       "      <td>[]</td>\n",
       "      <td>তিন বন্ধুসভার নতুন কমিটি</td>\n",
       "      <td>story</td>\n",
       "      <td>9f02bde2-9a6a-4626-869c-2d9d382dbc93</td>\n",
       "      <td>https://www.bondhushava.com/তিন-বন্ধুসভার-নতুন...</td>\n",
       "      <td>কক্সবাজার সরকারি মহিলা কলেজ বন্ধুসভা: ১০ জুন, ...</td>\n",
       "      <td>1585239868001</td>\n",
       "      <td>1600084505381</td>\n",
       "      <td>NaN</td>\n",
       "    </tr>\n",
       "    <tr>\n",
       "      <th>...</th>\n",
       "      <td>...</td>\n",
       "      <td>...</td>\n",
       "      <td>...</td>\n",
       "      <td>...</td>\n",
       "      <td>...</td>\n",
       "      <td>...</td>\n",
       "      <td>...</td>\n",
       "      <td>...</td>\n",
       "      <td>...</td>\n",
       "    </tr>\n",
       "    <tr>\n",
       "      <th>89995</th>\n",
       "      <td>[]</td>\n",
       "      <td>১৮ বছরের কম বয়সীদের শিশু বলা হবে</td>\n",
       "      <td>story</td>\n",
       "      <td>7d360d77-8797-41b4-b368-19426a2c4989</td>\n",
       "      <td>https://www.prothomalo.com/old-prothomalo/১৮-ব...</td>\n",
       "      <td>জাতীয় শিশুনীতি ২০১০-এর খসড়ায় ১৮ বছরের কম বয়সীদ...</td>\n",
       "      <td>1585254019205</td>\n",
       "      <td>1600110643412</td>\n",
       "      <td>old-prothomalo</td>\n",
       "    </tr>\n",
       "    <tr>\n",
       "      <th>89996</th>\n",
       "      <td>[]</td>\n",
       "      <td>বৃষ্টিপাতের ধরনে পরিবর্তনই অকাল বন্যার কারণ</td>\n",
       "      <td>story</td>\n",
       "      <td>acf20bf6-ae4a-4d32-9395-466f994c5f44</td>\n",
       "      <td>https://www.prothomalo.com/old-prothomalo/বৃষ্...</td>\n",
       "      <td>বর্ষাকালীন স্বাভাবিক বন্যার তুলনায় কিছুটা বেশি...</td>\n",
       "      <td>1585254018724</td>\n",
       "      <td>1600110642836</td>\n",
       "      <td>old-prothomalo</td>\n",
       "    </tr>\n",
       "    <tr>\n",
       "      <th>89997</th>\n",
       "      <td>[]</td>\n",
       "      <td>ফাটল মেরামতে নতুন দরপত্র ডাকার সিদ্ধান্ত</td>\n",
       "      <td>story</td>\n",
       "      <td>74181d11-83b0-4587-98d5-a51a99c7600b</td>\n",
       "      <td>https://www.prothomalo.com/old-prothomalo/ফাটল...</td>\n",
       "      <td>বঙ্গবন্ধু যমুনা সেতুর ফাটল মেরামতে পুনরায় দরপত...</td>\n",
       "      <td>1585254018255</td>\n",
       "      <td>1600110642263</td>\n",
       "      <td>old-prothomalo</td>\n",
       "    </tr>\n",
       "    <tr>\n",
       "      <th>89998</th>\n",
       "      <td>[]</td>\n",
       "      <td>একনজরে</td>\n",
       "      <td>story</td>\n",
       "      <td>b5e607fa-0859-41db-9a21-b450bad004a2</td>\n",
       "      <td>https://www.prothomalo.com/bangladesh/একনজরে-440</td>\n",
       "      <td>পুড়ে গেছে ৮ দোকান গোপালগঞ্জের মুকসুদপুর উপজেলা...</td>\n",
       "      <td>1585254016960</td>\n",
       "      <td>1600110641697</td>\n",
       "      <td>bangladesh</td>\n",
       "    </tr>\n",
       "    <tr>\n",
       "      <th>89999</th>\n",
       "      <td>[]</td>\n",
       "      <td>অনলাইন বুকিং</td>\n",
       "      <td>story</td>\n",
       "      <td>15435ed2-f776-4f6d-b586-f76dcdd53380</td>\n",
       "      <td>https://www.prothomalo.com/bangladesh/অনলাইন-ব...</td>\n",
       "      <td>পশ্চিমাঞ্চল রেলওয়ের অনলাইন বুকিং পাঁচ মাস বন্ধ...</td>\n",
       "      <td>1585254016744</td>\n",
       "      <td>1600110641420</td>\n",
       "      <td>bangladesh</td>\n",
       "    </tr>\n",
       "  </tbody>\n",
       "</table>\n",
       "<p>90000 rows × 9 columns</p>\n",
       "</div>"
      ],
      "text/plain": [
       "      tags                                     headline content_type  \\\n",
       "0       []                              বন্ধু হতে চাইলে        story   \n",
       "1       []                          আমার মনে দাগ কেটেছে        story   \n",
       "2       []                   কাপ্তাই বন্ধুসভার শপথ বৈঠক        story   \n",
       "3       []                              সে এই শহরে একজন        story   \n",
       "4       []                     তিন বন্ধুসভার নতুন কমিটি        story   \n",
       "...    ...                                          ...          ...   \n",
       "89995   []             ১৮ বছরের কম বয়সীদের শিশু বলা হবে        story   \n",
       "89996   []  বৃষ্টিপাতের ধরনে পরিবর্তনই অকাল বন্যার কারণ        story   \n",
       "89997   []     ফাটল মেরামতে নতুন দরপত্র ডাকার সিদ্ধান্ত        story   \n",
       "89998   []                                       একনজরে        story   \n",
       "89999   []                                 অনলাইন বুকিং        story   \n",
       "\n",
       "                                 content_id  \\\n",
       "0      f41ca5d8-2bb4-41e7-8568-fadcb54d7a96   \n",
       "1      72aeaed4-1403-43e7-9f5d-00a9b49a3bb5   \n",
       "2      bed890f9-2aeb-4656-bb88-9fbbb2e4728f   \n",
       "3      672eaa60-aa6f-4ac7-ba8a-6610c6245453   \n",
       "4      9f02bde2-9a6a-4626-869c-2d9d382dbc93   \n",
       "...                                     ...   \n",
       "89995  7d360d77-8797-41b4-b368-19426a2c4989   \n",
       "89996  acf20bf6-ae4a-4d32-9395-466f994c5f44   \n",
       "89997  74181d11-83b0-4587-98d5-a51a99c7600b   \n",
       "89998  b5e607fa-0859-41db-9a21-b450bad004a2   \n",
       "89999  15435ed2-f776-4f6d-b586-f76dcdd53380   \n",
       "\n",
       "                                                     url  \\\n",
       "0            https://www.bondhushava.com/বন্ধু-হতে-চাইলে   \n",
       "1        https://www.bondhushava.com/আমার-মনে-দাগ-কেটেছে   \n",
       "2      https://www.bondhushava.com/কাপ্তাই-বন্ধুসভার-...   \n",
       "3            https://www.bondhushava.com/সে-এই-শহরে-একজন   \n",
       "4      https://www.bondhushava.com/তিন-বন্ধুসভার-নতুন...   \n",
       "...                                                  ...   \n",
       "89995  https://www.prothomalo.com/old-prothomalo/১৮-ব...   \n",
       "89996  https://www.prothomalo.com/old-prothomalo/বৃষ্...   \n",
       "89997  https://www.prothomalo.com/old-prothomalo/ফাটল...   \n",
       "89998   https://www.prothomalo.com/bangladesh/একনজরে-440   \n",
       "89999  https://www.prothomalo.com/bangladesh/অনলাইন-ব...   \n",
       "\n",
       "                                                    body     added_time  \\\n",
       "0      সারা দেশ থেকে অনেকেই ফোন করেন। জানতে চান, কীভা...  1585239868702   \n",
       "1      আমার পড়া বা আমার সংগ্রহে কিছু বই আছে, যা আমার ...  1585239868532   \n",
       "2      আগামী ১৯ জুন কক্সবাজারে আয়োজিত শপথ অনুষ্ঠানে য...  1585239868348   \n",
       "3      অচেনা শহর। শহরের প্রতিটি বাড়ি, প্রতিটি বারান্দ...  1585239868176   \n",
       "4      কক্সবাজার সরকারি মহিলা কলেজ বন্ধুসভা: ১০ জুন, ...  1585239868001   \n",
       "...                                                  ...            ...   \n",
       "89995  জাতীয় শিশুনীতি ২০১০-এর খসড়ায় ১৮ বছরের কম বয়সীদ...  1585254019205   \n",
       "89996  বর্ষাকালীন স্বাভাবিক বন্যার তুলনায় কিছুটা বেশি...  1585254018724   \n",
       "89997  বঙ্গবন্ধু যমুনা সেতুর ফাটল মেরামতে পুনরায় দরপত...  1585254018255   \n",
       "89998  পুড়ে গেছে ৮ দোকান গোপালগঞ্জের মুকসুদপুর উপজেলা...  1585254016960   \n",
       "89999  পশ্চিমাঞ্চল রেলওয়ের অনলাইন বুকিং পাঁচ মাস বন্ধ...  1585254016744   \n",
       "\n",
       "        updated_time    general_type  \n",
       "0      1600084506472             NaN  \n",
       "1      1600084506204             NaN  \n",
       "2      1600084505932             NaN  \n",
       "3      1600084505663             NaN  \n",
       "4      1600084505381             NaN  \n",
       "...              ...             ...  \n",
       "89995  1600110643412  old-prothomalo  \n",
       "89996  1600110642836  old-prothomalo  \n",
       "89997  1600110642263  old-prothomalo  \n",
       "89998  1600110641697      bangladesh  \n",
       "89999  1600110641420      bangladesh  \n",
       "\n",
       "[90000 rows x 9 columns]"
      ]
     },
     "execution_count": 6,
     "metadata": {},
     "output_type": "execute_result"
    }
   ],
   "source": [
    "df['general_type'] = df['general_type'].str[0]\n",
    "df['body'] = df['body'].str[0].str.replace('<p>', '').replace('</p>', '')\n",
    "df"
   ]
  },
  {
   "cell_type": "code",
   "execution_count": 7,
   "id": "ade066de",
   "metadata": {
    "scrolled": true
   },
   "outputs": [
    {
     "data": {
      "text/html": [
       "<div>\n",
       "<style scoped>\n",
       "    .dataframe tbody tr th:only-of-type {\n",
       "        vertical-align: middle;\n",
       "    }\n",
       "\n",
       "    .dataframe tbody tr th {\n",
       "        vertical-align: top;\n",
       "    }\n",
       "\n",
       "    .dataframe thead th {\n",
       "        text-align: right;\n",
       "    }\n",
       "</style>\n",
       "<table border=\"1\" class=\"dataframe\">\n",
       "  <thead>\n",
       "    <tr style=\"text-align: right;\">\n",
       "      <th></th>\n",
       "      <th>general_type</th>\n",
       "      <th>body</th>\n",
       "    </tr>\n",
       "  </thead>\n",
       "  <tbody>\n",
       "    <tr>\n",
       "      <th>0</th>\n",
       "      <td>NaN</td>\n",
       "      <td>সারা দেশ থেকে অনেকেই ফোন করেন। জানতে চান, কীভা...</td>\n",
       "    </tr>\n",
       "    <tr>\n",
       "      <th>1</th>\n",
       "      <td>NaN</td>\n",
       "      <td>আমার পড়া বা আমার সংগ্রহে কিছু বই আছে, যা আমার ...</td>\n",
       "    </tr>\n",
       "    <tr>\n",
       "      <th>2</th>\n",
       "      <td>NaN</td>\n",
       "      <td>আগামী ১৯ জুন কক্সবাজারে আয়োজিত শপথ অনুষ্ঠানে য...</td>\n",
       "    </tr>\n",
       "    <tr>\n",
       "      <th>3</th>\n",
       "      <td>NaN</td>\n",
       "      <td>অচেনা শহর। শহরের প্রতিটি বাড়ি, প্রতিটি বারান্দ...</td>\n",
       "    </tr>\n",
       "    <tr>\n",
       "      <th>4</th>\n",
       "      <td>NaN</td>\n",
       "      <td>কক্সবাজার সরকারি মহিলা কলেজ বন্ধুসভা: ১০ জুন, ...</td>\n",
       "    </tr>\n",
       "    <tr>\n",
       "      <th>...</th>\n",
       "      <td>...</td>\n",
       "      <td>...</td>\n",
       "    </tr>\n",
       "    <tr>\n",
       "      <th>89995</th>\n",
       "      <td>old-prothomalo</td>\n",
       "      <td>জাতীয় শিশুনীতি ২০১০-এর খসড়ায় ১৮ বছরের কম বয়সীদ...</td>\n",
       "    </tr>\n",
       "    <tr>\n",
       "      <th>89996</th>\n",
       "      <td>old-prothomalo</td>\n",
       "      <td>বর্ষাকালীন স্বাভাবিক বন্যার তুলনায় কিছুটা বেশি...</td>\n",
       "    </tr>\n",
       "    <tr>\n",
       "      <th>89997</th>\n",
       "      <td>old-prothomalo</td>\n",
       "      <td>বঙ্গবন্ধু যমুনা সেতুর ফাটল মেরামতে পুনরায় দরপত...</td>\n",
       "    </tr>\n",
       "    <tr>\n",
       "      <th>89998</th>\n",
       "      <td>bangladesh</td>\n",
       "      <td>পুড়ে গেছে ৮ দোকান গোপালগঞ্জের মুকসুদপুর উপজেলা...</td>\n",
       "    </tr>\n",
       "    <tr>\n",
       "      <th>89999</th>\n",
       "      <td>bangladesh</td>\n",
       "      <td>পশ্চিমাঞ্চল রেলওয়ের অনলাইন বুকিং পাঁচ মাস বন্ধ...</td>\n",
       "    </tr>\n",
       "  </tbody>\n",
       "</table>\n",
       "<p>90000 rows × 2 columns</p>\n",
       "</div>"
      ],
      "text/plain": [
       "         general_type                                               body\n",
       "0                 NaN  সারা দেশ থেকে অনেকেই ফোন করেন। জানতে চান, কীভা...\n",
       "1                 NaN  আমার পড়া বা আমার সংগ্রহে কিছু বই আছে, যা আমার ...\n",
       "2                 NaN  আগামী ১৯ জুন কক্সবাজারে আয়োজিত শপথ অনুষ্ঠানে য...\n",
       "3                 NaN  অচেনা শহর। শহরের প্রতিটি বাড়ি, প্রতিটি বারান্দ...\n",
       "4                 NaN  কক্সবাজার সরকারি মহিলা কলেজ বন্ধুসভা: ১০ জুন, ...\n",
       "...               ...                                                ...\n",
       "89995  old-prothomalo  জাতীয় শিশুনীতি ২০১০-এর খসড়ায় ১৮ বছরের কম বয়সীদ...\n",
       "89996  old-prothomalo  বর্ষাকালীন স্বাভাবিক বন্যার তুলনায় কিছুটা বেশি...\n",
       "89997  old-prothomalo  বঙ্গবন্ধু যমুনা সেতুর ফাটল মেরামতে পুনরায় দরপত...\n",
       "89998      bangladesh  পুড়ে গেছে ৮ দোকান গোপালগঞ্জের মুকসুদপুর উপজেলা...\n",
       "89999      bangladesh  পশ্চিমাঞ্চল রেলওয়ের অনলাইন বুকিং পাঁচ মাস বন্ধ...\n",
       "\n",
       "[90000 rows x 2 columns]"
      ]
     },
     "execution_count": 7,
     "metadata": {},
     "output_type": "execute_result"
    }
   ],
   "source": [
    "df = df[['general_type', 'body']]\n",
    "df"
   ]
  },
  {
   "cell_type": "code",
   "execution_count": 8,
   "id": "05329400",
   "metadata": {
    "scrolled": true
   },
   "outputs": [
    {
     "name": "stderr",
     "output_type": "stream",
     "text": [
      "C:\\Users\\SSROY\\AppData\\Local\\Temp\\ipykernel_9048\\3287021994.py:1: SettingWithCopyWarning: \n",
      "A value is trying to be set on a copy of a slice from a DataFrame\n",
      "\n",
      "See the caveats in the documentation: https://pandas.pydata.org/pandas-docs/stable/user_guide/indexing.html#returning-a-view-versus-a-copy\n",
      "  df.dropna(inplace=True)\n",
      "C:\\Users\\SSROY\\AppData\\Local\\Temp\\ipykernel_9048\\3287021994.py:3: SettingWithCopyWarning: \n",
      "A value is trying to be set on a copy of a slice from a DataFrame\n",
      "\n",
      "See the caveats in the documentation: https://pandas.pydata.org/pandas-docs/stable/user_guide/indexing.html#returning-a-view-versus-a-copy\n",
      "  df.drop_duplicates(subset='body', keep='first',inplace=True)\n"
     ]
    },
    {
     "data": {
      "text/plain": [
       "(     general_type                                               body\n",
       " 0  old-prothomalo  এবার কাউন্সিলে আওয়ামী লীগের সাংগঠনিক অবয়ব বাড়ছ...\n",
       " 1  old-prothomalo  সিলেট সিটি করপোরেশনের মেয়র বদরউদ্দিন আহমদ কামর...\n",
       " 2  old-prothomalo  ভারতীয় জঙ্গি সংগঠন আসিফ রেজা কমান্ডো ফোর্স এবং...\n",
       " 3  old-prothomalo  রাজনৈতিক চাপ প্রয়োগ করে ব্যাংক ও আর্থিক প্রতিষ...\n",
       " 4  old-prothomalo  স্বাস্থ্যকুশল প্রতিবেদক সম্প্রতি অ্যাপোলো হাসপ...,\n",
       " (88590, 2))"
      ]
     },
     "execution_count": 8,
     "metadata": {},
     "output_type": "execute_result"
    }
   ],
   "source": [
    "df.dropna(inplace=True)\n",
    "# Remove duplicates in 'body' column, keeping the first occurrence\n",
    "df.drop_duplicates(subset='body', keep='first',inplace=True)\n",
    "df.reset_index(inplace=True, drop=True)\n",
    "df.head(), df.shape"
   ]
  },
  {
   "cell_type": "code",
   "execution_count": 9,
   "id": "4b3aff87",
   "metadata": {},
   "outputs": [
    {
     "data": {
      "text/plain": [
       "(88590, 10)"
      ]
     },
     "execution_count": 9,
     "metadata": {},
     "output_type": "execute_result"
    }
   ],
   "source": [
    "n = len(df['body'].unique())\n",
    "unique_label = len(df['general_type'].unique())\n",
    "n,unique_label"
   ]
  },
  {
   "cell_type": "code",
   "execution_count": 10,
   "id": "22cc4654",
   "metadata": {
    "scrolled": true
   },
   "outputs": [
    {
     "data": {
      "text/plain": [
       "array(['old-prothomalo', 'sports', 'business', 'bangladesh', 'education',\n",
       "       'world', 'entertainment', 'feature', 'opinion', 'onnoalo'],\n",
       "      dtype=object)"
      ]
     },
     "execution_count": 10,
     "metadata": {},
     "output_type": "execute_result"
    }
   ],
   "source": [
    "df['general_type'].unique()"
   ]
  },
  {
   "cell_type": "code",
   "execution_count": 11,
   "id": "2b31051c",
   "metadata": {},
   "outputs": [],
   "source": [
    "# df = df.sample(m, replace=False)\n",
    "# df.reset_index(inplace=True)\n",
    "# # df.drop(['level_0', 'index'], inplace = True)\n",
    "# df"
   ]
  },
  {
   "cell_type": "code",
   "execution_count": 12,
   "id": "7f8bfb89",
   "metadata": {},
   "outputs": [
    {
     "name": "stdout",
     "output_type": "stream",
     "text": [
      "এবার কাউন্সিলে আওয়ামী লীগের সাংগঠনিক অবয়ব বাড়ছে না। আগের মতোই আওয়ামী লীগের কার্যনির্বাহী সংসদের পরিধি হবে ৭৩ সদস্যের। তবে নেতৃত্বে রদবদল হবে। সাধারণ সম্পাদকসহ অনেক পদে নতুন মুখ যুক্ত হবে। দলের একাধিক নীতিনির্ধারণী সূত্রে এ তথ্য জানা গেছে।বর্তমান গঠনতন্ত্র অনুযায়ী আওয়ামী লীগের কেন্দ্রীয় কার্যনির্বাহী সংসদে সাধারণ সম্পাদকসহ (পদাধিকারবলে) ১৫ সদস্যের সভাপতিমণ্ডলী, ৩২ সদস্যের সম্পাদকমণ্ডলী, একজন কোষাধ্যক্ষ ও ২৬ জন কেন্দ্রীয় কার্যনির্বাহী সংসদের সদস্য রয়েছেন।আজ বুধবার ধানমন্ডির কার্যালয়ে আওয়ামী লীগের বর্তমান কার্যনির্বাহী সংসদের শেষ বৈঠকে কাউন্সিলের সর্বশেষ প্রস্তুতি নিয়ে আলোচনা হবে। নতুন ঘোষণাপত্রের অনুমোদন দেওয়া হবে। আওয়ামী লীগের নির্বাচনী ইশতেহারকে ভিত্তি ধরে এবার ঘোষণাপত্র প্রণয়ন করা হচ্ছে।শুক্রবার অনুষ্ঠেয় জাতীয় কাউন্সিলের প্রস্তুতি এখন শেষ পর্যায়ে। ১০টি উপকমিটি কাজ করছে। দলীয় সভানেত্রীর বক্তৃতা, সাধারণ সম্পাদকের প্রতিবেদন, অভ্যর্থনা উপপরিষদের চেয়ারম্যানের বক্তৃতা ছাপার কাজ চলছে। বেশির ভাগ জেলার কাউন্সিলরের তালিকা এসে পৌঁছেছে। প্রায় সাড়ে পাঁচ হাজার কাউন্সিলর কাউন্সিলে যোগ দেবেন। ইতিমধ্যেই কাউন্সিলের দাওয়াতপত্র বিতরণ শুরু হয়েছে।বঙ্গবন্ধু কনভেনশন সেন্টারে (বাংলাদেশ-চীন মৈত্রী সম্মেলন কেন্দ্র) আওয়ামী লীগের ত্রিবার্ষিক কাউন্সিল অনুষ্ঠিত হবে। কাউন্সিলের প্রথম অধিবেশন কনভেনশন সেন্টারে বাইরে হবে। সেখানে খোলা জায়গায় বিশাল প্যান্ডেল করা হচ্ছে। শতাধিক শ্রমিক সেখানে কাজ করছে। বাণিজ্য মেলার মাঠেও আরেকটি প্যান্ডেল হচ্ছে। সেখানে বড় পর্দায় কাউন্সিল অনুষ্ঠান দেখা যাবে। কাউন্সিলের দ্বিতীয় অধিবেশন হবে কনভেনশন সেন্টারের ভেতরে।সার্বিক প্রস্তুতি দেখতে কাউন্সিল ব্যবস্থাপনা উপকমিটির চেয়ারম্যান ওবায়দুল কাদেরসহ সুলতান মোহাম্মদ মনসুর আহমেদ, আসাদুজ্জামান নূর, অসীম কুমার উকিল গতকাল বঙ্গবন্ধু কনভেনশন সেন্টারে যান।আওয়ামী লীগের কাউন্সিলে নির্বাচনের প্রস্তুতিও থাকছে। আবদুল মান্নানকে আহ্বায়ক এবং রহমত আলী ও আমজাদ হোসেনকে সদস্য করে নির্বাচন কমিশন গঠন করা হয়েছে। কাউন্সিলে স্বচ্ছ ব্যালট বাক্স ও ব্যালট পেপার রাখা হবে। তবে রেওয়াজ অনুযায়ী মতৈক্যের ভিত্তিতেই নেতা নির্বাচনের চেষ্টা করা হবে। প্রয়োজনে প্রত্যক্ষ ভোটের আয়োজনও থাকবে।</p>\n"
     ]
    }
   ],
   "source": [
    "# Print the content of the first 'body' entry\n",
    "first_body_content = df.loc[0, 'body']\n",
    "print(first_body_content)"
   ]
  },
  {
   "cell_type": "code",
   "execution_count": 13,
   "id": "b724eea7",
   "metadata": {
    "scrolled": false
   },
   "outputs": [
    {
     "data": {
      "text/plain": [
       "bangladesh        26727\n",
       "old-prothomalo    22747\n",
       "sports             8577\n",
       "feature            7311\n",
       "world              5881\n",
       "entertainment      4935\n",
       "education          4723\n",
       "business           3610\n",
       "opinion            3208\n",
       "onnoalo             871\n",
       "Name: general_type, dtype: int64"
      ]
     },
     "execution_count": 13,
     "metadata": {},
     "output_type": "execute_result"
    }
   ],
   "source": [
    "gen_type_counts = df['general_type'].value_counts()\n",
    "gen_type_counts"
   ]
  },
  {
   "cell_type": "code",
   "execution_count": 18,
   "id": "cee3d341",
   "metadata": {},
   "outputs": [
    {
     "name": "stdout",
     "output_type": "stream",
     "text": [
      "3\n",
      "Randomly selected gen_type values:\n",
      "['business' 'opinion' 'entertainment']\n"
     ]
    }
   ],
   "source": [
    "import random\n",
    "# Filter gen_type values based on count criteria\n",
    "filtered_gen_types = gen_type_counts[(gen_type_counts > 500) & (gen_type_counts < 5000)]\n",
    "\n",
    "random_classes_number = random.randint(3, 6)\n",
    "print(random_classes_number)\n",
    "# Ensure we have at least 5 gen_type values that meet the criteria\n",
    "if len(filtered_gen_types) >= random_classes_number:\n",
    "    # Randomly select 5 gen_type values from the filtered list\n",
    "    random_gen_types = np.random.choice(filtered_gen_types.index, random_classes_number, replace=False)\n",
    "    print(\"Randomly selected gen_type values:\")\n",
    "    print(random_gen_types)\n",
    "else:\n",
    "    print(\"Not enough gen_type values meeting the criteria.\")"
   ]
  },
  {
   "cell_type": "code",
   "execution_count": 19,
   "id": "776a6376",
   "metadata": {},
   "outputs": [
    {
     "data": {
      "text/html": [
       "<div>\n",
       "<style scoped>\n",
       "    .dataframe tbody tr th:only-of-type {\n",
       "        vertical-align: middle;\n",
       "    }\n",
       "\n",
       "    .dataframe tbody tr th {\n",
       "        vertical-align: top;\n",
       "    }\n",
       "\n",
       "    .dataframe thead th {\n",
       "        text-align: right;\n",
       "    }\n",
       "</style>\n",
       "<table border=\"1\" class=\"dataframe\">\n",
       "  <thead>\n",
       "    <tr style=\"text-align: right;\">\n",
       "      <th></th>\n",
       "      <th>general_type</th>\n",
       "      <th>body</th>\n",
       "    </tr>\n",
       "  </thead>\n",
       "  <tbody>\n",
       "    <tr>\n",
       "      <th>0</th>\n",
       "      <td>business</td>\n",
       "      <td>মো. হাবিবুর রহমানপানি উন্নয়ন বোর্ডের সাবেক মৃত...</td>\n",
       "    </tr>\n",
       "    <tr>\n",
       "      <th>1</th>\n",
       "      <td>business</td>\n",
       "      <td>ব্রজেন কুমার সাহাফরিদপুর চেম্বার অব কমার্স অ্য...</td>\n",
       "    </tr>\n",
       "    <tr>\n",
       "      <th>2</th>\n",
       "      <td>business</td>\n",
       "      <td>চিত্রকর্ম আহ্বান প্রদর্শনীর জন্য বাঙালি চিত্রশ...</td>\n",
       "    </tr>\n",
       "    <tr>\n",
       "      <th>3</th>\n",
       "      <td>business</td>\n",
       "      <td>ফরিদপুর অফিসফরিদপুরের ভাঙ্গা উপজেলার লক্ষ্মীপু...</td>\n",
       "    </tr>\n",
       "    <tr>\n",
       "      <th>4</th>\n",
       "      <td>business</td>\n",
       "      <td>সোনারগাঁ (নারায়ণগঞ্জ) প্রতিনিধিনারায়ণগঞ্জের সো...</td>\n",
       "    </tr>\n",
       "    <tr>\n",
       "      <th>...</th>\n",
       "      <td>...</td>\n",
       "      <td>...</td>\n",
       "    </tr>\n",
       "    <tr>\n",
       "      <th>11748</th>\n",
       "      <td>entertainment</td>\n",
       "      <td>ক্যানসারে ভুগে মাত্র ৩৬ বছর বয়সে ধরাধাম ত্যাগ ...</td>\n",
       "    </tr>\n",
       "    <tr>\n",
       "      <th>11749</th>\n",
       "      <td>entertainment</td>\n",
       "      <td>আমেরিকান আইডল-এর বিচারক হতে চলেছেন গায়িকা ও অভ...</td>\n",
       "    </tr>\n",
       "    <tr>\n",
       "      <th>11750</th>\n",
       "      <td>entertainment</td>\n",
       "      <td>‘আমি সাধারণত নিজের ছবির জন্যই গান লিখি। অন্য ছ...</td>\n",
       "    </tr>\n",
       "    <tr>\n",
       "      <th>11751</th>\n",
       "      <td>entertainment</td>\n",
       "      <td>ফুসফুসে ক্যানসার-আক্রান্ত স্বাধীন বাংলা বেতার ...</td>\n",
       "    </tr>\n",
       "    <tr>\n",
       "      <th>11752</th>\n",
       "      <td>entertainment</td>\n",
       "      <td>‘আমি এর আগে পাঁচটি ছবি তৈরি করেছি। সব কটি ছবিই...</td>\n",
       "    </tr>\n",
       "  </tbody>\n",
       "</table>\n",
       "<p>11753 rows × 2 columns</p>\n",
       "</div>"
      ],
      "text/plain": [
       "        general_type                                               body\n",
       "0           business  মো. হাবিবুর রহমানপানি উন্নয়ন বোর্ডের সাবেক মৃত...\n",
       "1           business  ব্রজেন কুমার সাহাফরিদপুর চেম্বার অব কমার্স অ্য...\n",
       "2           business  চিত্রকর্ম আহ্বান প্রদর্শনীর জন্য বাঙালি চিত্রশ...\n",
       "3           business  ফরিদপুর অফিসফরিদপুরের ভাঙ্গা উপজেলার লক্ষ্মীপু...\n",
       "4           business  সোনারগাঁ (নারায়ণগঞ্জ) প্রতিনিধিনারায়ণগঞ্জের সো...\n",
       "...              ...                                                ...\n",
       "11748  entertainment  ক্যানসারে ভুগে মাত্র ৩৬ বছর বয়সে ধরাধাম ত্যাগ ...\n",
       "11749  entertainment  আমেরিকান আইডল-এর বিচারক হতে চলেছেন গায়িকা ও অভ...\n",
       "11750  entertainment  ‘আমি সাধারণত নিজের ছবির জন্যই গান লিখি। অন্য ছ...\n",
       "11751  entertainment  ফুসফুসে ক্যানসার-আক্রান্ত স্বাধীন বাংলা বেতার ...\n",
       "11752  entertainment  ‘আমি এর আগে পাঁচটি ছবি তৈরি করেছি। সব কটি ছবিই...\n",
       "\n",
       "[11753 rows x 2 columns]"
      ]
     },
     "execution_count": 19,
     "metadata": {},
     "output_type": "execute_result"
    }
   ],
   "source": [
    "# Create a list of specific categories\n",
    "categories = random_gen_types\n",
    "\n",
    "# Use boolean indexing to filter rows based on the 'Section' column\n",
    "df = df[df['general_type'].isin(categories)]\n",
    "df.reset_index(inplace=True, drop=True)\n",
    "# Print the new DataFrame\n",
    "df"
   ]
  },
  {
   "cell_type": "code",
   "execution_count": 20,
   "id": "a5b6f13c",
   "metadata": {},
   "outputs": [
    {
     "data": {
      "text/plain": [
       "entertainment    4935\n",
       "business         3610\n",
       "opinion          3208\n",
       "Name: general_type, dtype: int64"
      ]
     },
     "execution_count": 20,
     "metadata": {},
     "output_type": "execute_result"
    }
   ],
   "source": [
    "df['general_type'].value_counts()"
   ]
  },
  {
   "cell_type": "code",
   "execution_count": 21,
   "id": "84e69534",
   "metadata": {
    "scrolled": true
   },
   "outputs": [
    {
     "data": {
      "text/plain": [
       "11753"
      ]
     },
     "execution_count": 21,
     "metadata": {},
     "output_type": "execute_result"
    }
   ],
   "source": [
    "each_class= df['general_type'].value_counts()\n",
    "each_class.sum()"
   ]
  },
  {
   "cell_type": "code",
   "execution_count": 22,
   "id": "32b8826c",
   "metadata": {},
   "outputs": [
    {
     "data": {
      "text/plain": [
       "<Axes: >"
      ]
     },
     "execution_count": 22,
     "metadata": {},
     "output_type": "execute_result"
    },
    {
     "data": {
      "image/png": "[encoded data removed]",
      "text/plain": [
       "<Figure size 640x480 with 1 Axes>"
      ]
     },
     "metadata": {},
     "output_type": "display_data"
    }
   ],
   "source": [
    "each_class.plot.bar()"
   ]
  },
  {
   "cell_type": "code",
   "execution_count": 23,
   "id": "5d0dcefd",
   "metadata": {},
   "outputs": [
    {
     "data": {
      "text/plain": [
       "(0        মো. হাবিবুর রহমানপানি উন্নয়ন বোর্ডের সাবেক মৃত...\n",
       " 1        ব্রজেন কুমার সাহাফরিদপুর চেম্বার অব কমার্স অ্য...\n",
       " 2        চিত্রকর্ম আহ্বান প্রদর্শনীর জন্য বাঙালি চিত্রশ...\n",
       " 3        ফরিদপুর অফিসফরিদপুরের ভাঙ্গা উপজেলার লক্ষ্মীপু...\n",
       " 4        সোনারগাঁ (নারায়ণগঞ্জ) প্রতিনিধিনারায়ণগঞ্জের সো...\n",
       "                                ...                        \n",
       " 11748    ক্যানসারে ভুগে মাত্র ৩৬ বছর বয়সে ধরাধাম ত্যাগ ...\n",
       " 11749    আমেরিকান আইডল-এর বিচারক হতে চলেছেন গায়িকা ও অভ...\n",
       " 11750    ‘আমি সাধারণত নিজের ছবির জন্যই গান লিখি। অন্য ছ...\n",
       " 11751    ফুসফুসে ক্যানসার-আক্রান্ত স্বাধীন বাংলা বেতার ...\n",
       " 11752    ‘আমি এর আগে পাঁচটি ছবি তৈরি করেছি। সব কটি ছবিই...\n",
       " Name: body, Length: 11753, dtype: object,\n",
       " 0             business\n",
       " 1             business\n",
       " 2             business\n",
       " 3             business\n",
       " 4             business\n",
       "              ...      \n",
       " 11748    entertainment\n",
       " 11749    entertainment\n",
       " 11750    entertainment\n",
       " 11751    entertainment\n",
       " 11752    entertainment\n",
       " Name: general_type, Length: 11753, dtype: object)"
      ]
     },
     "execution_count": 23,
     "metadata": {},
     "output_type": "execute_result"
    }
   ],
   "source": [
    "X = df['body']\n",
    "y=df['general_type']\n",
    "X,y"
   ]
  },
  {
   "cell_type": "code",
   "execution_count": 24,
   "id": "8d15beb3",
   "metadata": {},
   "outputs": [
    {
     "data": {
      "text/plain": [
       "(['business', 'entertainment', 'opinion'],\n",
       " general_type        3\n",
       " body            11753\n",
       " dtype: int64)"
      ]
     },
     "execution_count": 24,
     "metadata": {},
     "output_type": "execute_result"
    }
   ],
   "source": [
    "## Get the Dependent features\n",
    "classes = list(y.unique())\n",
    "classes, df.nunique()"
   ]
  },
  {
   "cell_type": "code",
   "execution_count": 25,
   "id": "dc506bc3",
   "metadata": {},
   "outputs": [
    {
     "data": {
      "text/plain": [
       "(array([0, 0, 0, ..., 1, 1, 1]), 11753)"
      ]
     },
     "execution_count": 25,
     "metadata": {},
     "output_type": "execute_result"
    }
   ],
   "source": [
    "from sklearn.preprocessing import LabelEncoder\n",
    "y = LabelEncoder().fit_transform(y)\n",
    "y, len(y)"
   ]
  },
  {
   "cell_type": "code",
   "execution_count": 26,
   "id": "27515526",
   "metadata": {},
   "outputs": [
    {
     "name": "stdout",
     "output_type": "stream",
     "text": [
      "[0 1 2] [3610 4935 3208]\n"
     ]
    }
   ],
   "source": [
    "import numpy as np\n",
    "unique_values, counts = np.unique(y, return_counts=True)\n",
    "print(unique_values, counts)"
   ]
  },
  {
   "cell_type": "code",
   "execution_count": 27,
   "id": "cef16d60",
   "metadata": {},
   "outputs": [
    {
     "data": {
      "text/plain": [
       "732"
      ]
     },
     "execution_count": 27,
     "metadata": {},
     "output_type": "execute_result"
    }
   ],
   "source": [
    "import re\n",
    "from temp_stemmer.bangla_stemmer.stemmer.stemmer import BanglaStemmer  # for stemming \n",
    "st_words = ('অই', 'অগত্যা', 'অত: পর', 'অতএব', 'অথচ', 'অথবা', 'অধিক', 'অধীনে', 'অধ্যায়', 'অনুগ্রহ', 'অনুভূত', 'অনুযায়ী', 'অনুরূপ', 'অনুসন্ধান', 'অনুসরণ', 'অনুসারে', 'অনুসৃত', 'অনেক', 'অনেকে', 'অনেকেই', 'অন্তত', 'অন্য', 'অন্যত্র', 'অন্যভাবে', 'অন্যান্য', 'অপেক্ষাকৃতভাবে', 'অবধি', 'অবশ্য', 'অবশ্যই', 'অবস্থা', 'অবিলম্বে', 'অভ্যন্তরস্থ', 'অর্জিত', 'অর্থাত', 'অসদৃশ', 'অসম্ভাব্য', 'আইন', 'আউট', 'আক্রান্ত', 'আগামী', 'আগে', 'আগেই', 'আগ্রহী', 'আছে', 'আজ', 'আট', 'আদেশ', 'আদ্যভাগে', 'আন্দাজ', 'আপনার', 'আপনি', 'আবার', 'আমরা', 'আমাকে', 'আমাদিগের', 'আমাদের', 'আমার', 'আমি', 'আর', 'আরও', 'আশি', 'আশু', 'আসা', 'আসে', 'ই', 'ইচ্ছা', 'ইচ্ছাপূর্বক', 'ইতিমধ্যে', 'ইতোমধ্যে', 'ইত্যাদি', 'ইশারা', 'ইহা', 'ইহাতে', 'উক্তি', 'উচিত', 'উচ্চ', 'উঠা', 'উত্তম', 'উত্তর', 'উনি', 'উপর', 'উপরে', 'উপলব্ধ', 'উপায়', 'উভয়', 'উল্লেখ', 'উল্লেখযোগ্যভাবে', 'উহার', 'ঊর্ধ্বতন', 'এ', 'এপর্যন্ত', 'এঁদের', 'এঁরা', 'এই', 'এইগুলো', 'এইভাবে', 'এক', 'একই', 'একটি', 'একদা', 'একবার', 'একভাবে', 'একরকম', 'একসঙ্গে', 'একা', 'একে', 'এক্', 'এখন', 'এখনও', 'এখনো', 'এখানে', 'এখানেই', 'এছাড়াও', 'এটা', 'এটাই', 'এটি', 'এত', 'এতটাই', 'এতদ্বারা', 'এতে', 'এদিকে', 'এদের', 'এপর্যন্ত', 'এবং', 'এবার', 'এমন', 'এমনকি', 'এমনকী', 'এমনি', 'এর', 'এরকম', 'এরা', 'এল', 'এলাকায়', 'এলাকার', 'এস', 'এসে', 'ঐ', 'ও', 'ওঁদের', 'ওঁর', 'ওঁরা', 'ওই', 'ওকে', 'ওখানে', 'ওদের', 'ওর', 'ওরা', 'ওহে', 'কক্ষ', 'কখন', 'কখনও', 'কত', 'কবে', 'কম', 'কমনে', 'কয়েক', 'কয়েকটি', 'করছে', 'করছেন', 'করতে', 'করবে', 'করবেন', 'করলে', 'করলেন', 'করলো', 'করা', 'করাই', 'করাত', 'করার', 'করায়', 'করি', 'করিতে', 'করিয়া', 'করিয়ে', 'করে', 'করেই', 'করেছিল', 'করেছিলেন', 'করেছে', 'করেছেন', 'করেন', 'কর্তব্য', 'কাউকে', 'কাছ', 'কাছাকাছি', 'কাছে', 'কাজ', 'কাজে', 'কারও', 'কারণ', 'কারণসমূহ', 'কারো', 'কি', 'কিংবা', 'কিছু', 'কিছুই', 'কিছুটা', 'কিছুনা', 'কিনা', 'কিন্তু', 'কিভাবে', 'কী', 'কূপ', 'কে', 'কেউ', 'কেউই', 'কেউনা', 'কেখা', 'কেন', 'কেবল', 'কেবা', 'কেস', 'কেহ', 'কোটি', 'কোথা', 'কোথাও', 'কোথায়', 'কোন', 'কোনও', 'কোনো', 'ক্রম', 'ক্ষেত্রে', 'কয়েক', 'কয়েকটি', 'খুঁজছেন', 'খুব', 'খোলা', 'খোলে', 'গড়', 'গত', 'গিয়ে', 'গিয়েছিলাম', 'গিয়েছে', 'গিয়ে', 'গিয়েছে', 'গুরুত্ব', 'গুলি', 'গেছে', 'গেল', 'গেলে', 'গোটা', 'গোষ্ঠীবদ্ধ', 'গ্রহণ', 'গ্রুপ', 'ঘর', 'ঘোষণা', 'চলে', 'চান', 'চায়', 'চার', 'চালা', 'চালান', 'চালু', 'চায়', 'চেয়ে', 'চেয়েছিলেন', 'চেষ্টা', 'চেয়ে', 'ছয়', 'ছাড়া', 'ছাড়াছাড়ি', 'ছাড়া', 'ছাড়াও', 'ছিল', 'ছিলেন', 'ছোট', 'জন', 'জনকে', 'জনাব', 'জনাবা', 'জনের', 'জন্য', 'জানতাম', 'জানতে', 'জানা', 'জানানো', 'জানায়', 'জানিয়ে', 'জানিয়েছে', 'জানে', 'জায়গা', 'জিজ্ঞাসা', 'জিজ্ঞেস', 'জিনিস', 'জে', 'জ্নজন', 'টা', 'টি', 'ঠিক', 'ঠিকআছে', 'ডগা', 'তখন', 'তত', 'তত্কারণে', 'তত্প্রতি', 'তথা', 'তদনুসারে', 'তদ্ব্যতীত', 'তন্নতন্ন', 'তবু', 'তবে', 'তরুণ', 'তা', 'তাঁকে', 'তাঁদের', 'তাঁর', 'তাঁরা', 'তাঁহারা', 'তাই', 'তাও', 'তাকে', 'তাতে', 'তাদের', 'তার', 'তারপর', 'তারপরেও', 'তারা', 'তারিখ', 'তারৈ', 'তাহলে', 'তাহা', 'তাহাতে', 'তাহাদিগকে', 'তাহাদেরই', 'তাহার', 'তিন', 'তিনি', 'তিনিও', 'তীক্ষ্ন', 'তুমি', 'তুলে', 'তেমন', 'তৈরীর', 'তো', 'তোমার', 'তোলে', 'থাকবে', 'থাকবেন', 'থাকা', 'থাকায়', 'থাকায়', 'থাকে', 'থাকেন', 'থেকে', 'থেকেই', 'থেকেও', 'দরকারী', 'দলবদ্ধ', 'দান', 'দিকে', 'দিতে', 'দিন', 'দিয়ে', 'দিয়েছে', 'দিয়েছেন', 'দিলেন', 'দিয়ে', 'দিয়েছে', 'দিয়েছেন', 'দু', 'দুই', 'দুটি', 'দুটো', 'দূরে', 'দেওয়ার', 'দেওয়া', 'দেওয়ার', 'দেখতে', 'দেখা', 'দেখাচ্ছে', 'দেখিয়েছেন', 'দেখে', 'দেখেন', 'দেন', 'দেয়', 'দেয়', 'দ্বারা', 'দ্বিগুণ', 'দ্বিতীয়', 'দ্য', 'ধরা', 'ধরে', 'ধামার', 'নতুন', 'নব্বই', 'নয়', 'নাই', 'নাকি', 'নাগাদ', 'নানা', 'নাম', 'নিচে', 'নিছক', 'নিজে', 'নিজেই', 'নিজেকে', 'নিজেদের', 'নিজেদেরকে', 'নিজের', 'নিতে', 'নিদিষ্ট', 'নিম্নাভিমুখে', 'নিয়ে', 'নির্দিষ্ট', 'নির্বিশেষে', 'নিশ্চিত', 'নিয়ে', 'নেই', 'নেওয়ার', 'নেওয়া', 'নেয়ার', 'নয়', 'পক্ষই', 'পক্ষে', 'পঞ্চম', 'পড়া', 'পণ্য', 'পথ', 'পয়েন্ট', 'পর', 'পরন্তু', 'পরবর্তী', 'পরিণত', 'পরিবর্তে', 'পরে', 'পরেই', 'পরেও', 'পর্যন্ত', 'পর্যাপ্ত', 'পাঁচ', 'পাওয়া', 'পাচ', 'পায়', 'পারা', 'পারি', 'পারিনি', 'পারে', 'পারেন', 'পালা', 'পাশ', 'পাশে', 'পিছনে', 'পিঠের', 'পুরোনো', 'পুরোপুরি', 'পূর্বে', 'পৃষ্ঠা', 'পৃষ্ঠাগুলি', 'পেছনে', 'পেয়েছেন', 'পেয়ে', 'পেয়্র্', 'প্রকৃতপক্ষে', 'প্রণীত', 'প্রতি', 'প্রথম', 'প্রদত্ত', 'প্রদর্শনী', 'প্রদর্শিত', 'প্রধানত', 'প্রবলভাবে', 'প্রভৃতি', 'প্রমাণীকরণ', 'প্রযন্ত', 'প্রয়োজন', 'প্রয়োজনীয়', 'প্রসূত', 'প্রাক্তন', 'প্রাথমিক', 'প্রাথমিকভাবে', 'প্রান্ত', 'প্রাপ্ত', 'প্রায়', 'প্রায়ই', 'প্রায়', 'ফলাফল', 'ফলে', 'ফিক্স', 'ফিরে', 'ফের', 'বক্তব্য', 'বছর', 'বড়', 'বদলে', 'বন', 'বন্ধ', 'বরং', 'বরাবর', 'বর্ণন', 'বর্তমান', 'বলতে', 'বলল', 'বললেন', 'বলা', 'বলে', 'বলেছেন', 'বলেন', 'বসে', 'বহু', 'বা', 'বাঁক', 'বাইরে', 'বাকি', 'বাড়ি', 'বাতিক', 'বাদ', 'বাদে', 'বার', 'বাহিরে', 'বিনা', 'বিন্দু', 'বিভিন্ন', 'বিশেষ', 'বিশেষণ', 'বিশেষত', 'বিশেষভাবে', 'বিশ্ব', 'বিষয়টি', 'বুঝিয়ে', 'বৃহত্তর', 'বের', 'বেশ', 'বেশি', 'বেশী', 'ব্যতীত', 'ব্যবহার', 'ব্যবহারসমূহ', 'ব্যবহৃত', 'ব্যাক', 'ব্যাপকভাবে', 'ব্যাপারে', 'ভবিষ্যতে', 'ভান', 'ভাবে', 'ভাবেই', 'ভাল', 'ভিতরে', 'ভিন্ন', 'ভিন্নভাবে', 'মত', 'মতো', 'মতোই', 'মধ্যভাগে', 'মধ্যে', 'মধ্যেই', 'মধ্যেও', 'মনে', 'মনে হয়', 'মস্ত', 'মহান', 'মাত্র', 'মাধ্যম', 'মাধ্যমে', 'মান', 'মানানসই', 'মানুষ', 'মানে', 'মামলা', 'মিলিয়ন', 'মুখ', 'মূলত', 'মোট', 'মোটেই', 'যখন', 'যখনই', 'যত', 'যতটা', 'যথা', 'যথাক্রমে', 'যথেষ্ট', 'যদি', 'যদিও', 'যন্ত্রাংশ', 'যা', 'যাঁর', 'যাঁরা', 'যাই', 'যাওয়া', 'যাওয়ার', 'যাওয়া', 'যাওয়ার', 'যাকে', 'যাচ্ছে', 'যাতে', 'যাদের', 'যান', 'যাবে', 'যায়', 'যার', 'যারা', 'যাহার', 'যাহোক', 'যিনি', 'যে', 'যেখানে', 'যেখানেই', 'যেটি', 'যেতে', 'যেন', 'যেমন', 'যেহেতু', 'যোগ', 'রকম', 'রয়েছে', 'রাখা', 'রাখে', 'রাজী', 'রাজ্যের', 'রেখে', 'রয়েছে', 'লক্ষ', 'লাইন', 'লাল', 'শত', 'শব্দ', 'শীঘ্র', 'শীঘ্রই', 'শুধু', 'শুরু', 'শুরুতে', 'শূন্য', 'শেষ', 'সংক্রান্ত', 'সংক্ষিপ্ত', 'সংক্ষেপে', 'সংখ্যা', 'সংখ্যার', 'সংশ্লিষ্ট', 'সক্ষম', 'সঙ্গে', 'সঙ্গেও', 'সত্য', 'সত্যিই', 'সদয়', 'সদস্য', 'সদস্যদের', 'সফলভাবে', 'সব', 'সবচেয়ে', 'সবাই', 'সবার', 'সময়', 'সমস্ত', 'সমান', 'সম্পন্ন', 'সম্প্রতি', 'সম্ভব', 'সম্ভবত', 'সম্ভাব্য', 'সরাইয়া', 'সর্বত্র', 'সর্বদা', 'সর্বস্বান্ত', 'সহ', 'সহিত', 'সাত', 'সাধারণ', 'সাধারণত', 'সাব', 'সাবেক', 'সামগ্রিক', 'সামনে', 'সামান্য', 'সাম্প্রতিক', 'সুতরাং', 'সুত্র', 'সূচক', 'সে', 'সে হবে', 'সেই', 'সেকেন্ড', 'সেখান', 'সেখানে', 'সেগুলো', 'সেটা', 'সেটাই', 'সেটাও', 'সেটি', 'সেরা', 'স্টপ', 'স্থাপিত', 'স্পষ্ট', 'স্পষ্টত', 'স্পষ্টতই', 'স্ব', 'স্বয়ং', 'স্বাগত', 'স্বাভাবিকভাবে', 'স্বার্থ', 'স্বয়ং', 'হইতে', 'হইবে', 'হইয়া', 'হওয়া', 'হওয়ায়', 'হওয়ার', 'হচ্ছে', 'হত', 'হতে', 'হতেই', 'হন', 'হবে', 'হবেন', 'হয়', 'হয়তো', 'হয়নি', 'হয়ে', 'হয়েই', 'হয়েছিল', 'হয়েছে', 'হয়েছেন', 'হল', 'হলে', 'হলেই', 'হলেও', 'হলো', 'হাজার', 'হায়', 'হারানো', 'হিসাবে', 'হৈলে', 'হোক', 'হয়', 'হয়তো', 'হয়নি', 'হয়ে', 'হয়েই', 'হয়েছিল', 'হয়েছে', 'হয়েছেন', 'অংশ')\n",
    "len(st_words)"
   ]
  },
  {
   "cell_type": "code",
   "execution_count": 28,
   "id": "f95e3157",
   "metadata": {},
   "outputs": [],
   "source": [
    "# para = df['body'][387]\n",
    "# sentences = re.sub(r'\\n{2,}|\\n|।|,', \"\", para)\n",
    "# sentences"
   ]
  },
  {
   "cell_type": "code",
   "execution_count": 29,
   "id": "73517b16",
   "metadata": {},
   "outputs": [],
   "source": [
    "corpus = []\n",
    "no_of_words = 0\n",
    "for i in range(df.shape[0]):\n",
    "    para = df['body'][i]\n",
    "    sentences = re.sub(r'\\n{2,}|\\n|।|,|!|@|<|>|#|\\$|%|\\^|&|\\*|\\(|\\)|\\\\|/', \"\", para)\n",
    "    words = sentences.split()\n",
    "    \n",
    "\n",
    "    words = [word for word in words if word not in st_words]\n",
    "#     words = [word for word in words if not word in stopwords.words('english')]\n",
    "    words = [BanglaStemmer().stem(word) for word in words]\n",
    "    no_of_words += len(words) \n",
    "    line = ' '.join(words)\n",
    "    corpus.append(line)"
   ]
  },
  {
   "cell_type": "code",
   "execution_count": 30,
   "id": "11b893c4",
   "metadata": {},
   "outputs": [
    {
     "data": {
      "text/plain": [
       "221.87364928103463"
      ]
     },
     "execution_count": 30,
     "metadata": {},
     "output_type": "execute_result"
    }
   ],
   "source": [
    "# avg word/news \n",
    "no_of_words/df.shape[0]"
   ]
  },
  {
   "cell_type": "code",
   "execution_count": 31,
   "id": "4806206d",
   "metadata": {},
   "outputs": [
    {
     "data": {
      "text/plain": [
       "'মো. হাবিবুর রহমানপানি উন্নয়ন বোর্ড মৃত্তিকা কৃষি জরিপ বিভাগ প্রধান কর্মকর্তা মো. হাবিবুর রহমান মৃত্যুবার্ষিকী উপলক্ষে ২৪ জুলা শুক্রব জুমা কলাতিয় নাজিরপুর পৈতৃক বাড়ি দোয়া মাহফিল আয়োজন পরিবার পক্ষ মরহুম দোয়া চাওয়া হাবিবুর রহমান বছর ২২ জুলা ইন্তেকাল বিজ্ঞপ্তিহ মাহমুদসাংবাদিক হার মাহমু ১৫তম মৃত্যুবার্ষিকী ২২ জুলা উপলক্ষে বাংলাদেশ ক্রাইম রিপোর্টার্স অ্যাসোসিয়েশন দুপুুর ১২টায় ঢাকা রিপোর্টার্স ইউনি ভিআইপি মিলনায়তনে স্মরণসভা মিলাদ মাহফিল আয়োজন সবাইকে অনুরোধ হার মাহমুদ ১৯৯৪ সাল ২২ জুলা নিজ বাড়ি কুমিল্লা পথে সড়ক দুর্ঘটনায় মার বিজ্ঞপ্তিp'"
      ]
     },
     "execution_count": 31,
     "metadata": {},
     "output_type": "execute_result"
    }
   ],
   "source": [
    "corpus[0]"
   ]
  },
  {
   "cell_type": "code",
   "execution_count": 32,
   "id": "579f99cc",
   "metadata": {},
   "outputs": [],
   "source": [
    "from sklearn.feature_extraction.text import TfidfVectorizer\n",
    "tv = TfidfVectorizer(max_features=1000,ngram_range=(1,3))\n",
    "X = tv.fit_transform(corpus).toarray()"
   ]
  },
  {
   "cell_type": "code",
   "execution_count": 33,
   "id": "98bbdfda",
   "metadata": {},
   "outputs": [
    {
     "data": {
      "text/plain": [
       "(11753, 1000)"
      ]
     },
     "execution_count": 33,
     "metadata": {},
     "output_type": "execute_result"
    }
   ],
   "source": [
    "X.shape"
   ]
  },
  {
   "cell_type": "code",
   "execution_count": 34,
   "id": "4b3b76f4",
   "metadata": {},
   "outputs": [
    {
     "data": {
      "text/plain": [
       "array([0, 0, 0, ..., 1, 1, 1])"
      ]
     },
     "execution_count": 34,
     "metadata": {},
     "output_type": "execute_result"
    }
   ],
   "source": [
    "y"
   ]
  },
  {
   "cell_type": "code",
   "execution_count": 35,
   "id": "9feff0de",
   "metadata": {},
   "outputs": [
    {
     "data": {
      "text/plain": [
       "array(['comp', 'অক', 'অক বর', 'অগ', 'অগ রগত', 'অঙ', 'অজ', 'অঞ', 'অঞ চল',\n",
       "       'অট', 'অত', 'অত যন', 'অদ', 'অধ', 'অধ দপ', 'অধ দপ তর', 'অধ পক',\n",
       "       'অধ শন', 'অন', 'অন অন'], dtype=object)"
      ]
     },
     "execution_count": 35,
     "metadata": {},
     "output_type": "execute_result"
    }
   ],
   "source": [
    "tv.get_feature_names_out()[:20]"
   ]
  },
  {
   "cell_type": "code",
   "execution_count": 36,
   "id": "0603a6e3",
   "metadata": {},
   "outputs": [
    {
     "data": {
      "text/html": [
       "<div>\n",
       "<style scoped>\n",
       "    .dataframe tbody tr th:only-of-type {\n",
       "        vertical-align: middle;\n",
       "    }\n",
       "\n",
       "    .dataframe tbody tr th {\n",
       "        vertical-align: top;\n",
       "    }\n",
       "\n",
       "    .dataframe thead th {\n",
       "        text-align: right;\n",
       "    }\n",
       "</style>\n",
       "<table border=\"1\" class=\"dataframe\">\n",
       "  <thead>\n",
       "    <tr style=\"text-align: right;\">\n",
       "      <th></th>\n",
       "      <th>comp</th>\n",
       "      <th>অক</th>\n",
       "      <th>অক বর</th>\n",
       "      <th>অগ</th>\n",
       "      <th>অগ রগত</th>\n",
       "      <th>অঙ</th>\n",
       "      <th>অজ</th>\n",
       "      <th>অঞ</th>\n",
       "      <th>অঞ চল</th>\n",
       "      <th>অট</th>\n",
       "      <th>...</th>\n",
       "      <th>৩০ ৩০</th>\n",
       "      <th>৩৫</th>\n",
       "      <th>৪০</th>\n",
       "      <th>৪৫</th>\n",
       "      <th>৫০</th>\n",
       "      <th>৫৫</th>\n",
       "      <th>৬০</th>\n",
       "      <th>৭০</th>\n",
       "      <th>৮০</th>\n",
       "      <th>target</th>\n",
       "    </tr>\n",
       "  </thead>\n",
       "  <tbody>\n",
       "    <tr>\n",
       "      <th>0</th>\n",
       "      <td>0.0</td>\n",
       "      <td>0.0</td>\n",
       "      <td>0.0</td>\n",
       "      <td>0.0</td>\n",
       "      <td>0.0</td>\n",
       "      <td>0.0</td>\n",
       "      <td>0.0</td>\n",
       "      <td>0.0</td>\n",
       "      <td>0.0</td>\n",
       "      <td>0.0</td>\n",
       "      <td>...</td>\n",
       "      <td>0.0</td>\n",
       "      <td>0.0</td>\n",
       "      <td>0.000000</td>\n",
       "      <td>0.000000</td>\n",
       "      <td>0.0</td>\n",
       "      <td>0.0</td>\n",
       "      <td>0.000000</td>\n",
       "      <td>0.0</td>\n",
       "      <td>0.0</td>\n",
       "      <td>0</td>\n",
       "    </tr>\n",
       "    <tr>\n",
       "      <th>1</th>\n",
       "      <td>0.0</td>\n",
       "      <td>0.0</td>\n",
       "      <td>0.0</td>\n",
       "      <td>0.0</td>\n",
       "      <td>0.0</td>\n",
       "      <td>0.0</td>\n",
       "      <td>0.0</td>\n",
       "      <td>0.0</td>\n",
       "      <td>0.0</td>\n",
       "      <td>0.0</td>\n",
       "      <td>...</td>\n",
       "      <td>0.0</td>\n",
       "      <td>0.0</td>\n",
       "      <td>0.000000</td>\n",
       "      <td>0.000000</td>\n",
       "      <td>0.0</td>\n",
       "      <td>0.0</td>\n",
       "      <td>0.000000</td>\n",
       "      <td>0.0</td>\n",
       "      <td>0.0</td>\n",
       "      <td>0</td>\n",
       "    </tr>\n",
       "    <tr>\n",
       "      <th>2</th>\n",
       "      <td>0.0</td>\n",
       "      <td>0.0</td>\n",
       "      <td>0.0</td>\n",
       "      <td>0.0</td>\n",
       "      <td>0.0</td>\n",
       "      <td>0.0</td>\n",
       "      <td>0.0</td>\n",
       "      <td>0.0</td>\n",
       "      <td>0.0</td>\n",
       "      <td>0.0</td>\n",
       "      <td>...</td>\n",
       "      <td>0.0</td>\n",
       "      <td>0.0</td>\n",
       "      <td>0.053032</td>\n",
       "      <td>0.053692</td>\n",
       "      <td>0.0</td>\n",
       "      <td>0.0</td>\n",
       "      <td>0.000000</td>\n",
       "      <td>0.0</td>\n",
       "      <td>0.0</td>\n",
       "      <td>0</td>\n",
       "    </tr>\n",
       "    <tr>\n",
       "      <th>3</th>\n",
       "      <td>0.0</td>\n",
       "      <td>0.0</td>\n",
       "      <td>0.0</td>\n",
       "      <td>0.0</td>\n",
       "      <td>0.0</td>\n",
       "      <td>0.0</td>\n",
       "      <td>0.0</td>\n",
       "      <td>0.0</td>\n",
       "      <td>0.0</td>\n",
       "      <td>0.0</td>\n",
       "      <td>...</td>\n",
       "      <td>0.0</td>\n",
       "      <td>0.0</td>\n",
       "      <td>0.000000</td>\n",
       "      <td>0.000000</td>\n",
       "      <td>0.0</td>\n",
       "      <td>0.0</td>\n",
       "      <td>0.257612</td>\n",
       "      <td>0.0</td>\n",
       "      <td>0.0</td>\n",
       "      <td>0</td>\n",
       "    </tr>\n",
       "    <tr>\n",
       "      <th>4</th>\n",
       "      <td>0.0</td>\n",
       "      <td>0.0</td>\n",
       "      <td>0.0</td>\n",
       "      <td>0.0</td>\n",
       "      <td>0.0</td>\n",
       "      <td>0.0</td>\n",
       "      <td>0.0</td>\n",
       "      <td>0.0</td>\n",
       "      <td>0.0</td>\n",
       "      <td>0.0</td>\n",
       "      <td>...</td>\n",
       "      <td>0.0</td>\n",
       "      <td>0.0</td>\n",
       "      <td>0.000000</td>\n",
       "      <td>0.000000</td>\n",
       "      <td>0.0</td>\n",
       "      <td>0.0</td>\n",
       "      <td>0.000000</td>\n",
       "      <td>0.0</td>\n",
       "      <td>0.0</td>\n",
       "      <td>0</td>\n",
       "    </tr>\n",
       "    <tr>\n",
       "      <th>...</th>\n",
       "      <td>...</td>\n",
       "      <td>...</td>\n",
       "      <td>...</td>\n",
       "      <td>...</td>\n",
       "      <td>...</td>\n",
       "      <td>...</td>\n",
       "      <td>...</td>\n",
       "      <td>...</td>\n",
       "      <td>...</td>\n",
       "      <td>...</td>\n",
       "      <td>...</td>\n",
       "      <td>...</td>\n",
       "      <td>...</td>\n",
       "      <td>...</td>\n",
       "      <td>...</td>\n",
       "      <td>...</td>\n",
       "      <td>...</td>\n",
       "      <td>...</td>\n",
       "      <td>...</td>\n",
       "      <td>...</td>\n",
       "      <td>...</td>\n",
       "    </tr>\n",
       "    <tr>\n",
       "      <th>11748</th>\n",
       "      <td>0.0</td>\n",
       "      <td>0.0</td>\n",
       "      <td>0.0</td>\n",
       "      <td>0.0</td>\n",
       "      <td>0.0</td>\n",
       "      <td>0.0</td>\n",
       "      <td>0.0</td>\n",
       "      <td>0.0</td>\n",
       "      <td>0.0</td>\n",
       "      <td>0.0</td>\n",
       "      <td>...</td>\n",
       "      <td>0.0</td>\n",
       "      <td>0.0</td>\n",
       "      <td>0.000000</td>\n",
       "      <td>0.000000</td>\n",
       "      <td>0.0</td>\n",
       "      <td>0.0</td>\n",
       "      <td>0.000000</td>\n",
       "      <td>0.0</td>\n",
       "      <td>0.0</td>\n",
       "      <td>1</td>\n",
       "    </tr>\n",
       "    <tr>\n",
       "      <th>11749</th>\n",
       "      <td>0.0</td>\n",
       "      <td>0.0</td>\n",
       "      <td>0.0</td>\n",
       "      <td>0.0</td>\n",
       "      <td>0.0</td>\n",
       "      <td>0.0</td>\n",
       "      <td>0.0</td>\n",
       "      <td>0.0</td>\n",
       "      <td>0.0</td>\n",
       "      <td>0.0</td>\n",
       "      <td>...</td>\n",
       "      <td>0.0</td>\n",
       "      <td>0.0</td>\n",
       "      <td>0.000000</td>\n",
       "      <td>0.000000</td>\n",
       "      <td>0.0</td>\n",
       "      <td>0.0</td>\n",
       "      <td>0.000000</td>\n",
       "      <td>0.0</td>\n",
       "      <td>0.0</td>\n",
       "      <td>1</td>\n",
       "    </tr>\n",
       "    <tr>\n",
       "      <th>11750</th>\n",
       "      <td>0.0</td>\n",
       "      <td>0.0</td>\n",
       "      <td>0.0</td>\n",
       "      <td>0.0</td>\n",
       "      <td>0.0</td>\n",
       "      <td>0.0</td>\n",
       "      <td>0.0</td>\n",
       "      <td>0.0</td>\n",
       "      <td>0.0</td>\n",
       "      <td>0.0</td>\n",
       "      <td>...</td>\n",
       "      <td>0.0</td>\n",
       "      <td>0.0</td>\n",
       "      <td>0.000000</td>\n",
       "      <td>0.000000</td>\n",
       "      <td>0.0</td>\n",
       "      <td>0.0</td>\n",
       "      <td>0.000000</td>\n",
       "      <td>0.0</td>\n",
       "      <td>0.0</td>\n",
       "      <td>1</td>\n",
       "    </tr>\n",
       "    <tr>\n",
       "      <th>11751</th>\n",
       "      <td>0.0</td>\n",
       "      <td>0.0</td>\n",
       "      <td>0.0</td>\n",
       "      <td>0.0</td>\n",
       "      <td>0.0</td>\n",
       "      <td>0.0</td>\n",
       "      <td>0.0</td>\n",
       "      <td>0.0</td>\n",
       "      <td>0.0</td>\n",
       "      <td>0.0</td>\n",
       "      <td>...</td>\n",
       "      <td>0.0</td>\n",
       "      <td>0.0</td>\n",
       "      <td>0.000000</td>\n",
       "      <td>0.000000</td>\n",
       "      <td>0.0</td>\n",
       "      <td>0.0</td>\n",
       "      <td>0.000000</td>\n",
       "      <td>0.0</td>\n",
       "      <td>0.0</td>\n",
       "      <td>1</td>\n",
       "    </tr>\n",
       "    <tr>\n",
       "      <th>11752</th>\n",
       "      <td>0.0</td>\n",
       "      <td>0.0</td>\n",
       "      <td>0.0</td>\n",
       "      <td>0.0</td>\n",
       "      <td>0.0</td>\n",
       "      <td>0.0</td>\n",
       "      <td>0.0</td>\n",
       "      <td>0.0</td>\n",
       "      <td>0.0</td>\n",
       "      <td>0.0</td>\n",
       "      <td>...</td>\n",
       "      <td>0.0</td>\n",
       "      <td>0.0</td>\n",
       "      <td>0.000000</td>\n",
       "      <td>0.000000</td>\n",
       "      <td>0.0</td>\n",
       "      <td>0.0</td>\n",
       "      <td>0.000000</td>\n",
       "      <td>0.0</td>\n",
       "      <td>0.0</td>\n",
       "      <td>1</td>\n",
       "    </tr>\n",
       "  </tbody>\n",
       "</table>\n",
       "<p>11753 rows × 1001 columns</p>\n",
       "</div>"
      ],
      "text/plain": [
       "       comp   অক  অক বর   অগ  অগ রগত   অঙ   অজ   অঞ  অঞ চল   অট  ...  ৩০ ৩০  \\\n",
       "0       0.0  0.0    0.0  0.0     0.0  0.0  0.0  0.0    0.0  0.0  ...    0.0   \n",
       "1       0.0  0.0    0.0  0.0     0.0  0.0  0.0  0.0    0.0  0.0  ...    0.0   \n",
       "2       0.0  0.0    0.0  0.0     0.0  0.0  0.0  0.0    0.0  0.0  ...    0.0   \n",
       "3       0.0  0.0    0.0  0.0     0.0  0.0  0.0  0.0    0.0  0.0  ...    0.0   \n",
       "4       0.0  0.0    0.0  0.0     0.0  0.0  0.0  0.0    0.0  0.0  ...    0.0   \n",
       "...     ...  ...    ...  ...     ...  ...  ...  ...    ...  ...  ...    ...   \n",
       "11748   0.0  0.0    0.0  0.0     0.0  0.0  0.0  0.0    0.0  0.0  ...    0.0   \n",
       "11749   0.0  0.0    0.0  0.0     0.0  0.0  0.0  0.0    0.0  0.0  ...    0.0   \n",
       "11750   0.0  0.0    0.0  0.0     0.0  0.0  0.0  0.0    0.0  0.0  ...    0.0   \n",
       "11751   0.0  0.0    0.0  0.0     0.0  0.0  0.0  0.0    0.0  0.0  ...    0.0   \n",
       "11752   0.0  0.0    0.0  0.0     0.0  0.0  0.0  0.0    0.0  0.0  ...    0.0   \n",
       "\n",
       "        ৩৫        ৪০        ৪৫   ৫০   ৫৫        ৬০   ৭০   ৮০  target  \n",
       "0      0.0  0.000000  0.000000  0.0  0.0  0.000000  0.0  0.0       0  \n",
       "1      0.0  0.000000  0.000000  0.0  0.0  0.000000  0.0  0.0       0  \n",
       "2      0.0  0.053032  0.053692  0.0  0.0  0.000000  0.0  0.0       0  \n",
       "3      0.0  0.000000  0.000000  0.0  0.0  0.257612  0.0  0.0       0  \n",
       "4      0.0  0.000000  0.000000  0.0  0.0  0.000000  0.0  0.0       0  \n",
       "...    ...       ...       ...  ...  ...       ...  ...  ...     ...  \n",
       "11748  0.0  0.000000  0.000000  0.0  0.0  0.000000  0.0  0.0       1  \n",
       "11749  0.0  0.000000  0.000000  0.0  0.0  0.000000  0.0  0.0       1  \n",
       "11750  0.0  0.000000  0.000000  0.0  0.0  0.000000  0.0  0.0       1  \n",
       "11751  0.0  0.000000  0.000000  0.0  0.0  0.000000  0.0  0.0       1  \n",
       "11752  0.0  0.000000  0.000000  0.0  0.0  0.000000  0.0  0.0       1  \n",
       "\n",
       "[11753 rows x 1001 columns]"
      ]
     },
     "execution_count": 36,
     "metadata": {},
     "output_type": "execute_result"
    }
   ],
   "source": [
    "count_df = pd.DataFrame(X,columns=tv.get_feature_names_out()).assign(target=y)\n",
    "count_df"
   ]
  },
  {
   "cell_type": "code",
   "execution_count": 37,
   "id": "e8e0fb75",
   "metadata": {},
   "outputs": [
    {
     "data": {
      "text/plain": [
       "(11753, 1001)"
      ]
     },
     "execution_count": 37,
     "metadata": {},
     "output_type": "execute_result"
    }
   ],
   "source": [
    "count_df.shape"
   ]
  },
  {
   "cell_type": "code",
   "execution_count": 38,
   "id": "c928e987",
   "metadata": {},
   "outputs": [],
   "source": [
    "count_df.to_excel(\"pro-part-0.xlsx\", index = False, header = False)"
   ]
  },
  {
   "cell_type": "code",
   "execution_count": null,
   "id": "3543d31f",
   "metadata": {},
   "outputs": [],
   "source": []
  }
 ],
 "metadata": {
  "kernelspec": {
   "display_name": "NlP",
   "language": "python",
   "name": "nlp"
  },
  "language_info": {
   "codemirror_mode": {
    "name": "ipython",
    "version": 3
   },
   "file_extension": ".py",
   "mimetype": "text/x-python",
   "name": "python",
   "nbconvert_exporter": "python",
   "pygments_lexer": "ipython3",
   "version": "3.11.4"
  }
 },
 "nbformat": 4,
 "nbformat_minor": 5
}
