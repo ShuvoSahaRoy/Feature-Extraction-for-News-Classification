{
 "cells": [
  {
   "cell_type": "code",
   "execution_count": 1,
   "id": "784e90d2",
   "metadata": {},
   "outputs": [],
   "source": [
    "import pandas as pd\n",
    "import numpy as np\n",
    "import json"
   ]
  },
  {
   "cell_type": "code",
   "execution_count": 2,
   "id": "7e8994c5",
   "metadata": {},
   "outputs": [],
   "source": [
    "# Step 2: Open and Read the JSON File\n",
    "with open('D:/shuvo/bangla_news_classification/dataset/pro-part-1.json', 'r') as json_file:\n",
    "    json_data = json_file.read()\n",
    "\n",
    "# Step 3: Parse the JSON Data\n",
    "parsed_data = json.loads(json_data)"
   ]
  },
  {
   "cell_type": "code",
   "execution_count": 3,
   "id": "23f66c12",
   "metadata": {},
   "outputs": [
    {
     "name": "stdout",
     "output_type": "stream",
     "text": [
      "[{'tags': [], 'headline': 'বান্দরবানে জুমের ধান ভরিয়েছে চাষির প্রাণ', 'content_type': 'story', 'content_id': '7c1d7dcb-8bac-465c-9184-c619f2022df5', 'url': 'https://www.prothomalo.com/bangladesh/বান্দরবানে-জুমের-ধান-ভরিয়েছে-চাষির-প্রাণ', 'body': ['<p>বান্দরবানে অরণ্যঘেরা চিম্বুক পাহাড়ের গায়ে জুমের পাকা ধানের খেতগুলো সোনালি রঙের আলপনার মতো মনে হয়। জুমের ঘরে আদিবাসী তরুণ-তরুণীরা মেতেছে নাচে-গানে। পাকা ধানের ম-ম গন্ধে ভরে উঠেছে জুমচাষিদের জনপদগুলো। সেখানে এখন আনন্দের বন্যা। গত ৬ সেপ্টেম্বর চিম্বুক পাহাড়ে গিয়ে এ রকম দৃশ্যই দেখা গেছে। চিম্বুকের নোয়াপাড়া এলাকায় পিঠে ঝুড়ি ঝুলিয়ে ধান কাটছিলেন পাঁচ ম্রো তরুণ-তরুণী। লংরিং ম্রো অনাবিল হাসি ছড়িয়ে বললেন, রামলা ও বনলায় (ম্রো ভাষায় ভাদ্র-আশ্বিন মাসের নাম) জুমের ধান পাকলে জুমিয়াদের আর কোনো অভাব থাকে না। এ জন্য এ দুই মাসকে সুখের মাস বলা হয়। প্রায় দুই হাজার ফুট উঁচু চিম্বুক পাহাড়ের যেদিকে চোখ যায়, দেখা মেলে শুধু সবুজ বনের মাঝে পাকা ধানখেত। পাহাড়ের চূড়া থেকে প্রায় ৫০০ ফুট নিচে নেমে রামরি পাড়া এলাকার একটি জুমের ঘরে গিয়ে দেখা যায় ম্রো তরুণ-তরুণীরা মহানন্দে ধান মাড়াই করছেন। জামিনি পাড়া এলাকায় জুমে কথা হয় মেনফা ম্রোর সঙ্গে। তিনি বলেন, ‘আমার দুই একর জুম থেকে দুই-আড়াই শ আঢ়ি (এক আঢ়িতে ১০ কেজি) ধান পাব বলে আশা করছি। এ ছাড়া মরিচ, তুলা, তিলসহ অন্য ফসলও রয়েছে। সাবেক ইউপি সদস্য চিংক্লাং ম্রো জানান, এবার জুম চাষ করে অনেকেরই সারা বছরের খোরাক হয়ে গেছে। সংশ্লিষ্ট সূত্রে জানা গেছে, রুমা, থানচি, নাইক্ষ্যংছড়ি, আলীকদম উপজেলায়ও জুমচাষে এবার মোটামুটি ভালো ফলন হয়েছে। বিগত কয়েক বছর ইঁদুর আর বন্যায় জুমের ধান ও অন্যান্য ফসলের ক্ষতি হলেও এবার সে রকম না হওয়ায় জুমচাষিরা বেজায় খুশি। কৃষি বিভাগ সূত্র জানায়, জেলার সাতটি উপজেলায় এবার ছয় হাজার ২২১ হেক্টর পাহাড়ি জমিতে জুমচাষ হচ্ছে। তবে বোমাং রাজা (সার্কেল চিফ) দপ্তরের জুম খাজনা হিসাব অনুযায়ী জেলায় প্রতিবছর সাড়ে ১১ হাজার পরিবার প্রায় ১৮ হাজার হেক্টর জমিতে জুমচাষ করে থাকে।বান্দরবান সদর উপজেলা কৃষি কর্মকর্তা মো. হাসান ইমাম বলেন, এবার মাঠ পর্যায়ে পরিদর্শন করার সময় আমি যেখানে গিয়েছি, সেখানে জুমচাষ ভালো হওয়ায় জুমচাষিদের মুখে হাসি দেখেছি। আর ফসলে ইঁদুর ও কীটপতঙ্গের আক্রমণ না থাকায় চাষিরা বেশি খুশি। রাঙামাটি থেকে আমাদের নিজস্ব প্রতিবেদক জানান, রাঙামাটির পাহাড়ের জুমখেতে খরাসহিষ্ণু নারিকা-১ জাতের ধান চাষে সাফল্য পাওয়ার দাবি করেছেন কৃষি কর্মকর্তা ও চাষিরা। তাঁদের মতে অন্যান্য জুমে অন্য ধানের চেয়ে নারিকা-১ জাতের ধানের উৎপাদন কিছুটা বেশি। চলতি জুমচাষ মৌসুমে পরীক্ষামূলকভাবে এ ধান চাষের ফলাফল থেকে এ দাবি করা হয়েছে।কৃষি সম্প্রসারণ অধিদপ্তরের রাঙামাটি কার্যালয় সূত্র জানায়, জুমের প্রতি ১২০ বর্গমিটারে অন্যান্য ধান পাওয়া যায় ৩০ থেকে ৩৫ কেজি। আর নারিকা-১ জাতের ধান পাওয়া গেছে ৪৫ থেকে ৫০ কেজি। এবার ১০০ থেকে ১২০ বর্গমিটার করে সাতটি ব্লকে নারিকা-১ জাতের ধান পরীক্ষামূলকভাবে চাষ করা হয়েছে।রাঙামাটি সদর উপজেলা কৃষি কর্মকর্তা পবন কুমার চাকমা জানান, বেশ কিছু জুম খেতে নারিকা-১ জাতের ধান পরীক্ষামূলক চাষে সফলতা পাওয়া গেছে ।</p>'], 'added_time': 1585254016502, 'updated_time': 1600110641139, 'general_type': ['bangladesh']}, {'tags': [], 'headline': 'বিষাক্ত স্পিরিট পানে আরেকজনের মৃত্যু!', 'content_type': 'story', 'content_id': '908b318b-d234-4327-aed5-248a1b10e130', 'url': 'https://www.prothomalo.com/bangladesh/বিষাক্ত-স্পিরিট-পানে-আরেকজনের-মৃত্যু!', 'body': ['<p>কুষ্টিয়ার দৌলতপুরে বিষাক্ত স্পিরিট পান করা ব্যক্তিদের মধ্যে পান্না (৩২) নামের আরেকজনের মৃত্যু হয়েছে। গতকাল বুধবার রাতে তিনি তাঁর নিজ বাড়িতে মারা যান। পান্না দৌলতপুর উপজেলার প্রাগপুর ইউনিয়নের ময়রামপুর গ্রামের উম্মত আলীর ছেলে। এ নিয়ে জেলায় গত চার দিনে বিষাক্ত স্পিরিট পান করা পাঁচজনের মৃত্যু হলো। অসুস্থ হয়ে চিকিৎসাধীন আছেন আরও আটজন।পান্নার পরিবারের বরাত দিয়ে পুলিশ জানায়, গতকাল বুধবার রাতে মাথায় ঝিমুনি নিয়ে পান্না ঘুমিয়ে পড়েন। সকালে তাঁর মৃতদেহ উদ্ধার করা হয়। এলাকাবাসীর কয়েকজন জানান, পান্না দীর্ঘদিন ধরে স্পিরিট ও বাংলা মদ বিক্রি এবং পান করতেন। শনিবার ঈদের দিন রাতেও তিনি স্পিরিট পান করেন।দৌলতপুর থানার ভারপ্রাপ্ত কর্মকর্তা (ওসি) হাসান হাফিজুর রহমান প্রথম আলোকে বলেন, ‘পান্না নামের এক ব্যক্তির মৃত্যুর খবর পেয়েছি। সেখানে থানার একজন উপপরিদর্শক পাঠানো হয়েছে। পান্নার বিরুদ্ধে থানায় মাদক সেবনের অভিযোগ আছে। তবে বিষাক্ত স্পিরিট পানে তাঁর মৃত্যু হয়েছে কি না, তা তদন্ত ছাড়া বলা যাচ্ছে না।’এর আগে গত তিন দিনে বিষাক্ত স্পিরিট পানে দৌলতপুরের রোকন বিশ্বাস, পিনু সর্দার, খবির উদ্দীন ও কুষ্টিয়া শহরের চরমিলপাড়ার উমেদ আলী মারা যান। এর মধ্যে খবির উদ্দীন ও উমেদ আলীর লাশের ময়নাতদন্ত করা হয়। তবে একই ঘটনায় মৃত্যু হলেও রোকন বিশ্বাস ও পিনু সর্দারের লাশ ময়নাতদন্ত ছাড়াই দাফন করা হয়েছে। এলাকাবাসীর অভিযোগ, প্রভাবশালী ব্যক্তির আত্মীয় হওয়ার কারণে তাঁদের লাশের ময়নাতদন্ত ছাড়াই দাফন করা হয়েছে।পুলিশ সুপার শাহাবুদ্দিন খান প্রথম আলোকে বলেন, ‘বিষাক্ত স্পিরিট পানে জেলায় চারজনের মৃত্যুর ব্যাপারে পুলিশের কাছে অভিযোগ আছে। পুলিশ এর মূল হোতাদের ধরতে অভিযান চালাচ্ছে। পিনু সর্দারের লাশ তাঁর পরিবারের সদস্যরা তড়িঘড়ি করে রাতেই দাফন করে ফেলেন। রোকন বিশ্বাস রাজশাহীতে মারা গেছেন, সেখানে কী করা হয়েছে তা আমার জানা নেই।’</p>'], 'added_time': 1585254016270, 'updated_time': 1600110640784, 'general_type': ['bangladesh']}]\n"
     ]
    }
   ],
   "source": [
    "# Step 4: Print the Content\n",
    "print(parsed_data[:2])"
   ]
  },
  {
   "cell_type": "code",
   "execution_count": 4,
   "id": "473f1d78",
   "metadata": {},
   "outputs": [
    {
     "data": {
      "text/html": [
       "<div>\n",
       "<style scoped>\n",
       "    .dataframe tbody tr th:only-of-type {\n",
       "        vertical-align: middle;\n",
       "    }\n",
       "\n",
       "    .dataframe tbody tr th {\n",
       "        vertical-align: top;\n",
       "    }\n",
       "\n",
       "    .dataframe thead th {\n",
       "        text-align: right;\n",
       "    }\n",
       "</style>\n",
       "<table border=\"1\" class=\"dataframe\">\n",
       "  <thead>\n",
       "    <tr style=\"text-align: right;\">\n",
       "      <th></th>\n",
       "      <th>tags</th>\n",
       "      <th>headline</th>\n",
       "      <th>content_type</th>\n",
       "      <th>content_id</th>\n",
       "      <th>url</th>\n",
       "      <th>body</th>\n",
       "      <th>added_time</th>\n",
       "      <th>updated_time</th>\n",
       "      <th>general_type</th>\n",
       "    </tr>\n",
       "  </thead>\n",
       "  <tbody>\n",
       "    <tr>\n",
       "      <th>0</th>\n",
       "      <td>[]</td>\n",
       "      <td>বান্দরবানে জুমের ধান ভরিয়েছে চাষির প্রাণ</td>\n",
       "      <td>story</td>\n",
       "      <td>7c1d7dcb-8bac-465c-9184-c619f2022df5</td>\n",
       "      <td>https://www.prothomalo.com/bangladesh/বান্দরবা...</td>\n",
       "      <td>[&lt;p&gt;বান্দরবানে অরণ্যঘেরা চিম্বুক পাহাড়ের গায়ে ...</td>\n",
       "      <td>1585254016502</td>\n",
       "      <td>1600110641139</td>\n",
       "      <td>[bangladesh]</td>\n",
       "    </tr>\n",
       "    <tr>\n",
       "      <th>1</th>\n",
       "      <td>[]</td>\n",
       "      <td>বিষাক্ত স্পিরিট পানে আরেকজনের মৃত্যু!</td>\n",
       "      <td>story</td>\n",
       "      <td>908b318b-d234-4327-aed5-248a1b10e130</td>\n",
       "      <td>https://www.prothomalo.com/bangladesh/বিষাক্ত-...</td>\n",
       "      <td>[&lt;p&gt;কুষ্টিয়ার দৌলতপুরে বিষাক্ত স্পিরিট পান করা...</td>\n",
       "      <td>1585254016270</td>\n",
       "      <td>1600110640784</td>\n",
       "      <td>[bangladesh]</td>\n",
       "    </tr>\n",
       "    <tr>\n",
       "      <th>2</th>\n",
       "      <td>[]</td>\n",
       "      <td>দুর্বৃত্তের গুলিতে গৃহবধূ স্বামীর হাতে স্ত্রী খুন</td>\n",
       "      <td>story</td>\n",
       "      <td>5a65bcd7-7132-4e10-8759-5adecee23bd2</td>\n",
       "      <td>https://www.prothomalo.com/bangladesh/দুর্বৃত্...</td>\n",
       "      <td>[&lt;p&gt;সুনামগঞ্জের বিশ্বম্ভরপুরে স্বামীর ছুরিকাঘা...</td>\n",
       "      <td>1585254016047</td>\n",
       "      <td>1600110640532</td>\n",
       "      <td>[bangladesh]</td>\n",
       "    </tr>\n",
       "    <tr>\n",
       "      <th>3</th>\n",
       "      <td>[]</td>\n",
       "      <td>অগ্নিদগ্ধ গৃহবধূ আফরোজা অবশেষে মারা গেলেন</td>\n",
       "      <td>story</td>\n",
       "      <td>6bac6e29-cd21-4a02-810c-1836fc1f3285</td>\n",
       "      <td>https://www.prothomalo.com/bangladesh/অগ্নিদগ্...</td>\n",
       "      <td>[&lt;p&gt;আট দিন মৃত্যুর সঙ্গে লড়ে অবশেষে নিভে গেল অ...</td>\n",
       "      <td>1585254015813</td>\n",
       "      <td>1600110640281</td>\n",
       "      <td>[bangladesh]</td>\n",
       "    </tr>\n",
       "    <tr>\n",
       "      <th>4</th>\n",
       "      <td>[]</td>\n",
       "      <td>পুরোনো সরঞ্জাম দিয়ে মিলনায়তন সংস্কার!</td>\n",
       "      <td>story</td>\n",
       "      <td>f3979461-6851-4837-95af-9fd177660dfc</td>\n",
       "      <td>https://www.prothomalo.com/bangladesh/পুরোনো-স...</td>\n",
       "      <td>[&lt;p&gt;মাদারীপুরের রাজৈর উপজেলা পরিষদ মিলনায়তন সং...</td>\n",
       "      <td>1585254015581</td>\n",
       "      <td>1600110640022</td>\n",
       "      <td>[bangladesh]</td>\n",
       "    </tr>\n",
       "  </tbody>\n",
       "</table>\n",
       "</div>"
      ],
      "text/plain": [
       "  tags                                           headline content_type  \\\n",
       "0   []           বান্দরবানে জুমের ধান ভরিয়েছে চাষির প্রাণ        story   \n",
       "1   []              বিষাক্ত স্পিরিট পানে আরেকজনের মৃত্যু!        story   \n",
       "2   []  দুর্বৃত্তের গুলিতে গৃহবধূ স্বামীর হাতে স্ত্রী খুন        story   \n",
       "3   []          অগ্নিদগ্ধ গৃহবধূ আফরোজা অবশেষে মারা গেলেন        story   \n",
       "4   []              পুরোনো সরঞ্জাম দিয়ে মিলনায়তন সংস্কার!        story   \n",
       "\n",
       "                             content_id  \\\n",
       "0  7c1d7dcb-8bac-465c-9184-c619f2022df5   \n",
       "1  908b318b-d234-4327-aed5-248a1b10e130   \n",
       "2  5a65bcd7-7132-4e10-8759-5adecee23bd2   \n",
       "3  6bac6e29-cd21-4a02-810c-1836fc1f3285   \n",
       "4  f3979461-6851-4837-95af-9fd177660dfc   \n",
       "\n",
       "                                                 url  \\\n",
       "0  https://www.prothomalo.com/bangladesh/বান্দরবা...   \n",
       "1  https://www.prothomalo.com/bangladesh/বিষাক্ত-...   \n",
       "2  https://www.prothomalo.com/bangladesh/দুর্বৃত্...   \n",
       "3  https://www.prothomalo.com/bangladesh/অগ্নিদগ্...   \n",
       "4  https://www.prothomalo.com/bangladesh/পুরোনো-স...   \n",
       "\n",
       "                                                body     added_time  \\\n",
       "0  [<p>বান্দরবানে অরণ্যঘেরা চিম্বুক পাহাড়ের গায়ে ...  1585254016502   \n",
       "1  [<p>কুষ্টিয়ার দৌলতপুরে বিষাক্ত স্পিরিট পান করা...  1585254016270   \n",
       "2  [<p>সুনামগঞ্জের বিশ্বম্ভরপুরে স্বামীর ছুরিকাঘা...  1585254016047   \n",
       "3  [<p>আট দিন মৃত্যুর সঙ্গে লড়ে অবশেষে নিভে গেল অ...  1585254015813   \n",
       "4  [<p>মাদারীপুরের রাজৈর উপজেলা পরিষদ মিলনায়তন সং...  1585254015581   \n",
       "\n",
       "    updated_time  general_type  \n",
       "0  1600110641139  [bangladesh]  \n",
       "1  1600110640784  [bangladesh]  \n",
       "2  1600110640532  [bangladesh]  \n",
       "3  1600110640281  [bangladesh]  \n",
       "4  1600110640022  [bangladesh]  "
      ]
     },
     "execution_count": 4,
     "metadata": {},
     "output_type": "execute_result"
    }
   ],
   "source": [
    "# Step 2: Create a DataFrame from JSON Data\n",
    "df = pd.DataFrame(parsed_data)\n",
    "df.head()"
   ]
  },
  {
   "cell_type": "code",
   "execution_count": 5,
   "id": "3977bd57",
   "metadata": {},
   "outputs": [
    {
     "data": {
      "text/plain": [
       "((90000, 9),\n",
       " Index(['tags', 'headline', 'content_type', 'content_id', 'url', 'body',\n",
       "        'added_time', 'updated_time', 'general_type'],\n",
       "       dtype='object'))"
      ]
     },
     "execution_count": 5,
     "metadata": {},
     "output_type": "execute_result"
    }
   ],
   "source": [
    "df.shape, df.columns"
   ]
  },
  {
   "cell_type": "code",
   "execution_count": 6,
   "id": "ee3c7a4d",
   "metadata": {},
   "outputs": [
    {
     "data": {
      "text/html": [
       "<div>\n",
       "<style scoped>\n",
       "    .dataframe tbody tr th:only-of-type {\n",
       "        vertical-align: middle;\n",
       "    }\n",
       "\n",
       "    .dataframe tbody tr th {\n",
       "        vertical-align: top;\n",
       "    }\n",
       "\n",
       "    .dataframe thead th {\n",
       "        text-align: right;\n",
       "    }\n",
       "</style>\n",
       "<table border=\"1\" class=\"dataframe\">\n",
       "  <thead>\n",
       "    <tr style=\"text-align: right;\">\n",
       "      <th></th>\n",
       "      <th>tags</th>\n",
       "      <th>headline</th>\n",
       "      <th>content_type</th>\n",
       "      <th>content_id</th>\n",
       "      <th>url</th>\n",
       "      <th>body</th>\n",
       "      <th>added_time</th>\n",
       "      <th>updated_time</th>\n",
       "      <th>general_type</th>\n",
       "    </tr>\n",
       "  </thead>\n",
       "  <tbody>\n",
       "    <tr>\n",
       "      <th>0</th>\n",
       "      <td>[]</td>\n",
       "      <td>বান্দরবানে জুমের ধান ভরিয়েছে চাষির প্রাণ</td>\n",
       "      <td>story</td>\n",
       "      <td>7c1d7dcb-8bac-465c-9184-c619f2022df5</td>\n",
       "      <td>https://www.prothomalo.com/bangladesh/বান্দরবা...</td>\n",
       "      <td>বান্দরবানে অরণ্যঘেরা চিম্বুক পাহাড়ের গায়ে জুমে...</td>\n",
       "      <td>1585254016502</td>\n",
       "      <td>1600110641139</td>\n",
       "      <td>bangladesh</td>\n",
       "    </tr>\n",
       "    <tr>\n",
       "      <th>1</th>\n",
       "      <td>[]</td>\n",
       "      <td>বিষাক্ত স্পিরিট পানে আরেকজনের মৃত্যু!</td>\n",
       "      <td>story</td>\n",
       "      <td>908b318b-d234-4327-aed5-248a1b10e130</td>\n",
       "      <td>https://www.prothomalo.com/bangladesh/বিষাক্ত-...</td>\n",
       "      <td>কুষ্টিয়ার দৌলতপুরে বিষাক্ত স্পিরিট পান করা ব্য...</td>\n",
       "      <td>1585254016270</td>\n",
       "      <td>1600110640784</td>\n",
       "      <td>bangladesh</td>\n",
       "    </tr>\n",
       "    <tr>\n",
       "      <th>2</th>\n",
       "      <td>[]</td>\n",
       "      <td>দুর্বৃত্তের গুলিতে গৃহবধূ স্বামীর হাতে স্ত্রী খুন</td>\n",
       "      <td>story</td>\n",
       "      <td>5a65bcd7-7132-4e10-8759-5adecee23bd2</td>\n",
       "      <td>https://www.prothomalo.com/bangladesh/দুর্বৃত্...</td>\n",
       "      <td>সুনামগঞ্জের বিশ্বম্ভরপুরে স্বামীর ছুরিকাঘাতে স...</td>\n",
       "      <td>1585254016047</td>\n",
       "      <td>1600110640532</td>\n",
       "      <td>bangladesh</td>\n",
       "    </tr>\n",
       "    <tr>\n",
       "      <th>3</th>\n",
       "      <td>[]</td>\n",
       "      <td>অগ্নিদগ্ধ গৃহবধূ আফরোজা অবশেষে মারা গেলেন</td>\n",
       "      <td>story</td>\n",
       "      <td>6bac6e29-cd21-4a02-810c-1836fc1f3285</td>\n",
       "      <td>https://www.prothomalo.com/bangladesh/অগ্নিদগ্...</td>\n",
       "      <td>আট দিন মৃত্যুর সঙ্গে লড়ে অবশেষে নিভে গেল অগ্নি...</td>\n",
       "      <td>1585254015813</td>\n",
       "      <td>1600110640281</td>\n",
       "      <td>bangladesh</td>\n",
       "    </tr>\n",
       "    <tr>\n",
       "      <th>4</th>\n",
       "      <td>[]</td>\n",
       "      <td>পুরোনো সরঞ্জাম দিয়ে মিলনায়তন সংস্কার!</td>\n",
       "      <td>story</td>\n",
       "      <td>f3979461-6851-4837-95af-9fd177660dfc</td>\n",
       "      <td>https://www.prothomalo.com/bangladesh/পুরোনো-স...</td>\n",
       "      <td>মাদারীপুরের রাজৈর উপজেলা পরিষদ মিলনায়তন সংস্কা...</td>\n",
       "      <td>1585254015581</td>\n",
       "      <td>1600110640022</td>\n",
       "      <td>bangladesh</td>\n",
       "    </tr>\n",
       "    <tr>\n",
       "      <th>...</th>\n",
       "      <td>...</td>\n",
       "      <td>...</td>\n",
       "      <td>...</td>\n",
       "      <td>...</td>\n",
       "      <td>...</td>\n",
       "      <td>...</td>\n",
       "      <td>...</td>\n",
       "      <td>...</td>\n",
       "      <td>...</td>\n",
       "    </tr>\n",
       "    <tr>\n",
       "      <th>89995</th>\n",
       "      <td>[]</td>\n",
       "      <td>২১ প্রতিষ্ঠানকে দেড় লাখ টাকা জরিমানা</td>\n",
       "      <td>story</td>\n",
       "      <td>1aafaaee-ca55-4734-851c-76b273363c54</td>\n",
       "      <td>https://www.prothomalo.com/business/২১-প্রতিষ্...</td>\n",
       "      <td>অস্বাস্থ্যকর ও নোংরা পরিবেশে খাদ্য তৈরি এবং মে...</td>\n",
       "      <td>1585270323256</td>\n",
       "      <td>1600169882810</td>\n",
       "      <td>business</td>\n",
       "    </tr>\n",
       "    <tr>\n",
       "      <th>89996</th>\n",
       "      <td>[]</td>\n",
       "      <td>রপ্তানি বাড়াতে নতুন বাজার সম্প্রসারণের কাজ চলছে</td>\n",
       "      <td>story</td>\n",
       "      <td>6ab9e11a-5d15-45d1-9b4c-13b40b6c3aac</td>\n",
       "      <td>https://www.prothomalo.com/business/রপ্তানি-বা...</td>\n",
       "      <td>রপ্তানি প্রবৃদ্ধি বাড়াতে সরকার নতুন নতুন পণ্য ...</td>\n",
       "      <td>1585270323015</td>\n",
       "      <td>1600169882398</td>\n",
       "      <td>business</td>\n",
       "    </tr>\n",
       "    <tr>\n",
       "      <th>89997</th>\n",
       "      <td>[]</td>\n",
       "      <td>পঞ্চম দিনে ২৭৫ কোটি টাকা আয়</td>\n",
       "      <td>story</td>\n",
       "      <td>2e37b085-46a8-4a39-815c-ead0c4be75b1</td>\n",
       "      <td>https://www.prothomalo.com/business/পঞ্চম-দিনে...</td>\n",
       "      <td>দেশের সবকটি বিভাগীয় শহরে অনুষ্ঠানরত আয়কর মেলায়...</td>\n",
       "      <td>1585270322771</td>\n",
       "      <td>1600169882098</td>\n",
       "      <td>business</td>\n",
       "    </tr>\n",
       "    <tr>\n",
       "      <th>89998</th>\n",
       "      <td>[]</td>\n",
       "      <td>সার্ক অঞ্চলে অর্থনৈতিক সুফল পেতে রাজনৈতিক সদিচ...</td>\n",
       "      <td>story</td>\n",
       "      <td>3d378519-a2c4-4599-b73c-49df9657b5a5</td>\n",
       "      <td>https://www.prothomalo.com/business/সার্ক-অঞ্চ...</td>\n",
       "      <td>সার্ক অঞ্চলে অর্থনৈতিক সুফল পেতে রাজনৈতিক সদিচ...</td>\n",
       "      <td>1585270322526</td>\n",
       "      <td>1600169881794</td>\n",
       "      <td>business</td>\n",
       "    </tr>\n",
       "    <tr>\n",
       "      <th>89999</th>\n",
       "      <td>[]</td>\n",
       "      <td>ঢাকার মহাখালীতে এসআইবিএলের শাখা উদ্বোধন</td>\n",
       "      <td>story</td>\n",
       "      <td>be84abb6-3961-4cfc-a71c-c94d60947f32</td>\n",
       "      <td>https://www.prothomalo.com/business/ঢাকার-মহাখ...</td>\n",
       "      <td>ঢাকার মহাখালীতে গত মঙ্গলবার থেকে সোস্যাল ইসলাম...</td>\n",
       "      <td>1585270322282</td>\n",
       "      <td>1600169881498</td>\n",
       "      <td>business</td>\n",
       "    </tr>\n",
       "  </tbody>\n",
       "</table>\n",
       "<p>90000 rows × 9 columns</p>\n",
       "</div>"
      ],
      "text/plain": [
       "      tags                                           headline content_type  \\\n",
       "0       []           বান্দরবানে জুমের ধান ভরিয়েছে চাষির প্রাণ        story   \n",
       "1       []              বিষাক্ত স্পিরিট পানে আরেকজনের মৃত্যু!        story   \n",
       "2       []  দুর্বৃত্তের গুলিতে গৃহবধূ স্বামীর হাতে স্ত্রী খুন        story   \n",
       "3       []          অগ্নিদগ্ধ গৃহবধূ আফরোজা অবশেষে মারা গেলেন        story   \n",
       "4       []              পুরোনো সরঞ্জাম দিয়ে মিলনায়তন সংস্কার!        story   \n",
       "...    ...                                                ...          ...   \n",
       "89995   []               ২১ প্রতিষ্ঠানকে দেড় লাখ টাকা জরিমানা        story   \n",
       "89996   []    রপ্তানি বাড়াতে নতুন বাজার সম্প্রসারণের কাজ চলছে        story   \n",
       "89997   []                        পঞ্চম দিনে ২৭৫ কোটি টাকা আয়        story   \n",
       "89998   []  সার্ক অঞ্চলে অর্থনৈতিক সুফল পেতে রাজনৈতিক সদিচ...        story   \n",
       "89999   []            ঢাকার মহাখালীতে এসআইবিএলের শাখা উদ্বোধন        story   \n",
       "\n",
       "                                 content_id  \\\n",
       "0      7c1d7dcb-8bac-465c-9184-c619f2022df5   \n",
       "1      908b318b-d234-4327-aed5-248a1b10e130   \n",
       "2      5a65bcd7-7132-4e10-8759-5adecee23bd2   \n",
       "3      6bac6e29-cd21-4a02-810c-1836fc1f3285   \n",
       "4      f3979461-6851-4837-95af-9fd177660dfc   \n",
       "...                                     ...   \n",
       "89995  1aafaaee-ca55-4734-851c-76b273363c54   \n",
       "89996  6ab9e11a-5d15-45d1-9b4c-13b40b6c3aac   \n",
       "89997  2e37b085-46a8-4a39-815c-ead0c4be75b1   \n",
       "89998  3d378519-a2c4-4599-b73c-49df9657b5a5   \n",
       "89999  be84abb6-3961-4cfc-a71c-c94d60947f32   \n",
       "\n",
       "                                                     url  \\\n",
       "0      https://www.prothomalo.com/bangladesh/বান্দরবা...   \n",
       "1      https://www.prothomalo.com/bangladesh/বিষাক্ত-...   \n",
       "2      https://www.prothomalo.com/bangladesh/দুর্বৃত্...   \n",
       "3      https://www.prothomalo.com/bangladesh/অগ্নিদগ্...   \n",
       "4      https://www.prothomalo.com/bangladesh/পুরোনো-স...   \n",
       "...                                                  ...   \n",
       "89995  https://www.prothomalo.com/business/২১-প্রতিষ্...   \n",
       "89996  https://www.prothomalo.com/business/রপ্তানি-বা...   \n",
       "89997  https://www.prothomalo.com/business/পঞ্চম-দিনে...   \n",
       "89998  https://www.prothomalo.com/business/সার্ক-অঞ্চ...   \n",
       "89999  https://www.prothomalo.com/business/ঢাকার-মহাখ...   \n",
       "\n",
       "                                                    body     added_time  \\\n",
       "0      বান্দরবানে অরণ্যঘেরা চিম্বুক পাহাড়ের গায়ে জুমে...  1585254016502   \n",
       "1      কুষ্টিয়ার দৌলতপুরে বিষাক্ত স্পিরিট পান করা ব্য...  1585254016270   \n",
       "2      সুনামগঞ্জের বিশ্বম্ভরপুরে স্বামীর ছুরিকাঘাতে স...  1585254016047   \n",
       "3      আট দিন মৃত্যুর সঙ্গে লড়ে অবশেষে নিভে গেল অগ্নি...  1585254015813   \n",
       "4      মাদারীপুরের রাজৈর উপজেলা পরিষদ মিলনায়তন সংস্কা...  1585254015581   \n",
       "...                                                  ...            ...   \n",
       "89995  অস্বাস্থ্যকর ও নোংরা পরিবেশে খাদ্য তৈরি এবং মে...  1585270323256   \n",
       "89996  রপ্তানি প্রবৃদ্ধি বাড়াতে সরকার নতুন নতুন পণ্য ...  1585270323015   \n",
       "89997  দেশের সবকটি বিভাগীয় শহরে অনুষ্ঠানরত আয়কর মেলায়...  1585270322771   \n",
       "89998  সার্ক অঞ্চলে অর্থনৈতিক সুফল পেতে রাজনৈতিক সদিচ...  1585270322526   \n",
       "89999  ঢাকার মহাখালীতে গত মঙ্গলবার থেকে সোস্যাল ইসলাম...  1585270322282   \n",
       "\n",
       "        updated_time general_type  \n",
       "0      1600110641139   bangladesh  \n",
       "1      1600110640784   bangladesh  \n",
       "2      1600110640532   bangladesh  \n",
       "3      1600110640281   bangladesh  \n",
       "4      1600110640022   bangladesh  \n",
       "...              ...          ...  \n",
       "89995  1600169882810     business  \n",
       "89996  1600169882398     business  \n",
       "89997  1600169882098     business  \n",
       "89998  1600169881794     business  \n",
       "89999  1600169881498     business  \n",
       "\n",
       "[90000 rows x 9 columns]"
      ]
     },
     "execution_count": 6,
     "metadata": {},
     "output_type": "execute_result"
    }
   ],
   "source": [
    "df['general_type'] = df['general_type'].str[0]\n",
    "df['body'] = df['body'].str[0].str.replace('<p>', '').replace('</p>', '')\n",
    "df"
   ]
  },
  {
   "cell_type": "code",
   "execution_count": 7,
   "id": "ade066de",
   "metadata": {
    "scrolled": true
   },
   "outputs": [
    {
     "data": {
      "text/html": [
       "<div>\n",
       "<style scoped>\n",
       "    .dataframe tbody tr th:only-of-type {\n",
       "        vertical-align: middle;\n",
       "    }\n",
       "\n",
       "    .dataframe tbody tr th {\n",
       "        vertical-align: top;\n",
       "    }\n",
       "\n",
       "    .dataframe thead th {\n",
       "        text-align: right;\n",
       "    }\n",
       "</style>\n",
       "<table border=\"1\" class=\"dataframe\">\n",
       "  <thead>\n",
       "    <tr style=\"text-align: right;\">\n",
       "      <th></th>\n",
       "      <th>general_type</th>\n",
       "      <th>body</th>\n",
       "    </tr>\n",
       "  </thead>\n",
       "  <tbody>\n",
       "    <tr>\n",
       "      <th>0</th>\n",
       "      <td>bangladesh</td>\n",
       "      <td>বান্দরবানে অরণ্যঘেরা চিম্বুক পাহাড়ের গায়ে জুমে...</td>\n",
       "    </tr>\n",
       "    <tr>\n",
       "      <th>1</th>\n",
       "      <td>bangladesh</td>\n",
       "      <td>কুষ্টিয়ার দৌলতপুরে বিষাক্ত স্পিরিট পান করা ব্য...</td>\n",
       "    </tr>\n",
       "    <tr>\n",
       "      <th>2</th>\n",
       "      <td>bangladesh</td>\n",
       "      <td>সুনামগঞ্জের বিশ্বম্ভরপুরে স্বামীর ছুরিকাঘাতে স...</td>\n",
       "    </tr>\n",
       "    <tr>\n",
       "      <th>3</th>\n",
       "      <td>bangladesh</td>\n",
       "      <td>আট দিন মৃত্যুর সঙ্গে লড়ে অবশেষে নিভে গেল অগ্নি...</td>\n",
       "    </tr>\n",
       "    <tr>\n",
       "      <th>4</th>\n",
       "      <td>bangladesh</td>\n",
       "      <td>মাদারীপুরের রাজৈর উপজেলা পরিষদ মিলনায়তন সংস্কা...</td>\n",
       "    </tr>\n",
       "    <tr>\n",
       "      <th>...</th>\n",
       "      <td>...</td>\n",
       "      <td>...</td>\n",
       "    </tr>\n",
       "    <tr>\n",
       "      <th>89995</th>\n",
       "      <td>business</td>\n",
       "      <td>অস্বাস্থ্যকর ও নোংরা পরিবেশে খাদ্য তৈরি এবং মে...</td>\n",
       "    </tr>\n",
       "    <tr>\n",
       "      <th>89996</th>\n",
       "      <td>business</td>\n",
       "      <td>রপ্তানি প্রবৃদ্ধি বাড়াতে সরকার নতুন নতুন পণ্য ...</td>\n",
       "    </tr>\n",
       "    <tr>\n",
       "      <th>89997</th>\n",
       "      <td>business</td>\n",
       "      <td>দেশের সবকটি বিভাগীয় শহরে অনুষ্ঠানরত আয়কর মেলায়...</td>\n",
       "    </tr>\n",
       "    <tr>\n",
       "      <th>89998</th>\n",
       "      <td>business</td>\n",
       "      <td>সার্ক অঞ্চলে অর্থনৈতিক সুফল পেতে রাজনৈতিক সদিচ...</td>\n",
       "    </tr>\n",
       "    <tr>\n",
       "      <th>89999</th>\n",
       "      <td>business</td>\n",
       "      <td>ঢাকার মহাখালীতে গত মঙ্গলবার থেকে সোস্যাল ইসলাম...</td>\n",
       "    </tr>\n",
       "  </tbody>\n",
       "</table>\n",
       "<p>90000 rows × 2 columns</p>\n",
       "</div>"
      ],
      "text/plain": [
       "      general_type                                               body\n",
       "0       bangladesh  বান্দরবানে অরণ্যঘেরা চিম্বুক পাহাড়ের গায়ে জুমে...\n",
       "1       bangladesh  কুষ্টিয়ার দৌলতপুরে বিষাক্ত স্পিরিট পান করা ব্য...\n",
       "2       bangladesh  সুনামগঞ্জের বিশ্বম্ভরপুরে স্বামীর ছুরিকাঘাতে স...\n",
       "3       bangladesh  আট দিন মৃত্যুর সঙ্গে লড়ে অবশেষে নিভে গেল অগ্নি...\n",
       "4       bangladesh  মাদারীপুরের রাজৈর উপজেলা পরিষদ মিলনায়তন সংস্কা...\n",
       "...            ...                                                ...\n",
       "89995     business  অস্বাস্থ্যকর ও নোংরা পরিবেশে খাদ্য তৈরি এবং মে...\n",
       "89996     business  রপ্তানি প্রবৃদ্ধি বাড়াতে সরকার নতুন নতুন পণ্য ...\n",
       "89997     business  দেশের সবকটি বিভাগীয় শহরে অনুষ্ঠানরত আয়কর মেলায়...\n",
       "89998     business  সার্ক অঞ্চলে অর্থনৈতিক সুফল পেতে রাজনৈতিক সদিচ...\n",
       "89999     business  ঢাকার মহাখালীতে গত মঙ্গলবার থেকে সোস্যাল ইসলাম...\n",
       "\n",
       "[90000 rows x 2 columns]"
      ]
     },
     "execution_count": 7,
     "metadata": {},
     "output_type": "execute_result"
    }
   ],
   "source": [
    "df = df[['general_type', 'body']]\n",
    "df"
   ]
  },
  {
   "cell_type": "code",
   "execution_count": 8,
   "id": "05329400",
   "metadata": {
    "scrolled": true
   },
   "outputs": [
    {
     "name": "stderr",
     "output_type": "stream",
     "text": [
      "C:\\Users\\SSROY\\AppData\\Local\\Temp\\ipykernel_16244\\3287021994.py:1: SettingWithCopyWarning: \n",
      "A value is trying to be set on a copy of a slice from a DataFrame\n",
      "\n",
      "See the caveats in the documentation: https://pandas.pydata.org/pandas-docs/stable/user_guide/indexing.html#returning-a-view-versus-a-copy\n",
      "  df.dropna(inplace=True)\n",
      "C:\\Users\\SSROY\\AppData\\Local\\Temp\\ipykernel_16244\\3287021994.py:3: SettingWithCopyWarning: \n",
      "A value is trying to be set on a copy of a slice from a DataFrame\n",
      "\n",
      "See the caveats in the documentation: https://pandas.pydata.org/pandas-docs/stable/user_guide/indexing.html#returning-a-view-versus-a-copy\n",
      "  df.drop_duplicates(subset='body', keep='first',inplace=True)\n"
     ]
    },
    {
     "data": {
      "text/plain": [
       "(  general_type                                               body\n",
       " 0   bangladesh  বান্দরবানে অরণ্যঘেরা চিম্বুক পাহাড়ের গায়ে জুমে...\n",
       " 1   bangladesh  কুষ্টিয়ার দৌলতপুরে বিষাক্ত স্পিরিট পান করা ব্য...\n",
       " 2   bangladesh  সুনামগঞ্জের বিশ্বম্ভরপুরে স্বামীর ছুরিকাঘাতে স...\n",
       " 3   bangladesh  আট দিন মৃত্যুর সঙ্গে লড়ে অবশেষে নিভে গেল অগ্নি...\n",
       " 4   bangladesh  মাদারীপুরের রাজৈর উপজেলা পরিষদ মিলনায়তন সংস্কা...,\n",
       " (89028, 2))"
      ]
     },
     "execution_count": 8,
     "metadata": {},
     "output_type": "execute_result"
    }
   ],
   "source": [
    "df.dropna(inplace=True)\n",
    "# Remove duplicates in 'body' column, keeping the first occurrence\n",
    "df.drop_duplicates(subset='body', keep='first',inplace=True)\n",
    "df.reset_index(inplace=True, drop=True)\n",
    "df.head(), df.shape"
   ]
  },
  {
   "cell_type": "code",
   "execution_count": 9,
   "id": "4b3aff87",
   "metadata": {},
   "outputs": [
    {
     "data": {
      "text/plain": [
       "(89028, 11)"
      ]
     },
     "execution_count": 9,
     "metadata": {},
     "output_type": "execute_result"
    }
   ],
   "source": [
    "n = len(df['body'].unique())\n",
    "unique_label = len(df['general_type'].unique())\n",
    "n,unique_label"
   ]
  },
  {
   "cell_type": "code",
   "execution_count": 10,
   "id": "22cc4654",
   "metadata": {
    "scrolled": true
   },
   "outputs": [
    {
     "data": {
      "text/plain": [
       "array(['bangladesh', 'world', 'feature', 'old-prothomalo', 'opinion',\n",
       "       'education', 'entertainment', 'sports', 'business', 'onnoalo',\n",
       "       '1971.prothomalo.com'], dtype=object)"
      ]
     },
     "execution_count": 10,
     "metadata": {},
     "output_type": "execute_result"
    }
   ],
   "source": [
    "df['general_type'].unique()"
   ]
  },
  {
   "cell_type": "code",
   "execution_count": 11,
   "id": "2b31051c",
   "metadata": {},
   "outputs": [],
   "source": [
    "# df = df.sample(m, replace=False)\n",
    "# df.reset_index(inplace=True)\n",
    "# # df.drop(['level_0', 'index'], inplace = True)\n",
    "# df"
   ]
  },
  {
   "cell_type": "code",
   "execution_count": 12,
   "id": "7f8bfb89",
   "metadata": {},
   "outputs": [
    {
     "name": "stdout",
     "output_type": "stream",
     "text": [
      "বান্দরবানে অরণ্যঘেরা চিম্বুক পাহাড়ের গায়ে জুমের পাকা ধানের খেতগুলো সোনালি রঙের আলপনার মতো মনে হয়। জুমের ঘরে আদিবাসী তরুণ-তরুণীরা মেতেছে নাচে-গানে। পাকা ধানের ম-ম গন্ধে ভরে উঠেছে জুমচাষিদের জনপদগুলো। সেখানে এখন আনন্দের বন্যা। গত ৬ সেপ্টেম্বর চিম্বুক পাহাড়ে গিয়ে এ রকম দৃশ্যই দেখা গেছে। চিম্বুকের নোয়াপাড়া এলাকায় পিঠে ঝুড়ি ঝুলিয়ে ধান কাটছিলেন পাঁচ ম্রো তরুণ-তরুণী। লংরিং ম্রো অনাবিল হাসি ছড়িয়ে বললেন, রামলা ও বনলায় (ম্রো ভাষায় ভাদ্র-আশ্বিন মাসের নাম) জুমের ধান পাকলে জুমিয়াদের আর কোনো অভাব থাকে না। এ জন্য এ দুই মাসকে সুখের মাস বলা হয়। প্রায় দুই হাজার ফুট উঁচু চিম্বুক পাহাড়ের যেদিকে চোখ যায়, দেখা মেলে শুধু সবুজ বনের মাঝে পাকা ধানখেত। পাহাড়ের চূড়া থেকে প্রায় ৫০০ ফুট নিচে নেমে রামরি পাড়া এলাকার একটি জুমের ঘরে গিয়ে দেখা যায় ম্রো তরুণ-তরুণীরা মহানন্দে ধান মাড়াই করছেন। জামিনি পাড়া এলাকায় জুমে কথা হয় মেনফা ম্রোর সঙ্গে। তিনি বলেন, ‘আমার দুই একর জুম থেকে দুই-আড়াই শ আঢ়ি (এক আঢ়িতে ১০ কেজি) ধান পাব বলে আশা করছি। এ ছাড়া মরিচ, তুলা, তিলসহ অন্য ফসলও রয়েছে। সাবেক ইউপি সদস্য চিংক্লাং ম্রো জানান, এবার জুম চাষ করে অনেকেরই সারা বছরের খোরাক হয়ে গেছে। সংশ্লিষ্ট সূত্রে জানা গেছে, রুমা, থানচি, নাইক্ষ্যংছড়ি, আলীকদম উপজেলায়ও জুমচাষে এবার মোটামুটি ভালো ফলন হয়েছে। বিগত কয়েক বছর ইঁদুর আর বন্যায় জুমের ধান ও অন্যান্য ফসলের ক্ষতি হলেও এবার সে রকম না হওয়ায় জুমচাষিরা বেজায় খুশি। কৃষি বিভাগ সূত্র জানায়, জেলার সাতটি উপজেলায় এবার ছয় হাজার ২২১ হেক্টর পাহাড়ি জমিতে জুমচাষ হচ্ছে। তবে বোমাং রাজা (সার্কেল চিফ) দপ্তরের জুম খাজনা হিসাব অনুযায়ী জেলায় প্রতিবছর সাড়ে ১১ হাজার পরিবার প্রায় ১৮ হাজার হেক্টর জমিতে জুমচাষ করে থাকে।বান্দরবান সদর উপজেলা কৃষি কর্মকর্তা মো. হাসান ইমাম বলেন, এবার মাঠ পর্যায়ে পরিদর্শন করার সময় আমি যেখানে গিয়েছি, সেখানে জুমচাষ ভালো হওয়ায় জুমচাষিদের মুখে হাসি দেখেছি। আর ফসলে ইঁদুর ও কীটপতঙ্গের আক্রমণ না থাকায় চাষিরা বেশি খুশি। রাঙামাটি থেকে আমাদের নিজস্ব প্রতিবেদক জানান, রাঙামাটির পাহাড়ের জুমখেতে খরাসহিষ্ণু নারিকা-১ জাতের ধান চাষে সাফল্য পাওয়ার দাবি করেছেন কৃষি কর্মকর্তা ও চাষিরা। তাঁদের মতে অন্যান্য জুমে অন্য ধানের চেয়ে নারিকা-১ জাতের ধানের উৎপাদন কিছুটা বেশি। চলতি জুমচাষ মৌসুমে পরীক্ষামূলকভাবে এ ধান চাষের ফলাফল থেকে এ দাবি করা হয়েছে।কৃষি সম্প্রসারণ অধিদপ্তরের রাঙামাটি কার্যালয় সূত্র জানায়, জুমের প্রতি ১২০ বর্গমিটারে অন্যান্য ধান পাওয়া যায় ৩০ থেকে ৩৫ কেজি। আর নারিকা-১ জাতের ধান পাওয়া গেছে ৪৫ থেকে ৫০ কেজি। এবার ১০০ থেকে ১২০ বর্গমিটার করে সাতটি ব্লকে নারিকা-১ জাতের ধান পরীক্ষামূলকভাবে চাষ করা হয়েছে।রাঙামাটি সদর উপজেলা কৃষি কর্মকর্তা পবন কুমার চাকমা জানান, বেশ কিছু জুম খেতে নারিকা-১ জাতের ধান পরীক্ষামূলক চাষে সফলতা পাওয়া গেছে ।</p>\n"
     ]
    }
   ],
   "source": [
    "# Print the content of the first 'body' entry\n",
    "first_body_content = df.loc[0, 'body']\n",
    "print(first_body_content)"
   ]
  },
  {
   "cell_type": "code",
   "execution_count": 13,
   "id": "b724eea7",
   "metadata": {
    "scrolled": false
   },
   "outputs": [
    {
     "data": {
      "text/plain": [
       "bangladesh             26517\n",
       "old-prothomalo         21818\n",
       "sports                  9485\n",
       "feature                 7553\n",
       "entertainment           6062\n",
       "world                   5215\n",
       "business                4353\n",
       "education               4275\n",
       "opinion                 2960\n",
       "onnoalo                  789\n",
       "1971.prothomalo.com        1\n",
       "Name: general_type, dtype: int64"
      ]
     },
     "execution_count": 13,
     "metadata": {},
     "output_type": "execute_result"
    }
   ],
   "source": [
    "gen_type_counts = df['general_type'].value_counts()\n",
    "gen_type_counts"
   ]
  },
  {
   "cell_type": "code",
   "execution_count": 18,
   "id": "cee3d341",
   "metadata": {},
   "outputs": [
    {
     "name": "stdout",
     "output_type": "stream",
     "text": [
      "4\n",
      "Randomly selected gen_type values:\n",
      "['business' 'education' 'opinion' 'onnoalo']\n"
     ]
    }
   ],
   "source": [
    "import random\n",
    "# Filter gen_type values based on count criteria\n",
    "filtered_gen_types = gen_type_counts[(gen_type_counts > 500) & (gen_type_counts < 5000)]\n",
    "\n",
    "random_classes_number = random.randint(3, 6)\n",
    "print(random_classes_number)\n",
    "# Ensure we have at least 5 gen_type values that meet the criteria\n",
    "if len(filtered_gen_types) >= random_classes_number:\n",
    "    # Randomly select 5 gen_type values from the filtered list\n",
    "    random_gen_types = np.random.choice(filtered_gen_types.index, random_classes_number, replace=False)\n",
    "    print(\"Randomly selected gen_type values:\")\n",
    "    print(random_gen_types)\n",
    "else:\n",
    "    print(\"Not enough gen_type values meeting the criteria.\")"
   ]
  },
  {
   "cell_type": "code",
   "execution_count": 19,
   "id": "776a6376",
   "metadata": {},
   "outputs": [
    {
     "data": {
      "text/html": [
       "<div>\n",
       "<style scoped>\n",
       "    .dataframe tbody tr th:only-of-type {\n",
       "        vertical-align: middle;\n",
       "    }\n",
       "\n",
       "    .dataframe tbody tr th {\n",
       "        vertical-align: top;\n",
       "    }\n",
       "\n",
       "    .dataframe thead th {\n",
       "        text-align: right;\n",
       "    }\n",
       "</style>\n",
       "<table border=\"1\" class=\"dataframe\">\n",
       "  <thead>\n",
       "    <tr style=\"text-align: right;\">\n",
       "      <th></th>\n",
       "      <th>general_type</th>\n",
       "      <th>body</th>\n",
       "    </tr>\n",
       "  </thead>\n",
       "  <tbody>\n",
       "    <tr>\n",
       "      <th>0</th>\n",
       "      <td>opinion</td>\n",
       "      <td>লোগাং একটা নদীর নাম। একটা ঐতিহাসিক জায়গার নামও...</td>\n",
       "    </tr>\n",
       "    <tr>\n",
       "      <th>1</th>\n",
       "      <td>opinion</td>\n",
       "      <td>জার্মানির কেন্দ্রীয় ব্যাংকের পরিচালনা পরিষদের ...</td>\n",
       "    </tr>\n",
       "    <tr>\n",
       "      <th>2</th>\n",
       "      <td>education</td>\n",
       "      <td>যতি বা ছেদ চিহ্নের লিখন কৌশলপ্রিয় শিক্ষার্থীরা...</td>\n",
       "    </tr>\n",
       "    <tr>\n",
       "      <th>3</th>\n",
       "      <td>education</td>\n",
       "      <td>সংক্ষেপে উত্তর  পর্ব-২ \\ অংশ-৮প্রিয় শিক্ষার্থ...</td>\n",
       "    </tr>\n",
       "    <tr>\n",
       "      <th>4</th>\n",
       "      <td>education</td>\n",
       "      <td>রচনামূলক প্রশ্নোত্তর অংশ-৫ প্রিয় শিক্ষার্থীর...</td>\n",
       "    </tr>\n",
       "    <tr>\n",
       "      <th>...</th>\n",
       "      <td>...</td>\n",
       "      <td>...</td>\n",
       "    </tr>\n",
       "    <tr>\n",
       "      <th>12372</th>\n",
       "      <td>business</td>\n",
       "      <td>অস্বাস্থ্যকর ও নোংরা পরিবেশে খাদ্য তৈরি এবং মে...</td>\n",
       "    </tr>\n",
       "    <tr>\n",
       "      <th>12373</th>\n",
       "      <td>business</td>\n",
       "      <td>রপ্তানি প্রবৃদ্ধি বাড়াতে সরকার নতুন নতুন পণ্য ...</td>\n",
       "    </tr>\n",
       "    <tr>\n",
       "      <th>12374</th>\n",
       "      <td>business</td>\n",
       "      <td>দেশের সবকটি বিভাগীয় শহরে অনুষ্ঠানরত আয়কর মেলায়...</td>\n",
       "    </tr>\n",
       "    <tr>\n",
       "      <th>12375</th>\n",
       "      <td>business</td>\n",
       "      <td>সার্ক অঞ্চলে অর্থনৈতিক সুফল পেতে রাজনৈতিক সদিচ...</td>\n",
       "    </tr>\n",
       "    <tr>\n",
       "      <th>12376</th>\n",
       "      <td>business</td>\n",
       "      <td>ঢাকার মহাখালীতে গত মঙ্গলবার থেকে সোস্যাল ইসলাম...</td>\n",
       "    </tr>\n",
       "  </tbody>\n",
       "</table>\n",
       "<p>12377 rows × 2 columns</p>\n",
       "</div>"
      ],
      "text/plain": [
       "      general_type                                               body\n",
       "0          opinion  লোগাং একটা নদীর নাম। একটা ঐতিহাসিক জায়গার নামও...\n",
       "1          opinion  জার্মানির কেন্দ্রীয় ব্যাংকের পরিচালনা পরিষদের ...\n",
       "2        education  যতি বা ছেদ চিহ্নের লিখন কৌশলপ্রিয় শিক্ষার্থীরা...\n",
       "3        education  সংক্ষেপে উত্তর  পর্ব-২ \\ অংশ-৮প্রিয় শিক্ষার্থ...\n",
       "4        education  রচনামূলক প্রশ্নোত্তর অংশ-৫ প্রিয় শিক্ষার্থীর...\n",
       "...            ...                                                ...\n",
       "12372     business  অস্বাস্থ্যকর ও নোংরা পরিবেশে খাদ্য তৈরি এবং মে...\n",
       "12373     business  রপ্তানি প্রবৃদ্ধি বাড়াতে সরকার নতুন নতুন পণ্য ...\n",
       "12374     business  দেশের সবকটি বিভাগীয় শহরে অনুষ্ঠানরত আয়কর মেলায়...\n",
       "12375     business  সার্ক অঞ্চলে অর্থনৈতিক সুফল পেতে রাজনৈতিক সদিচ...\n",
       "12376     business  ঢাকার মহাখালীতে গত মঙ্গলবার থেকে সোস্যাল ইসলাম...\n",
       "\n",
       "[12377 rows x 2 columns]"
      ]
     },
     "execution_count": 19,
     "metadata": {},
     "output_type": "execute_result"
    }
   ],
   "source": [
    "# Create a list of specific categories\n",
    "categories = random_gen_types\n",
    "\n",
    "# Use boolean indexing to filter rows based on the 'Section' column\n",
    "df = df[df['general_type'].isin(categories)]\n",
    "df.reset_index(inplace=True, drop=True)\n",
    "# Print the new DataFrame\n",
    "df"
   ]
  },
  {
   "cell_type": "code",
   "execution_count": 20,
   "id": "a5b6f13c",
   "metadata": {},
   "outputs": [
    {
     "data": {
      "text/plain": [
       "business     4353\n",
       "education    4275\n",
       "opinion      2960\n",
       "onnoalo       789\n",
       "Name: general_type, dtype: int64"
      ]
     },
     "execution_count": 20,
     "metadata": {},
     "output_type": "execute_result"
    }
   ],
   "source": [
    "df['general_type'].value_counts()"
   ]
  },
  {
   "cell_type": "code",
   "execution_count": 21,
   "id": "84e69534",
   "metadata": {
    "scrolled": true
   },
   "outputs": [
    {
     "data": {
      "text/plain": [
       "12377"
      ]
     },
     "execution_count": 21,
     "metadata": {},
     "output_type": "execute_result"
    }
   ],
   "source": [
    "each_class= df['general_type'].value_counts()\n",
    "each_class.sum()"
   ]
  },
  {
   "cell_type": "code",
   "execution_count": 22,
   "id": "32b8826c",
   "metadata": {},
   "outputs": [
    {
     "data": {
      "text/plain": [
       "<Axes: >"
      ]
     },
     "execution_count": 22,
     "metadata": {},
     "output_type": "execute_result"
    },
    {
     "data": {
      "image/png": "[encoded data removed]",
      "text/plain": [
       "<Figure size 640x480 with 1 Axes>"
      ]
     },
     "metadata": {},
     "output_type": "display_data"
    }
   ],
   "source": [
    "each_class.plot.bar()"
   ]
  },
  {
   "cell_type": "code",
   "execution_count": 23,
   "id": "5d0dcefd",
   "metadata": {},
   "outputs": [
    {
     "data": {
      "text/plain": [
       "(0        লোগাং একটা নদীর নাম। একটা ঐতিহাসিক জায়গার নামও...\n",
       " 1        জার্মানির কেন্দ্রীয় ব্যাংকের পরিচালনা পরিষদের ...\n",
       " 2        যতি বা ছেদ চিহ্নের লিখন কৌশলপ্রিয় শিক্ষার্থীরা...\n",
       " 3        সংক্ষেপে উত্তর  পর্ব-২ \\ অংশ-৮প্রিয় শিক্ষার্থ...\n",
       " 4        রচনামূলক প্রশ্নোত্তর অংশ-৫ প্রিয় শিক্ষার্থীর...\n",
       "                                ...                        \n",
       " 12372    অস্বাস্থ্যকর ও নোংরা পরিবেশে খাদ্য তৈরি এবং মে...\n",
       " 12373    রপ্তানি প্রবৃদ্ধি বাড়াতে সরকার নতুন নতুন পণ্য ...\n",
       " 12374    দেশের সবকটি বিভাগীয় শহরে অনুষ্ঠানরত আয়কর মেলায়...\n",
       " 12375    সার্ক অঞ্চলে অর্থনৈতিক সুফল পেতে রাজনৈতিক সদিচ...\n",
       " 12376    ঢাকার মহাখালীতে গত মঙ্গলবার থেকে সোস্যাল ইসলাম...\n",
       " Name: body, Length: 12377, dtype: object,\n",
       " 0          opinion\n",
       " 1          opinion\n",
       " 2        education\n",
       " 3        education\n",
       " 4        education\n",
       "            ...    \n",
       " 12372     business\n",
       " 12373     business\n",
       " 12374     business\n",
       " 12375     business\n",
       " 12376     business\n",
       " Name: general_type, Length: 12377, dtype: object)"
      ]
     },
     "execution_count": 23,
     "metadata": {},
     "output_type": "execute_result"
    }
   ],
   "source": [
    "X = df['body']\n",
    "y=df['general_type']\n",
    "X,y"
   ]
  },
  {
   "cell_type": "code",
   "execution_count": 24,
   "id": "8d15beb3",
   "metadata": {},
   "outputs": [
    {
     "data": {
      "text/plain": [
       "(['opinion', 'education', 'business', 'onnoalo'],\n",
       " general_type        4\n",
       " body            12377\n",
       " dtype: int64)"
      ]
     },
     "execution_count": 24,
     "metadata": {},
     "output_type": "execute_result"
    }
   ],
   "source": [
    "## Get the Dependent features\n",
    "classes = list(y.unique())\n",
    "classes, df.nunique()"
   ]
  },
  {
   "cell_type": "code",
   "execution_count": 25,
   "id": "dc506bc3",
   "metadata": {},
   "outputs": [
    {
     "data": {
      "text/plain": [
       "(array([3, 3, 1, ..., 0, 0, 0]), 12377)"
      ]
     },
     "execution_count": 25,
     "metadata": {},
     "output_type": "execute_result"
    }
   ],
   "source": [
    "from sklearn.preprocessing import LabelEncoder\n",
    "y = LabelEncoder().fit_transform(y)\n",
    "y, len(y)"
   ]
  },
  {
   "cell_type": "code",
   "execution_count": 26,
   "id": "27515526",
   "metadata": {},
   "outputs": [
    {
     "name": "stdout",
     "output_type": "stream",
     "text": [
      "[0 1 2 3] [4353 4275  789 2960]\n"
     ]
    }
   ],
   "source": [
    "import numpy as np\n",
    "unique_values, counts = np.unique(y, return_counts=True)\n",
    "print(unique_values, counts)"
   ]
  },
  {
   "cell_type": "code",
   "execution_count": 27,
   "id": "cef16d60",
   "metadata": {},
   "outputs": [
    {
     "data": {
      "text/plain": [
       "732"
      ]
     },
     "execution_count": 27,
     "metadata": {},
     "output_type": "execute_result"
    }
   ],
   "source": [
    "import re\n",
    "from temp_stemmer.bangla_stemmer.stemmer.stemmer import BanglaStemmer  # for stemming \n",
    "st_words = ('অই', 'অগত্যা', 'অত: পর', 'অতএব', 'অথচ', 'অথবা', 'অধিক', 'অধীনে', 'অধ্যায়', 'অনুগ্রহ', 'অনুভূত', 'অনুযায়ী', 'অনুরূপ', 'অনুসন্ধান', 'অনুসরণ', 'অনুসারে', 'অনুসৃত', 'অনেক', 'অনেকে', 'অনেকেই', 'অন্তত', 'অন্য', 'অন্যত্র', 'অন্যভাবে', 'অন্যান্য', 'অপেক্ষাকৃতভাবে', 'অবধি', 'অবশ্য', 'অবশ্যই', 'অবস্থা', 'অবিলম্বে', 'অভ্যন্তরস্থ', 'অর্জিত', 'অর্থাত', 'অসদৃশ', 'অসম্ভাব্য', 'আইন', 'আউট', 'আক্রান্ত', 'আগামী', 'আগে', 'আগেই', 'আগ্রহী', 'আছে', 'আজ', 'আট', 'আদেশ', 'আদ্যভাগে', 'আন্দাজ', 'আপনার', 'আপনি', 'আবার', 'আমরা', 'আমাকে', 'আমাদিগের', 'আমাদের', 'আমার', 'আমি', 'আর', 'আরও', 'আশি', 'আশু', 'আসা', 'আসে', 'ই', 'ইচ্ছা', 'ইচ্ছাপূর্বক', 'ইতিমধ্যে', 'ইতোমধ্যে', 'ইত্যাদি', 'ইশারা', 'ইহা', 'ইহাতে', 'উক্তি', 'উচিত', 'উচ্চ', 'উঠা', 'উত্তম', 'উত্তর', 'উনি', 'উপর', 'উপরে', 'উপলব্ধ', 'উপায়', 'উভয়', 'উল্লেখ', 'উল্লেখযোগ্যভাবে', 'উহার', 'ঊর্ধ্বতন', 'এ', 'এপর্যন্ত', 'এঁদের', 'এঁরা', 'এই', 'এইগুলো', 'এইভাবে', 'এক', 'একই', 'একটি', 'একদা', 'একবার', 'একভাবে', 'একরকম', 'একসঙ্গে', 'একা', 'একে', 'এক্', 'এখন', 'এখনও', 'এখনো', 'এখানে', 'এখানেই', 'এছাড়াও', 'এটা', 'এটাই', 'এটি', 'এত', 'এতটাই', 'এতদ্বারা', 'এতে', 'এদিকে', 'এদের', 'এপর্যন্ত', 'এবং', 'এবার', 'এমন', 'এমনকি', 'এমনকী', 'এমনি', 'এর', 'এরকম', 'এরা', 'এল', 'এলাকায়', 'এলাকার', 'এস', 'এসে', 'ঐ', 'ও', 'ওঁদের', 'ওঁর', 'ওঁরা', 'ওই', 'ওকে', 'ওখানে', 'ওদের', 'ওর', 'ওরা', 'ওহে', 'কক্ষ', 'কখন', 'কখনও', 'কত', 'কবে', 'কম', 'কমনে', 'কয়েক', 'কয়েকটি', 'করছে', 'করছেন', 'করতে', 'করবে', 'করবেন', 'করলে', 'করলেন', 'করলো', 'করা', 'করাই', 'করাত', 'করার', 'করায়', 'করি', 'করিতে', 'করিয়া', 'করিয়ে', 'করে', 'করেই', 'করেছিল', 'করেছিলেন', 'করেছে', 'করেছেন', 'করেন', 'কর্তব্য', 'কাউকে', 'কাছ', 'কাছাকাছি', 'কাছে', 'কাজ', 'কাজে', 'কারও', 'কারণ', 'কারণসমূহ', 'কারো', 'কি', 'কিংবা', 'কিছু', 'কিছুই', 'কিছুটা', 'কিছুনা', 'কিনা', 'কিন্তু', 'কিভাবে', 'কী', 'কূপ', 'কে', 'কেউ', 'কেউই', 'কেউনা', 'কেখা', 'কেন', 'কেবল', 'কেবা', 'কেস', 'কেহ', 'কোটি', 'কোথা', 'কোথাও', 'কোথায়', 'কোন', 'কোনও', 'কোনো', 'ক্রম', 'ক্ষেত্রে', 'কয়েক', 'কয়েকটি', 'খুঁজছেন', 'খুব', 'খোলা', 'খোলে', 'গড়', 'গত', 'গিয়ে', 'গিয়েছিলাম', 'গিয়েছে', 'গিয়ে', 'গিয়েছে', 'গুরুত্ব', 'গুলি', 'গেছে', 'গেল', 'গেলে', 'গোটা', 'গোষ্ঠীবদ্ধ', 'গ্রহণ', 'গ্রুপ', 'ঘর', 'ঘোষণা', 'চলে', 'চান', 'চায়', 'চার', 'চালা', 'চালান', 'চালু', 'চায়', 'চেয়ে', 'চেয়েছিলেন', 'চেষ্টা', 'চেয়ে', 'ছয়', 'ছাড়া', 'ছাড়াছাড়ি', 'ছাড়া', 'ছাড়াও', 'ছিল', 'ছিলেন', 'ছোট', 'জন', 'জনকে', 'জনাব', 'জনাবা', 'জনের', 'জন্য', 'জানতাম', 'জানতে', 'জানা', 'জানানো', 'জানায়', 'জানিয়ে', 'জানিয়েছে', 'জানে', 'জায়গা', 'জিজ্ঞাসা', 'জিজ্ঞেস', 'জিনিস', 'জে', 'জ্নজন', 'টা', 'টি', 'ঠিক', 'ঠিকআছে', 'ডগা', 'তখন', 'তত', 'তত্কারণে', 'তত্প্রতি', 'তথা', 'তদনুসারে', 'তদ্ব্যতীত', 'তন্নতন্ন', 'তবু', 'তবে', 'তরুণ', 'তা', 'তাঁকে', 'তাঁদের', 'তাঁর', 'তাঁরা', 'তাঁহারা', 'তাই', 'তাও', 'তাকে', 'তাতে', 'তাদের', 'তার', 'তারপর', 'তারপরেও', 'তারা', 'তারিখ', 'তারৈ', 'তাহলে', 'তাহা', 'তাহাতে', 'তাহাদিগকে', 'তাহাদেরই', 'তাহার', 'তিন', 'তিনি', 'তিনিও', 'তীক্ষ্ন', 'তুমি', 'তুলে', 'তেমন', 'তৈরীর', 'তো', 'তোমার', 'তোলে', 'থাকবে', 'থাকবেন', 'থাকা', 'থাকায়', 'থাকায়', 'থাকে', 'থাকেন', 'থেকে', 'থেকেই', 'থেকেও', 'দরকারী', 'দলবদ্ধ', 'দান', 'দিকে', 'দিতে', 'দিন', 'দিয়ে', 'দিয়েছে', 'দিয়েছেন', 'দিলেন', 'দিয়ে', 'দিয়েছে', 'দিয়েছেন', 'দু', 'দুই', 'দুটি', 'দুটো', 'দূরে', 'দেওয়ার', 'দেওয়া', 'দেওয়ার', 'দেখতে', 'দেখা', 'দেখাচ্ছে', 'দেখিয়েছেন', 'দেখে', 'দেখেন', 'দেন', 'দেয়', 'দেয়', 'দ্বারা', 'দ্বিগুণ', 'দ্বিতীয়', 'দ্য', 'ধরা', 'ধরে', 'ধামার', 'নতুন', 'নব্বই', 'নয়', 'নাই', 'নাকি', 'নাগাদ', 'নানা', 'নাম', 'নিচে', 'নিছক', 'নিজে', 'নিজেই', 'নিজেকে', 'নিজেদের', 'নিজেদেরকে', 'নিজের', 'নিতে', 'নিদিষ্ট', 'নিম্নাভিমুখে', 'নিয়ে', 'নির্দিষ্ট', 'নির্বিশেষে', 'নিশ্চিত', 'নিয়ে', 'নেই', 'নেওয়ার', 'নেওয়া', 'নেয়ার', 'নয়', 'পক্ষই', 'পক্ষে', 'পঞ্চম', 'পড়া', 'পণ্য', 'পথ', 'পয়েন্ট', 'পর', 'পরন্তু', 'পরবর্তী', 'পরিণত', 'পরিবর্তে', 'পরে', 'পরেই', 'পরেও', 'পর্যন্ত', 'পর্যাপ্ত', 'পাঁচ', 'পাওয়া', 'পাচ', 'পায়', 'পারা', 'পারি', 'পারিনি', 'পারে', 'পারেন', 'পালা', 'পাশ', 'পাশে', 'পিছনে', 'পিঠের', 'পুরোনো', 'পুরোপুরি', 'পূর্বে', 'পৃষ্ঠা', 'পৃষ্ঠাগুলি', 'পেছনে', 'পেয়েছেন', 'পেয়ে', 'পেয়্র্', 'প্রকৃতপক্ষে', 'প্রণীত', 'প্রতি', 'প্রথম', 'প্রদত্ত', 'প্রদর্শনী', 'প্রদর্শিত', 'প্রধানত', 'প্রবলভাবে', 'প্রভৃতি', 'প্রমাণীকরণ', 'প্রযন্ত', 'প্রয়োজন', 'প্রয়োজনীয়', 'প্রসূত', 'প্রাক্তন', 'প্রাথমিক', 'প্রাথমিকভাবে', 'প্রান্ত', 'প্রাপ্ত', 'প্রায়', 'প্রায়ই', 'প্রায়', 'ফলাফল', 'ফলে', 'ফিক্স', 'ফিরে', 'ফের', 'বক্তব্য', 'বছর', 'বড়', 'বদলে', 'বন', 'বন্ধ', 'বরং', 'বরাবর', 'বর্ণন', 'বর্তমান', 'বলতে', 'বলল', 'বললেন', 'বলা', 'বলে', 'বলেছেন', 'বলেন', 'বসে', 'বহু', 'বা', 'বাঁক', 'বাইরে', 'বাকি', 'বাড়ি', 'বাতিক', 'বাদ', 'বাদে', 'বার', 'বাহিরে', 'বিনা', 'বিন্দু', 'বিভিন্ন', 'বিশেষ', 'বিশেষণ', 'বিশেষত', 'বিশেষভাবে', 'বিশ্ব', 'বিষয়টি', 'বুঝিয়ে', 'বৃহত্তর', 'বের', 'বেশ', 'বেশি', 'বেশী', 'ব্যতীত', 'ব্যবহার', 'ব্যবহারসমূহ', 'ব্যবহৃত', 'ব্যাক', 'ব্যাপকভাবে', 'ব্যাপারে', 'ভবিষ্যতে', 'ভান', 'ভাবে', 'ভাবেই', 'ভাল', 'ভিতরে', 'ভিন্ন', 'ভিন্নভাবে', 'মত', 'মতো', 'মতোই', 'মধ্যভাগে', 'মধ্যে', 'মধ্যেই', 'মধ্যেও', 'মনে', 'মনে হয়', 'মস্ত', 'মহান', 'মাত্র', 'মাধ্যম', 'মাধ্যমে', 'মান', 'মানানসই', 'মানুষ', 'মানে', 'মামলা', 'মিলিয়ন', 'মুখ', 'মূলত', 'মোট', 'মোটেই', 'যখন', 'যখনই', 'যত', 'যতটা', 'যথা', 'যথাক্রমে', 'যথেষ্ট', 'যদি', 'যদিও', 'যন্ত্রাংশ', 'যা', 'যাঁর', 'যাঁরা', 'যাই', 'যাওয়া', 'যাওয়ার', 'যাওয়া', 'যাওয়ার', 'যাকে', 'যাচ্ছে', 'যাতে', 'যাদের', 'যান', 'যাবে', 'যায়', 'যার', 'যারা', 'যাহার', 'যাহোক', 'যিনি', 'যে', 'যেখানে', 'যেখানেই', 'যেটি', 'যেতে', 'যেন', 'যেমন', 'যেহেতু', 'যোগ', 'রকম', 'রয়েছে', 'রাখা', 'রাখে', 'রাজী', 'রাজ্যের', 'রেখে', 'রয়েছে', 'লক্ষ', 'লাইন', 'লাল', 'শত', 'শব্দ', 'শীঘ্র', 'শীঘ্রই', 'শুধু', 'শুরু', 'শুরুতে', 'শূন্য', 'শেষ', 'সংক্রান্ত', 'সংক্ষিপ্ত', 'সংক্ষেপে', 'সংখ্যা', 'সংখ্যার', 'সংশ্লিষ্ট', 'সক্ষম', 'সঙ্গে', 'সঙ্গেও', 'সত্য', 'সত্যিই', 'সদয়', 'সদস্য', 'সদস্যদের', 'সফলভাবে', 'সব', 'সবচেয়ে', 'সবাই', 'সবার', 'সময়', 'সমস্ত', 'সমান', 'সম্পন্ন', 'সম্প্রতি', 'সম্ভব', 'সম্ভবত', 'সম্ভাব্য', 'সরাইয়া', 'সর্বত্র', 'সর্বদা', 'সর্বস্বান্ত', 'সহ', 'সহিত', 'সাত', 'সাধারণ', 'সাধারণত', 'সাব', 'সাবেক', 'সামগ্রিক', 'সামনে', 'সামান্য', 'সাম্প্রতিক', 'সুতরাং', 'সুত্র', 'সূচক', 'সে', 'সে হবে', 'সেই', 'সেকেন্ড', 'সেখান', 'সেখানে', 'সেগুলো', 'সেটা', 'সেটাই', 'সেটাও', 'সেটি', 'সেরা', 'স্টপ', 'স্থাপিত', 'স্পষ্ট', 'স্পষ্টত', 'স্পষ্টতই', 'স্ব', 'স্বয়ং', 'স্বাগত', 'স্বাভাবিকভাবে', 'স্বার্থ', 'স্বয়ং', 'হইতে', 'হইবে', 'হইয়া', 'হওয়া', 'হওয়ায়', 'হওয়ার', 'হচ্ছে', 'হত', 'হতে', 'হতেই', 'হন', 'হবে', 'হবেন', 'হয়', 'হয়তো', 'হয়নি', 'হয়ে', 'হয়েই', 'হয়েছিল', 'হয়েছে', 'হয়েছেন', 'হল', 'হলে', 'হলেই', 'হলেও', 'হলো', 'হাজার', 'হায়', 'হারানো', 'হিসাবে', 'হৈলে', 'হোক', 'হয়', 'হয়তো', 'হয়নি', 'হয়ে', 'হয়েই', 'হয়েছিল', 'হয়েছে', 'হয়েছেন', 'অংশ')\n",
    "len(st_words)"
   ]
  },
  {
   "cell_type": "code",
   "execution_count": 28,
   "id": "f95e3157",
   "metadata": {},
   "outputs": [],
   "source": [
    "# para = df['body'][387]\n",
    "# sentences = re.sub(r'\\n{2,}|\\n|।|,', \"\", para)\n",
    "# sentences"
   ]
  },
  {
   "cell_type": "code",
   "execution_count": 29,
   "id": "73517b16",
   "metadata": {},
   "outputs": [],
   "source": [
    "corpus = []\n",
    "no_of_words = 0\n",
    "for i in range(df.shape[0]):\n",
    "    para = df['body'][i]\n",
    "    sentences = re.sub(r'\\n{2,}|\\n|।|,|!|@|<|>|#|\\$|%|\\^|&|\\*|\\(|\\)|\\\\|/|\\u200B', \"\", para)\n",
    "    words = sentences.split()\n",
    "    \n",
    "\n",
    "    words = [word for word in words if word not in st_words]\n",
    "#     words = [word for word in words if not word in stopwords.words('english')]\n",
    "    words = [BanglaStemmer().stem(word) for word in words]\n",
    "    no_of_words += len(words) \n",
    "    line = ' '.join(words)\n",
    "    corpus.append(line)"
   ]
  },
  {
   "cell_type": "code",
   "execution_count": 30,
   "id": "11b893c4",
   "metadata": {},
   "outputs": [
    {
     "data": {
      "text/plain": [
       "275.05825321160216"
      ]
     },
     "execution_count": 30,
     "metadata": {},
     "output_type": "execute_result"
    }
   ],
   "source": [
    "# avg word/news \n",
    "no_of_words/df.shape[0]"
   ]
  },
  {
   "cell_type": "code",
   "execution_count": 31,
   "id": "4806206d",
   "metadata": {},
   "outputs": [
    {
     "data": {
      "text/plain": [
       "'লোগাং এক নদীর এক ঐতিহাসিক জায়গ নাম চাকমা ভাষায় ‘লোগাং’ রক্ত নদী নদীর জল লালচে মাটি রঙে লালচে কারণে নাম লোগাংয় রক্তাক্ত অধ্যায় চাকমা-বাঙা সংঘর্ষ লোগাং হত্যাকাণ্ড রক্তাক্ত ইতিহাস ভারত দক্ষিণ ত্রিপু নদী লোগাং সীমান্ত দিয়ে বাংলাদেশ প্রবেশ লোগাং বিওপির বয় নদী দুদুকছড়ায় দুদুকছড়া খাল মিশ কিছুদূর মিশ পূজগাংয় পূজগাংয় জল সাদাটে পূজগাং লোগাংয় মিলনে ওখানে নদী দুটোর সমাপ্তি ওখান নদীর মিলিত ধার বয় চল চেঙ্গী নামে চেঙ্গী বয় চল খাগড়াছড়ি শহর মধ্য মিল কর্ণফুলীর সঙ্গেমাঝেমধ্যে বৃষ্ খাগড়াছড়ি পানছড়ি স্ট্যান্ডে পৌঁ বসন্তকাল চল স্ট্যান্ড কৃষ্ণচূড়া গাছ থোকা থোকা ফুলে ভর আস পথে রাস্ত ধারে বনঝোপ ফুল ফোটা কুরচিগা চোখে পড়ল এসব ফুল বসন্ গ্রীষ্ম প্রথমে ফোটে বর্ষা পেরা এসব ফুল জলবায়ু পরিবর্তন ইঙ্গিত দিল বন্ধু পবন চাকমা শুভাশীষ চাকম ইঙ্গিতপূর্ণ আমন্ত্রণে পানছড়ি লোগাং না পার না লোগাং ঐতিহাসিক জায়গা সীমান্তবর্তী জায়গায় শান্তি বাহিনীর দল আত্মসমর্পণ সন্তু লারমা দলে ১৯৯৭ সাল ২ ডিসেম্বর শান্তিচুক্তি হওয় পর পারস্পরিক সন্দেহ অবিশ্বাসে কাট যায় সময় অবশেষ বছর ১৩ ডিসেম্বর ঘটে সর্বশেষ আত্মসমর্পণ পার্বত্য শান্তিচুক্তির বাস্তবায়নপ্রক্রিয়া দুদুকছড় জনৈক প্রত্যক্ষদর্শী ৬৭ বয়সী আপন চন্দ্র চাকমা পানছড়ি চরম অশান্তিপূর্ণ এলাকা কাছ রিজার্ভ ফরেস্ট দক্ষিণ ত্রিপু মিজোরাম কোল ঘেঁষে গহিন জঙ্গলে আস্তানা তথাকথিত শান্তি বাহিনীর সময় বাজারে বস্তা চাল কিন গাল নজর পড়ত ওপর চাঁদা অপহরণ এসব নিত্যক বিষয় মত শান্তি দুদুকছড় ২০০ চাকমা পরিবারপানছড়ি বাজা লোগাং বিওপির দূরত্ব ১২ কিলোমি পাকা পিচ না সমতল না পাহাড়ি পবন মোটরবাইকে গিয়েছি নিয়মিত চান্ গাড়ি ভাড়া জনপ্রতি ১৫ টাকা লোগাং বিওপির আপন চন্দ্র চাকম এক দোকান লোগাং বিওপিতে শান্তি বাহিনীর ডায়ালগ হত লোগাং নদীর এক আখখেতের মাঠ দেখা মাঠে সেদিন শান্তি বাহিনীর ২৫২ আত্মসমর্পণ ওখান হেলিকপ্টারে হয়আপন চন্দ্র চাকম বসেছি বরুণ চাকমা খাগড়াছড়ির দিঘীনালা পানছড়ি অভিশপ্ত এলাকা জনপদ সবদিক পিছিয়ে তেমনি অশান্ত গোলযোগপূর্ণ কথা জান কেমন করে? জবাবে বাড়ি দিঘীনালায় বড় বোন বাড়ি পানছড়ির দুদুকছড়ায় এনগেজ এলাকা স্বীক পার্বত্য চট্টগ্রামে আসলে অশান্তির ১৯৭৯ বাঙা পুনর্বাসন আদিবাসী সহজভাবে মান পারেনি পাহাড়ি-বাঙা সংঘর্ষ সূচনা ঘটে রক্তাক্ত অধ্যায় ১৯৮৬ সালে লোগাংয় আদিবাসী ওপর নির্যাতন নাম আপন চন্দ্র চাকমা ‘একাত্তরে মুক্তিযুদ্ধ সময় দেশ ছাড়িনি সময় দুই-তৃতীয়াংশ লোক ভারত ত্রিপুরায় শরণার্থী হিসেব আশ্রয় নিয়েছি সেখানে ১৯৯৩ সাল ১০ এপ্রিল লোগাং গুচ্ছগ্রামে হত্যাকাণ্ড চালানো সরকারি তথ্যম ১১ আদিবাসী মার কথা আসলে ৪০ ত্রিপু চাকমা আদিবাসী হত্যাকাণ্ডে মার যায় এসব নিয়তির পরিহাস পাহাড়ি অলিখিত ইতিহাস’ কথা শুনে এসব সত্যি লোগাং নদীর নাম যথার্থ ব্যথাতুর মন আস সময় লোগাং সেতু পেরোতে মন হালকা চোখ জুড়া লোগাংয় মনকাড়া রূপ শরত কাশফুল ফুট লোগাংয় তীর বিস্তীর্ণ উপত্যকায় আমন ধান গালিচা পাতা ত্রিপুর পাহাড় জানি না লোগাং না লোগাংতীর সুন্দরী মন্ত্রী মণি স্বপন দেওয়ান এক গান লিখেছি ‘লোগাংছড় হুলে হুলে হোল গাবুরী এজেদটে হরদ ইককুয়া হুম এককা এককা আজেদটে’ অর্থ পবন দিল ‘লোগাং ছড় কূলে কূলে যুবতী আসিত কোলে এক কলস একটু একটু হাসিতেছে’p'"
      ]
     },
     "execution_count": 31,
     "metadata": {},
     "output_type": "execute_result"
    }
   ],
   "source": [
    "corpus[0]"
   ]
  },
  {
   "cell_type": "code",
   "execution_count": 32,
   "id": "579f99cc",
   "metadata": {},
   "outputs": [],
   "source": [
    "from sklearn.feature_extraction.text import TfidfVectorizer\n",
    "tv = TfidfVectorizer(max_features=1000,ngram_range=(1,3))\n",
    "X = tv.fit_transform(corpus).toarray()"
   ]
  },
  {
   "cell_type": "code",
   "execution_count": 33,
   "id": "98bbdfda",
   "metadata": {},
   "outputs": [
    {
     "data": {
      "text/plain": [
       "(12377, 1000)"
      ]
     },
     "execution_count": 33,
     "metadata": {},
     "output_type": "execute_result"
    }
   ],
   "source": [
    "X.shape"
   ]
  },
  {
   "cell_type": "code",
   "execution_count": 34,
   "id": "4b3b76f4",
   "metadata": {},
   "outputs": [
    {
     "data": {
      "text/plain": [
       "array([3, 3, 1, ..., 0, 0, 0])"
      ]
     },
     "execution_count": 34,
     "metadata": {},
     "output_type": "execute_result"
    }
   ],
   "source": [
    "y"
   ]
  },
  {
   "cell_type": "code",
   "execution_count": 35,
   "id": "9feff0de",
   "metadata": {},
   "outputs": [
    {
     "data": {
      "text/plain": [
       "array(['all', 'an', 'and', 'answer', 'answer to', 'answer to the', 'are',\n",
       "       'as', 'at', 'be', 'but', 'by', 'can', 'comp', 'correct', 'did',\n",
       "       'do', 'false', 'following', 'for'], dtype=object)"
      ]
     },
     "execution_count": 35,
     "metadata": {},
     "output_type": "execute_result"
    }
   ],
   "source": [
    "tv.get_feature_names_out()[:20]"
   ]
  },
  {
   "cell_type": "code",
   "execution_count": 36,
   "id": "0603a6e3",
   "metadata": {},
   "outputs": [
    {
     "data": {
      "text/html": [
       "<div>\n",
       "<style scoped>\n",
       "    .dataframe tbody tr th:only-of-type {\n",
       "        vertical-align: middle;\n",
       "    }\n",
       "\n",
       "    .dataframe tbody tr th {\n",
       "        vertical-align: top;\n",
       "    }\n",
       "\n",
       "    .dataframe thead th {\n",
       "        text-align: right;\n",
       "    }\n",
       "</style>\n",
       "<table border=\"1\" class=\"dataframe\">\n",
       "  <thead>\n",
       "    <tr style=\"text-align: right;\">\n",
       "      <th></th>\n",
       "      <th>all</th>\n",
       "      <th>an</th>\n",
       "      <th>and</th>\n",
       "      <th>answer</th>\n",
       "      <th>answer to</th>\n",
       "      <th>answer to the</th>\n",
       "      <th>are</th>\n",
       "      <th>as</th>\n",
       "      <th>at</th>\n",
       "      <th>be</th>\n",
       "      <th>...</th>\n",
       "      <th>৩১</th>\n",
       "      <th>৩৫</th>\n",
       "      <th>৪০</th>\n",
       "      <th>৫০</th>\n",
       "      <th>৫০০</th>\n",
       "      <th>৬০</th>\n",
       "      <th>৭০</th>\n",
       "      <th>৮০</th>\n",
       "      <th>৯০</th>\n",
       "      <th>target</th>\n",
       "    </tr>\n",
       "  </thead>\n",
       "  <tbody>\n",
       "    <tr>\n",
       "      <th>0</th>\n",
       "      <td>0.0</td>\n",
       "      <td>0.0</td>\n",
       "      <td>0.0</td>\n",
       "      <td>0.0</td>\n",
       "      <td>0.0</td>\n",
       "      <td>0.0</td>\n",
       "      <td>0.0</td>\n",
       "      <td>0.0</td>\n",
       "      <td>0.0</td>\n",
       "      <td>0.0</td>\n",
       "      <td>...</td>\n",
       "      <td>0.000000</td>\n",
       "      <td>0.00000</td>\n",
       "      <td>0.046703</td>\n",
       "      <td>0.000000</td>\n",
       "      <td>0.0</td>\n",
       "      <td>0.000000</td>\n",
       "      <td>0.000000</td>\n",
       "      <td>0.000000</td>\n",
       "      <td>0.0</td>\n",
       "      <td>3</td>\n",
       "    </tr>\n",
       "    <tr>\n",
       "      <th>1</th>\n",
       "      <td>0.0</td>\n",
       "      <td>0.0</td>\n",
       "      <td>0.0</td>\n",
       "      <td>0.0</td>\n",
       "      <td>0.0</td>\n",
       "      <td>0.0</td>\n",
       "      <td>0.0</td>\n",
       "      <td>0.0</td>\n",
       "      <td>0.0</td>\n",
       "      <td>0.0</td>\n",
       "      <td>...</td>\n",
       "      <td>0.025288</td>\n",
       "      <td>0.00000</td>\n",
       "      <td>0.021477</td>\n",
       "      <td>0.000000</td>\n",
       "      <td>0.0</td>\n",
       "      <td>0.023914</td>\n",
       "      <td>0.026028</td>\n",
       "      <td>0.000000</td>\n",
       "      <td>0.0</td>\n",
       "      <td>3</td>\n",
       "    </tr>\n",
       "    <tr>\n",
       "      <th>2</th>\n",
       "      <td>0.0</td>\n",
       "      <td>0.0</td>\n",
       "      <td>0.0</td>\n",
       "      <td>0.0</td>\n",
       "      <td>0.0</td>\n",
       "      <td>0.0</td>\n",
       "      <td>0.0</td>\n",
       "      <td>0.0</td>\n",
       "      <td>0.0</td>\n",
       "      <td>0.0</td>\n",
       "      <td>...</td>\n",
       "      <td>0.133298</td>\n",
       "      <td>0.13608</td>\n",
       "      <td>0.113211</td>\n",
       "      <td>0.000000</td>\n",
       "      <td>0.0</td>\n",
       "      <td>0.000000</td>\n",
       "      <td>0.000000</td>\n",
       "      <td>0.000000</td>\n",
       "      <td>0.0</td>\n",
       "      <td>1</td>\n",
       "    </tr>\n",
       "    <tr>\n",
       "      <th>3</th>\n",
       "      <td>0.0</td>\n",
       "      <td>0.0</td>\n",
       "      <td>0.0</td>\n",
       "      <td>0.0</td>\n",
       "      <td>0.0</td>\n",
       "      <td>0.0</td>\n",
       "      <td>0.0</td>\n",
       "      <td>0.0</td>\n",
       "      <td>0.0</td>\n",
       "      <td>0.0</td>\n",
       "      <td>...</td>\n",
       "      <td>0.000000</td>\n",
       "      <td>0.00000</td>\n",
       "      <td>0.000000</td>\n",
       "      <td>0.000000</td>\n",
       "      <td>0.0</td>\n",
       "      <td>0.000000</td>\n",
       "      <td>0.000000</td>\n",
       "      <td>0.000000</td>\n",
       "      <td>0.0</td>\n",
       "      <td>1</td>\n",
       "    </tr>\n",
       "    <tr>\n",
       "      <th>4</th>\n",
       "      <td>0.0</td>\n",
       "      <td>0.0</td>\n",
       "      <td>0.0</td>\n",
       "      <td>0.0</td>\n",
       "      <td>0.0</td>\n",
       "      <td>0.0</td>\n",
       "      <td>0.0</td>\n",
       "      <td>0.0</td>\n",
       "      <td>0.0</td>\n",
       "      <td>0.0</td>\n",
       "      <td>...</td>\n",
       "      <td>0.000000</td>\n",
       "      <td>0.00000</td>\n",
       "      <td>0.000000</td>\n",
       "      <td>0.000000</td>\n",
       "      <td>0.0</td>\n",
       "      <td>0.000000</td>\n",
       "      <td>0.000000</td>\n",
       "      <td>0.000000</td>\n",
       "      <td>0.0</td>\n",
       "      <td>1</td>\n",
       "    </tr>\n",
       "    <tr>\n",
       "      <th>...</th>\n",
       "      <td>...</td>\n",
       "      <td>...</td>\n",
       "      <td>...</td>\n",
       "      <td>...</td>\n",
       "      <td>...</td>\n",
       "      <td>...</td>\n",
       "      <td>...</td>\n",
       "      <td>...</td>\n",
       "      <td>...</td>\n",
       "      <td>...</td>\n",
       "      <td>...</td>\n",
       "      <td>...</td>\n",
       "      <td>...</td>\n",
       "      <td>...</td>\n",
       "      <td>...</td>\n",
       "      <td>...</td>\n",
       "      <td>...</td>\n",
       "      <td>...</td>\n",
       "      <td>...</td>\n",
       "      <td>...</td>\n",
       "      <td>...</td>\n",
       "    </tr>\n",
       "    <tr>\n",
       "      <th>12372</th>\n",
       "      <td>0.0</td>\n",
       "      <td>0.0</td>\n",
       "      <td>0.0</td>\n",
       "      <td>0.0</td>\n",
       "      <td>0.0</td>\n",
       "      <td>0.0</td>\n",
       "      <td>0.0</td>\n",
       "      <td>0.0</td>\n",
       "      <td>0.0</td>\n",
       "      <td>0.0</td>\n",
       "      <td>...</td>\n",
       "      <td>0.000000</td>\n",
       "      <td>0.00000</td>\n",
       "      <td>0.103688</td>\n",
       "      <td>0.102600</td>\n",
       "      <td>0.0</td>\n",
       "      <td>0.000000</td>\n",
       "      <td>0.125656</td>\n",
       "      <td>0.000000</td>\n",
       "      <td>0.0</td>\n",
       "      <td>0</td>\n",
       "    </tr>\n",
       "    <tr>\n",
       "      <th>12373</th>\n",
       "      <td>0.0</td>\n",
       "      <td>0.0</td>\n",
       "      <td>0.0</td>\n",
       "      <td>0.0</td>\n",
       "      <td>0.0</td>\n",
       "      <td>0.0</td>\n",
       "      <td>0.0</td>\n",
       "      <td>0.0</td>\n",
       "      <td>0.0</td>\n",
       "      <td>0.0</td>\n",
       "      <td>...</td>\n",
       "      <td>0.000000</td>\n",
       "      <td>0.00000</td>\n",
       "      <td>0.000000</td>\n",
       "      <td>0.000000</td>\n",
       "      <td>0.0</td>\n",
       "      <td>0.000000</td>\n",
       "      <td>0.000000</td>\n",
       "      <td>0.000000</td>\n",
       "      <td>0.0</td>\n",
       "      <td>0</td>\n",
       "    </tr>\n",
       "    <tr>\n",
       "      <th>12374</th>\n",
       "      <td>0.0</td>\n",
       "      <td>0.0</td>\n",
       "      <td>0.0</td>\n",
       "      <td>0.0</td>\n",
       "      <td>0.0</td>\n",
       "      <td>0.0</td>\n",
       "      <td>0.0</td>\n",
       "      <td>0.0</td>\n",
       "      <td>0.0</td>\n",
       "      <td>0.0</td>\n",
       "      <td>...</td>\n",
       "      <td>0.000000</td>\n",
       "      <td>0.00000</td>\n",
       "      <td>0.000000</td>\n",
       "      <td>0.075037</td>\n",
       "      <td>0.0</td>\n",
       "      <td>0.000000</td>\n",
       "      <td>0.000000</td>\n",
       "      <td>0.090893</td>\n",
       "      <td>0.0</td>\n",
       "      <td>0</td>\n",
       "    </tr>\n",
       "    <tr>\n",
       "      <th>12375</th>\n",
       "      <td>0.0</td>\n",
       "      <td>0.0</td>\n",
       "      <td>0.0</td>\n",
       "      <td>0.0</td>\n",
       "      <td>0.0</td>\n",
       "      <td>0.0</td>\n",
       "      <td>0.0</td>\n",
       "      <td>0.0</td>\n",
       "      <td>0.0</td>\n",
       "      <td>0.0</td>\n",
       "      <td>...</td>\n",
       "      <td>0.000000</td>\n",
       "      <td>0.00000</td>\n",
       "      <td>0.000000</td>\n",
       "      <td>0.000000</td>\n",
       "      <td>0.0</td>\n",
       "      <td>0.000000</td>\n",
       "      <td>0.000000</td>\n",
       "      <td>0.000000</td>\n",
       "      <td>0.0</td>\n",
       "      <td>0</td>\n",
       "    </tr>\n",
       "    <tr>\n",
       "      <th>12376</th>\n",
       "      <td>0.0</td>\n",
       "      <td>0.0</td>\n",
       "      <td>0.0</td>\n",
       "      <td>0.0</td>\n",
       "      <td>0.0</td>\n",
       "      <td>0.0</td>\n",
       "      <td>0.0</td>\n",
       "      <td>0.0</td>\n",
       "      <td>0.0</td>\n",
       "      <td>0.0</td>\n",
       "      <td>...</td>\n",
       "      <td>0.000000</td>\n",
       "      <td>0.00000</td>\n",
       "      <td>0.000000</td>\n",
       "      <td>0.000000</td>\n",
       "      <td>0.0</td>\n",
       "      <td>0.000000</td>\n",
       "      <td>0.000000</td>\n",
       "      <td>0.000000</td>\n",
       "      <td>0.0</td>\n",
       "      <td>0</td>\n",
       "    </tr>\n",
       "  </tbody>\n",
       "</table>\n",
       "<p>12377 rows × 1001 columns</p>\n",
       "</div>"
      ],
      "text/plain": [
       "       all   an  and  answer  answer to  answer to the  are   as   at   be  \\\n",
       "0      0.0  0.0  0.0     0.0        0.0            0.0  0.0  0.0  0.0  0.0   \n",
       "1      0.0  0.0  0.0     0.0        0.0            0.0  0.0  0.0  0.0  0.0   \n",
       "2      0.0  0.0  0.0     0.0        0.0            0.0  0.0  0.0  0.0  0.0   \n",
       "3      0.0  0.0  0.0     0.0        0.0            0.0  0.0  0.0  0.0  0.0   \n",
       "4      0.0  0.0  0.0     0.0        0.0            0.0  0.0  0.0  0.0  0.0   \n",
       "...    ...  ...  ...     ...        ...            ...  ...  ...  ...  ...   \n",
       "12372  0.0  0.0  0.0     0.0        0.0            0.0  0.0  0.0  0.0  0.0   \n",
       "12373  0.0  0.0  0.0     0.0        0.0            0.0  0.0  0.0  0.0  0.0   \n",
       "12374  0.0  0.0  0.0     0.0        0.0            0.0  0.0  0.0  0.0  0.0   \n",
       "12375  0.0  0.0  0.0     0.0        0.0            0.0  0.0  0.0  0.0  0.0   \n",
       "12376  0.0  0.0  0.0     0.0        0.0            0.0  0.0  0.0  0.0  0.0   \n",
       "\n",
       "       ...        ৩১       ৩৫        ৪০        ৫০  ৫০০        ৬০        ৭০  \\\n",
       "0      ...  0.000000  0.00000  0.046703  0.000000  0.0  0.000000  0.000000   \n",
       "1      ...  0.025288  0.00000  0.021477  0.000000  0.0  0.023914  0.026028   \n",
       "2      ...  0.133298  0.13608  0.113211  0.000000  0.0  0.000000  0.000000   \n",
       "3      ...  0.000000  0.00000  0.000000  0.000000  0.0  0.000000  0.000000   \n",
       "4      ...  0.000000  0.00000  0.000000  0.000000  0.0  0.000000  0.000000   \n",
       "...    ...       ...      ...       ...       ...  ...       ...       ...   \n",
       "12372  ...  0.000000  0.00000  0.103688  0.102600  0.0  0.000000  0.125656   \n",
       "12373  ...  0.000000  0.00000  0.000000  0.000000  0.0  0.000000  0.000000   \n",
       "12374  ...  0.000000  0.00000  0.000000  0.075037  0.0  0.000000  0.000000   \n",
       "12375  ...  0.000000  0.00000  0.000000  0.000000  0.0  0.000000  0.000000   \n",
       "12376  ...  0.000000  0.00000  0.000000  0.000000  0.0  0.000000  0.000000   \n",
       "\n",
       "             ৮০   ৯০  target  \n",
       "0      0.000000  0.0       3  \n",
       "1      0.000000  0.0       3  \n",
       "2      0.000000  0.0       1  \n",
       "3      0.000000  0.0       1  \n",
       "4      0.000000  0.0       1  \n",
       "...         ...  ...     ...  \n",
       "12372  0.000000  0.0       0  \n",
       "12373  0.000000  0.0       0  \n",
       "12374  0.090893  0.0       0  \n",
       "12375  0.000000  0.0       0  \n",
       "12376  0.000000  0.0       0  \n",
       "\n",
       "[12377 rows x 1001 columns]"
      ]
     },
     "execution_count": 36,
     "metadata": {},
     "output_type": "execute_result"
    }
   ],
   "source": [
    "count_df = pd.DataFrame(X,columns=tv.get_feature_names_out()).assign(target=y)\n",
    "count_df"
   ]
  },
  {
   "cell_type": "code",
   "execution_count": 37,
   "id": "e8e0fb75",
   "metadata": {},
   "outputs": [
    {
     "data": {
      "text/plain": [
       "(12377, 1001)"
      ]
     },
     "execution_count": 37,
     "metadata": {},
     "output_type": "execute_result"
    }
   ],
   "source": [
    "count_df.shape"
   ]
  },
  {
   "cell_type": "code",
   "execution_count": 38,
   "id": "c928e987",
   "metadata": {},
   "outputs": [],
   "source": [
    "count_df.to_excel(\"pro-part-1.xlsx\", index = False, header = False)"
   ]
  },
  {
   "cell_type": "code",
   "execution_count": null,
   "id": "3543d31f",
   "metadata": {},
   "outputs": [],
   "source": []
  }
 ],
 "metadata": {
  "kernelspec": {
   "display_name": "NlP",
   "language": "python",
   "name": "nlp"
  },
  "language_info": {
   "codemirror_mode": {
    "name": "ipython",
    "version": 3
   },
   "file_extension": ".py",
   "mimetype": "text/x-python",
   "name": "python",
   "nbconvert_exporter": "python",
   "pygments_lexer": "ipython3",
   "version": "3.11.4"
  }
 },
 "nbformat": 4,
 "nbformat_minor": 5
}
